{
 "cells": [
  {
   "cell_type": "markdown",
   "metadata": {},
   "source": [
    "# Pandas"
   ]
  },
  {
   "cell_type": "markdown",
   "metadata": {},
   "source": [
    "## Series\n",
    "\n",
    "Series é um array unidimensional que contém um array de dados e um array de labels, chamado índice."
   ]
  },
  {
   "cell_type": "code",
   "execution_count": 1,
   "metadata": {},
   "outputs": [],
   "source": [
    "import pandas as pd"
   ]
  },
  {
   "cell_type": "code",
   "execution_count": 17,
   "metadata": {},
   "outputs": [],
   "source": [
    "df=pd.read_csv(r\"D:\\Downloads\\Accidents.csv\")"
   ]
  },
  {
   "cell_type": "code",
   "execution_count": 18,
   "metadata": {},
   "outputs": [
    {
     "data": {
      "text/html": [
       "<div>\n",
       "<style scoped>\n",
       "    .dataframe tbody tr th:only-of-type {\n",
       "        vertical-align: middle;\n",
       "    }\n",
       "\n",
       "    .dataframe tbody tr th {\n",
       "        vertical-align: top;\n",
       "    }\n",
       "\n",
       "    .dataframe thead th {\n",
       "        text-align: right;\n",
       "    }\n",
       "</style>\n",
       "<table border=\"1\" class=\"dataframe\">\n",
       "  <thead>\n",
       "    <tr style=\"text-align: right;\">\n",
       "      <th></th>\n",
       "      <th>Accident_Index</th>\n",
       "      <th>Number_of_Vehicles</th>\n",
       "      <th>Number_of_Casualties</th>\n",
       "      <th>Date</th>\n",
       "      <th>Time</th>\n",
       "      <th>Speed_limit</th>\n",
       "      <th>Road_conditions</th>\n",
       "      <th>Weather_conditions</th>\n",
       "      <th>Day</th>\n",
       "      <th>Road_type</th>\n",
       "      <th>Light_conditions</th>\n",
       "    </tr>\n",
       "  </thead>\n",
       "  <tbody>\n",
       "    <tr>\n",
       "      <th>0</th>\n",
       "      <td>197901A1SEE71</td>\n",
       "      <td>2</td>\n",
       "      <td>1</td>\n",
       "      <td>1979-01-01</td>\n",
       "      <td>18:20</td>\n",
       "      <td>50.0</td>\n",
       "      <td>Snow</td>\n",
       "      <td>Unknown</td>\n",
       "      <td>Monday</td>\n",
       "      <td>Dual carriageway</td>\n",
       "      <td>Darkness lights lit</td>\n",
       "    </tr>\n",
       "    <tr>\n",
       "      <th>1</th>\n",
       "      <td>197901A2JDW40</td>\n",
       "      <td>1</td>\n",
       "      <td>1</td>\n",
       "      <td>1979-02-01</td>\n",
       "      <td>09:15</td>\n",
       "      <td>30.0</td>\n",
       "      <td>Snow</td>\n",
       "      <td>Unknown</td>\n",
       "      <td>Tuesday</td>\n",
       "      <td>Unknown</td>\n",
       "      <td>Daylight</td>\n",
       "    </tr>\n",
       "    <tr>\n",
       "      <th>2</th>\n",
       "      <td>197901A4IJV90</td>\n",
       "      <td>2</td>\n",
       "      <td>1</td>\n",
       "      <td>1979-04-01</td>\n",
       "      <td>08:45</td>\n",
       "      <td>30.0</td>\n",
       "      <td>Snow</td>\n",
       "      <td>Unknown</td>\n",
       "      <td>Thursday</td>\n",
       "      <td>Unknown</td>\n",
       "      <td>Daylight</td>\n",
       "    </tr>\n",
       "    <tr>\n",
       "      <th>3</th>\n",
       "      <td>197901A4NIE33</td>\n",
       "      <td>2</td>\n",
       "      <td>1</td>\n",
       "      <td>1979-04-01</td>\n",
       "      <td>13:40</td>\n",
       "      <td>30.0</td>\n",
       "      <td>Wet</td>\n",
       "      <td>Unknown</td>\n",
       "      <td>Thursday</td>\n",
       "      <td>Unknown</td>\n",
       "      <td>Daylight</td>\n",
       "    </tr>\n",
       "    <tr>\n",
       "      <th>4</th>\n",
       "      <td>197901A4SKO47</td>\n",
       "      <td>2</td>\n",
       "      <td>1</td>\n",
       "      <td>1979-04-01</td>\n",
       "      <td>18:50</td>\n",
       "      <td>30.0</td>\n",
       "      <td>Wet</td>\n",
       "      <td>Unknown</td>\n",
       "      <td>Thursday</td>\n",
       "      <td>Unknown</td>\n",
       "      <td>Darkness lights lit</td>\n",
       "    </tr>\n",
       "  </tbody>\n",
       "</table>\n",
       "</div>"
      ],
      "text/plain": [
       "  Accident_Index  Number_of_Vehicles  Number_of_Casualties        Date   Time  \\\n",
       "0  197901A1SEE71                   2                     1  1979-01-01  18:20   \n",
       "1  197901A2JDW40                   1                     1  1979-02-01  09:15   \n",
       "2  197901A4IJV90                   2                     1  1979-04-01  08:45   \n",
       "3  197901A4NIE33                   2                     1  1979-04-01  13:40   \n",
       "4  197901A4SKO47                   2                     1  1979-04-01  18:50   \n",
       "\n",
       "   Speed_limit Road_conditions Weather_conditions       Day         Road_type  \\\n",
       "0         50.0            Snow            Unknown    Monday  Dual carriageway   \n",
       "1         30.0            Snow            Unknown   Tuesday           Unknown   \n",
       "2         30.0            Snow            Unknown  Thursday           Unknown   \n",
       "3         30.0             Wet            Unknown  Thursday           Unknown   \n",
       "4         30.0             Wet            Unknown  Thursday           Unknown   \n",
       "\n",
       "      Light_conditions  \n",
       "0  Darkness lights lit  \n",
       "1             Daylight  \n",
       "2             Daylight  \n",
       "3             Daylight  \n",
       "4  Darkness lights lit  "
      ]
     },
     "execution_count": 18,
     "metadata": {},
     "output_type": "execute_result"
    }
   ],
   "source": [
    "df.head()"
   ]
  },
  {
   "cell_type": "code",
   "execution_count": 19,
   "metadata": {},
   "outputs": [
    {
     "data": {
      "text/plain": [
       "pandas.core.frame.DataFrame"
      ]
     },
     "execution_count": 19,
     "metadata": {},
     "output_type": "execute_result"
    }
   ],
   "source": [
    "type(df)"
   ]
  },
  {
   "cell_type": "code",
   "execution_count": 20,
   "metadata": {},
   "outputs": [
    {
     "data": {
      "text/html": [
       "<div>\n",
       "<style scoped>\n",
       "    .dataframe tbody tr th:only-of-type {\n",
       "        vertical-align: middle;\n",
       "    }\n",
       "\n",
       "    .dataframe tbody tr th {\n",
       "        vertical-align: top;\n",
       "    }\n",
       "\n",
       "    .dataframe thead th {\n",
       "        text-align: right;\n",
       "    }\n",
       "</style>\n",
       "<table border=\"1\" class=\"dataframe\">\n",
       "  <thead>\n",
       "    <tr style=\"text-align: right;\">\n",
       "      <th></th>\n",
       "      <th>Number_of_Vehicles</th>\n",
       "      <th>Number_of_Casualties</th>\n",
       "      <th>Speed_limit</th>\n",
       "    </tr>\n",
       "  </thead>\n",
       "  <tbody>\n",
       "    <tr>\n",
       "      <th>count</th>\n",
       "      <td>827861.000000</td>\n",
       "      <td>827861.000000</td>\n",
       "      <td>827861.000000</td>\n",
       "    </tr>\n",
       "    <tr>\n",
       "      <th>mean</th>\n",
       "      <td>1.986178</td>\n",
       "      <td>1.047212</td>\n",
       "      <td>33.340934</td>\n",
       "    </tr>\n",
       "    <tr>\n",
       "      <th>std</th>\n",
       "      <td>0.311600</td>\n",
       "      <td>0.253509</td>\n",
       "      <td>9.278129</td>\n",
       "    </tr>\n",
       "    <tr>\n",
       "      <th>min</th>\n",
       "      <td>1.000000</td>\n",
       "      <td>1.000000</td>\n",
       "      <td>0.000000</td>\n",
       "    </tr>\n",
       "    <tr>\n",
       "      <th>25%</th>\n",
       "      <td>2.000000</td>\n",
       "      <td>1.000000</td>\n",
       "      <td>30.000000</td>\n",
       "    </tr>\n",
       "    <tr>\n",
       "      <th>50%</th>\n",
       "      <td>2.000000</td>\n",
       "      <td>1.000000</td>\n",
       "      <td>30.000000</td>\n",
       "    </tr>\n",
       "    <tr>\n",
       "      <th>75%</th>\n",
       "      <td>2.000000</td>\n",
       "      <td>1.000000</td>\n",
       "      <td>30.000000</td>\n",
       "    </tr>\n",
       "    <tr>\n",
       "      <th>max</th>\n",
       "      <td>13.000000</td>\n",
       "      <td>60.000000</td>\n",
       "      <td>660.000000</td>\n",
       "    </tr>\n",
       "  </tbody>\n",
       "</table>\n",
       "</div>"
      ],
      "text/plain": [
       "       Number_of_Vehicles  Number_of_Casualties    Speed_limit\n",
       "count       827861.000000         827861.000000  827861.000000\n",
       "mean             1.986178              1.047212      33.340934\n",
       "std              0.311600              0.253509       9.278129\n",
       "min              1.000000              1.000000       0.000000\n",
       "25%              2.000000              1.000000      30.000000\n",
       "50%              2.000000              1.000000      30.000000\n",
       "75%              2.000000              1.000000      30.000000\n",
       "max             13.000000             60.000000     660.000000"
      ]
     },
     "execution_count": 20,
     "metadata": {},
     "output_type": "execute_result"
    }
   ],
   "source": [
    "df.describe()"
   ]
  },
  {
   "cell_type": "code",
   "execution_count": 21,
   "metadata": {},
   "outputs": [
    {
     "data": {
      "text/plain": [
       "Accident_Index          0\n",
       "Number_of_Vehicles      0\n",
       "Number_of_Casualties    0\n",
       "Date                    0\n",
       "Time                    0\n",
       "Speed_limit             0\n",
       "Road_conditions         0\n",
       "Weather_conditions      0\n",
       "Day                     0\n",
       "Road_type               0\n",
       "Light_conditions        0\n",
       "dtype: int64"
      ]
     },
     "execution_count": 21,
     "metadata": {},
     "output_type": "execute_result"
    }
   ],
   "source": [
    "df.isnull().sum()"
   ]
  },
  {
   "cell_type": "code",
   "execution_count": 22,
   "metadata": {},
   "outputs": [
    {
     "data": {
      "text/plain": [
       "RangeIndex(start=0, stop=827861, step=1)"
      ]
     },
     "execution_count": 22,
     "metadata": {},
     "output_type": "execute_result"
    }
   ],
   "source": [
    "df.index"
   ]
  },
  {
   "cell_type": "code",
   "execution_count": 23,
   "metadata": {},
   "outputs": [
    {
     "data": {
      "text/plain": [
       "Index(['Accident_Index', 'Number_of_Vehicles', 'Number_of_Casualties', 'Date',\n",
       "       'Time', 'Speed_limit', 'Road_conditions', 'Weather_conditions', 'Day',\n",
       "       'Road_type', 'Light_conditions'],\n",
       "      dtype='object')"
      ]
     },
     "execution_count": 23,
     "metadata": {},
     "output_type": "execute_result"
    }
   ],
   "source": [
    "df.columns"
   ]
  },
  {
   "cell_type": "code",
   "execution_count": 24,
   "metadata": {},
   "outputs": [
    {
     "data": {
      "text/plain": [
       "array([['197901A1SEE71', 2, 1, ..., 'Monday', 'Dual carriageway',\n",
       "        'Darkness lights lit'],\n",
       "       ['197901A2JDW40', 1, 1, ..., 'Tuesday', 'Unknown', 'Daylight'],\n",
       "       ['197901A4IJV90', 2, 1, ..., 'Thursday', 'Unknown', 'Daylight'],\n",
       "       ...,\n",
       "       ['2018983120618', 2, 1, ..., 'Friday', 'Single carriageway',\n",
       "        'Daylight'],\n",
       "       ['2018983121918', 2, 1, ..., 'Wednesday', 'Single carriageway',\n",
       "        'Daylight'],\n",
       "       ['2018983133818', 2, 1, ..., 'Thursday', 'Single carriageway',\n",
       "        'Daylight']], dtype=object)"
      ]
     },
     "execution_count": 24,
     "metadata": {},
     "output_type": "execute_result"
    }
   ],
   "source": [
    "df.values"
   ]
  },
  {
   "cell_type": "code",
   "execution_count": 25,
   "metadata": {},
   "outputs": [
    {
     "data": {
      "text/plain": [
       "Accident_Index           object\n",
       "Number_of_Vehicles        int64\n",
       "Number_of_Casualties      int64\n",
       "Date                     object\n",
       "Time                     object\n",
       "Speed_limit             float64\n",
       "Road_conditions          object\n",
       "Weather_conditions       object\n",
       "Day                      object\n",
       "Road_type                object\n",
       "Light_conditions         object\n",
       "dtype: object"
      ]
     },
     "execution_count": 25,
     "metadata": {},
     "output_type": "execute_result"
    }
   ],
   "source": [
    "df.dtypes"
   ]
  },
  {
   "cell_type": "code",
   "execution_count": 29,
   "metadata": {},
   "outputs": [
    {
     "data": {
      "text/plain": [
       "1.9861776312690174"
      ]
     },
     "execution_count": 29,
     "metadata": {},
     "output_type": "execute_result"
    }
   ],
   "source": [
    "df['Number_of_Vehicles'].mean()"
   ]
  },
  {
   "cell_type": "code",
   "execution_count": 30,
   "metadata": {},
   "outputs": [
    {
     "data": {
      "text/html": [
       "<div>\n",
       "<style scoped>\n",
       "    .dataframe tbody tr th:only-of-type {\n",
       "        vertical-align: middle;\n",
       "    }\n",
       "\n",
       "    .dataframe tbody tr th {\n",
       "        vertical-align: top;\n",
       "    }\n",
       "\n",
       "    .dataframe thead th {\n",
       "        text-align: right;\n",
       "    }\n",
       "</style>\n",
       "<table border=\"1\" class=\"dataframe\">\n",
       "  <thead>\n",
       "    <tr style=\"text-align: right;\">\n",
       "      <th></th>\n",
       "      <th>Accident_Index</th>\n",
       "      <th>Number_of_Vehicles</th>\n",
       "      <th>Number_of_Casualties</th>\n",
       "      <th>Date</th>\n",
       "      <th>Time</th>\n",
       "      <th>Speed_limit</th>\n",
       "      <th>Road_conditions</th>\n",
       "      <th>Weather_conditions</th>\n",
       "      <th>Day</th>\n",
       "      <th>Road_type</th>\n",
       "      <th>Light_conditions</th>\n",
       "    </tr>\n",
       "  </thead>\n",
       "  <tbody>\n",
       "    <tr>\n",
       "      <th>0</th>\n",
       "      <td>197901A1SEE71</td>\n",
       "      <td>2</td>\n",
       "      <td>1</td>\n",
       "      <td>1979-01-01</td>\n",
       "      <td>18:20</td>\n",
       "      <td>50.0</td>\n",
       "      <td>Snow</td>\n",
       "      <td>Unknown</td>\n",
       "      <td>Monday</td>\n",
       "      <td>Dual carriageway</td>\n",
       "      <td>Darkness lights lit</td>\n",
       "    </tr>\n",
       "    <tr>\n",
       "      <th>1</th>\n",
       "      <td>197901A2JDW40</td>\n",
       "      <td>1</td>\n",
       "      <td>1</td>\n",
       "      <td>1979-02-01</td>\n",
       "      <td>09:15</td>\n",
       "      <td>30.0</td>\n",
       "      <td>Snow</td>\n",
       "      <td>Unknown</td>\n",
       "      <td>Tuesday</td>\n",
       "      <td>Unknown</td>\n",
       "      <td>Daylight</td>\n",
       "    </tr>\n",
       "  </tbody>\n",
       "</table>\n",
       "</div>"
      ],
      "text/plain": [
       "  Accident_Index  Number_of_Vehicles  Number_of_Casualties        Date   Time  \\\n",
       "0  197901A1SEE71                   2                     1  1979-01-01  18:20   \n",
       "1  197901A2JDW40                   1                     1  1979-02-01  09:15   \n",
       "\n",
       "   Speed_limit Road_conditions Weather_conditions      Day         Road_type  \\\n",
       "0         50.0            Snow            Unknown   Monday  Dual carriageway   \n",
       "1         30.0            Snow            Unknown  Tuesday           Unknown   \n",
       "\n",
       "      Light_conditions  \n",
       "0  Darkness lights lit  \n",
       "1             Daylight  "
      ]
     },
     "execution_count": 30,
     "metadata": {},
     "output_type": "execute_result"
    }
   ],
   "source": [
    "df[:2] #Retorna as 2 primeiras linhas"
   ]
  },
  {
   "cell_type": "code",
   "execution_count": 31,
   "metadata": {},
   "outputs": [
    {
     "data": {
      "text/html": [
       "<div>\n",
       "<style scoped>\n",
       "    .dataframe tbody tr th:only-of-type {\n",
       "        vertical-align: middle;\n",
       "    }\n",
       "\n",
       "    .dataframe tbody tr th {\n",
       "        vertical-align: top;\n",
       "    }\n",
       "\n",
       "    .dataframe thead th {\n",
       "        text-align: right;\n",
       "    }\n",
       "</style>\n",
       "<table border=\"1\" class=\"dataframe\">\n",
       "  <thead>\n",
       "    <tr style=\"text-align: right;\">\n",
       "      <th></th>\n",
       "      <th>Accident_Index</th>\n",
       "      <th>Number_of_Vehicles</th>\n",
       "      <th>Number_of_Casualties</th>\n",
       "      <th>Date</th>\n",
       "      <th>Time</th>\n",
       "      <th>Speed_limit</th>\n",
       "      <th>Road_conditions</th>\n",
       "      <th>Weather_conditions</th>\n",
       "      <th>Day</th>\n",
       "      <th>Road_type</th>\n",
       "      <th>Light_conditions</th>\n",
       "    </tr>\n",
       "  </thead>\n",
       "  <tbody>\n",
       "    <tr>\n",
       "      <th>2</th>\n",
       "      <td>197901A4IJV90</td>\n",
       "      <td>2</td>\n",
       "      <td>1</td>\n",
       "      <td>1979-04-01</td>\n",
       "      <td>08:45</td>\n",
       "      <td>30.0</td>\n",
       "      <td>Snow</td>\n",
       "      <td>Unknown</td>\n",
       "      <td>Thursday</td>\n",
       "      <td>Unknown</td>\n",
       "      <td>Daylight</td>\n",
       "    </tr>\n",
       "    <tr>\n",
       "      <th>3</th>\n",
       "      <td>197901A4NIE33</td>\n",
       "      <td>2</td>\n",
       "      <td>1</td>\n",
       "      <td>1979-04-01</td>\n",
       "      <td>13:40</td>\n",
       "      <td>30.0</td>\n",
       "      <td>Wet</td>\n",
       "      <td>Unknown</td>\n",
       "      <td>Thursday</td>\n",
       "      <td>Unknown</td>\n",
       "      <td>Daylight</td>\n",
       "    </tr>\n",
       "  </tbody>\n",
       "</table>\n",
       "</div>"
      ],
      "text/plain": [
       "  Accident_Index  Number_of_Vehicles  Number_of_Casualties        Date   Time  \\\n",
       "2  197901A4IJV90                   2                     1  1979-04-01  08:45   \n",
       "3  197901A4NIE33                   2                     1  1979-04-01  13:40   \n",
       "\n",
       "   Speed_limit Road_conditions Weather_conditions       Day Road_type  \\\n",
       "2         30.0            Snow            Unknown  Thursday   Unknown   \n",
       "3         30.0             Wet            Unknown  Thursday   Unknown   \n",
       "\n",
       "  Light_conditions  \n",
       "2         Daylight  \n",
       "3         Daylight  "
      ]
     },
     "execution_count": 31,
     "metadata": {},
     "output_type": "execute_result"
    }
   ],
   "source": [
    "df[2:4] #Linha 2 a 4"
   ]
  },
  {
   "cell_type": "code",
   "execution_count": null,
   "metadata": {},
   "outputs": [],
   "source": []
  }
 ],
 "metadata": {
  "interpreter": {
   "hash": "ed225720166559e7176d3793db16a2fd8d295f725007103b21ac3099d2a89ee8"
  },
  "kernelspec": {
   "display_name": "Python 3.8.12 64-bit ('base': conda)",
   "language": "python",
   "name": "python3"
  },
  "language_info": {
   "codemirror_mode": {
    "name": "ipython",
    "version": 3
   },
   "file_extension": ".py",
   "mimetype": "text/x-python",
   "name": "python",
   "nbconvert_exporter": "python",
   "pygments_lexer": "ipython3",
   "version": "3.8.12"
  },
  "orig_nbformat": 4
 },
 "nbformat": 4,
 "nbformat_minor": 2
}
