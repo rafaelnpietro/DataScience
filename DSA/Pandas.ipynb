{
 "cells": [
  {
   "cell_type": "markdown",
   "metadata": {},
   "source": [
    "# Pandas"
   ]
  },
  {
   "cell_type": "code",
   "execution_count": 23,
   "metadata": {},
   "outputs": [],
   "source": [
    "import pandas as pd\n",
    "import numpy as np"
   ]
  },
  {
   "cell_type": "markdown",
   "metadata": {},
   "source": [
    "## Series\n",
    "\n",
    "Series é um array unidimensional que contém um array de dados e um array de labels, chamado índice."
   ]
  },
  {
   "cell_type": "code",
   "execution_count": 2,
   "metadata": {},
   "outputs": [],
   "source": [
    "import pandas as pd"
   ]
  },
  {
   "cell_type": "code",
   "execution_count": 3,
   "metadata": {},
   "outputs": [],
   "source": [
    "df=pd.read_csv(r\"D:\\Downloads\\Accidents.csv\")"
   ]
  },
  {
   "cell_type": "code",
   "execution_count": 18,
   "metadata": {},
   "outputs": [
    {
     "data": {
      "text/html": [
       "<div>\n",
       "<style scoped>\n",
       "    .dataframe tbody tr th:only-of-type {\n",
       "        vertical-align: middle;\n",
       "    }\n",
       "\n",
       "    .dataframe tbody tr th {\n",
       "        vertical-align: top;\n",
       "    }\n",
       "\n",
       "    .dataframe thead th {\n",
       "        text-align: right;\n",
       "    }\n",
       "</style>\n",
       "<table border=\"1\" class=\"dataframe\">\n",
       "  <thead>\n",
       "    <tr style=\"text-align: right;\">\n",
       "      <th></th>\n",
       "      <th>Accident_Index</th>\n",
       "      <th>Number_of_Vehicles</th>\n",
       "      <th>Number_of_Casualties</th>\n",
       "      <th>Date</th>\n",
       "      <th>Time</th>\n",
       "      <th>Speed_limit</th>\n",
       "      <th>Road_conditions</th>\n",
       "      <th>Weather_conditions</th>\n",
       "      <th>Day</th>\n",
       "      <th>Road_type</th>\n",
       "      <th>Light_conditions</th>\n",
       "    </tr>\n",
       "  </thead>\n",
       "  <tbody>\n",
       "    <tr>\n",
       "      <th>0</th>\n",
       "      <td>197901A1SEE71</td>\n",
       "      <td>2</td>\n",
       "      <td>1</td>\n",
       "      <td>1979-01-01</td>\n",
       "      <td>18:20</td>\n",
       "      <td>50.0</td>\n",
       "      <td>Snow</td>\n",
       "      <td>Unknown</td>\n",
       "      <td>Monday</td>\n",
       "      <td>Dual carriageway</td>\n",
       "      <td>Darkness lights lit</td>\n",
       "    </tr>\n",
       "    <tr>\n",
       "      <th>1</th>\n",
       "      <td>197901A2JDW40</td>\n",
       "      <td>1</td>\n",
       "      <td>1</td>\n",
       "      <td>1979-02-01</td>\n",
       "      <td>09:15</td>\n",
       "      <td>30.0</td>\n",
       "      <td>Snow</td>\n",
       "      <td>Unknown</td>\n",
       "      <td>Tuesday</td>\n",
       "      <td>Unknown</td>\n",
       "      <td>Daylight</td>\n",
       "    </tr>\n",
       "    <tr>\n",
       "      <th>2</th>\n",
       "      <td>197901A4IJV90</td>\n",
       "      <td>2</td>\n",
       "      <td>1</td>\n",
       "      <td>1979-04-01</td>\n",
       "      <td>08:45</td>\n",
       "      <td>30.0</td>\n",
       "      <td>Snow</td>\n",
       "      <td>Unknown</td>\n",
       "      <td>Thursday</td>\n",
       "      <td>Unknown</td>\n",
       "      <td>Daylight</td>\n",
       "    </tr>\n",
       "    <tr>\n",
       "      <th>3</th>\n",
       "      <td>197901A4NIE33</td>\n",
       "      <td>2</td>\n",
       "      <td>1</td>\n",
       "      <td>1979-04-01</td>\n",
       "      <td>13:40</td>\n",
       "      <td>30.0</td>\n",
       "      <td>Wet</td>\n",
       "      <td>Unknown</td>\n",
       "      <td>Thursday</td>\n",
       "      <td>Unknown</td>\n",
       "      <td>Daylight</td>\n",
       "    </tr>\n",
       "    <tr>\n",
       "      <th>4</th>\n",
       "      <td>197901A4SKO47</td>\n",
       "      <td>2</td>\n",
       "      <td>1</td>\n",
       "      <td>1979-04-01</td>\n",
       "      <td>18:50</td>\n",
       "      <td>30.0</td>\n",
       "      <td>Wet</td>\n",
       "      <td>Unknown</td>\n",
       "      <td>Thursday</td>\n",
       "      <td>Unknown</td>\n",
       "      <td>Darkness lights lit</td>\n",
       "    </tr>\n",
       "  </tbody>\n",
       "</table>\n",
       "</div>"
      ],
      "text/plain": [
       "  Accident_Index  Number_of_Vehicles  Number_of_Casualties        Date   Time  \\\n",
       "0  197901A1SEE71                   2                     1  1979-01-01  18:20   \n",
       "1  197901A2JDW40                   1                     1  1979-02-01  09:15   \n",
       "2  197901A4IJV90                   2                     1  1979-04-01  08:45   \n",
       "3  197901A4NIE33                   2                     1  1979-04-01  13:40   \n",
       "4  197901A4SKO47                   2                     1  1979-04-01  18:50   \n",
       "\n",
       "   Speed_limit Road_conditions Weather_conditions       Day         Road_type  \\\n",
       "0         50.0            Snow            Unknown    Monday  Dual carriageway   \n",
       "1         30.0            Snow            Unknown   Tuesday           Unknown   \n",
       "2         30.0            Snow            Unknown  Thursday           Unknown   \n",
       "3         30.0             Wet            Unknown  Thursday           Unknown   \n",
       "4         30.0             Wet            Unknown  Thursday           Unknown   \n",
       "\n",
       "      Light_conditions  \n",
       "0  Darkness lights lit  \n",
       "1             Daylight  \n",
       "2             Daylight  \n",
       "3             Daylight  \n",
       "4  Darkness lights lit  "
      ]
     },
     "execution_count": 18,
     "metadata": {},
     "output_type": "execute_result"
    }
   ],
   "source": [
    "df.head()"
   ]
  },
  {
   "cell_type": "code",
   "execution_count": 19,
   "metadata": {},
   "outputs": [
    {
     "data": {
      "text/plain": [
       "pandas.core.frame.DataFrame"
      ]
     },
     "execution_count": 19,
     "metadata": {},
     "output_type": "execute_result"
    }
   ],
   "source": [
    "type(df)"
   ]
  },
  {
   "cell_type": "code",
   "execution_count": 20,
   "metadata": {},
   "outputs": [
    {
     "data": {
      "text/html": [
       "<div>\n",
       "<style scoped>\n",
       "    .dataframe tbody tr th:only-of-type {\n",
       "        vertical-align: middle;\n",
       "    }\n",
       "\n",
       "    .dataframe tbody tr th {\n",
       "        vertical-align: top;\n",
       "    }\n",
       "\n",
       "    .dataframe thead th {\n",
       "        text-align: right;\n",
       "    }\n",
       "</style>\n",
       "<table border=\"1\" class=\"dataframe\">\n",
       "  <thead>\n",
       "    <tr style=\"text-align: right;\">\n",
       "      <th></th>\n",
       "      <th>Number_of_Vehicles</th>\n",
       "      <th>Number_of_Casualties</th>\n",
       "      <th>Speed_limit</th>\n",
       "    </tr>\n",
       "  </thead>\n",
       "  <tbody>\n",
       "    <tr>\n",
       "      <th>count</th>\n",
       "      <td>827861.000000</td>\n",
       "      <td>827861.000000</td>\n",
       "      <td>827861.000000</td>\n",
       "    </tr>\n",
       "    <tr>\n",
       "      <th>mean</th>\n",
       "      <td>1.986178</td>\n",
       "      <td>1.047212</td>\n",
       "      <td>33.340934</td>\n",
       "    </tr>\n",
       "    <tr>\n",
       "      <th>std</th>\n",
       "      <td>0.311600</td>\n",
       "      <td>0.253509</td>\n",
       "      <td>9.278129</td>\n",
       "    </tr>\n",
       "    <tr>\n",
       "      <th>min</th>\n",
       "      <td>1.000000</td>\n",
       "      <td>1.000000</td>\n",
       "      <td>0.000000</td>\n",
       "    </tr>\n",
       "    <tr>\n",
       "      <th>25%</th>\n",
       "      <td>2.000000</td>\n",
       "      <td>1.000000</td>\n",
       "      <td>30.000000</td>\n",
       "    </tr>\n",
       "    <tr>\n",
       "      <th>50%</th>\n",
       "      <td>2.000000</td>\n",
       "      <td>1.000000</td>\n",
       "      <td>30.000000</td>\n",
       "    </tr>\n",
       "    <tr>\n",
       "      <th>75%</th>\n",
       "      <td>2.000000</td>\n",
       "      <td>1.000000</td>\n",
       "      <td>30.000000</td>\n",
       "    </tr>\n",
       "    <tr>\n",
       "      <th>max</th>\n",
       "      <td>13.000000</td>\n",
       "      <td>60.000000</td>\n",
       "      <td>660.000000</td>\n",
       "    </tr>\n",
       "  </tbody>\n",
       "</table>\n",
       "</div>"
      ],
      "text/plain": [
       "       Number_of_Vehicles  Number_of_Casualties    Speed_limit\n",
       "count       827861.000000         827861.000000  827861.000000\n",
       "mean             1.986178              1.047212      33.340934\n",
       "std              0.311600              0.253509       9.278129\n",
       "min              1.000000              1.000000       0.000000\n",
       "25%              2.000000              1.000000      30.000000\n",
       "50%              2.000000              1.000000      30.000000\n",
       "75%              2.000000              1.000000      30.000000\n",
       "max             13.000000             60.000000     660.000000"
      ]
     },
     "execution_count": 20,
     "metadata": {},
     "output_type": "execute_result"
    }
   ],
   "source": [
    "df.describe()"
   ]
  },
  {
   "cell_type": "code",
   "execution_count": 21,
   "metadata": {},
   "outputs": [
    {
     "data": {
      "text/plain": [
       "Accident_Index          0\n",
       "Number_of_Vehicles      0\n",
       "Number_of_Casualties    0\n",
       "Date                    0\n",
       "Time                    0\n",
       "Speed_limit             0\n",
       "Road_conditions         0\n",
       "Weather_conditions      0\n",
       "Day                     0\n",
       "Road_type               0\n",
       "Light_conditions        0\n",
       "dtype: int64"
      ]
     },
     "execution_count": 21,
     "metadata": {},
     "output_type": "execute_result"
    }
   ],
   "source": [
    "df.isnull().sum()"
   ]
  },
  {
   "cell_type": "code",
   "execution_count": 22,
   "metadata": {},
   "outputs": [
    {
     "data": {
      "text/plain": [
       "RangeIndex(start=0, stop=827861, step=1)"
      ]
     },
     "execution_count": 22,
     "metadata": {},
     "output_type": "execute_result"
    }
   ],
   "source": [
    "df.index"
   ]
  },
  {
   "cell_type": "code",
   "execution_count": 23,
   "metadata": {},
   "outputs": [
    {
     "data": {
      "text/plain": [
       "Index(['Accident_Index', 'Number_of_Vehicles', 'Number_of_Casualties', 'Date',\n",
       "       'Time', 'Speed_limit', 'Road_conditions', 'Weather_conditions', 'Day',\n",
       "       'Road_type', 'Light_conditions'],\n",
       "      dtype='object')"
      ]
     },
     "execution_count": 23,
     "metadata": {},
     "output_type": "execute_result"
    }
   ],
   "source": [
    "df.columns"
   ]
  },
  {
   "cell_type": "code",
   "execution_count": 24,
   "metadata": {},
   "outputs": [
    {
     "data": {
      "text/plain": [
       "array([['197901A1SEE71', 2, 1, ..., 'Monday', 'Dual carriageway',\n",
       "        'Darkness lights lit'],\n",
       "       ['197901A2JDW40', 1, 1, ..., 'Tuesday', 'Unknown', 'Daylight'],\n",
       "       ['197901A4IJV90', 2, 1, ..., 'Thursday', 'Unknown', 'Daylight'],\n",
       "       ...,\n",
       "       ['2018983120618', 2, 1, ..., 'Friday', 'Single carriageway',\n",
       "        'Daylight'],\n",
       "       ['2018983121918', 2, 1, ..., 'Wednesday', 'Single carriageway',\n",
       "        'Daylight'],\n",
       "       ['2018983133818', 2, 1, ..., 'Thursday', 'Single carriageway',\n",
       "        'Daylight']], dtype=object)"
      ]
     },
     "execution_count": 24,
     "metadata": {},
     "output_type": "execute_result"
    }
   ],
   "source": [
    "df.values"
   ]
  },
  {
   "cell_type": "code",
   "execution_count": 25,
   "metadata": {},
   "outputs": [
    {
     "data": {
      "text/plain": [
       "Accident_Index           object\n",
       "Number_of_Vehicles        int64\n",
       "Number_of_Casualties      int64\n",
       "Date                     object\n",
       "Time                     object\n",
       "Speed_limit             float64\n",
       "Road_conditions          object\n",
       "Weather_conditions       object\n",
       "Day                      object\n",
       "Road_type                object\n",
       "Light_conditions         object\n",
       "dtype: object"
      ]
     },
     "execution_count": 25,
     "metadata": {},
     "output_type": "execute_result"
    }
   ],
   "source": [
    "df.dtypes"
   ]
  },
  {
   "cell_type": "code",
   "execution_count": 29,
   "metadata": {},
   "outputs": [
    {
     "data": {
      "text/plain": [
       "1.9861776312690174"
      ]
     },
     "execution_count": 29,
     "metadata": {},
     "output_type": "execute_result"
    }
   ],
   "source": [
    "df['Number_of_Vehicles'].mean()"
   ]
  },
  {
   "cell_type": "code",
   "execution_count": 30,
   "metadata": {},
   "outputs": [
    {
     "data": {
      "text/html": [
       "<div>\n",
       "<style scoped>\n",
       "    .dataframe tbody tr th:only-of-type {\n",
       "        vertical-align: middle;\n",
       "    }\n",
       "\n",
       "    .dataframe tbody tr th {\n",
       "        vertical-align: top;\n",
       "    }\n",
       "\n",
       "    .dataframe thead th {\n",
       "        text-align: right;\n",
       "    }\n",
       "</style>\n",
       "<table border=\"1\" class=\"dataframe\">\n",
       "  <thead>\n",
       "    <tr style=\"text-align: right;\">\n",
       "      <th></th>\n",
       "      <th>Accident_Index</th>\n",
       "      <th>Number_of_Vehicles</th>\n",
       "      <th>Number_of_Casualties</th>\n",
       "      <th>Date</th>\n",
       "      <th>Time</th>\n",
       "      <th>Speed_limit</th>\n",
       "      <th>Road_conditions</th>\n",
       "      <th>Weather_conditions</th>\n",
       "      <th>Day</th>\n",
       "      <th>Road_type</th>\n",
       "      <th>Light_conditions</th>\n",
       "    </tr>\n",
       "  </thead>\n",
       "  <tbody>\n",
       "    <tr>\n",
       "      <th>0</th>\n",
       "      <td>197901A1SEE71</td>\n",
       "      <td>2</td>\n",
       "      <td>1</td>\n",
       "      <td>1979-01-01</td>\n",
       "      <td>18:20</td>\n",
       "      <td>50.0</td>\n",
       "      <td>Snow</td>\n",
       "      <td>Unknown</td>\n",
       "      <td>Monday</td>\n",
       "      <td>Dual carriageway</td>\n",
       "      <td>Darkness lights lit</td>\n",
       "    </tr>\n",
       "    <tr>\n",
       "      <th>1</th>\n",
       "      <td>197901A2JDW40</td>\n",
       "      <td>1</td>\n",
       "      <td>1</td>\n",
       "      <td>1979-02-01</td>\n",
       "      <td>09:15</td>\n",
       "      <td>30.0</td>\n",
       "      <td>Snow</td>\n",
       "      <td>Unknown</td>\n",
       "      <td>Tuesday</td>\n",
       "      <td>Unknown</td>\n",
       "      <td>Daylight</td>\n",
       "    </tr>\n",
       "  </tbody>\n",
       "</table>\n",
       "</div>"
      ],
      "text/plain": [
       "  Accident_Index  Number_of_Vehicles  Number_of_Casualties        Date   Time  \\\n",
       "0  197901A1SEE71                   2                     1  1979-01-01  18:20   \n",
       "1  197901A2JDW40                   1                     1  1979-02-01  09:15   \n",
       "\n",
       "   Speed_limit Road_conditions Weather_conditions      Day         Road_type  \\\n",
       "0         50.0            Snow            Unknown   Monday  Dual carriageway   \n",
       "1         30.0            Snow            Unknown  Tuesday           Unknown   \n",
       "\n",
       "      Light_conditions  \n",
       "0  Darkness lights lit  \n",
       "1             Daylight  "
      ]
     },
     "execution_count": 30,
     "metadata": {},
     "output_type": "execute_result"
    }
   ],
   "source": [
    "df[:2] #Retorna as 2 primeiras linhas"
   ]
  },
  {
   "cell_type": "code",
   "execution_count": 31,
   "metadata": {},
   "outputs": [
    {
     "data": {
      "text/html": [
       "<div>\n",
       "<style scoped>\n",
       "    .dataframe tbody tr th:only-of-type {\n",
       "        vertical-align: middle;\n",
       "    }\n",
       "\n",
       "    .dataframe tbody tr th {\n",
       "        vertical-align: top;\n",
       "    }\n",
       "\n",
       "    .dataframe thead th {\n",
       "        text-align: right;\n",
       "    }\n",
       "</style>\n",
       "<table border=\"1\" class=\"dataframe\">\n",
       "  <thead>\n",
       "    <tr style=\"text-align: right;\">\n",
       "      <th></th>\n",
       "      <th>Accident_Index</th>\n",
       "      <th>Number_of_Vehicles</th>\n",
       "      <th>Number_of_Casualties</th>\n",
       "      <th>Date</th>\n",
       "      <th>Time</th>\n",
       "      <th>Speed_limit</th>\n",
       "      <th>Road_conditions</th>\n",
       "      <th>Weather_conditions</th>\n",
       "      <th>Day</th>\n",
       "      <th>Road_type</th>\n",
       "      <th>Light_conditions</th>\n",
       "    </tr>\n",
       "  </thead>\n",
       "  <tbody>\n",
       "    <tr>\n",
       "      <th>2</th>\n",
       "      <td>197901A4IJV90</td>\n",
       "      <td>2</td>\n",
       "      <td>1</td>\n",
       "      <td>1979-04-01</td>\n",
       "      <td>08:45</td>\n",
       "      <td>30.0</td>\n",
       "      <td>Snow</td>\n",
       "      <td>Unknown</td>\n",
       "      <td>Thursday</td>\n",
       "      <td>Unknown</td>\n",
       "      <td>Daylight</td>\n",
       "    </tr>\n",
       "    <tr>\n",
       "      <th>3</th>\n",
       "      <td>197901A4NIE33</td>\n",
       "      <td>2</td>\n",
       "      <td>1</td>\n",
       "      <td>1979-04-01</td>\n",
       "      <td>13:40</td>\n",
       "      <td>30.0</td>\n",
       "      <td>Wet</td>\n",
       "      <td>Unknown</td>\n",
       "      <td>Thursday</td>\n",
       "      <td>Unknown</td>\n",
       "      <td>Daylight</td>\n",
       "    </tr>\n",
       "  </tbody>\n",
       "</table>\n",
       "</div>"
      ],
      "text/plain": [
       "  Accident_Index  Number_of_Vehicles  Number_of_Casualties        Date   Time  \\\n",
       "2  197901A4IJV90                   2                     1  1979-04-01  08:45   \n",
       "3  197901A4NIE33                   2                     1  1979-04-01  13:40   \n",
       "\n",
       "   Speed_limit Road_conditions Weather_conditions       Day Road_type  \\\n",
       "2         30.0            Snow            Unknown  Thursday   Unknown   \n",
       "3         30.0             Wet            Unknown  Thursday   Unknown   \n",
       "\n",
       "  Light_conditions  \n",
       "2         Daylight  \n",
       "3         Daylight  "
      ]
     },
     "execution_count": 31,
     "metadata": {},
     "output_type": "execute_result"
    }
   ],
   "source": [
    "df[2:4] #Linha 2 a 4"
   ]
  },
  {
   "cell_type": "code",
   "execution_count": 4,
   "metadata": {},
   "outputs": [
    {
     "data": {
      "text/plain": [
       "0         2\n",
       "1         1\n",
       "2         2\n",
       "3         2\n",
       "4         2\n",
       "         ..\n",
       "827856    2\n",
       "827857    2\n",
       "827858    2\n",
       "827859    2\n",
       "827860    2\n",
       "Name: Number_of_Vehicles, Length: 827861, dtype: int64"
      ]
     },
     "execution_count": 4,
     "metadata": {},
     "output_type": "execute_result"
    }
   ],
   "source": [
    "df.Number_of_Vehicles"
   ]
  },
  {
   "cell_type": "code",
   "execution_count": 11,
   "metadata": {},
   "outputs": [
    {
     "data": {
      "text/plain": [
       "0         2\n",
       "1         1\n",
       "2         2\n",
       "3         2\n",
       "4         2\n",
       "         ..\n",
       "827856    2\n",
       "827857    2\n",
       "827858    2\n",
       "827859    2\n",
       "827860    2\n",
       "Name: Number_of_Vehicles, Length: 827861, dtype: int64"
      ]
     },
     "execution_count": 11,
     "metadata": {},
     "output_type": "execute_result"
    }
   ],
   "source": [
    "df.Number_of_Vehicles"
   ]
  },
  {
   "cell_type": "code",
   "execution_count": 13,
   "metadata": {},
   "outputs": [
    {
     "name": "stdout",
     "output_type": "stream",
     "text": [
      "<class 'pandas.core.series.Series'>\n"
     ]
    },
    {
     "data": {
      "text/plain": [
       "pandas.core.frame.DataFrame"
      ]
     },
     "execution_count": 13,
     "metadata": {},
     "output_type": "execute_result"
    }
   ],
   "source": [
    "print(type(df.Number_of_Vehicles))\n",
    "type(df[['Number_of_Vehicles']])"
   ]
  },
  {
   "cell_type": "markdown",
   "metadata": {},
   "source": [
    "## Usando Numpy e Pandas"
   ]
  },
  {
   "cell_type": "code",
   "execution_count": 1,
   "metadata": {},
   "outputs": [],
   "source": [
    "import numpy as np"
   ]
  },
  {
   "cell_type": "code",
   "execution_count": 4,
   "metadata": {},
   "outputs": [
    {
     "data": {
      "text/html": [
       "<div>\n",
       "<style scoped>\n",
       "    .dataframe tbody tr th:only-of-type {\n",
       "        vertical-align: middle;\n",
       "    }\n",
       "\n",
       "    .dataframe tbody tr th {\n",
       "        vertical-align: top;\n",
       "    }\n",
       "\n",
       "    .dataframe thead th {\n",
       "        text-align: right;\n",
       "    }\n",
       "</style>\n",
       "<table border=\"1\" class=\"dataframe\">\n",
       "  <thead>\n",
       "    <tr style=\"text-align: right;\">\n",
       "      <th></th>\n",
       "      <th>Accident_Index</th>\n",
       "      <th>Number_of_Vehicles</th>\n",
       "      <th>Number_of_Casualties</th>\n",
       "      <th>Date</th>\n",
       "      <th>Time</th>\n",
       "      <th>Speed_limit</th>\n",
       "      <th>Road_conditions</th>\n",
       "      <th>Weather_conditions</th>\n",
       "      <th>Day</th>\n",
       "      <th>Road_type</th>\n",
       "      <th>Light_conditions</th>\n",
       "    </tr>\n",
       "  </thead>\n",
       "  <tbody>\n",
       "    <tr>\n",
       "      <th>0</th>\n",
       "      <td>197901A1SEE71</td>\n",
       "      <td>2</td>\n",
       "      <td>1</td>\n",
       "      <td>1979-01-01</td>\n",
       "      <td>18:20</td>\n",
       "      <td>50.0</td>\n",
       "      <td>Snow</td>\n",
       "      <td>Unknown</td>\n",
       "      <td>Monday</td>\n",
       "      <td>Dual carriageway</td>\n",
       "      <td>Darkness lights lit</td>\n",
       "    </tr>\n",
       "    <tr>\n",
       "      <th>1</th>\n",
       "      <td>197901A2JDW40</td>\n",
       "      <td>1</td>\n",
       "      <td>1</td>\n",
       "      <td>1979-02-01</td>\n",
       "      <td>09:15</td>\n",
       "      <td>30.0</td>\n",
       "      <td>Snow</td>\n",
       "      <td>Unknown</td>\n",
       "      <td>Tuesday</td>\n",
       "      <td>Unknown</td>\n",
       "      <td>Daylight</td>\n",
       "    </tr>\n",
       "    <tr>\n",
       "      <th>2</th>\n",
       "      <td>197901A4IJV90</td>\n",
       "      <td>2</td>\n",
       "      <td>1</td>\n",
       "      <td>1979-04-01</td>\n",
       "      <td>08:45</td>\n",
       "      <td>30.0</td>\n",
       "      <td>Snow</td>\n",
       "      <td>Unknown</td>\n",
       "      <td>Thursday</td>\n",
       "      <td>Unknown</td>\n",
       "      <td>Daylight</td>\n",
       "    </tr>\n",
       "    <tr>\n",
       "      <th>3</th>\n",
       "      <td>197901A4NIE33</td>\n",
       "      <td>2</td>\n",
       "      <td>1</td>\n",
       "      <td>1979-04-01</td>\n",
       "      <td>13:40</td>\n",
       "      <td>30.0</td>\n",
       "      <td>Wet</td>\n",
       "      <td>Unknown</td>\n",
       "      <td>Thursday</td>\n",
       "      <td>Unknown</td>\n",
       "      <td>Daylight</td>\n",
       "    </tr>\n",
       "    <tr>\n",
       "      <th>4</th>\n",
       "      <td>197901A4SKO47</td>\n",
       "      <td>2</td>\n",
       "      <td>1</td>\n",
       "      <td>1979-04-01</td>\n",
       "      <td>18:50</td>\n",
       "      <td>30.0</td>\n",
       "      <td>Wet</td>\n",
       "      <td>Unknown</td>\n",
       "      <td>Thursday</td>\n",
       "      <td>Unknown</td>\n",
       "      <td>Darkness lights lit</td>\n",
       "    </tr>\n",
       "  </tbody>\n",
       "</table>\n",
       "</div>"
      ],
      "text/plain": [
       "  Accident_Index  Number_of_Vehicles  Number_of_Casualties        Date   Time  \\\n",
       "0  197901A1SEE71                   2                     1  1979-01-01  18:20   \n",
       "1  197901A2JDW40                   1                     1  1979-02-01  09:15   \n",
       "2  197901A4IJV90                   2                     1  1979-04-01  08:45   \n",
       "3  197901A4NIE33                   2                     1  1979-04-01  13:40   \n",
       "4  197901A4SKO47                   2                     1  1979-04-01  18:50   \n",
       "\n",
       "   Speed_limit Road_conditions Weather_conditions       Day         Road_type  \\\n",
       "0         50.0            Snow            Unknown    Monday  Dual carriageway   \n",
       "1         30.0            Snow            Unknown   Tuesday           Unknown   \n",
       "2         30.0            Snow            Unknown  Thursday           Unknown   \n",
       "3         30.0             Wet            Unknown  Thursday           Unknown   \n",
       "4         30.0             Wet            Unknown  Thursday           Unknown   \n",
       "\n",
       "      Light_conditions  \n",
       "0  Darkness lights lit  \n",
       "1             Daylight  \n",
       "2             Daylight  \n",
       "3             Daylight  \n",
       "4  Darkness lights lit  "
      ]
     },
     "execution_count": 4,
     "metadata": {},
     "output_type": "execute_result"
    }
   ],
   "source": [
    "df.head()"
   ]
  },
  {
   "cell_type": "code",
   "execution_count": 17,
   "metadata": {},
   "outputs": [],
   "source": [
    "df['novacol']=''"
   ]
  },
  {
   "cell_type": "code",
   "execution_count": 18,
   "metadata": {},
   "outputs": [
    {
     "data": {
      "text/html": [
       "<div>\n",
       "<style scoped>\n",
       "    .dataframe tbody tr th:only-of-type {\n",
       "        vertical-align: middle;\n",
       "    }\n",
       "\n",
       "    .dataframe tbody tr th {\n",
       "        vertical-align: top;\n",
       "    }\n",
       "\n",
       "    .dataframe thead th {\n",
       "        text-align: right;\n",
       "    }\n",
       "</style>\n",
       "<table border=\"1\" class=\"dataframe\">\n",
       "  <thead>\n",
       "    <tr style=\"text-align: right;\">\n",
       "      <th></th>\n",
       "      <th>Accident_Index</th>\n",
       "      <th>Number_of_Vehicles</th>\n",
       "      <th>Number_of_Casualties</th>\n",
       "      <th>Date</th>\n",
       "      <th>Time</th>\n",
       "      <th>Speed_limit</th>\n",
       "      <th>Road_conditions</th>\n",
       "      <th>Weather_conditions</th>\n",
       "      <th>Day</th>\n",
       "      <th>Road_type</th>\n",
       "      <th>Light_conditions</th>\n",
       "      <th>novacol</th>\n",
       "    </tr>\n",
       "  </thead>\n",
       "  <tbody>\n",
       "    <tr>\n",
       "      <th>0</th>\n",
       "      <td>197901A1SEE71</td>\n",
       "      <td>2</td>\n",
       "      <td>1</td>\n",
       "      <td>1979-01-01</td>\n",
       "      <td>18:20</td>\n",
       "      <td>50.0</td>\n",
       "      <td>Snow</td>\n",
       "      <td>Unknown</td>\n",
       "      <td>Monday</td>\n",
       "      <td>Dual carriageway</td>\n",
       "      <td>Darkness lights lit</td>\n",
       "      <td></td>\n",
       "    </tr>\n",
       "    <tr>\n",
       "      <th>1</th>\n",
       "      <td>197901A2JDW40</td>\n",
       "      <td>1</td>\n",
       "      <td>1</td>\n",
       "      <td>1979-02-01</td>\n",
       "      <td>09:15</td>\n",
       "      <td>30.0</td>\n",
       "      <td>Snow</td>\n",
       "      <td>Unknown</td>\n",
       "      <td>Tuesday</td>\n",
       "      <td>Unknown</td>\n",
       "      <td>Daylight</td>\n",
       "      <td></td>\n",
       "    </tr>\n",
       "    <tr>\n",
       "      <th>2</th>\n",
       "      <td>197901A4IJV90</td>\n",
       "      <td>2</td>\n",
       "      <td>1</td>\n",
       "      <td>1979-04-01</td>\n",
       "      <td>08:45</td>\n",
       "      <td>30.0</td>\n",
       "      <td>Snow</td>\n",
       "      <td>Unknown</td>\n",
       "      <td>Thursday</td>\n",
       "      <td>Unknown</td>\n",
       "      <td>Daylight</td>\n",
       "      <td></td>\n",
       "    </tr>\n",
       "    <tr>\n",
       "      <th>3</th>\n",
       "      <td>197901A4NIE33</td>\n",
       "      <td>2</td>\n",
       "      <td>1</td>\n",
       "      <td>1979-04-01</td>\n",
       "      <td>13:40</td>\n",
       "      <td>30.0</td>\n",
       "      <td>Wet</td>\n",
       "      <td>Unknown</td>\n",
       "      <td>Thursday</td>\n",
       "      <td>Unknown</td>\n",
       "      <td>Daylight</td>\n",
       "      <td></td>\n",
       "    </tr>\n",
       "    <tr>\n",
       "      <th>4</th>\n",
       "      <td>197901A4SKO47</td>\n",
       "      <td>2</td>\n",
       "      <td>1</td>\n",
       "      <td>1979-04-01</td>\n",
       "      <td>18:50</td>\n",
       "      <td>30.0</td>\n",
       "      <td>Wet</td>\n",
       "      <td>Unknown</td>\n",
       "      <td>Thursday</td>\n",
       "      <td>Unknown</td>\n",
       "      <td>Darkness lights lit</td>\n",
       "      <td></td>\n",
       "    </tr>\n",
       "  </tbody>\n",
       "</table>\n",
       "</div>"
      ],
      "text/plain": [
       "  Accident_Index  Number_of_Vehicles  Number_of_Casualties        Date   Time  \\\n",
       "0  197901A1SEE71                   2                     1  1979-01-01  18:20   \n",
       "1  197901A2JDW40                   1                     1  1979-02-01  09:15   \n",
       "2  197901A4IJV90                   2                     1  1979-04-01  08:45   \n",
       "3  197901A4NIE33                   2                     1  1979-04-01  13:40   \n",
       "4  197901A4SKO47                   2                     1  1979-04-01  18:50   \n",
       "\n",
       "   Speed_limit Road_conditions Weather_conditions       Day         Road_type  \\\n",
       "0         50.0            Snow            Unknown    Monday  Dual carriageway   \n",
       "1         30.0            Snow            Unknown   Tuesday           Unknown   \n",
       "2         30.0            Snow            Unknown  Thursday           Unknown   \n",
       "3         30.0             Wet            Unknown  Thursday           Unknown   \n",
       "4         30.0             Wet            Unknown  Thursday           Unknown   \n",
       "\n",
       "      Light_conditions novacol  \n",
       "0  Darkness lights lit          \n",
       "1             Daylight          \n",
       "2             Daylight          \n",
       "3             Daylight          \n",
       "4  Darkness lights lit          "
      ]
     },
     "execution_count": 18,
     "metadata": {},
     "output_type": "execute_result"
    }
   ],
   "source": [
    "df.head()"
   ]
  },
  {
   "cell_type": "code",
   "execution_count": 22,
   "metadata": {},
   "outputs": [
    {
     "data": {
      "text/plain": [
       "827861"
      ]
     },
     "execution_count": 22,
     "metadata": {},
     "output_type": "execute_result"
    }
   ],
   "source": [
    "len(df)"
   ]
  },
  {
   "cell_type": "code",
   "execution_count": 8,
   "metadata": {},
   "outputs": [
    {
     "data": {
      "text/html": [
       "<div>\n",
       "<style scoped>\n",
       "    .dataframe tbody tr th:only-of-type {\n",
       "        vertical-align: middle;\n",
       "    }\n",
       "\n",
       "    .dataframe tbody tr th {\n",
       "        vertical-align: top;\n",
       "    }\n",
       "\n",
       "    .dataframe thead th {\n",
       "        text-align: right;\n",
       "    }\n",
       "</style>\n",
       "<table border=\"1\" class=\"dataframe\">\n",
       "  <thead>\n",
       "    <tr style=\"text-align: right;\">\n",
       "      <th></th>\n",
       "      <th>Accident_Index</th>\n",
       "      <th>Number_of_Vehicles</th>\n",
       "      <th>Number_of_Casualties</th>\n",
       "      <th>Date</th>\n",
       "      <th>Time</th>\n",
       "      <th>Speed_limit</th>\n",
       "      <th>Road_conditions</th>\n",
       "      <th>Weather_conditions</th>\n",
       "      <th>Day</th>\n",
       "      <th>Road_type</th>\n",
       "      <th>Light_conditions</th>\n",
       "      <th>novacol</th>\n",
       "    </tr>\n",
       "  </thead>\n",
       "  <tbody>\n",
       "    <tr>\n",
       "      <th>0</th>\n",
       "      <td>197901A1SEE71</td>\n",
       "      <td>2</td>\n",
       "      <td>1</td>\n",
       "      <td>1979-01-01</td>\n",
       "      <td>18:20</td>\n",
       "      <td>50.0</td>\n",
       "      <td>Snow</td>\n",
       "      <td>Unknown</td>\n",
       "      <td>Monday</td>\n",
       "      <td>Dual carriageway</td>\n",
       "      <td>Darkness lights lit</td>\n",
       "      <td>0</td>\n",
       "    </tr>\n",
       "    <tr>\n",
       "      <th>1</th>\n",
       "      <td>197901A2JDW40</td>\n",
       "      <td>1</td>\n",
       "      <td>1</td>\n",
       "      <td>1979-02-01</td>\n",
       "      <td>09:15</td>\n",
       "      <td>30.0</td>\n",
       "      <td>Snow</td>\n",
       "      <td>Unknown</td>\n",
       "      <td>Tuesday</td>\n",
       "      <td>Unknown</td>\n",
       "      <td>Daylight</td>\n",
       "      <td>1</td>\n",
       "    </tr>\n",
       "    <tr>\n",
       "      <th>2</th>\n",
       "      <td>197901A4IJV90</td>\n",
       "      <td>2</td>\n",
       "      <td>1</td>\n",
       "      <td>1979-04-01</td>\n",
       "      <td>08:45</td>\n",
       "      <td>30.0</td>\n",
       "      <td>Snow</td>\n",
       "      <td>Unknown</td>\n",
       "      <td>Thursday</td>\n",
       "      <td>Unknown</td>\n",
       "      <td>Daylight</td>\n",
       "      <td>2</td>\n",
       "    </tr>\n",
       "    <tr>\n",
       "      <th>3</th>\n",
       "      <td>197901A4NIE33</td>\n",
       "      <td>2</td>\n",
       "      <td>1</td>\n",
       "      <td>1979-04-01</td>\n",
       "      <td>13:40</td>\n",
       "      <td>30.0</td>\n",
       "      <td>Wet</td>\n",
       "      <td>Unknown</td>\n",
       "      <td>Thursday</td>\n",
       "      <td>Unknown</td>\n",
       "      <td>Daylight</td>\n",
       "      <td>3</td>\n",
       "    </tr>\n",
       "    <tr>\n",
       "      <th>4</th>\n",
       "      <td>197901A4SKO47</td>\n",
       "      <td>2</td>\n",
       "      <td>1</td>\n",
       "      <td>1979-04-01</td>\n",
       "      <td>18:50</td>\n",
       "      <td>30.0</td>\n",
       "      <td>Wet</td>\n",
       "      <td>Unknown</td>\n",
       "      <td>Thursday</td>\n",
       "      <td>Unknown</td>\n",
       "      <td>Darkness lights lit</td>\n",
       "      <td>4</td>\n",
       "    </tr>\n",
       "  </tbody>\n",
       "</table>\n",
       "</div>"
      ],
      "text/plain": [
       "  Accident_Index  Number_of_Vehicles  Number_of_Casualties        Date   Time  \\\n",
       "0  197901A1SEE71                   2                     1  1979-01-01  18:20   \n",
       "1  197901A2JDW40                   1                     1  1979-02-01  09:15   \n",
       "2  197901A4IJV90                   2                     1  1979-04-01  08:45   \n",
       "3  197901A4NIE33                   2                     1  1979-04-01  13:40   \n",
       "4  197901A4SKO47                   2                     1  1979-04-01  18:50   \n",
       "\n",
       "   Speed_limit Road_conditions Weather_conditions       Day         Road_type  \\\n",
       "0         50.0            Snow            Unknown    Monday  Dual carriageway   \n",
       "1         30.0            Snow            Unknown   Tuesday           Unknown   \n",
       "2         30.0            Snow            Unknown  Thursday           Unknown   \n",
       "3         30.0             Wet            Unknown  Thursday           Unknown   \n",
       "4         30.0             Wet            Unknown  Thursday           Unknown   \n",
       "\n",
       "      Light_conditions  novacol  \n",
       "0  Darkness lights lit        0  \n",
       "1             Daylight        1  \n",
       "2             Daylight        2  \n",
       "3             Daylight        3  \n",
       "4  Darkness lights lit        4  "
      ]
     },
     "execution_count": 8,
     "metadata": {},
     "output_type": "execute_result"
    }
   ],
   "source": [
    "df['novacol']=np.arange(len(df))\n",
    "df.head()"
   ]
  },
  {
   "cell_type": "code",
   "execution_count": 26,
   "metadata": {},
   "outputs": [
    {
     "data": {
      "text/plain": [
       "Index(['Accident_Index', 'Number_of_Vehicles', 'Number_of_Casualties', 'Date',\n",
       "       'Time', 'Speed_limit', 'Road_conditions', 'Weather_conditions', 'Day',\n",
       "       'Road_type', 'Light_conditions', 'novacol'],\n",
       "      dtype='object')"
      ]
     },
     "execution_count": 26,
     "metadata": {},
     "output_type": "execute_result"
    }
   ],
   "source": [
    "df.keys()"
   ]
  },
  {
   "cell_type": "code",
   "execution_count": 25,
   "metadata": {},
   "outputs": [
    {
     "data": {
      "text/plain": [
       "array([['197901A1SEE71', 2, 1, ..., 'Dual carriageway',\n",
       "        'Darkness lights lit', 0],\n",
       "       ['197901A2JDW40', 1, 1, ..., 'Unknown', 'Daylight', 1],\n",
       "       ['197901A4IJV90', 2, 1, ..., 'Unknown', 'Daylight', 2],\n",
       "       ...,\n",
       "       ['2018983120618', 2, 1, ..., 'Single carriageway', 'Daylight',\n",
       "        827858],\n",
       "       ['2018983121918', 2, 1, ..., 'Single carriageway', 'Daylight',\n",
       "        827859],\n",
       "       ['2018983133818', 2, 1, ..., 'Single carriageway', 'Daylight',\n",
       "        827860]], dtype=object)"
      ]
     },
     "execution_count": 25,
     "metadata": {},
     "output_type": "execute_result"
    }
   ],
   "source": [
    "df.values"
   ]
  },
  {
   "cell_type": "code",
   "execution_count": 27,
   "metadata": {},
   "outputs": [
    {
     "data": {
      "text/html": [
       "<div>\n",
       "<style scoped>\n",
       "    .dataframe tbody tr th:only-of-type {\n",
       "        vertical-align: middle;\n",
       "    }\n",
       "\n",
       "    .dataframe tbody tr th {\n",
       "        vertical-align: top;\n",
       "    }\n",
       "\n",
       "    .dataframe thead th {\n",
       "        text-align: right;\n",
       "    }\n",
       "</style>\n",
       "<table border=\"1\" class=\"dataframe\">\n",
       "  <thead>\n",
       "    <tr style=\"text-align: right;\">\n",
       "      <th></th>\n",
       "      <th>Number_of_Vehicles</th>\n",
       "      <th>Number_of_Casualties</th>\n",
       "      <th>Speed_limit</th>\n",
       "      <th>novacol</th>\n",
       "    </tr>\n",
       "  </thead>\n",
       "  <tbody>\n",
       "    <tr>\n",
       "      <th>count</th>\n",
       "      <td>827861.000000</td>\n",
       "      <td>827861.000000</td>\n",
       "      <td>827861.000000</td>\n",
       "      <td>827861.000000</td>\n",
       "    </tr>\n",
       "    <tr>\n",
       "      <th>mean</th>\n",
       "      <td>1.986178</td>\n",
       "      <td>1.047212</td>\n",
       "      <td>33.340934</td>\n",
       "      <td>413930.000000</td>\n",
       "    </tr>\n",
       "    <tr>\n",
       "      <th>std</th>\n",
       "      <td>0.311600</td>\n",
       "      <td>0.253509</td>\n",
       "      <td>9.278129</td>\n",
       "      <td>238983.029937</td>\n",
       "    </tr>\n",
       "    <tr>\n",
       "      <th>min</th>\n",
       "      <td>1.000000</td>\n",
       "      <td>1.000000</td>\n",
       "      <td>0.000000</td>\n",
       "      <td>0.000000</td>\n",
       "    </tr>\n",
       "    <tr>\n",
       "      <th>25%</th>\n",
       "      <td>2.000000</td>\n",
       "      <td>1.000000</td>\n",
       "      <td>30.000000</td>\n",
       "      <td>206965.000000</td>\n",
       "    </tr>\n",
       "    <tr>\n",
       "      <th>50%</th>\n",
       "      <td>2.000000</td>\n",
       "      <td>1.000000</td>\n",
       "      <td>30.000000</td>\n",
       "      <td>413930.000000</td>\n",
       "    </tr>\n",
       "    <tr>\n",
       "      <th>75%</th>\n",
       "      <td>2.000000</td>\n",
       "      <td>1.000000</td>\n",
       "      <td>30.000000</td>\n",
       "      <td>620895.000000</td>\n",
       "    </tr>\n",
       "    <tr>\n",
       "      <th>max</th>\n",
       "      <td>13.000000</td>\n",
       "      <td>60.000000</td>\n",
       "      <td>660.000000</td>\n",
       "      <td>827860.000000</td>\n",
       "    </tr>\n",
       "  </tbody>\n",
       "</table>\n",
       "</div>"
      ],
      "text/plain": [
       "       Number_of_Vehicles  Number_of_Casualties    Speed_limit        novacol\n",
       "count       827861.000000         827861.000000  827861.000000  827861.000000\n",
       "mean             1.986178              1.047212      33.340934  413930.000000\n",
       "std              0.311600              0.253509       9.278129  238983.029937\n",
       "min              1.000000              1.000000       0.000000       0.000000\n",
       "25%              2.000000              1.000000      30.000000  206965.000000\n",
       "50%              2.000000              1.000000      30.000000  413930.000000\n",
       "75%              2.000000              1.000000      30.000000  620895.000000\n",
       "max             13.000000             60.000000     660.000000  827860.000000"
      ]
     },
     "execution_count": 27,
     "metadata": {},
     "output_type": "execute_result"
    }
   ],
   "source": [
    "df.describe()"
   ]
  },
  {
   "cell_type": "code",
   "execution_count": 4,
   "metadata": {},
   "outputs": [
    {
     "data": {
      "text/html": [
       "<div>\n",
       "<style scoped>\n",
       "    .dataframe tbody tr th:only-of-type {\n",
       "        vertical-align: middle;\n",
       "    }\n",
       "\n",
       "    .dataframe tbody tr th {\n",
       "        vertical-align: top;\n",
       "    }\n",
       "\n",
       "    .dataframe thead th {\n",
       "        text-align: right;\n",
       "    }\n",
       "</style>\n",
       "<table border=\"1\" class=\"dataframe\">\n",
       "  <thead>\n",
       "    <tr style=\"text-align: right;\">\n",
       "      <th></th>\n",
       "      <th>Number_of_Vehicles</th>\n",
       "      <th>Number_of_Casualties</th>\n",
       "      <th>Date</th>\n",
       "      <th>Time</th>\n",
       "      <th>Speed_limit</th>\n",
       "      <th>Road_conditions</th>\n",
       "      <th>Weather_conditions</th>\n",
       "      <th>Day</th>\n",
       "      <th>Road_type</th>\n",
       "      <th>Light_conditions</th>\n",
       "    </tr>\n",
       "    <tr>\n",
       "      <th>Accident_Index</th>\n",
       "      <th></th>\n",
       "      <th></th>\n",
       "      <th></th>\n",
       "      <th></th>\n",
       "      <th></th>\n",
       "      <th></th>\n",
       "      <th></th>\n",
       "      <th></th>\n",
       "      <th></th>\n",
       "      <th></th>\n",
       "    </tr>\n",
       "  </thead>\n",
       "  <tbody>\n",
       "    <tr>\n",
       "      <th>197901A1SEE71</th>\n",
       "      <td>2</td>\n",
       "      <td>1</td>\n",
       "      <td>1979-01-01</td>\n",
       "      <td>18:20</td>\n",
       "      <td>50.0</td>\n",
       "      <td>Snow</td>\n",
       "      <td>Unknown</td>\n",
       "      <td>Monday</td>\n",
       "      <td>Dual carriageway</td>\n",
       "      <td>Darkness lights lit</td>\n",
       "    </tr>\n",
       "    <tr>\n",
       "      <th>197901A2JDW40</th>\n",
       "      <td>1</td>\n",
       "      <td>1</td>\n",
       "      <td>1979-02-01</td>\n",
       "      <td>09:15</td>\n",
       "      <td>30.0</td>\n",
       "      <td>Snow</td>\n",
       "      <td>Unknown</td>\n",
       "      <td>Tuesday</td>\n",
       "      <td>Unknown</td>\n",
       "      <td>Daylight</td>\n",
       "    </tr>\n",
       "    <tr>\n",
       "      <th>197901A4IJV90</th>\n",
       "      <td>2</td>\n",
       "      <td>1</td>\n",
       "      <td>1979-04-01</td>\n",
       "      <td>08:45</td>\n",
       "      <td>30.0</td>\n",
       "      <td>Snow</td>\n",
       "      <td>Unknown</td>\n",
       "      <td>Thursday</td>\n",
       "      <td>Unknown</td>\n",
       "      <td>Daylight</td>\n",
       "    </tr>\n",
       "    <tr>\n",
       "      <th>197901A4NIE33</th>\n",
       "      <td>2</td>\n",
       "      <td>1</td>\n",
       "      <td>1979-04-01</td>\n",
       "      <td>13:40</td>\n",
       "      <td>30.0</td>\n",
       "      <td>Wet</td>\n",
       "      <td>Unknown</td>\n",
       "      <td>Thursday</td>\n",
       "      <td>Unknown</td>\n",
       "      <td>Daylight</td>\n",
       "    </tr>\n",
       "    <tr>\n",
       "      <th>197901A4SKO47</th>\n",
       "      <td>2</td>\n",
       "      <td>1</td>\n",
       "      <td>1979-04-01</td>\n",
       "      <td>18:50</td>\n",
       "      <td>30.0</td>\n",
       "      <td>Wet</td>\n",
       "      <td>Unknown</td>\n",
       "      <td>Thursday</td>\n",
       "      <td>Unknown</td>\n",
       "      <td>Darkness lights lit</td>\n",
       "    </tr>\n",
       "  </tbody>\n",
       "</table>\n",
       "</div>"
      ],
      "text/plain": [
       "                Number_of_Vehicles  Number_of_Casualties        Date   Time  \\\n",
       "Accident_Index                                                                \n",
       "197901A1SEE71                    2                     1  1979-01-01  18:20   \n",
       "197901A2JDW40                    1                     1  1979-02-01  09:15   \n",
       "197901A4IJV90                    2                     1  1979-04-01  08:45   \n",
       "197901A4NIE33                    2                     1  1979-04-01  13:40   \n",
       "197901A4SKO47                    2                     1  1979-04-01  18:50   \n",
       "\n",
       "                Speed_limit Road_conditions Weather_conditions       Day  \\\n",
       "Accident_Index                                                             \n",
       "197901A1SEE71          50.0            Snow            Unknown    Monday   \n",
       "197901A2JDW40          30.0            Snow            Unknown   Tuesday   \n",
       "197901A4IJV90          30.0            Snow            Unknown  Thursday   \n",
       "197901A4NIE33          30.0             Wet            Unknown  Thursday   \n",
       "197901A4SKO47          30.0             Wet            Unknown  Thursday   \n",
       "\n",
       "                       Road_type     Light_conditions  \n",
       "Accident_Index                                         \n",
       "197901A1SEE71   Dual carriageway  Darkness lights lit  \n",
       "197901A2JDW40            Unknown             Daylight  \n",
       "197901A4IJV90            Unknown             Daylight  \n",
       "197901A4NIE33            Unknown             Daylight  \n",
       "197901A4SKO47            Unknown  Darkness lights lit  "
      ]
     },
     "execution_count": 4,
     "metadata": {},
     "output_type": "execute_result"
    }
   ],
   "source": [
    "df2=df.set_index('Accident_Index')\n",
    "df2.head(5)"
   ]
  },
  {
   "cell_type": "code",
   "execution_count": 51,
   "metadata": {},
   "outputs": [
    {
     "data": {
      "text/html": [
       "<div>\n",
       "<style scoped>\n",
       "    .dataframe tbody tr th:only-of-type {\n",
       "        vertical-align: middle;\n",
       "    }\n",
       "\n",
       "    .dataframe tbody tr th {\n",
       "        vertical-align: top;\n",
       "    }\n",
       "\n",
       "    .dataframe thead th {\n",
       "        text-align: right;\n",
       "    }\n",
       "</style>\n",
       "<table border=\"1\" class=\"dataframe\">\n",
       "  <thead>\n",
       "    <tr style=\"text-align: right;\">\n",
       "      <th></th>\n",
       "      <th>Number_of_Vehicles</th>\n",
       "      <th>Number_of_Casualties</th>\n",
       "      <th>Date</th>\n",
       "      <th>Time</th>\n",
       "      <th>Speed_limit</th>\n",
       "      <th>Road_conditions</th>\n",
       "      <th>Weather_conditions</th>\n",
       "      <th>Day</th>\n",
       "      <th>Road_type</th>\n",
       "      <th>Light_conditions</th>\n",
       "      <th>novacol</th>\n",
       "    </tr>\n",
       "    <tr>\n",
       "      <th>Accident_Index</th>\n",
       "      <th></th>\n",
       "      <th></th>\n",
       "      <th></th>\n",
       "      <th></th>\n",
       "      <th></th>\n",
       "      <th></th>\n",
       "      <th></th>\n",
       "      <th></th>\n",
       "      <th></th>\n",
       "      <th></th>\n",
       "      <th></th>\n",
       "    </tr>\n",
       "  </thead>\n",
       "  <tbody>\n",
       "    <tr>\n",
       "      <th>197901A4IJV90</th>\n",
       "      <td>2</td>\n",
       "      <td>1</td>\n",
       "      <td>1979-04-01</td>\n",
       "      <td>08:45</td>\n",
       "      <td>30.0</td>\n",
       "      <td>Snow</td>\n",
       "      <td>Unknown</td>\n",
       "      <td>Thursday</td>\n",
       "      <td>Unknown</td>\n",
       "      <td>Daylight</td>\n",
       "      <td>2</td>\n",
       "    </tr>\n",
       "    <tr>\n",
       "      <th>197901A4NIE33</th>\n",
       "      <td>2</td>\n",
       "      <td>1</td>\n",
       "      <td>1979-04-01</td>\n",
       "      <td>13:40</td>\n",
       "      <td>30.0</td>\n",
       "      <td>Wet</td>\n",
       "      <td>Unknown</td>\n",
       "      <td>Thursday</td>\n",
       "      <td>Unknown</td>\n",
       "      <td>Daylight</td>\n",
       "      <td>3</td>\n",
       "    </tr>\n",
       "    <tr>\n",
       "      <th>197901A4SKO47</th>\n",
       "      <td>2</td>\n",
       "      <td>1</td>\n",
       "      <td>1979-04-01</td>\n",
       "      <td>18:50</td>\n",
       "      <td>30.0</td>\n",
       "      <td>Wet</td>\n",
       "      <td>Unknown</td>\n",
       "      <td>Thursday</td>\n",
       "      <td>Unknown</td>\n",
       "      <td>Darkness lights lit</td>\n",
       "      <td>4</td>\n",
       "    </tr>\n",
       "  </tbody>\n",
       "</table>\n",
       "</div>"
      ],
      "text/plain": [
       "                Number_of_Vehicles  Number_of_Casualties        Date   Time  \\\n",
       "Accident_Index                                                                \n",
       "197901A4IJV90                    2                     1  1979-04-01  08:45   \n",
       "197901A4NIE33                    2                     1  1979-04-01  13:40   \n",
       "197901A4SKO47                    2                     1  1979-04-01  18:50   \n",
       "\n",
       "                Speed_limit Road_conditions Weather_conditions       Day  \\\n",
       "Accident_Index                                                             \n",
       "197901A4IJV90          30.0            Snow            Unknown  Thursday   \n",
       "197901A4NIE33          30.0             Wet            Unknown  Thursday   \n",
       "197901A4SKO47          30.0             Wet            Unknown  Thursday   \n",
       "\n",
       "               Road_type     Light_conditions  novacol  \n",
       "Accident_Index                                          \n",
       "197901A4IJV90    Unknown             Daylight        2  \n",
       "197901A4NIE33    Unknown             Daylight        3  \n",
       "197901A4SKO47    Unknown  Darkness lights lit        4  "
      ]
     },
     "execution_count": 51,
     "metadata": {},
     "output_type": "execute_result"
    }
   ],
   "source": [
    "df2['197901A4IJV90':'197901A4SKO47']"
   ]
  },
  {
   "cell_type": "code",
   "execution_count": 33,
   "metadata": {},
   "outputs": [
    {
     "data": {
      "text/html": [
       "<div>\n",
       "<style scoped>\n",
       "    .dataframe tbody tr th:only-of-type {\n",
       "        vertical-align: middle;\n",
       "    }\n",
       "\n",
       "    .dataframe tbody tr th {\n",
       "        vertical-align: top;\n",
       "    }\n",
       "\n",
       "    .dataframe thead th {\n",
       "        text-align: right;\n",
       "    }\n",
       "</style>\n",
       "<table border=\"1\" class=\"dataframe\">\n",
       "  <thead>\n",
       "    <tr style=\"text-align: right;\">\n",
       "      <th></th>\n",
       "      <th>Speed_limit</th>\n",
       "      <th>Road_conditions</th>\n",
       "      <th>Weather_conditions</th>\n",
       "      <th>Day</th>\n",
       "      <th>Road_type</th>\n",
       "      <th>Light_conditions</th>\n",
       "      <th>novacol</th>\n",
       "    </tr>\n",
       "  </thead>\n",
       "  <tbody>\n",
       "    <tr>\n",
       "      <th>0</th>\n",
       "      <td>50.0</td>\n",
       "      <td>Snow</td>\n",
       "      <td>Unknown</td>\n",
       "      <td>Monday</td>\n",
       "      <td>Dual carriageway</td>\n",
       "      <td>Darkness lights lit</td>\n",
       "      <td>0</td>\n",
       "    </tr>\n",
       "    <tr>\n",
       "      <th>1</th>\n",
       "      <td>30.0</td>\n",
       "      <td>Snow</td>\n",
       "      <td>Unknown</td>\n",
       "      <td>Tuesday</td>\n",
       "      <td>Unknown</td>\n",
       "      <td>Daylight</td>\n",
       "      <td>1</td>\n",
       "    </tr>\n",
       "    <tr>\n",
       "      <th>2</th>\n",
       "      <td>30.0</td>\n",
       "      <td>Snow</td>\n",
       "      <td>Unknown</td>\n",
       "      <td>Thursday</td>\n",
       "      <td>Unknown</td>\n",
       "      <td>Daylight</td>\n",
       "      <td>2</td>\n",
       "    </tr>\n",
       "    <tr>\n",
       "      <th>3</th>\n",
       "      <td>30.0</td>\n",
       "      <td>Wet</td>\n",
       "      <td>Unknown</td>\n",
       "      <td>Thursday</td>\n",
       "      <td>Unknown</td>\n",
       "      <td>Daylight</td>\n",
       "      <td>3</td>\n",
       "    </tr>\n",
       "    <tr>\n",
       "      <th>4</th>\n",
       "      <td>30.0</td>\n",
       "      <td>Wet</td>\n",
       "      <td>Unknown</td>\n",
       "      <td>Thursday</td>\n",
       "      <td>Unknown</td>\n",
       "      <td>Darkness lights lit</td>\n",
       "      <td>4</td>\n",
       "    </tr>\n",
       "  </tbody>\n",
       "</table>\n",
       "</div>"
      ],
      "text/plain": [
       "   Speed_limit Road_conditions Weather_conditions       Day         Road_type  \\\n",
       "0         50.0            Snow            Unknown    Monday  Dual carriageway   \n",
       "1         30.0            Snow            Unknown   Tuesday           Unknown   \n",
       "2         30.0            Snow            Unknown  Thursday           Unknown   \n",
       "3         30.0             Wet            Unknown  Thursday           Unknown   \n",
       "4         30.0             Wet            Unknown  Thursday           Unknown   \n",
       "\n",
       "      Light_conditions  novacol  \n",
       "0  Darkness lights lit        0  \n",
       "1             Daylight        1  \n",
       "2             Daylight        2  \n",
       "3             Daylight        3  \n",
       "4  Darkness lights lit        4  "
      ]
     },
     "execution_count": 33,
     "metadata": {},
     "output_type": "execute_result"
    }
   ],
   "source": [
    "df.iloc[:,5:12].head()"
   ]
  },
  {
   "cell_type": "code",
   "execution_count": 37,
   "metadata": {},
   "outputs": [
    {
     "data": {
      "text/plain": [
       "0    False\n",
       "1    False\n",
       "2    False\n",
       "3    False\n",
       "4    False\n",
       "Name: Speed_limit, dtype: bool"
      ]
     },
     "execution_count": 37,
     "metadata": {},
     "output_type": "execute_result"
    }
   ],
   "source": [
    "(df['Speed_limit']<10).head()"
   ]
  },
  {
   "cell_type": "code",
   "execution_count": 55,
   "metadata": {},
   "outputs": [
    {
     "data": {
      "text/plain": [
       "Number_of_Vehicles               2\n",
       "Number_of_Casualties             1\n",
       "Date                    1979-04-01\n",
       "Time                         08:45\n",
       "Speed_limit                   30.0\n",
       "Road_conditions               Snow\n",
       "Weather_conditions         Unknown\n",
       "Day                       Thursday\n",
       "Road_type                  Unknown\n",
       "Light_conditions          Daylight\n",
       "novacol                          2\n",
       "Name: 197901A4IJV90, dtype: object"
      ]
     },
     "execution_count": 55,
     "metadata": {},
     "output_type": "execute_result"
    }
   ],
   "source": [
    "#Localizando registros\n",
    "df2.loc['197901A4IJV90'] #Ele busca todas as informações contidas em um certo índice, aqui vc pode usar \n",
    "# strings se o indice estiver em texto."
   ]
  },
  {
   "cell_type": "code",
   "execution_count": 57,
   "metadata": {},
   "outputs": [
    {
     "data": {
      "text/plain": [
       "Number_of_Vehicles               2\n",
       "Number_of_Casualties             1\n",
       "Date                    1979-04-01\n",
       "Time                         08:45\n",
       "Speed_limit                   30.0\n",
       "Road_conditions               Snow\n",
       "Weather_conditions         Unknown\n",
       "Day                       Thursday\n",
       "Road_type                  Unknown\n",
       "Light_conditions          Daylight\n",
       "novacol                          2\n",
       "Name: 197901A4IJV90, dtype: object"
      ]
     },
     "execution_count": 57,
     "metadata": {},
     "output_type": "execute_result"
    }
   ],
   "source": [
    "df2.iloc[2] #aqui ele busca pelo número do índice."
   ]
  },
  {
   "cell_type": "code",
   "execution_count": 58,
   "metadata": {},
   "outputs": [
    {
     "data": {
      "text/html": [
       "<div>\n",
       "<style scoped>\n",
       "    .dataframe tbody tr th:only-of-type {\n",
       "        vertical-align: middle;\n",
       "    }\n",
       "\n",
       "    .dataframe tbody tr th {\n",
       "        vertical-align: top;\n",
       "    }\n",
       "\n",
       "    .dataframe thead th {\n",
       "        text-align: right;\n",
       "    }\n",
       "</style>\n",
       "<table border=\"1\" class=\"dataframe\">\n",
       "  <thead>\n",
       "    <tr style=\"text-align: right;\">\n",
       "      <th></th>\n",
       "      <th>Number_of_Vehicles</th>\n",
       "      <th>Number_of_Casualties</th>\n",
       "      <th>Date</th>\n",
       "      <th>Time</th>\n",
       "      <th>Speed_limit</th>\n",
       "      <th>Road_conditions</th>\n",
       "      <th>Weather_conditions</th>\n",
       "      <th>Day</th>\n",
       "      <th>Road_type</th>\n",
       "      <th>Light_conditions</th>\n",
       "      <th>novacol</th>\n",
       "    </tr>\n",
       "    <tr>\n",
       "      <th>Accident_Index</th>\n",
       "      <th></th>\n",
       "      <th></th>\n",
       "      <th></th>\n",
       "      <th></th>\n",
       "      <th></th>\n",
       "      <th></th>\n",
       "      <th></th>\n",
       "      <th></th>\n",
       "      <th></th>\n",
       "      <th></th>\n",
       "      <th></th>\n",
       "    </tr>\n",
       "  </thead>\n",
       "  <tbody>\n",
       "    <tr>\n",
       "      <th>197901A1SEE71</th>\n",
       "      <td>2</td>\n",
       "      <td>1</td>\n",
       "      <td>1979-01-01</td>\n",
       "      <td>18:20</td>\n",
       "      <td>50.0</td>\n",
       "      <td>Snow</td>\n",
       "      <td>Unknown</td>\n",
       "      <td>Monday</td>\n",
       "      <td>Dual carriageway</td>\n",
       "      <td>Darkness lights lit</td>\n",
       "      <td>0</td>\n",
       "    </tr>\n",
       "    <tr>\n",
       "      <th>197901A2JDW40</th>\n",
       "      <td>1</td>\n",
       "      <td>1</td>\n",
       "      <td>1979-02-01</td>\n",
       "      <td>09:15</td>\n",
       "      <td>30.0</td>\n",
       "      <td>Snow</td>\n",
       "      <td>Unknown</td>\n",
       "      <td>Tuesday</td>\n",
       "      <td>Unknown</td>\n",
       "      <td>Daylight</td>\n",
       "      <td>1</td>\n",
       "    </tr>\n",
       "    <tr>\n",
       "      <th>197901A4IJV90</th>\n",
       "      <td>2</td>\n",
       "      <td>1</td>\n",
       "      <td>1979-04-01</td>\n",
       "      <td>08:45</td>\n",
       "      <td>30.0</td>\n",
       "      <td>Snow</td>\n",
       "      <td>Unknown</td>\n",
       "      <td>Thursday</td>\n",
       "      <td>Unknown</td>\n",
       "      <td>Daylight</td>\n",
       "      <td>2</td>\n",
       "    </tr>\n",
       "    <tr>\n",
       "      <th>197901A4NIE33</th>\n",
       "      <td>2</td>\n",
       "      <td>1</td>\n",
       "      <td>1979-04-01</td>\n",
       "      <td>13:40</td>\n",
       "      <td>30.0</td>\n",
       "      <td>Wet</td>\n",
       "      <td>Unknown</td>\n",
       "      <td>Thursday</td>\n",
       "      <td>Unknown</td>\n",
       "      <td>Daylight</td>\n",
       "      <td>3</td>\n",
       "    </tr>\n",
       "    <tr>\n",
       "      <th>197901A4SKO47</th>\n",
       "      <td>2</td>\n",
       "      <td>1</td>\n",
       "      <td>1979-04-01</td>\n",
       "      <td>18:50</td>\n",
       "      <td>30.0</td>\n",
       "      <td>Wet</td>\n",
       "      <td>Unknown</td>\n",
       "      <td>Thursday</td>\n",
       "      <td>Unknown</td>\n",
       "      <td>Darkness lights lit</td>\n",
       "      <td>4</td>\n",
       "    </tr>\n",
       "  </tbody>\n",
       "</table>\n",
       "</div>"
      ],
      "text/plain": [
       "                Number_of_Vehicles  Number_of_Casualties        Date   Time  \\\n",
       "Accident_Index                                                                \n",
       "197901A1SEE71                    2                     1  1979-01-01  18:20   \n",
       "197901A2JDW40                    1                     1  1979-02-01  09:15   \n",
       "197901A4IJV90                    2                     1  1979-04-01  08:45   \n",
       "197901A4NIE33                    2                     1  1979-04-01  13:40   \n",
       "197901A4SKO47                    2                     1  1979-04-01  18:50   \n",
       "\n",
       "                Speed_limit Road_conditions Weather_conditions       Day  \\\n",
       "Accident_Index                                                             \n",
       "197901A1SEE71          50.0            Snow            Unknown    Monday   \n",
       "197901A2JDW40          30.0            Snow            Unknown   Tuesday   \n",
       "197901A4IJV90          30.0            Snow            Unknown  Thursday   \n",
       "197901A4NIE33          30.0             Wet            Unknown  Thursday   \n",
       "197901A4SKO47          30.0             Wet            Unknown  Thursday   \n",
       "\n",
       "                       Road_type     Light_conditions  novacol  \n",
       "Accident_Index                                                  \n",
       "197901A1SEE71   Dual carriageway  Darkness lights lit        0  \n",
       "197901A2JDW40            Unknown             Daylight        1  \n",
       "197901A4IJV90            Unknown             Daylight        2  \n",
       "197901A4NIE33            Unknown             Daylight        3  \n",
       "197901A4SKO47            Unknown  Darkness lights lit        4  "
      ]
     },
     "execution_count": 58,
     "metadata": {},
     "output_type": "execute_result"
    }
   ],
   "source": [
    "df2.head(5)"
   ]
  },
  {
   "cell_type": "code",
   "execution_count": 59,
   "metadata": {},
   "outputs": [
    {
     "data": {
      "text/html": [
       "<div>\n",
       "<style scoped>\n",
       "    .dataframe tbody tr th:only-of-type {\n",
       "        vertical-align: middle;\n",
       "    }\n",
       "\n",
       "    .dataframe tbody tr th {\n",
       "        vertical-align: top;\n",
       "    }\n",
       "\n",
       "    .dataframe thead th {\n",
       "        text-align: right;\n",
       "    }\n",
       "</style>\n",
       "<table border=\"1\" class=\"dataframe\">\n",
       "  <thead>\n",
       "    <tr style=\"text-align: right;\">\n",
       "      <th></th>\n",
       "      <th>Accident_Index</th>\n",
       "      <th>Number_of_Vehicles</th>\n",
       "      <th>Number_of_Casualties</th>\n",
       "      <th>Date</th>\n",
       "      <th>Time</th>\n",
       "      <th>Speed_limit</th>\n",
       "      <th>Road_conditions</th>\n",
       "      <th>Weather_conditions</th>\n",
       "      <th>Day</th>\n",
       "      <th>Road_type</th>\n",
       "      <th>Light_conditions</th>\n",
       "      <th>novacol</th>\n",
       "    </tr>\n",
       "  </thead>\n",
       "  <tbody>\n",
       "    <tr>\n",
       "      <th>0</th>\n",
       "      <td>197901A1SEE71</td>\n",
       "      <td>2</td>\n",
       "      <td>1</td>\n",
       "      <td>1979-01-01</td>\n",
       "      <td>18:20</td>\n",
       "      <td>50.0</td>\n",
       "      <td>Snow</td>\n",
       "      <td>Unknown</td>\n",
       "      <td>Monday</td>\n",
       "      <td>Dual carriageway</td>\n",
       "      <td>Darkness lights lit</td>\n",
       "      <td>0</td>\n",
       "    </tr>\n",
       "    <tr>\n",
       "      <th>1</th>\n",
       "      <td>197901A2JDW40</td>\n",
       "      <td>1</td>\n",
       "      <td>1</td>\n",
       "      <td>1979-02-01</td>\n",
       "      <td>09:15</td>\n",
       "      <td>30.0</td>\n",
       "      <td>Snow</td>\n",
       "      <td>Unknown</td>\n",
       "      <td>Tuesday</td>\n",
       "      <td>Unknown</td>\n",
       "      <td>Daylight</td>\n",
       "      <td>1</td>\n",
       "    </tr>\n",
       "    <tr>\n",
       "      <th>2</th>\n",
       "      <td>197901A4IJV90</td>\n",
       "      <td>2</td>\n",
       "      <td>1</td>\n",
       "      <td>1979-04-01</td>\n",
       "      <td>08:45</td>\n",
       "      <td>30.0</td>\n",
       "      <td>Snow</td>\n",
       "      <td>Unknown</td>\n",
       "      <td>Thursday</td>\n",
       "      <td>Unknown</td>\n",
       "      <td>Daylight</td>\n",
       "      <td>2</td>\n",
       "    </tr>\n",
       "    <tr>\n",
       "      <th>3</th>\n",
       "      <td>197901A4NIE33</td>\n",
       "      <td>2</td>\n",
       "      <td>1</td>\n",
       "      <td>1979-04-01</td>\n",
       "      <td>13:40</td>\n",
       "      <td>30.0</td>\n",
       "      <td>Wet</td>\n",
       "      <td>Unknown</td>\n",
       "      <td>Thursday</td>\n",
       "      <td>Unknown</td>\n",
       "      <td>Daylight</td>\n",
       "      <td>3</td>\n",
       "    </tr>\n",
       "    <tr>\n",
       "      <th>4</th>\n",
       "      <td>197901A4SKO47</td>\n",
       "      <td>2</td>\n",
       "      <td>1</td>\n",
       "      <td>1979-04-01</td>\n",
       "      <td>18:50</td>\n",
       "      <td>30.0</td>\n",
       "      <td>Wet</td>\n",
       "      <td>Unknown</td>\n",
       "      <td>Thursday</td>\n",
       "      <td>Unknown</td>\n",
       "      <td>Darkness lights lit</td>\n",
       "      <td>4</td>\n",
       "    </tr>\n",
       "    <tr>\n",
       "      <th>...</th>\n",
       "      <td>...</td>\n",
       "      <td>...</td>\n",
       "      <td>...</td>\n",
       "      <td>...</td>\n",
       "      <td>...</td>\n",
       "      <td>...</td>\n",
       "      <td>...</td>\n",
       "      <td>...</td>\n",
       "      <td>...</td>\n",
       "      <td>...</td>\n",
       "      <td>...</td>\n",
       "      <td>...</td>\n",
       "    </tr>\n",
       "    <tr>\n",
       "      <th>827856</th>\n",
       "      <td>2018983118818</td>\n",
       "      <td>2</td>\n",
       "      <td>1</td>\n",
       "      <td>2018-02-07</td>\n",
       "      <td>14:55</td>\n",
       "      <td>30.0</td>\n",
       "      <td>Dry</td>\n",
       "      <td>Clear</td>\n",
       "      <td>Monday</td>\n",
       "      <td>Single carriageway</td>\n",
       "      <td>Daylight</td>\n",
       "      <td>827856</td>\n",
       "    </tr>\n",
       "    <tr>\n",
       "      <th>827857</th>\n",
       "      <td>2018983119218</td>\n",
       "      <td>2</td>\n",
       "      <td>1</td>\n",
       "      <td>2018-07-24</td>\n",
       "      <td>07:45</td>\n",
       "      <td>30.0</td>\n",
       "      <td>Dry</td>\n",
       "      <td>Clear</td>\n",
       "      <td>Tuesday</td>\n",
       "      <td>Single carriageway</td>\n",
       "      <td>Daylight</td>\n",
       "      <td>827857</td>\n",
       "    </tr>\n",
       "    <tr>\n",
       "      <th>827858</th>\n",
       "      <td>2018983120618</td>\n",
       "      <td>2</td>\n",
       "      <td>1</td>\n",
       "      <td>2018-10-08</td>\n",
       "      <td>13:25</td>\n",
       "      <td>20.0</td>\n",
       "      <td>Dry</td>\n",
       "      <td>Clear</td>\n",
       "      <td>Friday</td>\n",
       "      <td>Single carriageway</td>\n",
       "      <td>Daylight</td>\n",
       "      <td>827858</td>\n",
       "    </tr>\n",
       "    <tr>\n",
       "      <th>827859</th>\n",
       "      <td>2018983121918</td>\n",
       "      <td>2</td>\n",
       "      <td>1</td>\n",
       "      <td>2018-07-18</td>\n",
       "      <td>21:10</td>\n",
       "      <td>30.0</td>\n",
       "      <td>Dry</td>\n",
       "      <td>Clear</td>\n",
       "      <td>Wednesday</td>\n",
       "      <td>Single carriageway</td>\n",
       "      <td>Daylight</td>\n",
       "      <td>827859</td>\n",
       "    </tr>\n",
       "    <tr>\n",
       "      <th>827860</th>\n",
       "      <td>2018983133818</td>\n",
       "      <td>2</td>\n",
       "      <td>1</td>\n",
       "      <td>2018-12-20</td>\n",
       "      <td>15:14</td>\n",
       "      <td>30.0</td>\n",
       "      <td>Wet</td>\n",
       "      <td>Rain</td>\n",
       "      <td>Thursday</td>\n",
       "      <td>Single carriageway</td>\n",
       "      <td>Daylight</td>\n",
       "      <td>827860</td>\n",
       "    </tr>\n",
       "  </tbody>\n",
       "</table>\n",
       "<p>827861 rows × 12 columns</p>\n",
       "</div>"
      ],
      "text/plain": [
       "       Accident_Index  Number_of_Vehicles  Number_of_Casualties        Date  \\\n",
       "0       197901A1SEE71                   2                     1  1979-01-01   \n",
       "1       197901A2JDW40                   1                     1  1979-02-01   \n",
       "2       197901A4IJV90                   2                     1  1979-04-01   \n",
       "3       197901A4NIE33                   2                     1  1979-04-01   \n",
       "4       197901A4SKO47                   2                     1  1979-04-01   \n",
       "...               ...                 ...                   ...         ...   \n",
       "827856  2018983118818                   2                     1  2018-02-07   \n",
       "827857  2018983119218                   2                     1  2018-07-24   \n",
       "827858  2018983120618                   2                     1  2018-10-08   \n",
       "827859  2018983121918                   2                     1  2018-07-18   \n",
       "827860  2018983133818                   2                     1  2018-12-20   \n",
       "\n",
       "         Time  Speed_limit Road_conditions Weather_conditions        Day  \\\n",
       "0       18:20         50.0            Snow            Unknown     Monday   \n",
       "1       09:15         30.0            Snow            Unknown    Tuesday   \n",
       "2       08:45         30.0            Snow            Unknown   Thursday   \n",
       "3       13:40         30.0             Wet            Unknown   Thursday   \n",
       "4       18:50         30.0             Wet            Unknown   Thursday   \n",
       "...       ...          ...             ...                ...        ...   \n",
       "827856  14:55         30.0             Dry              Clear     Monday   \n",
       "827857  07:45         30.0             Dry              Clear    Tuesday   \n",
       "827858  13:25         20.0             Dry              Clear     Friday   \n",
       "827859  21:10         30.0             Dry              Clear  Wednesday   \n",
       "827860  15:14         30.0             Wet               Rain   Thursday   \n",
       "\n",
       "                 Road_type     Light_conditions  novacol  \n",
       "0         Dual carriageway  Darkness lights lit        0  \n",
       "1                  Unknown             Daylight        1  \n",
       "2                  Unknown             Daylight        2  \n",
       "3                  Unknown             Daylight        3  \n",
       "4                  Unknown  Darkness lights lit        4  \n",
       "...                    ...                  ...      ...  \n",
       "827856  Single carriageway             Daylight   827856  \n",
       "827857  Single carriageway             Daylight   827857  \n",
       "827858  Single carriageway             Daylight   827858  \n",
       "827859  Single carriageway             Daylight   827859  \n",
       "827860  Single carriageway             Daylight   827860  \n",
       "\n",
       "[827861 rows x 12 columns]"
      ]
     },
     "execution_count": 59,
     "metadata": {},
     "output_type": "execute_result"
    }
   ],
   "source": [
    "df2.reset_index()"
   ]
  },
  {
   "cell_type": "code",
   "execution_count": 5,
   "metadata": {},
   "outputs": [
    {
     "name": "stderr",
     "output_type": "stream",
     "text": [
      "C:\\Anaconda\\lib\\site-packages\\IPython\\core\\interactiveshell.py:3441: DtypeWarning: Columns (1,2,5) have mixed types.Specify dtype option on import or set low_memory=False.\n",
      "  exec(code_obj, self.user_global_ns, self.user_ns)\n"
     ]
    }
   ],
   "source": [
    "#Trocando o nome das colunas ao importar\n",
    "df3=pd.read_csv(r\"D:\\Downloads\\Accidents.csv\",names=['1','2','3','4','5','6','7','8','9','10',11])"
   ]
  },
  {
   "cell_type": "code",
   "execution_count": 6,
   "metadata": {},
   "outputs": [
    {
     "data": {
      "text/html": [
       "<div>\n",
       "<style scoped>\n",
       "    .dataframe tbody tr th:only-of-type {\n",
       "        vertical-align: middle;\n",
       "    }\n",
       "\n",
       "    .dataframe tbody tr th {\n",
       "        vertical-align: top;\n",
       "    }\n",
       "\n",
       "    .dataframe thead th {\n",
       "        text-align: right;\n",
       "    }\n",
       "</style>\n",
       "<table border=\"1\" class=\"dataframe\">\n",
       "  <thead>\n",
       "    <tr style=\"text-align: right;\">\n",
       "      <th></th>\n",
       "      <th>1</th>\n",
       "      <th>2</th>\n",
       "      <th>3</th>\n",
       "      <th>4</th>\n",
       "      <th>5</th>\n",
       "      <th>6</th>\n",
       "      <th>7</th>\n",
       "      <th>8</th>\n",
       "      <th>9</th>\n",
       "      <th>10</th>\n",
       "      <th>11</th>\n",
       "    </tr>\n",
       "  </thead>\n",
       "  <tbody>\n",
       "    <tr>\n",
       "      <th>0</th>\n",
       "      <td>Accident_Index</td>\n",
       "      <td>Number_of_Vehicles</td>\n",
       "      <td>Number_of_Casualties</td>\n",
       "      <td>Date</td>\n",
       "      <td>Time</td>\n",
       "      <td>Speed_limit</td>\n",
       "      <td>Road_conditions</td>\n",
       "      <td>Weather_conditions</td>\n",
       "      <td>Day</td>\n",
       "      <td>Road_type</td>\n",
       "      <td>Light_conditions</td>\n",
       "    </tr>\n",
       "    <tr>\n",
       "      <th>1</th>\n",
       "      <td>197901A1SEE71</td>\n",
       "      <td>2</td>\n",
       "      <td>1</td>\n",
       "      <td>1979-01-01</td>\n",
       "      <td>18:20</td>\n",
       "      <td>50.0</td>\n",
       "      <td>Snow</td>\n",
       "      <td>Unknown</td>\n",
       "      <td>Monday</td>\n",
       "      <td>Dual carriageway</td>\n",
       "      <td>Darkness lights lit</td>\n",
       "    </tr>\n",
       "    <tr>\n",
       "      <th>2</th>\n",
       "      <td>197901A2JDW40</td>\n",
       "      <td>1</td>\n",
       "      <td>1</td>\n",
       "      <td>1979-02-01</td>\n",
       "      <td>09:15</td>\n",
       "      <td>30.0</td>\n",
       "      <td>Snow</td>\n",
       "      <td>Unknown</td>\n",
       "      <td>Tuesday</td>\n",
       "      <td>Unknown</td>\n",
       "      <td>Daylight</td>\n",
       "    </tr>\n",
       "    <tr>\n",
       "      <th>3</th>\n",
       "      <td>197901A4IJV90</td>\n",
       "      <td>2</td>\n",
       "      <td>1</td>\n",
       "      <td>1979-04-01</td>\n",
       "      <td>08:45</td>\n",
       "      <td>30.0</td>\n",
       "      <td>Snow</td>\n",
       "      <td>Unknown</td>\n",
       "      <td>Thursday</td>\n",
       "      <td>Unknown</td>\n",
       "      <td>Daylight</td>\n",
       "    </tr>\n",
       "    <tr>\n",
       "      <th>4</th>\n",
       "      <td>197901A4NIE33</td>\n",
       "      <td>2</td>\n",
       "      <td>1</td>\n",
       "      <td>1979-04-01</td>\n",
       "      <td>13:40</td>\n",
       "      <td>30.0</td>\n",
       "      <td>Wet</td>\n",
       "      <td>Unknown</td>\n",
       "      <td>Thursday</td>\n",
       "      <td>Unknown</td>\n",
       "      <td>Daylight</td>\n",
       "    </tr>\n",
       "  </tbody>\n",
       "</table>\n",
       "</div>"
      ],
      "text/plain": [
       "                1                   2                     3           4  \\\n",
       "0  Accident_Index  Number_of_Vehicles  Number_of_Casualties        Date   \n",
       "1   197901A1SEE71                   2                     1  1979-01-01   \n",
       "2   197901A2JDW40                   1                     1  1979-02-01   \n",
       "3   197901A4IJV90                   2                     1  1979-04-01   \n",
       "4   197901A4NIE33                   2                     1  1979-04-01   \n",
       "\n",
       "       5            6                7                   8         9  \\\n",
       "0   Time  Speed_limit  Road_conditions  Weather_conditions       Day   \n",
       "1  18:20         50.0             Snow             Unknown    Monday   \n",
       "2  09:15         30.0             Snow             Unknown   Tuesday   \n",
       "3  08:45         30.0             Snow             Unknown  Thursday   \n",
       "4  13:40         30.0              Wet             Unknown  Thursday   \n",
       "\n",
       "                 10                   11  \n",
       "0         Road_type     Light_conditions  \n",
       "1  Dual carriageway  Darkness lights lit  \n",
       "2           Unknown             Daylight  \n",
       "3           Unknown             Daylight  \n",
       "4           Unknown             Daylight  "
      ]
     },
     "execution_count": 6,
     "metadata": {},
     "output_type": "execute_result"
    }
   ],
   "source": [
    "df3.head(5)"
   ]
  },
  {
   "cell_type": "code",
   "execution_count": 7,
   "metadata": {},
   "outputs": [],
   "source": [
    "df2.to_csv('testesalvar',sep='/') #Aqui ele salva na pasta que estou usando do VSCODE"
   ]
  },
  {
   "cell_type": "code",
   "execution_count": 9,
   "metadata": {},
   "outputs": [],
   "source": [
    "df2.to_csv(r'D:\\Desktop\\testesalvar.csv',sep='/') #Aqui ele salva no caminho especificado"
   ]
  },
  {
   "cell_type": "code",
   "execution_count": 4,
   "metadata": {},
   "outputs": [
    {
     "data": {
      "text/plain": [
       "DatetimeIndex(['2017-01-01', '2017-01-02', '2017-01-03', '2017-01-04',\n",
       "               '2017-01-05', '2017-01-06', '2017-01-07', '2017-01-08',\n",
       "               '2017-01-09', '2017-01-10',\n",
       "               ...\n",
       "               '2019-09-18', '2019-09-19', '2019-09-20', '2019-09-21',\n",
       "               '2019-09-22', '2019-09-23', '2019-09-24', '2019-09-25',\n",
       "               '2019-09-26', '2019-09-27'],\n",
       "              dtype='datetime64[ns]', length=1000, freq='D')"
      ]
     },
     "execution_count": 4,
     "metadata": {},
     "output_type": "execute_result"
    }
   ],
   "source": [
    "dates=pd.date_range('20170101',periods=1000)\n",
    "dates"
   ]
  },
  {
   "cell_type": "code",
   "execution_count": 5,
   "metadata": {},
   "outputs": [
    {
     "data": {
      "text/html": [
       "<div>\n",
       "<style scoped>\n",
       "    .dataframe tbody tr th:only-of-type {\n",
       "        vertical-align: middle;\n",
       "    }\n",
       "\n",
       "    .dataframe tbody tr th {\n",
       "        vertical-align: top;\n",
       "    }\n",
       "\n",
       "    .dataframe thead th {\n",
       "        text-align: right;\n",
       "    }\n",
       "</style>\n",
       "<table border=\"1\" class=\"dataframe\">\n",
       "  <thead>\n",
       "    <tr style=\"text-align: right;\">\n",
       "      <th></th>\n",
       "      <th>A</th>\n",
       "      <th>B</th>\n",
       "      <th>C</th>\n",
       "      <th>D</th>\n",
       "    </tr>\n",
       "  </thead>\n",
       "  <tbody>\n",
       "    <tr>\n",
       "      <th>2017-01-01</th>\n",
       "      <td>0.256129</td>\n",
       "      <td>0.832946</td>\n",
       "      <td>0.060054</td>\n",
       "      <td>0.852170</td>\n",
       "    </tr>\n",
       "    <tr>\n",
       "      <th>2017-01-02</th>\n",
       "      <td>0.996603</td>\n",
       "      <td>0.042623</td>\n",
       "      <td>0.612831</td>\n",
       "      <td>0.815090</td>\n",
       "    </tr>\n",
       "    <tr>\n",
       "      <th>2017-01-03</th>\n",
       "      <td>0.030782</td>\n",
       "      <td>0.766798</td>\n",
       "      <td>0.846561</td>\n",
       "      <td>0.187753</td>\n",
       "    </tr>\n",
       "    <tr>\n",
       "      <th>2017-01-04</th>\n",
       "      <td>0.810702</td>\n",
       "      <td>0.663087</td>\n",
       "      <td>0.138330</td>\n",
       "      <td>0.384042</td>\n",
       "    </tr>\n",
       "    <tr>\n",
       "      <th>2017-01-05</th>\n",
       "      <td>0.458149</td>\n",
       "      <td>0.796789</td>\n",
       "      <td>0.570381</td>\n",
       "      <td>0.748608</td>\n",
       "    </tr>\n",
       "  </tbody>\n",
       "</table>\n",
       "</div>"
      ],
      "text/plain": [
       "                   A         B         C         D\n",
       "2017-01-01  0.256129  0.832946  0.060054  0.852170\n",
       "2017-01-02  0.996603  0.042623  0.612831  0.815090\n",
       "2017-01-03  0.030782  0.766798  0.846561  0.187753\n",
       "2017-01-04  0.810702  0.663087  0.138330  0.384042\n",
       "2017-01-05  0.458149  0.796789  0.570381  0.748608"
      ]
     },
     "execution_count": 5,
     "metadata": {},
     "output_type": "execute_result"
    }
   ],
   "source": [
    "#Criadno um data frame\n",
    "df4=pd.DataFrame(np.random.rand(1000,4),index=dates,columns=list('ABCD'))\n",
    "df4.head(5)"
   ]
  },
  {
   "cell_type": "code",
   "execution_count": 7,
   "metadata": {},
   "outputs": [
    {
     "data": {
      "text/html": [
       "<div>\n",
       "<style scoped>\n",
       "    .dataframe tbody tr th:only-of-type {\n",
       "        vertical-align: middle;\n",
       "    }\n",
       "\n",
       "    .dataframe tbody tr th {\n",
       "        vertical-align: top;\n",
       "    }\n",
       "\n",
       "    .dataframe thead th {\n",
       "        text-align: right;\n",
       "    }\n",
       "</style>\n",
       "<table border=\"1\" class=\"dataframe\">\n",
       "  <thead>\n",
       "    <tr style=\"text-align: right;\">\n",
       "      <th></th>\n",
       "      <th>A</th>\n",
       "      <th>B</th>\n",
       "      <th>C</th>\n",
       "      <th>D</th>\n",
       "    </tr>\n",
       "  </thead>\n",
       "  <tbody>\n",
       "    <tr>\n",
       "      <th>count</th>\n",
       "      <td>1000.000000</td>\n",
       "      <td>1000.000000</td>\n",
       "      <td>1000.000000</td>\n",
       "      <td>1000.000000</td>\n",
       "    </tr>\n",
       "    <tr>\n",
       "      <th>mean</th>\n",
       "      <td>0.494491</td>\n",
       "      <td>0.508290</td>\n",
       "      <td>0.513487</td>\n",
       "      <td>0.500071</td>\n",
       "    </tr>\n",
       "    <tr>\n",
       "      <th>std</th>\n",
       "      <td>0.282879</td>\n",
       "      <td>0.291203</td>\n",
       "      <td>0.288997</td>\n",
       "      <td>0.284862</td>\n",
       "    </tr>\n",
       "    <tr>\n",
       "      <th>min</th>\n",
       "      <td>0.000432</td>\n",
       "      <td>0.000550</td>\n",
       "      <td>0.002086</td>\n",
       "      <td>0.001026</td>\n",
       "    </tr>\n",
       "    <tr>\n",
       "      <th>25%</th>\n",
       "      <td>0.258794</td>\n",
       "      <td>0.247975</td>\n",
       "      <td>0.257318</td>\n",
       "      <td>0.251581</td>\n",
       "    </tr>\n",
       "    <tr>\n",
       "      <th>50%</th>\n",
       "      <td>0.495242</td>\n",
       "      <td>0.522111</td>\n",
       "      <td>0.534174</td>\n",
       "      <td>0.501824</td>\n",
       "    </tr>\n",
       "    <tr>\n",
       "      <th>75%</th>\n",
       "      <td>0.724584</td>\n",
       "      <td>0.756804</td>\n",
       "      <td>0.762400</td>\n",
       "      <td>0.753462</td>\n",
       "    </tr>\n",
       "    <tr>\n",
       "      <th>max</th>\n",
       "      <td>0.999777</td>\n",
       "      <td>0.999233</td>\n",
       "      <td>0.999956</td>\n",
       "      <td>0.999587</td>\n",
       "    </tr>\n",
       "  </tbody>\n",
       "</table>\n",
       "</div>"
      ],
      "text/plain": [
       "                 A            B            C            D\n",
       "count  1000.000000  1000.000000  1000.000000  1000.000000\n",
       "mean      0.494491     0.508290     0.513487     0.500071\n",
       "std       0.282879     0.291203     0.288997     0.284862\n",
       "min       0.000432     0.000550     0.002086     0.001026\n",
       "25%       0.258794     0.247975     0.257318     0.251581\n",
       "50%       0.495242     0.522111     0.534174     0.501824\n",
       "75%       0.724584     0.756804     0.762400     0.753462\n",
       "max       0.999777     0.999233     0.999956     0.999587"
      ]
     },
     "execution_count": 7,
     "metadata": {},
     "output_type": "execute_result"
    }
   ],
   "source": [
    "df4.describe()\n"
   ]
  },
  {
   "cell_type": "code",
   "execution_count": 8,
   "metadata": {},
   "outputs": [
    {
     "data": {
      "text/plain": [
       "A    0.494491\n",
       "B    0.508290\n",
       "C    0.513487\n",
       "D    0.500071\n",
       "dtype: float64"
      ]
     },
     "execution_count": 8,
     "metadata": {},
     "output_type": "execute_result"
    }
   ],
   "source": [
    "df4.mean()"
   ]
  },
  {
   "cell_type": "code",
   "execution_count": 9,
   "metadata": {},
   "outputs": [
    {
     "data": {
      "text/plain": [
       "A    494.490635\n",
       "B    508.290315\n",
       "C    513.486514\n",
       "D    500.070626\n",
       "dtype: float64"
      ]
     },
     "execution_count": 9,
     "metadata": {},
     "output_type": "execute_result"
    }
   ],
   "source": [
    "df4.sum()"
   ]
  },
  {
   "cell_type": "code",
   "execution_count": 11,
   "metadata": {},
   "outputs": [
    {
     "data": {
      "text/plain": [
       "2017-01-01    0.500325\n",
       "2017-01-02    0.616787\n",
       "2017-01-03    0.457973\n",
       "2017-01-04    0.499040\n",
       "2017-01-05    0.643482\n",
       "Freq: D, dtype: float64"
      ]
     },
     "execution_count": 11,
     "metadata": {},
     "output_type": "execute_result"
    }
   ],
   "source": [
    "# Cálculo da média por linha\n",
    "df4.mean(1).head(5)"
   ]
  },
  {
   "cell_type": "code",
   "execution_count": 13,
   "metadata": {},
   "outputs": [
    {
     "data": {
      "text/plain": [
       "2017-01-01    2.001298\n",
       "2017-01-02    2.467147\n",
       "2017-01-03    1.831893\n",
       "2017-01-04    1.996161\n",
       "2017-01-05    2.573927\n",
       "Freq: D, dtype: float64"
      ]
     },
     "execution_count": 13,
     "metadata": {},
     "output_type": "execute_result"
    }
   ],
   "source": [
    "# Cálculo da soma por linha\n",
    "df4.sum(1).head(5)"
   ]
  },
  {
   "cell_type": "code",
   "execution_count": 17,
   "metadata": {},
   "outputs": [
    {
     "data": {
      "text/html": [
       "<div>\n",
       "<style scoped>\n",
       "    .dataframe tbody tr th:only-of-type {\n",
       "        vertical-align: middle;\n",
       "    }\n",
       "\n",
       "    .dataframe tbody tr th {\n",
       "        vertical-align: top;\n",
       "    }\n",
       "\n",
       "    .dataframe thead th {\n",
       "        text-align: right;\n",
       "    }\n",
       "</style>\n",
       "<table border=\"1\" class=\"dataframe\">\n",
       "  <thead>\n",
       "    <tr style=\"text-align: right;\">\n",
       "      <th></th>\n",
       "      <th>A</th>\n",
       "      <th>B</th>\n",
       "      <th>C</th>\n",
       "      <th>D</th>\n",
       "    </tr>\n",
       "  </thead>\n",
       "  <tbody>\n",
       "    <tr>\n",
       "      <th>2017-01-01</th>\n",
       "      <td>0.256129</td>\n",
       "      <td>0.832946</td>\n",
       "      <td>0.060054</td>\n",
       "      <td>0.852170</td>\n",
       "    </tr>\n",
       "    <tr>\n",
       "      <th>2017-01-02</th>\n",
       "      <td>0.996603</td>\n",
       "      <td>0.042623</td>\n",
       "      <td>0.612831</td>\n",
       "      <td>0.815090</td>\n",
       "    </tr>\n",
       "    <tr>\n",
       "      <th>2017-01-03</th>\n",
       "      <td>0.030782</td>\n",
       "      <td>0.766798</td>\n",
       "      <td>0.846561</td>\n",
       "      <td>0.187753</td>\n",
       "    </tr>\n",
       "    <tr>\n",
       "      <th>2017-01-04</th>\n",
       "      <td>0.810702</td>\n",
       "      <td>0.663087</td>\n",
       "      <td>0.138330</td>\n",
       "      <td>0.384042</td>\n",
       "    </tr>\n",
       "    <tr>\n",
       "      <th>2017-01-05</th>\n",
       "      <td>0.458149</td>\n",
       "      <td>0.796789</td>\n",
       "      <td>0.570381</td>\n",
       "      <td>0.748608</td>\n",
       "    </tr>\n",
       "  </tbody>\n",
       "</table>\n",
       "</div>"
      ],
      "text/plain": [
       "                   A         B         C         D\n",
       "2017-01-01  0.256129  0.832946  0.060054  0.852170\n",
       "2017-01-02  0.996603  0.042623  0.612831  0.815090\n",
       "2017-01-03  0.030782  0.766798  0.846561  0.187753\n",
       "2017-01-04  0.810702  0.663087  0.138330  0.384042\n",
       "2017-01-05  0.458149  0.796789  0.570381  0.748608"
      ]
     },
     "execution_count": 17,
     "metadata": {},
     "output_type": "execute_result"
    }
   ],
   "source": [
    "df4.head(5)"
   ]
  },
  {
   "cell_type": "code",
   "execution_count": 15,
   "metadata": {},
   "outputs": [
    {
     "data": {
      "text/html": [
       "<div>\n",
       "<style scoped>\n",
       "    .dataframe tbody tr th:only-of-type {\n",
       "        vertical-align: middle;\n",
       "    }\n",
       "\n",
       "    .dataframe tbody tr th {\n",
       "        vertical-align: top;\n",
       "    }\n",
       "\n",
       "    .dataframe thead th {\n",
       "        text-align: right;\n",
       "    }\n",
       "</style>\n",
       "<table border=\"1\" class=\"dataframe\">\n",
       "  <thead>\n",
       "    <tr style=\"text-align: right;\">\n",
       "      <th></th>\n",
       "      <th>A</th>\n",
       "      <th>B</th>\n",
       "      <th>C</th>\n",
       "      <th>D</th>\n",
       "    </tr>\n",
       "  </thead>\n",
       "  <tbody>\n",
       "    <tr>\n",
       "      <th>2017-01-01</th>\n",
       "      <td>0.256129</td>\n",
       "      <td>0.832946</td>\n",
       "      <td>0.060054</td>\n",
       "      <td>0.852170</td>\n",
       "    </tr>\n",
       "    <tr>\n",
       "      <th>2017-01-02</th>\n",
       "      <td>1.252731</td>\n",
       "      <td>0.875569</td>\n",
       "      <td>0.672885</td>\n",
       "      <td>1.667259</td>\n",
       "    </tr>\n",
       "    <tr>\n",
       "      <th>2017-01-03</th>\n",
       "      <td>1.283514</td>\n",
       "      <td>1.642366</td>\n",
       "      <td>1.519446</td>\n",
       "      <td>1.855012</td>\n",
       "    </tr>\n",
       "    <tr>\n",
       "      <th>2017-01-04</th>\n",
       "      <td>2.094216</td>\n",
       "      <td>2.305453</td>\n",
       "      <td>1.657776</td>\n",
       "      <td>2.239054</td>\n",
       "    </tr>\n",
       "    <tr>\n",
       "      <th>2017-01-05</th>\n",
       "      <td>2.552364</td>\n",
       "      <td>3.102243</td>\n",
       "      <td>2.228156</td>\n",
       "      <td>2.987662</td>\n",
       "    </tr>\n",
       "  </tbody>\n",
       "</table>\n",
       "</div>"
      ],
      "text/plain": [
       "                   A         B         C         D\n",
       "2017-01-01  0.256129  0.832946  0.060054  0.852170\n",
       "2017-01-02  1.252731  0.875569  0.672885  1.667259\n",
       "2017-01-03  1.283514  1.642366  1.519446  1.855012\n",
       "2017-01-04  2.094216  2.305453  1.657776  2.239054\n",
       "2017-01-05  2.552364  3.102243  2.228156  2.987662"
      ]
     },
     "execution_count": 15,
     "metadata": {},
     "output_type": "execute_result"
    }
   ],
   "source": [
    "#Usando métodos\n",
    "df4.apply(np.cumsum).head(5)"
   ]
  },
  {
   "cell_type": "code",
   "execution_count": 20,
   "metadata": {},
   "outputs": [
    {
     "data": {
      "text/plain": [
       "A    0.214950\n",
       "B    0.531689\n",
       "C    0.084132\n",
       "D    0.323602\n",
       "Name: 2017-01-07 00:00:00, dtype: float64"
      ]
     },
     "execution_count": 20,
     "metadata": {},
     "output_type": "execute_result"
    }
   ],
   "source": [
    "#Adicionando um elemento ao df\n",
    "s=df4.iloc[6]\n",
    "s"
   ]
  },
  {
   "cell_type": "code",
   "execution_count": 22,
   "metadata": {},
   "outputs": [
    {
     "data": {
      "text/html": [
       "<div>\n",
       "<style scoped>\n",
       "    .dataframe tbody tr th:only-of-type {\n",
       "        vertical-align: middle;\n",
       "    }\n",
       "\n",
       "    .dataframe tbody tr th {\n",
       "        vertical-align: top;\n",
       "    }\n",
       "\n",
       "    .dataframe thead th {\n",
       "        text-align: right;\n",
       "    }\n",
       "</style>\n",
       "<table border=\"1\" class=\"dataframe\">\n",
       "  <thead>\n",
       "    <tr style=\"text-align: right;\">\n",
       "      <th></th>\n",
       "      <th>A</th>\n",
       "      <th>B</th>\n",
       "      <th>C</th>\n",
       "      <th>D</th>\n",
       "    </tr>\n",
       "  </thead>\n",
       "  <tbody>\n",
       "    <tr>\n",
       "      <th>0</th>\n",
       "      <td>0.256129</td>\n",
       "      <td>0.832946</td>\n",
       "      <td>0.060054</td>\n",
       "      <td>0.852170</td>\n",
       "    </tr>\n",
       "    <tr>\n",
       "      <th>1</th>\n",
       "      <td>0.996603</td>\n",
       "      <td>0.042623</td>\n",
       "      <td>0.612831</td>\n",
       "      <td>0.815090</td>\n",
       "    </tr>\n",
       "    <tr>\n",
       "      <th>2</th>\n",
       "      <td>0.030782</td>\n",
       "      <td>0.766798</td>\n",
       "      <td>0.846561</td>\n",
       "      <td>0.187753</td>\n",
       "    </tr>\n",
       "    <tr>\n",
       "      <th>3</th>\n",
       "      <td>0.810702</td>\n",
       "      <td>0.663087</td>\n",
       "      <td>0.138330</td>\n",
       "      <td>0.384042</td>\n",
       "    </tr>\n",
       "    <tr>\n",
       "      <th>4</th>\n",
       "      <td>0.458149</td>\n",
       "      <td>0.796789</td>\n",
       "      <td>0.570381</td>\n",
       "      <td>0.748608</td>\n",
       "    </tr>\n",
       "    <tr>\n",
       "      <th>...</th>\n",
       "      <td>...</td>\n",
       "      <td>...</td>\n",
       "      <td>...</td>\n",
       "      <td>...</td>\n",
       "    </tr>\n",
       "    <tr>\n",
       "      <th>996</th>\n",
       "      <td>0.017862</td>\n",
       "      <td>0.932277</td>\n",
       "      <td>0.185149</td>\n",
       "      <td>0.793020</td>\n",
       "    </tr>\n",
       "    <tr>\n",
       "      <th>997</th>\n",
       "      <td>0.270500</td>\n",
       "      <td>0.485983</td>\n",
       "      <td>0.572173</td>\n",
       "      <td>0.389044</td>\n",
       "    </tr>\n",
       "    <tr>\n",
       "      <th>998</th>\n",
       "      <td>0.698516</td>\n",
       "      <td>0.336151</td>\n",
       "      <td>0.785899</td>\n",
       "      <td>0.152024</td>\n",
       "    </tr>\n",
       "    <tr>\n",
       "      <th>999</th>\n",
       "      <td>0.271852</td>\n",
       "      <td>0.985602</td>\n",
       "      <td>0.113774</td>\n",
       "      <td>0.699747</td>\n",
       "    </tr>\n",
       "    <tr>\n",
       "      <th>1000</th>\n",
       "      <td>0.214950</td>\n",
       "      <td>0.531689</td>\n",
       "      <td>0.084132</td>\n",
       "      <td>0.323602</td>\n",
       "    </tr>\n",
       "  </tbody>\n",
       "</table>\n",
       "<p>1001 rows × 4 columns</p>\n",
       "</div>"
      ],
      "text/plain": [
       "             A         B         C         D\n",
       "0     0.256129  0.832946  0.060054  0.852170\n",
       "1     0.996603  0.042623  0.612831  0.815090\n",
       "2     0.030782  0.766798  0.846561  0.187753\n",
       "3     0.810702  0.663087  0.138330  0.384042\n",
       "4     0.458149  0.796789  0.570381  0.748608\n",
       "...        ...       ...       ...       ...\n",
       "996   0.017862  0.932277  0.185149  0.793020\n",
       "997   0.270500  0.485983  0.572173  0.389044\n",
       "998   0.698516  0.336151  0.785899  0.152024\n",
       "999   0.271852  0.985602  0.113774  0.699747\n",
       "1000  0.214950  0.531689  0.084132  0.323602\n",
       "\n",
       "[1001 rows x 4 columns]"
      ]
     },
     "execution_count": 22,
     "metadata": {},
     "output_type": "execute_result"
    }
   ],
   "source": [
    "df4.append(s,ignore_index=True) #Note que o dataframe agr tem 1001 linhas."
   ]
  },
  {
   "cell_type": "markdown",
   "metadata": {},
   "source": [
    "## Séries Temporais e Plotting"
   ]
  },
  {
   "cell_type": "code",
   "execution_count": 41,
   "metadata": {},
   "outputs": [
    {
     "data": {
      "text/plain": [
       "DatetimeIndex(['2021-01-01 00:00:00', '2021-01-01 00:00:01',\n",
       "               '2021-01-01 00:00:02', '2021-01-01 00:00:03',\n",
       "               '2021-01-01 00:00:04', '2021-01-01 00:00:05',\n",
       "               '2021-01-01 00:00:06', '2021-01-01 00:00:07',\n",
       "               '2021-01-01 00:00:08', '2021-01-01 00:00:09',\n",
       "               ...\n",
       "               '2021-01-01 00:03:10', '2021-01-01 00:03:11',\n",
       "               '2021-01-01 00:03:12', '2021-01-01 00:03:13',\n",
       "               '2021-01-01 00:03:14', '2021-01-01 00:03:15',\n",
       "               '2021-01-01 00:03:16', '2021-01-01 00:03:17',\n",
       "               '2021-01-01 00:03:18', '2021-01-01 00:03:19'],\n",
       "              dtype='datetime64[ns]', length=200, freq='S')"
      ]
     },
     "execution_count": 41,
     "metadata": {},
     "output_type": "execute_result"
    }
   ],
   "source": [
    "rng= pd.date_range('1/1/2021',periods=200,freq='s') #Frequencia define a frequencia do período (segundos,\n",
    "# minutos, horas, dias, etc.)\n",
    "rng"
   ]
  },
  {
   "cell_type": "code",
   "execution_count": 55,
   "metadata": {},
   "outputs": [
    {
     "data": {
      "text/plain": [
       "2021-01-01 00:00:00     65\n",
       "2021-01-01 00:00:01    327\n",
       "2021-01-01 00:00:02     26\n",
       "2021-01-01 00:00:03    417\n",
       "2021-01-01 00:00:04    236\n",
       "                      ... \n",
       "2021-01-01 00:03:15    289\n",
       "2021-01-01 00:03:16    311\n",
       "2021-01-01 00:03:17    188\n",
       "2021-01-01 00:03:18    120\n",
       "2021-01-01 00:03:19    316\n",
       "Freq: S, Length: 200, dtype: int32"
      ]
     },
     "execution_count": 55,
     "metadata": {},
     "output_type": "execute_result"
    }
   ],
   "source": [
    "#Série temporal com o len de rng.\n",
    "ts=pd.Series(np.random.randint(0,500,len(rng)),index=rng)\n",
    "ts"
   ]
  },
  {
   "cell_type": "markdown",
   "metadata": {},
   "source": [
    "### Plotting"
   ]
  },
  {
   "cell_type": "code",
   "execution_count": 48,
   "metadata": {},
   "outputs": [],
   "source": [
    "import matplotlib.pyplot as plt\n",
    "from matplotlib import style\n",
    "%matplotlib inline"
   ]
  },
  {
   "cell_type": "code",
   "execution_count": 57,
   "metadata": {},
   "outputs": [],
   "source": [
    "ts=pd.Series(np.random.randn(len(rng)),index=rng)"
   ]
  },
  {
   "cell_type": "code",
   "execution_count": 58,
   "metadata": {},
   "outputs": [
    {
     "data": {
      "text/plain": [
       "2021-01-01 00:00:00   -0.515260\n",
       "2021-01-01 00:00:01   -0.385418\n",
       "2021-01-01 00:00:02   -1.024774\n",
       "2021-01-01 00:00:03    1.364476\n",
       "2021-01-01 00:00:04    0.675296\n",
       "                         ...   \n",
       "2021-01-01 00:03:15   -2.147105\n",
       "2021-01-01 00:03:16    1.445419\n",
       "2021-01-01 00:03:17    0.519742\n",
       "2021-01-01 00:03:18    0.776541\n",
       "2021-01-01 00:03:19   -0.954761\n",
       "Freq: S, Length: 200, dtype: float64"
      ]
     },
     "execution_count": 58,
     "metadata": {},
     "output_type": "execute_result"
    }
   ],
   "source": [
    "ts"
   ]
  },
  {
   "cell_type": "code",
   "execution_count": 59,
   "metadata": {},
   "outputs": [
    {
     "data": {
      "text/plain": [
       "2021-01-01 00:00:00   -0.515260\n",
       "2021-01-01 00:00:01   -0.900678\n",
       "2021-01-01 00:00:02   -1.925453\n",
       "2021-01-01 00:00:03   -0.560977\n",
       "2021-01-01 00:00:04    0.114319\n",
       "Freq: S, dtype: float64"
      ]
     },
     "execution_count": 59,
     "metadata": {},
     "output_type": "execute_result"
    }
   ],
   "source": [
    "ts=ts.cumsum()\n",
    "ts.head(5)"
   ]
  },
  {
   "cell_type": "code",
   "execution_count": 60,
   "metadata": {},
   "outputs": [
    {
     "data": {
      "text/plain": [
       "<AxesSubplot:>"
      ]
     },
     "execution_count": 60,
     "metadata": {},
     "output_type": "execute_result"
    },
    {
     "data": {
      "image/png": "[encoded data removed]",
      "text/plain": [
       "<Figure size 432x288 with 1 Axes>"
      ]
     },
     "metadata": {
      "needs_background": "light"
     },
     "output_type": "display_data"
    }
   ],
   "source": [
    "ts.plot()"
   ]
  },
  {
   "cell_type": "code",
   "execution_count": 61,
   "metadata": {},
   "outputs": [
    {
     "data": {
      "text/plain": [
       "<AxesSubplot:>"
      ]
     },
     "execution_count": 61,
     "metadata": {},
     "output_type": "execute_result"
    },
    {
     "data": {
      "image/png": "[encoded data removed]",
      "text/plain": [
       "<Figure size 432x288 with 1 Axes>"
      ]
     },
     "metadata": {
      "needs_background": "light"
     },
     "output_type": "display_data"
    }
   ],
   "source": [
    "ts.cumsum().plot()"
   ]
  },
  {
   "cell_type": "code",
   "execution_count": 62,
   "metadata": {},
   "outputs": [
    {
     "data": {
      "text/plain": [
       "<AxesSubplot:>"
      ]
     },
     "execution_count": 62,
     "metadata": {},
     "output_type": "execute_result"
    },
    {
     "data": {
      "image/png": "[encoded data removed]",
      "text/plain": [
       "<Figure size 432x288 with 1 Axes>"
      ]
     },
     "metadata": {
      "needs_background": "light"
     },
     "output_type": "display_data"
    }
   ],
   "source": [
    "df4.plot()"
   ]
  },
  {
   "cell_type": "code",
   "execution_count": 63,
   "metadata": {},
   "outputs": [],
   "source": [
    "df=ts"
   ]
  },
  {
   "cell_type": "code",
   "execution_count": 66,
   "metadata": {},
   "outputs": [],
   "source": [
    "import os\n",
    "df.to_excel('teste1.xlsx',sheet_name='Planilha1')"
   ]
  },
  {
   "cell_type": "code",
   "execution_count": 74,
   "metadata": {},
   "outputs": [
    {
     "data": {
      "text/html": [
       "<div>\n",
       "<style scoped>\n",
       "    .dataframe tbody tr th:only-of-type {\n",
       "        vertical-align: middle;\n",
       "    }\n",
       "\n",
       "    .dataframe tbody tr th {\n",
       "        vertical-align: top;\n",
       "    }\n",
       "\n",
       "    .dataframe thead th {\n",
       "        text-align: right;\n",
       "    }\n",
       "</style>\n",
       "<table border=\"1\" class=\"dataframe\">\n",
       "  <thead>\n",
       "    <tr style=\"text-align: right;\">\n",
       "      <th></th>\n",
       "      <th>Unnamed: 0</th>\n",
       "      <th>0</th>\n",
       "    </tr>\n",
       "  </thead>\n",
       "  <tbody>\n",
       "    <tr>\n",
       "      <th>0</th>\n",
       "      <td>2021-01-01 00:00:00</td>\n",
       "      <td>-0.515260</td>\n",
       "    </tr>\n",
       "    <tr>\n",
       "      <th>1</th>\n",
       "      <td>2021-01-01 00:00:01</td>\n",
       "      <td>-0.900678</td>\n",
       "    </tr>\n",
       "    <tr>\n",
       "      <th>2</th>\n",
       "      <td>2021-01-01 00:00:02</td>\n",
       "      <td>-1.925453</td>\n",
       "    </tr>\n",
       "    <tr>\n",
       "      <th>3</th>\n",
       "      <td>2021-01-01 00:00:03</td>\n",
       "      <td>-0.560977</td>\n",
       "    </tr>\n",
       "    <tr>\n",
       "      <th>4</th>\n",
       "      <td>2021-01-01 00:00:04</td>\n",
       "      <td>0.114319</td>\n",
       "    </tr>\n",
       "  </tbody>\n",
       "</table>\n",
       "</div>"
      ],
      "text/plain": [
       "           Unnamed: 0         0\n",
       "0 2021-01-01 00:00:00 -0.515260\n",
       "1 2021-01-01 00:00:01 -0.900678\n",
       "2 2021-01-01 00:00:02 -1.925453\n",
       "3 2021-01-01 00:00:03 -0.560977\n",
       "4 2021-01-01 00:00:04  0.114319"
      ]
     },
     "execution_count": 74,
     "metadata": {},
     "output_type": "execute_result"
    }
   ],
   "source": [
    "df2=pd.read_excel('teste1.xlsx','Planilha1',index_col=None,na_values=['NA'])\n",
    "df2.head()"
   ]
  },
  {
   "cell_type": "code",
   "execution_count": 76,
   "metadata": {},
   "outputs": [],
   "source": [
    "#Deletando o arquivo\n",
    "os.remove(r'C:\\Users\\Rafael Pietro\\OneDrive\\Cursos\\DNC\\VSCode\\Github\\DataScience\\DSA\\teste1.xlsx')"
   ]
  }
 ],
 "metadata": {
  "interpreter": {
   "hash": "ed225720166559e7176d3793db16a2fd8d295f725007103b21ac3099d2a89ee8"
  },
  "kernelspec": {
   "display_name": "Python 3.8.12 64-bit ('base': conda)",
   "language": "python",
   "name": "python3"
  },
  "language_info": {
   "codemirror_mode": {
    "name": "ipython",
    "version": 3
   },
   "file_extension": ".py",
   "mimetype": "text/x-python",
   "name": "python",
   "nbconvert_exporter": "python",
   "pygments_lexer": "ipython3",
   "version": "3.8.12"
  },
  "orig_nbformat": 4
 },
 "nbformat": 4,
 "nbformat_minor": 2
}
