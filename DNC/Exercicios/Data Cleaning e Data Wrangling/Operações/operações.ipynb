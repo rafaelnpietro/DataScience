{
  "cells": [
    {
      "cell_type": "code",
      "execution_count": 1,
      "metadata": {
        "id": "wlNff8I7pCFV"
      },
      "outputs": [],
      "source": [
        "import pandas as pd\n",
        "import numpy as np\n",
        "import matplotlib.pyplot as plt"
      ]
    },
    {
      "cell_type": "markdown",
      "metadata": {
        "id": "DHfKj58QSQ42"
      },
      "source": [
        "# ENRIQUECIMENTO DOS DADOS"
      ]
    },
    {
      "cell_type": "markdown",
      "metadata": {
        "id": "cBgXDORLSQ42"
      },
      "source": [
        "## OPERAÇÕES MATEMÁTICAS: UNIVARIADO"
      ]
    },
    {
      "cell_type": "markdown",
      "metadata": {
        "id": "aqEW8bjzSQ42"
      },
      "source": [
        "### Square-root / Log"
      ]
    },
    {
      "cell_type": "code",
      "execution_count": 2,
      "metadata": {
        "colab": {
          "base_uri": "https://localhost:8080/",
          "height": 198
        },
        "id": "rR9n2H0uSQ43",
        "outputId": "03b893ec-80e3-49eb-aa79-da01d9d386f0"
      },
      "outputs": [
        {
          "data": {
            "text/html": [
              "<div>\n",
              "<style scoped>\n",
              "    .dataframe tbody tr th:only-of-type {\n",
              "        vertical-align: middle;\n",
              "    }\n",
              "\n",
              "    .dataframe tbody tr th {\n",
              "        vertical-align: top;\n",
              "    }\n",
              "\n",
              "    .dataframe thead th {\n",
              "        text-align: right;\n",
              "    }\n",
              "</style>\n",
              "<table border=\"1\" class=\"dataframe\">\n",
              "  <thead>\n",
              "    <tr style=\"text-align: right;\">\n",
              "      <th></th>\n",
              "      <th>Date</th>\n",
              "      <th>State</th>\n",
              "      <th>TotalSamples</th>\n",
              "      <th>Negative</th>\n",
              "      <th>Positive</th>\n",
              "    </tr>\n",
              "  </thead>\n",
              "  <tbody>\n",
              "    <tr>\n",
              "      <th>0</th>\n",
              "      <td>2020-04-17</td>\n",
              "      <td>Andaman and Nicobar Islands</td>\n",
              "      <td>1403.0</td>\n",
              "      <td>1210</td>\n",
              "      <td>12.0</td>\n",
              "    </tr>\n",
              "    <tr>\n",
              "      <th>1</th>\n",
              "      <td>2020-04-24</td>\n",
              "      <td>Andaman and Nicobar Islands</td>\n",
              "      <td>2679.0</td>\n",
              "      <td>NaN</td>\n",
              "      <td>27.0</td>\n",
              "    </tr>\n",
              "    <tr>\n",
              "      <th>2</th>\n",
              "      <td>2020-04-27</td>\n",
              "      <td>Andaman and Nicobar Islands</td>\n",
              "      <td>2848.0</td>\n",
              "      <td>NaN</td>\n",
              "      <td>33.0</td>\n",
              "    </tr>\n",
              "    <tr>\n",
              "      <th>3</th>\n",
              "      <td>2020-05-01</td>\n",
              "      <td>Andaman and Nicobar Islands</td>\n",
              "      <td>3754.0</td>\n",
              "      <td>NaN</td>\n",
              "      <td>33.0</td>\n",
              "    </tr>\n",
              "    <tr>\n",
              "      <th>4</th>\n",
              "      <td>2020-05-16</td>\n",
              "      <td>Andaman and Nicobar Islands</td>\n",
              "      <td>6677.0</td>\n",
              "      <td>NaN</td>\n",
              "      <td>33.0</td>\n",
              "    </tr>\n",
              "  </tbody>\n",
              "</table>\n",
              "</div>"
            ],
            "text/plain": [
              "         Date                        State  TotalSamples Negative  Positive\n",
              "0  2020-04-17  Andaman and Nicobar Islands        1403.0     1210      12.0\n",
              "1  2020-04-24  Andaman and Nicobar Islands        2679.0      NaN      27.0\n",
              "2  2020-04-27  Andaman and Nicobar Islands        2848.0      NaN      33.0\n",
              "3  2020-05-01  Andaman and Nicobar Islands        3754.0      NaN      33.0\n",
              "4  2020-05-16  Andaman and Nicobar Islands        6677.0      NaN      33.0"
            ]
          },
          "execution_count": 2,
          "metadata": {},
          "output_type": "execute_result"
        }
      ],
      "source": [
        "import pandas as pd\n",
        "import numpy as np\n",
        "import matplotlib.pyplot as plt\n",
        "from sklearn.preprocessing import FunctionTransformer\n",
        "\n",
        "# load your data\n",
        "data = pd.read_csv(r\"C:\\Users\\Rafael Pietro\\OneDrive\\Cursos\\DNC\\Datasets\\Data Cleaning e Data Wrangling\\Operações\\StatewiseTestingDetails.csv\")\n",
        "data.head()"
      ]
    },
    {
      "cell_type": "code",
      "execution_count": null,
      "metadata": {
        "id": "JTjDPjAaSQ43"
      },
      "outputs": [],
      "source": [
        "data.Negative = data.Negative.map(lambda x: int(x) if not pd.isnull(x) and x!=\" \" else np.nan)"
      ]
    },
    {
      "cell_type": "code",
      "execution_count": null,
      "metadata": {
        "colab": {
          "base_uri": "https://localhost:8080/",
          "height": 288
        },
        "id": "imxlQJMQSQ43",
        "outputId": "4485cade-0993-4366-c9e5-5d03c38f531a"
      },
      "outputs": [
        {
          "data": {
            "text/html": [
              "<div>\n",
              "<style scoped>\n",
              "    .dataframe tbody tr th:only-of-type {\n",
              "        vertical-align: middle;\n",
              "    }\n",
              "\n",
              "    .dataframe tbody tr th {\n",
              "        vertical-align: top;\n",
              "    }\n",
              "\n",
              "    .dataframe thead th {\n",
              "        text-align: right;\n",
              "    }\n",
              "</style>\n",
              "<table border=\"1\" class=\"dataframe\">\n",
              "  <thead>\n",
              "    <tr style=\"text-align: right;\">\n",
              "      <th></th>\n",
              "      <th>TotalSamples</th>\n",
              "      <th>Negative</th>\n",
              "      <th>Positive</th>\n",
              "    </tr>\n",
              "  </thead>\n",
              "  <tbody>\n",
              "    <tr>\n",
              "      <th>count</th>\n",
              "      <td>1.274500e+04</td>\n",
              "      <td>5.903000e+03</td>\n",
              "      <td>5.387000e+03</td>\n",
              "    </tr>\n",
              "    <tr>\n",
              "      <th>mean</th>\n",
              "      <td>3.487248e+06</td>\n",
              "      <td>1.344177e+06</td>\n",
              "      <td>5.177431e+04</td>\n",
              "    </tr>\n",
              "    <tr>\n",
              "      <th>std</th>\n",
              "      <td>5.655272e+06</td>\n",
              "      <td>2.373692e+06</td>\n",
              "      <td>1.650334e+05</td>\n",
              "    </tr>\n",
              "    <tr>\n",
              "      <th>min</th>\n",
              "      <td>5.800000e+01</td>\n",
              "      <td>0.000000e+00</td>\n",
              "      <td>0.000000e+00</td>\n",
              "    </tr>\n",
              "    <tr>\n",
              "      <th>25%</th>\n",
              "      <td>1.053860e+05</td>\n",
              "      <td>5.273900e+04</td>\n",
              "      <td>4.720000e+02</td>\n",
              "    </tr>\n",
              "    <tr>\n",
              "      <th>50%</th>\n",
              "      <td>5.723320e+05</td>\n",
              "      <td>3.274010e+05</td>\n",
              "      <td>4.058000e+03</td>\n",
              "    </tr>\n",
              "    <tr>\n",
              "      <th>75%</th>\n",
              "      <td>5.042392e+06</td>\n",
              "      <td>1.410066e+06</td>\n",
              "      <td>3.250750e+04</td>\n",
              "    </tr>\n",
              "    <tr>\n",
              "      <th>max</th>\n",
              "      <td>4.055388e+07</td>\n",
              "      <td>1.521953e+07</td>\n",
              "      <td>1.638961e+06</td>\n",
              "    </tr>\n",
              "  </tbody>\n",
              "</table>\n",
              "</div>"
            ],
            "text/plain": [
              "       TotalSamples      Negative      Positive\n",
              "count  1.274500e+04  5.903000e+03  5.387000e+03\n",
              "mean   3.487248e+06  1.344177e+06  5.177431e+04\n",
              "std    5.655272e+06  2.373692e+06  1.650334e+05\n",
              "min    5.800000e+01  0.000000e+00  0.000000e+00\n",
              "25%    1.053860e+05  5.273900e+04  4.720000e+02\n",
              "50%    5.723320e+05  3.274010e+05  4.058000e+03\n",
              "75%    5.042392e+06  1.410066e+06  3.250750e+04\n",
              "max    4.055388e+07  1.521953e+07  1.638961e+06"
            ]
          },
          "execution_count": 38,
          "metadata": {
            "tags": []
          },
          "output_type": "execute_result"
        }
      ],
      "source": [
        "data.describe()"
      ]
    },
    {
      "cell_type": "code",
      "execution_count": null,
      "metadata": {
        "colab": {
          "base_uri": "https://localhost:8080/",
          "height": 848
        },
        "id": "cMjEpO44SQ44",
        "outputId": "bbefe324-e604-455b-d738-4fbccee336aa"
      },
      "outputs": [
        {
          "data": {
            "image/png": "[encoded data removed]",
            "text/plain": [
              "<Figure size 432x288 with 1 Axes>"
            ]
          },
          "metadata": {
            "needs_background": "light",
            "tags": []
          },
          "output_type": "display_data"
        },
        {
          "data": {
            "image/png": "[encoded data removed]",
            "text/plain": [
              "<Figure size 432x288 with 1 Axes>"
            ]
          },
          "metadata": {
            "needs_background": "light",
            "tags": []
          },
          "output_type": "display_data"
        },
        {
          "data": {
            "image/png": "[encoded data removed]",
            "text/plain": [
              "<Figure size 432x288 with 1 Axes>"
            ]
          },
          "metadata": {
            "needs_background": "light",
            "tags": []
          },
          "output_type": "display_data"
        }
      ],
      "source": [
        "for col in ['TotalSamples','Positive', 'Negative']:\n",
        "    data[[col]].dropna().hist(bins=20)\n",
        "    plt.show()"
      ]
    },
    {
      "cell_type": "code",
      "execution_count": null,
      "metadata": {
        "id": "usVgHAaYWCjD"
      },
      "outputs": [],
      "source": [
        "# create columns variables to hold the columns that need transformation\n",
        "cols = ['TotalSamples']\n",
        "\n",
        "# create the function transformer object with logarithm transformation\n",
        "sqrt_transformer = FunctionTransformer(np.sqrt, validate=True)\n",
        "\n",
        "# apply the transformation to your data\n",
        "for col in cols:\n",
        "    data['{}_sqrt'.format(col)] = sqrt_transformer.transform(data[cols])"
      ]
    },
    {
      "cell_type": "code",
      "execution_count": null,
      "metadata": {
        "colab": {
          "base_uri": "https://localhost:8080/",
          "height": 281
        },
        "id": "9ZufstkVWHiw",
        "outputId": "8f70b030-92a0-4182-e64d-d0b1695daec6"
      },
      "outputs": [
        {
          "data": {
            "image/png": "[encoded data removed]",
            "text/plain": [
              "<Figure size 432x288 with 1 Axes>"
            ]
          },
          "metadata": {
            "needs_background": "light",
            "tags": []
          },
          "output_type": "display_data"
        }
      ],
      "source": [
        "for col in ['TotalSamples_sqrt']:\n",
        "    data[[col]].hist(bins=20)"
      ]
    },
    {
      "cell_type": "code",
      "execution_count": null,
      "metadata": {
        "id": "ApiTNn6ASQ44"
      },
      "outputs": [],
      "source": [
        "# create columns variables to hold the columns that need transformation\n",
        "cols = ['TotalSamples']\n",
        "\n",
        "# create the function transformer object with logarithm transformation\n",
        "logarithm_transformer = FunctionTransformer(np.log, validate=True)\n",
        "\n",
        "# apply the transformation to your data\n",
        "for col in cols:\n",
        "    data['{}_log'.format(col)] = logarithm_transformer.transform(data[cols])"
      ]
    },
    {
      "cell_type": "code",
      "execution_count": null,
      "metadata": {
        "colab": {
          "base_uri": "https://localhost:8080/",
          "height": 281
        },
        "id": "JptB7yomSQ44",
        "outputId": "aa8b5496-87ba-4860-9a38-24b12a63464d"
      },
      "outputs": [
        {
          "data": {
            "image/png": "[encoded data removed]",
            "text/plain": [
              "<Figure size 432x288 with 1 Axes>"
            ]
          },
          "metadata": {
            "needs_background": "light",
            "tags": []
          },
          "output_type": "display_data"
        }
      ],
      "source": [
        "for col in ['TotalSamples_log']:\n",
        "    data[[col]].hist(bins=20)"
      ]
    },
    {
      "cell_type": "markdown",
      "metadata": {
        "id": "FdIFBgehSQ45"
      },
      "source": [
        "### Box-Cox Transformation"
      ]
    },
    {
      "cell_type": "code",
      "execution_count": null,
      "metadata": {
        "id": "xuGIlEhVSQ46"
      },
      "outputs": [],
      "source": [
        "# import the needed packages.\n",
        "import pandas as pd\n",
        "import numpy as np\n",
        "from sklearn.preprocessing import PowerTransformer"
      ]
    },
    {
      "cell_type": "code",
      "execution_count": null,
      "metadata": {
        "id": "o2eH3PG_SQ46"
      },
      "outputs": [],
      "source": [
        "# create the power transformer object with method 'box-cox'\n",
        "boxcox_transformer = PowerTransformer(method='box-cox', standardize=False)\n",
        "\n",
        "# apply the transformation to your data\n",
        "for col in cols:\n",
        "    data['{}_box-cox'.format(col)] = boxcox_transformer.fit_transform(data[cols])"
      ]
    },
    {
      "cell_type": "code",
      "execution_count": null,
      "metadata": {
        "colab": {
          "base_uri": "https://localhost:8080/"
        },
        "id": "WUzQH1PaSQ46",
        "outputId": "2148c1ca-fb9d-4888-8d8c-29ec9682f1f9"
      },
      "outputs": [
        {
          "data": {
            "text/plain": [
              "array([0.10287546])"
            ]
          },
          "execution_count": 45,
          "metadata": {
            "tags": []
          },
          "output_type": "execute_result"
        }
      ],
      "source": [
        "boxcox_transformer.lambdas_"
      ]
    },
    {
      "cell_type": "code",
      "execution_count": null,
      "metadata": {
        "colab": {
          "base_uri": "https://localhost:8080/",
          "height": 281
        },
        "id": "9D21WvvbSQ46",
        "outputId": "06badda4-5b0d-401c-96a1-5dd73a113637"
      },
      "outputs": [
        {
          "data": {
            "image/png": "[encoded data removed]",
            "text/plain": [
              "<Figure size 432x288 with 1 Axes>"
            ]
          },
          "metadata": {
            "needs_background": "light",
            "tags": []
          },
          "output_type": "display_data"
        }
      ],
      "source": [
        "for col in ['TotalSamples_box-cox']:\n",
        "    data[[col]].hist(bins=20)"
      ]
    },
    {
      "cell_type": "markdown",
      "metadata": {
        "id": "tCefwrK2SQ45"
      },
      "source": [
        "### Inverso "
      ]
    },
    {
      "cell_type": "code",
      "execution_count": null,
      "metadata": {
        "id": "e8Ta9MzaSQ45"
      },
      "outputs": [],
      "source": [
        "cols = ['TotalSamples']\n",
        "\n",
        "# create the function transformer object with reciprocal transformation\n",
        "reciprocal_transformer = FunctionTransformer(np.reciprocal, validate=True)\n",
        "\n",
        "# apply the transformation to your data\n",
        "for col in cols:\n",
        "    data['{}_inverse'.format(col)] = reciprocal_transformer.fit_transform(data[cols])"
      ]
    },
    {
      "cell_type": "code",
      "execution_count": null,
      "metadata": {
        "colab": {
          "base_uri": "https://localhost:8080/"
        },
        "id": "LTt9cm-VSQ45",
        "outputId": "7ba4eb4c-ee01-4756-f576-903f9fbaf137"
      },
      "outputs": [
        {
          "data": {
            "text/plain": [
              "count    1.274500e+04\n",
              "mean     3.487248e+06\n",
              "std      5.655272e+06\n",
              "min      5.800000e+01\n",
              "25%      1.053860e+05\n",
              "50%      5.723320e+05\n",
              "75%      5.042392e+06\n",
              "max      4.055388e+07\n",
              "Name: TotalSamples, dtype: float64"
            ]
          },
          "execution_count": 51,
          "metadata": {
            "tags": []
          },
          "output_type": "execute_result"
        }
      ],
      "source": [
        "data['TotalSamples'].describe()"
      ]
    },
    {
      "cell_type": "code",
      "execution_count": null,
      "metadata": {
        "colab": {
          "base_uri": "https://localhost:8080/"
        },
        "id": "At_nidM9VMcM",
        "outputId": "fb529a5c-f568-4168-a801-3ab0db8d308c"
      },
      "outputs": [
        {
          "data": {
            "text/plain": [
              "count    1.274500e+04\n",
              "mean     7.570502e-05\n",
              "std      6.003393e-04\n",
              "min      2.465856e-08\n",
              "25%      1.983186e-07\n",
              "50%      1.747238e-06\n",
              "75%      9.488926e-06\n",
              "max      1.724138e-02\n",
              "Name: TotalSamples_inverse, dtype: float64"
            ]
          },
          "execution_count": 52,
          "metadata": {
            "tags": []
          },
          "output_type": "execute_result"
        }
      ],
      "source": [
        "data['TotalSamples_inverse'].describe()"
      ]
    },
    {
      "cell_type": "markdown",
      "metadata": {
        "id": "Oc2kAZFqSQ46"
      },
      "source": [
        "## OPERAÇÕES MATEMÁTICAS: BIVARIADO"
      ]
    },
    {
      "cell_type": "markdown",
      "metadata": {
        "id": "qzNBu2yySQ47"
      },
      "source": [
        "### Somas e Diferenças"
      ]
    },
    {
      "cell_type": "code",
      "execution_count": null,
      "metadata": {
        "id": "fykd1_6FSQ47"
      },
      "outputs": [],
      "source": [
        "data['dif_positive'] = data.Positive - data.Positive.mean()"
      ]
    },
    {
      "cell_type": "code",
      "execution_count": null,
      "metadata": {
        "colab": {
          "base_uri": "https://localhost:8080/"
        },
        "id": "Q77pg8yUXDyb",
        "outputId": "2749df32-2f67-40f0-fefe-d82951b69dbc"
      },
      "outputs": [
        {
          "data": {
            "text/plain": [
              "count    5.387000e+03\n",
              "mean     5.177431e+04\n",
              "std      1.650334e+05\n",
              "min      0.000000e+00\n",
              "25%      4.720000e+02\n",
              "50%      4.058000e+03\n",
              "75%      3.250750e+04\n",
              "max      1.638961e+06\n",
              "Name: Positive, dtype: float64"
            ]
          },
          "execution_count": 54,
          "metadata": {
            "tags": []
          },
          "output_type": "execute_result"
        }
      ],
      "source": [
        "data.Positive.describe()"
      ]
    },
    {
      "cell_type": "code",
      "execution_count": null,
      "metadata": {
        "colab": {
          "base_uri": "https://localhost:8080/",
          "height": 288
        },
        "id": "r8yfcKVASQ47",
        "outputId": "f1033dbf-6303-4bf9-9ff7-d19033ef9962"
      },
      "outputs": [
        {
          "data": {
            "text/html": [
              "<div>\n",
              "<style scoped>\n",
              "    .dataframe tbody tr th:only-of-type {\n",
              "        vertical-align: middle;\n",
              "    }\n",
              "\n",
              "    .dataframe tbody tr th {\n",
              "        vertical-align: top;\n",
              "    }\n",
              "\n",
              "    .dataframe thead th {\n",
              "        text-align: right;\n",
              "    }\n",
              "</style>\n",
              "<table border=\"1\" class=\"dataframe\">\n",
              "  <thead>\n",
              "    <tr style=\"text-align: right;\">\n",
              "      <th></th>\n",
              "      <th>dif_positive</th>\n",
              "    </tr>\n",
              "  </thead>\n",
              "  <tbody>\n",
              "    <tr>\n",
              "      <th>count</th>\n",
              "      <td>5.387000e+03</td>\n",
              "    </tr>\n",
              "    <tr>\n",
              "      <th>mean</th>\n",
              "      <td>1.764707e-10</td>\n",
              "    </tr>\n",
              "    <tr>\n",
              "      <th>std</th>\n",
              "      <td>1.650334e+05</td>\n",
              "    </tr>\n",
              "    <tr>\n",
              "      <th>min</th>\n",
              "      <td>-5.177431e+04</td>\n",
              "    </tr>\n",
              "    <tr>\n",
              "      <th>25%</th>\n",
              "      <td>-5.130231e+04</td>\n",
              "    </tr>\n",
              "    <tr>\n",
              "      <th>50%</th>\n",
              "      <td>-4.771631e+04</td>\n",
              "    </tr>\n",
              "    <tr>\n",
              "      <th>75%</th>\n",
              "      <td>-1.926681e+04</td>\n",
              "    </tr>\n",
              "    <tr>\n",
              "      <th>max</th>\n",
              "      <td>1.587187e+06</td>\n",
              "    </tr>\n",
              "  </tbody>\n",
              "</table>\n",
              "</div>"
            ],
            "text/plain": [
              "       dif_positive\n",
              "count  5.387000e+03\n",
              "mean   1.764707e-10\n",
              "std    1.650334e+05\n",
              "min   -5.177431e+04\n",
              "25%   -5.130231e+04\n",
              "50%   -4.771631e+04\n",
              "75%   -1.926681e+04\n",
              "max    1.587187e+06"
            ]
          },
          "execution_count": 55,
          "metadata": {
            "tags": []
          },
          "output_type": "execute_result"
        }
      ],
      "source": [
        "data[['dif_positive']].describe()"
      ]
    },
    {
      "cell_type": "markdown",
      "metadata": {
        "id": "JMRps8gSSQ47"
      },
      "source": [
        "### Multiplicação / Divisão"
      ]
    },
    {
      "cell_type": "code",
      "execution_count": null,
      "metadata": {
        "id": "FigfzZDMSQ47"
      },
      "outputs": [],
      "source": [
        "data['pc_negative']=data.Negative / data.TotalSamples\n",
        "data['pc_positive']=data.Positive / data.TotalSamples"
      ]
    },
    {
      "cell_type": "code",
      "execution_count": null,
      "metadata": {
        "colab": {
          "base_uri": "https://localhost:8080/",
          "height": 315
        },
        "id": "MlqTRbwNSQ48",
        "outputId": "d2696853-5ac9-4ebb-cee3-dd2b4556c9ab"
      },
      "outputs": [
        {
          "data": {
            "text/plain": [
              "array([[<matplotlib.axes._subplots.AxesSubplot object at 0x7fe0ae5b2750>]],\n",
              "      dtype=object)"
            ]
          },
          "execution_count": 57,
          "metadata": {
            "tags": []
          },
          "output_type": "execute_result"
        },
        {
          "data": {
            "image/png": "[encoded data removed]",
            "text/plain": [
              "<Figure size 432x288 with 1 Axes>"
            ]
          },
          "metadata": {
            "needs_background": "light",
            "tags": []
          },
          "output_type": "display_data"
        }
      ],
      "source": [
        "data[['pc_positive']].hist(bins=20)"
      ]
    },
    {
      "cell_type": "code",
      "execution_count": null,
      "metadata": {
        "colab": {
          "base_uri": "https://localhost:8080/"
        },
        "id": "bT5Q88lHSQ48",
        "outputId": "46a2d35b-f7d8-437b-c894-dc2098ea737f"
      },
      "outputs": [
        {
          "data": {
            "text/plain": [
              "count    5903.000000\n",
              "mean        0.925402\n",
              "std         0.059737\n",
              "min         0.000000\n",
              "25%         0.910543\n",
              "50%         0.938941\n",
              "75%         0.962635\n",
              "max         1.064917\n",
              "Name: pc_negative, dtype: float64"
            ]
          },
          "execution_count": 58,
          "metadata": {
            "tags": []
          },
          "output_type": "execute_result"
        }
      ],
      "source": [
        "data['pc_negative'].describe()"
      ]
    },
    {
      "cell_type": "code",
      "execution_count": null,
      "metadata": {
        "id": "9qkTtSBAXcBU"
      },
      "outputs": [],
      "source": []
    },
    {
      "cell_type": "code",
      "execution_count": null,
      "metadata": {
        "id": "dMVeYdtEXb2D"
      },
      "outputs": [],
      "source": []
    },
    {
      "cell_type": "code",
      "execution_count": null,
      "metadata": {
        "id": "36xYeiq8XblW"
      },
      "outputs": [],
      "source": []
    },
    {
      "cell_type": "code",
      "execution_count": null,
      "metadata": {
        "id": "ugkvERUsXbYT"
      },
      "outputs": [],
      "source": []
    },
    {
      "cell_type": "code",
      "execution_count": null,
      "metadata": {
        "id": "040ZYrywXbMQ"
      },
      "outputs": [],
      "source": []
    },
    {
      "cell_type": "code",
      "execution_count": null,
      "metadata": {
        "id": "6_Pbsr3dXa__"
      },
      "outputs": [],
      "source": []
    },
    {
      "cell_type": "code",
      "execution_count": null,
      "metadata": {
        "id": "M4-1wSOoXazu"
      },
      "outputs": [],
      "source": []
    },
    {
      "cell_type": "markdown",
      "metadata": {
        "id": "P3eGMkO8SQ49"
      },
      "source": [
        "## DISCRETIZAÇÃO"
      ]
    },
    {
      "cell_type": "markdown",
      "metadata": {
        "id": "W47wqFzfSQ49"
      },
      "source": [
        "### Equal-Width"
      ]
    },
    {
      "cell_type": "code",
      "execution_count": 6,
      "metadata": {
        "id": "TO5f6Era1nfy"
      },
      "outputs": [],
      "source": [
        "# import the libraries\n",
        "import pandas as pd\n",
        "from sklearn.preprocessing import KBinsDiscretizer\n",
        "\n",
        "# load your data\n",
        "data = pd.read_csv(r\"C:\\Users\\Rafael Pietro\\OneDrive\\Cursos\\DNC\\Datasets\\Data Cleaning e Data Wrangling\\Operações\\StatewiseTestingDetails.csv\")"
      ]
    },
    {
      "cell_type": "code",
      "execution_count": 10,
      "metadata": {
        "colab": {
          "base_uri": "https://localhost:8080/",
          "height": 408
        },
        "id": "JY5QMofy17Nc",
        "outputId": "cb35a079-9e5a-4028-e308-9ff7f0b01530"
      },
      "outputs": [
        {
          "data": {
            "text/html": [
              "<div>\n",
              "<style scoped>\n",
              "    .dataframe tbody tr th:only-of-type {\n",
              "        vertical-align: middle;\n",
              "    }\n",
              "\n",
              "    .dataframe tbody tr th {\n",
              "        vertical-align: top;\n",
              "    }\n",
              "\n",
              "    .dataframe thead th {\n",
              "        text-align: right;\n",
              "    }\n",
              "</style>\n",
              "<table border=\"1\" class=\"dataframe\">\n",
              "  <thead>\n",
              "    <tr style=\"text-align: right;\">\n",
              "      <th></th>\n",
              "      <th>Date</th>\n",
              "      <th>State</th>\n",
              "      <th>TotalSamples</th>\n",
              "      <th>Negative</th>\n",
              "      <th>Positive</th>\n",
              "      <th>TotalSamples_Group</th>\n",
              "    </tr>\n",
              "  </thead>\n",
              "  <tbody>\n",
              "    <tr>\n",
              "      <th>0</th>\n",
              "      <td>2020-04-17</td>\n",
              "      <td>Andaman and Nicobar Islands</td>\n",
              "      <td>1403.0</td>\n",
              "      <td>1210</td>\n",
              "      <td>12.0</td>\n",
              "      <td>0.0</td>\n",
              "    </tr>\n",
              "    <tr>\n",
              "      <th>1</th>\n",
              "      <td>2020-04-24</td>\n",
              "      <td>Andaman and Nicobar Islands</td>\n",
              "      <td>2679.0</td>\n",
              "      <td>NaN</td>\n",
              "      <td>27.0</td>\n",
              "      <td>0.0</td>\n",
              "    </tr>\n",
              "    <tr>\n",
              "      <th>2</th>\n",
              "      <td>2020-04-27</td>\n",
              "      <td>Andaman and Nicobar Islands</td>\n",
              "      <td>2848.0</td>\n",
              "      <td>NaN</td>\n",
              "      <td>33.0</td>\n",
              "      <td>0.0</td>\n",
              "    </tr>\n",
              "    <tr>\n",
              "      <th>3</th>\n",
              "      <td>2020-05-01</td>\n",
              "      <td>Andaman and Nicobar Islands</td>\n",
              "      <td>3754.0</td>\n",
              "      <td>NaN</td>\n",
              "      <td>33.0</td>\n",
              "      <td>0.0</td>\n",
              "    </tr>\n",
              "    <tr>\n",
              "      <th>4</th>\n",
              "      <td>2020-05-16</td>\n",
              "      <td>Andaman and Nicobar Islands</td>\n",
              "      <td>6677.0</td>\n",
              "      <td>NaN</td>\n",
              "      <td>33.0</td>\n",
              "      <td>0.0</td>\n",
              "    </tr>\n",
              "    <tr>\n",
              "      <th>...</th>\n",
              "      <td>...</td>\n",
              "      <td>...</td>\n",
              "      <td>...</td>\n",
              "      <td>...</td>\n",
              "      <td>...</td>\n",
              "      <td>...</td>\n",
              "    </tr>\n",
              "    <tr>\n",
              "      <th>16331</th>\n",
              "      <td>2021-08-06</td>\n",
              "      <td>West Bengal</td>\n",
              "      <td>15999961.0</td>\n",
              "      <td>NaN</td>\n",
              "      <td>NaN</td>\n",
              "      <td>1.0</td>\n",
              "    </tr>\n",
              "    <tr>\n",
              "      <th>16332</th>\n",
              "      <td>2021-08-07</td>\n",
              "      <td>West Bengal</td>\n",
              "      <td>16045662.0</td>\n",
              "      <td>NaN</td>\n",
              "      <td>NaN</td>\n",
              "      <td>1.0</td>\n",
              "    </tr>\n",
              "    <tr>\n",
              "      <th>16333</th>\n",
              "      <td>2021-08-08</td>\n",
              "      <td>West Bengal</td>\n",
              "      <td>16092192.0</td>\n",
              "      <td>NaN</td>\n",
              "      <td>NaN</td>\n",
              "      <td>1.0</td>\n",
              "    </tr>\n",
              "    <tr>\n",
              "      <th>16334</th>\n",
              "      <td>2021-08-09</td>\n",
              "      <td>West Bengal</td>\n",
              "      <td>16122345.0</td>\n",
              "      <td>NaN</td>\n",
              "      <td>NaN</td>\n",
              "      <td>1.0</td>\n",
              "    </tr>\n",
              "    <tr>\n",
              "      <th>16335</th>\n",
              "      <td>2021-08-10</td>\n",
              "      <td>West Bengal</td>\n",
              "      <td>16162814.0</td>\n",
              "      <td>NaN</td>\n",
              "      <td>NaN</td>\n",
              "      <td>1.0</td>\n",
              "    </tr>\n",
              "  </tbody>\n",
              "</table>\n",
              "<p>16336 rows × 6 columns</p>\n",
              "</div>"
            ],
            "text/plain": [
              "             Date                        State  TotalSamples Negative  \\\n",
              "0      2020-04-17  Andaman and Nicobar Islands        1403.0     1210   \n",
              "1      2020-04-24  Andaman and Nicobar Islands        2679.0      NaN   \n",
              "2      2020-04-27  Andaman and Nicobar Islands        2848.0      NaN   \n",
              "3      2020-05-01  Andaman and Nicobar Islands        3754.0      NaN   \n",
              "4      2020-05-16  Andaman and Nicobar Islands        6677.0      NaN   \n",
              "...           ...                          ...           ...      ...   \n",
              "16331  2021-08-06                  West Bengal    15999961.0      NaN   \n",
              "16332  2021-08-07                  West Bengal    16045662.0      NaN   \n",
              "16333  2021-08-08                  West Bengal    16092192.0      NaN   \n",
              "16334  2021-08-09                  West Bengal    16122345.0      NaN   \n",
              "16335  2021-08-10                  West Bengal    16162814.0      NaN   \n",
              "\n",
              "       Positive  TotalSamples_Group  \n",
              "0          12.0                 0.0  \n",
              "1          27.0                 0.0  \n",
              "2          33.0                 0.0  \n",
              "3          33.0                 0.0  \n",
              "4          33.0                 0.0  \n",
              "...         ...                 ...  \n",
              "16331       NaN                 1.0  \n",
              "16332       NaN                 1.0  \n",
              "16333       NaN                 1.0  \n",
              "16334       NaN                 1.0  \n",
              "16335       NaN                 1.0  \n",
              "\n",
              "[16336 rows x 6 columns]"
            ]
          },
          "execution_count": 10,
          "metadata": {},
          "output_type": "execute_result"
        }
      ],
      "source": [
        "data"
      ]
    },
    {
      "cell_type": "code",
      "execution_count": 11,
      "metadata": {
        "id": "cI1rcuz3SQ49"
      },
      "outputs": [],
      "source": [
        "# create the discretizer object with strategy uniform and 8 bins\n",
        "discretizer = KBinsDiscretizer(n_bins=8, encode='ordinal', strategy='uniform') \n",
        "\n",
        "# fit the discretizer to the train set\n",
        "discretizer.fit(data[[\"TotalSamples\"]].values)\n",
        "\n",
        "# damos o \"fit\" para ele salvar o mapeamento que ele fez.\n",
        "\n",
        "# apply the discretisation\n",
        "data[\"TotalSamples_Group\"] = discretizer.transform(data[[\"TotalSamples\"]].values)"
      ]
    },
    {
      "cell_type": "code",
      "execution_count": 12,
      "metadata": {
        "colab": {
          "base_uri": "https://localhost:8080/"
        },
        "id": "up6iFGVQ3OmK",
        "outputId": "db8e0007-1ceb-418b-ba9d-a912392b6224"
      },
      "outputs": [
        {
          "data": {
            "text/plain": [
              "0.0    12703\n",
              "1.0     2124\n",
              "2.0      857\n",
              "3.0      323\n",
              "4.0      195\n",
              "5.0       67\n",
              "7.0       35\n",
              "6.0       32\n",
              "Name: TotalSamples_Group, dtype: int64"
            ]
          },
          "execution_count": 12,
          "metadata": {},
          "output_type": "execute_result"
        }
      ],
      "source": [
        "data[\"TotalSamples_Group\"].value_counts()\n",
        "# Aqui notamos que ele ficou bem concentrado no 0, talvez não seja a melhor forma de discretização."
      ]
    },
    {
      "cell_type": "markdown",
      "metadata": {
        "id": "WDd3IJXNSQ4-"
      },
      "source": [
        "### Equal-frequency"
      ]
    },
    {
      "cell_type": "code",
      "execution_count": 13,
      "metadata": {
        "id": "hE-mvBY6SQ4-"
      },
      "outputs": [],
      "source": [
        "# create the discretizer object with strategy uniform and 8 bins\n",
        "discretizer = KBinsDiscretizer(n_bins=8, encode='ordinal', strategy='quantile') \n",
        "\n",
        "# fit the discretizer to the train set\n",
        "discretizer.fit(data[[\"TotalSamples\"]].values)\n",
        "\n",
        "# apply the discretisation\n",
        "data[\"TotalSamples_Group\"] = discretizer.transform(data[[\"TotalSamples\"]].values)"
      ]
    },
    {
      "cell_type": "code",
      "execution_count": 14,
      "metadata": {
        "colab": {
          "base_uri": "https://localhost:8080/"
        },
        "id": "FPsN7AcZ3aR2",
        "outputId": "f97f0923-dc02-42ad-c13b-a1737f9263e8"
      },
      "outputs": [
        {
          "data": {
            "text/plain": [
              "7.0    2043\n",
              "0.0    2042\n",
              "1.0    2042\n",
              "2.0    2042\n",
              "3.0    2042\n",
              "4.0    2042\n",
              "5.0    2042\n",
              "6.0    2041\n",
              "Name: TotalSamples_Group, dtype: int64"
            ]
          },
          "execution_count": 14,
          "metadata": {},
          "output_type": "execute_result"
        }
      ],
      "source": [
        "data[\"TotalSamples_Group\"].value_counts()\n",
        "# Aqui, vemos que ficou bem mais uniforme."
      ]
    },
    {
      "cell_type": "markdown",
      "metadata": {
        "id": "_e6ENA9tSQ4-"
      },
      "source": [
        "## OPERAÇÕES DE TEXTO"
      ]
    },
    {
      "cell_type": "code",
      "execution_count": 2,
      "metadata": {
        "colab": {
          "base_uri": "https://localhost:8080/"
        },
        "id": "Hmt9U_MZEJmq",
        "outputId": "2e7558ea-5ace-48ee-e7a4-b95cec3d7376"
      },
      "outputs": [
        {
          "name": "stderr",
          "output_type": "stream",
          "text": [
            "[nltk_data] Downloading package punkt to C:\\Users\\Rafael\n",
            "[nltk_data]     Pietro\\AppData\\Roaming\\nltk_data...\n",
            "[nltk_data]   Unzipping tokenizers\\punkt.zip.\n"
          ]
        },
        {
          "data": {
            "text/plain": [
              "True"
            ]
          },
          "execution_count": 2,
          "metadata": {},
          "output_type": "execute_result"
        }
      ],
      "source": [
        "import nltk\n",
        "nltk.download('punkt')"
      ]
    },
    {
      "cell_type": "code",
      "execution_count": 3,
      "metadata": {
        "colab": {
          "base_uri": "https://localhost:8080/"
        },
        "id": "pnNNUEF7EaKP",
        "outputId": "1764766d-f995-4437-ba64-236c54ef6454"
      },
      "outputs": [
        {
          "name": "stderr",
          "output_type": "stream",
          "text": [
            "[nltk_data] Downloading package stopwords to C:\\Users\\Rafael\n",
            "[nltk_data]     Pietro\\AppData\\Roaming\\nltk_data...\n",
            "[nltk_data]   Unzipping corpora\\stopwords.zip.\n"
          ]
        },
        {
          "data": {
            "text/plain": [
              "True"
            ]
          },
          "execution_count": 3,
          "metadata": {},
          "output_type": "execute_result"
        }
      ],
      "source": [
        "nltk.download('stopwords')"
      ]
    },
    {
      "cell_type": "code",
      "execution_count": 6,
      "metadata": {
        "colab": {
          "base_uri": "https://localhost:8080/"
        },
        "id": "fsTQ_cDhSQ4_",
        "outputId": "eabb3f98-8e14-4745-ea34-53f72d9ef801"
      },
      "outputs": [
        {
          "name": "stdout",
          "output_type": "stream",
          "text": [
            "['Eu', 'estou', 'estudando', 'ciência', 'de', 'dados', 'na', 'Dinânima', 'há', '2', 'meses', ',', 'estou', 'amando', '!', '!', '!']\n"
          ]
        }
      ],
      "source": [
        "from nltk.tokenize import word_tokenize\n",
        "\n",
        "sentence = \"Eu estou estudando ciência de dados na Dinânima há 2 meses, estou amando!!!\"\n",
        "word_tokens = word_tokenize(sentence)\n",
        "print(word_tokens)"
      ]
    },
    {
      "cell_type": "code",
      "execution_count": 7,
      "metadata": {
        "colab": {
          "base_uri": "https://localhost:8080/"
        },
        "id": "McjVLYrwSQ4_",
        "outputId": "7ee8079b-6119-484f-be0f-cdd1c29419da"
      },
      "outputs": [
        {
          "name": "stdout",
          "output_type": "stream",
          "text": [
            "estud\n",
            "estud\n",
            "estud\n"
          ]
        }
      ],
      "source": [
        "from nltk.stem import SnowballStemmer\n",
        "snowball_stemmer = SnowballStemmer('portuguese')\n",
        "print(snowball_stemmer.stem('estudando'))\n",
        "print(snowball_stemmer.stem('estudar'))\n",
        "print(snowball_stemmer.stem('estudei'))"
      ]
    },
    {
      "cell_type": "code",
      "execution_count": null,
      "metadata": {
        "colab": {
          "base_uri": "https://localhost:8080/"
        },
        "id": "NjyawZATSQ4_",
        "outputId": "e8c13375-64e5-4820-ff77-00e3e0c7c3f0"
      },
      "outputs": [
        {
          "data": {
            "text/plain": [
              "['eu',\n",
              " 'estou',\n",
              " 'estud',\n",
              " 'ciênc',\n",
              " 'de',\n",
              " 'dad',\n",
              " 'na',\n",
              " 'dinânim',\n",
              " 'há',\n",
              " '2',\n",
              " 'mes',\n",
              " ',',\n",
              " 'estou',\n",
              " 'amand',\n",
              " '!',\n",
              " '!',\n",
              " '!']"
            ]
          },
          "execution_count": 121,
          "metadata": {
            "tags": []
          },
          "output_type": "execute_result"
        }
      ],
      "source": [
        "[snowball_stemmer.stem(x) for x in word_tokens]"
      ]
    },
    {
      "cell_type": "code",
      "execution_count": 8,
      "metadata": {
        "colab": {
          "base_uri": "https://localhost:8080/",
          "height": 34
        },
        "id": "PpsDCTc6SQ4_",
        "outputId": "78d6489e-d246-402c-bef4-8ed4917e2494"
      },
      "outputs": [
        {
          "data": {
            "text/plain": [
              "'!\"#$%&\\'()*+,-./:;<=>?@[\\\\]^_`{|}~'"
            ]
          },
          "execution_count": 8,
          "metadata": {},
          "output_type": "execute_result"
        }
      ],
      "source": [
        "import string\n",
        "string.punctuation"
      ]
    },
    {
      "cell_type": "code",
      "execution_count": 9,
      "metadata": {
        "colab": {
          "base_uri": "https://localhost:8080/"
        },
        "id": "svj0Ea6dSQ5A",
        "outputId": "1418286e-7ba8-4044-ea5e-334fab1dfc84"
      },
      "outputs": [
        {
          "data": {
            "text/plain": [
              "['Eu',\n",
              " 'estou',\n",
              " 'estudando',\n",
              " 'ciência',\n",
              " 'de',\n",
              " 'dados',\n",
              " 'na',\n",
              " 'Dinânima',\n",
              " 'há',\n",
              " '2',\n",
              " 'meses',\n",
              " 'estou',\n",
              " 'amando']"
            ]
          },
          "execution_count": 9,
          "metadata": {},
          "output_type": "execute_result"
        }
      ],
      "source": [
        "new_words= [word for word in word_tokens if word not in string.punctuation]\n",
        "new_words"
      ]
    },
    {
      "cell_type": "code",
      "execution_count": 10,
      "metadata": {
        "colab": {
          "base_uri": "https://localhost:8080/"
        },
        "id": "tKf-dIx6SQ5A",
        "outputId": "3f4589fd-77fa-4b46-9bff-f969f615b8d4"
      },
      "outputs": [
        {
          "data": {
            "text/plain": [
              "['Eu',\n",
              " 'estou',\n",
              " 'estudando',\n",
              " 'ciência',\n",
              " 'de',\n",
              " 'dados',\n",
              " 'na',\n",
              " 'Dinânima',\n",
              " 'há',\n",
              " 'meses',\n",
              " 'estou',\n",
              " 'amando']"
            ]
          },
          "execution_count": 10,
          "metadata": {},
          "output_type": "execute_result"
        }
      ],
      "source": [
        "new_words= [word for word in word_tokens if word not in string.punctuation+\"0123456789\"]\n",
        "new_words"
      ]
    },
    {
      "cell_type": "code",
      "execution_count": 11,
      "metadata": {
        "colab": {
          "base_uri": "https://localhost:8080/"
        },
        "id": "zjHLl0JfSQ5A",
        "outputId": "2cf9f293-182d-46b4-db83-4f126a82c83d"
      },
      "outputs": [
        {
          "name": "stdout",
          "output_type": "stream",
          "text": [
            "['de', 'a', 'o', 'que', 'e', 'é', 'do', 'da', 'em', 'um', 'para', 'com', 'não', 'uma', 'os', 'no', 'se', 'na', 'por', 'mais', 'as', 'dos', 'como', 'mas', 'ao', 'ele', 'das', 'à', 'seu', 'sua', 'ou', 'quando', 'muito', 'nos', 'já', 'eu', 'também', 'só', 'pelo', 'pela', 'até', 'isso', 'ela', 'entre', 'depois', 'sem', 'mesmo', 'aos', 'seus', 'quem', 'nas', 'me', 'esse', 'eles', 'você', 'essa', 'num', 'nem', 'suas', 'meu', 'às', 'minha', 'numa', 'pelos', 'elas', 'qual', 'nós', 'lhe', 'deles', 'essas', 'esses', 'pelas', 'este', 'dele', 'tu', 'te', 'vocês', 'vos', 'lhes', 'meus', 'minhas', 'teu', 'tua', 'teus', 'tuas', 'nosso', 'nossa', 'nossos', 'nossas', 'dela', 'delas', 'esta', 'estes', 'estas', 'aquele', 'aquela', 'aqueles', 'aquelas', 'isto', 'aquilo', 'estou', 'está', 'estamos', 'estão', 'estive', 'esteve', 'estivemos', 'estiveram', 'estava', 'estávamos', 'estavam', 'estivera', 'estivéramos', 'esteja', 'estejamos', 'estejam', 'estivesse', 'estivéssemos', 'estivessem', 'estiver', 'estivermos', 'estiverem', 'hei', 'há', 'havemos', 'hão', 'houve', 'houvemos', 'houveram', 'houvera', 'houvéramos', 'haja', 'hajamos', 'hajam', 'houvesse', 'houvéssemos', 'houvessem', 'houver', 'houvermos', 'houverem', 'houverei', 'houverá', 'houveremos', 'houverão', 'houveria', 'houveríamos', 'houveriam', 'sou', 'somos', 'são', 'era', 'éramos', 'eram', 'fui', 'foi', 'fomos', 'foram', 'fora', 'fôramos', 'seja', 'sejamos', 'sejam', 'fosse', 'fôssemos', 'fossem', 'for', 'formos', 'forem', 'serei', 'será', 'seremos', 'serão', 'seria', 'seríamos', 'seriam', 'tenho', 'tem', 'temos', 'tém', 'tinha', 'tínhamos', 'tinham', 'tive', 'teve', 'tivemos', 'tiveram', 'tivera', 'tivéramos', 'tenha', 'tenhamos', 'tenham', 'tivesse', 'tivéssemos', 'tivessem', 'tiver', 'tivermos', 'tiverem', 'terei', 'terá', 'teremos', 'terão', 'teria', 'teríamos', 'teriam']\n"
          ]
        }
      ],
      "source": [
        "from nltk.corpus import stopwords\n",
        "from nltk.tokenize import word_tokenize\n",
        "print(stopwords.words('portuguese'))"
      ]
    },
    {
      "cell_type": "code",
      "execution_count": 12,
      "metadata": {
        "id": "knV9gHeUSQ5B"
      },
      "outputs": [],
      "source": [
        "new_words = [x.lower() for x in new_words]"
      ]
    },
    {
      "cell_type": "code",
      "execution_count": 13,
      "metadata": {
        "colab": {
          "base_uri": "https://localhost:8080/"
        },
        "id": "PyYuq_caHMX1",
        "outputId": "739eabbc-3f8d-4d27-db17-79c34d646f88"
      },
      "outputs": [
        {
          "data": {
            "text/plain": [
              "['eu',\n",
              " 'estou',\n",
              " 'estudando',\n",
              " 'ciência',\n",
              " 'de',\n",
              " 'dados',\n",
              " 'na',\n",
              " 'dinânima',\n",
              " 'há',\n",
              " 'meses',\n",
              " 'estou',\n",
              " 'amando']"
            ]
          },
          "execution_count": 13,
          "metadata": {},
          "output_type": "execute_result"
        }
      ],
      "source": [
        "new_words"
      ]
    },
    {
      "cell_type": "code",
      "execution_count": 15,
      "metadata": {
        "colab": {
          "base_uri": "https://localhost:8080/"
        },
        "id": "KLxkabhwAN58",
        "outputId": "767280fd-58d2-4263-c6ec-0053cf41414f"
      },
      "outputs": [
        {
          "name": "stdout",
          "output_type": "stream",
          "text": [
            "['estudando', 'ciência', 'dados', 'dinânima', 'meses', 'estou', 'amando']\n"
          ]
        }
      ],
      "source": [
        "clean_tokens = new_words[:] \n",
        "for token in clean_tokens:\n",
        "    if token in stopwords.words('portuguese'):\n",
        "        clean_tokens.remove(token)\n",
        "\n",
        "print(clean_tokens)"
      ]
    },
    {
      "cell_type": "markdown",
      "metadata": {
        "id": "Ykd7yKcZXpl9"
      },
      "source": [
        "# PRODUTIZAÇÃO"
      ]
    },
    {
      "cell_type": "code",
      "execution_count": null,
      "metadata": {
        "id": "yv67A8ItrOum"
      },
      "outputs": [],
      "source": [
        "import pandas as pd\n",
        "import numpy as np"
      ]
    },
    {
      "cell_type": "code",
      "execution_count": null,
      "metadata": {
        "id": "i8Qy_OYbXljo"
      },
      "outputs": [],
      "source": [
        "df = pd.DataFrame([(0.0, np.nan, -1.0, 1.0),\n",
        "                   (np.nan, 2.0, np.nan, np.nan),\n",
        "                   (2.0, 3.0, np.nan, 9.0),\n",
        "                   (np.nan, 4.0, -4.0, 16.0)],\n",
        "                  columns=list('abcd'))"
      ]
    },
    {
      "cell_type": "code",
      "execution_count": null,
      "metadata": {
        "id": "m-w_cdd1ZEZ4"
      },
      "outputs": [],
      "source": [
        "df.b = df.b.fillna(0)"
      ]
    },
    {
      "cell_type": "code",
      "execution_count": null,
      "metadata": {
        "id": "EGJlG-EwZHfh"
      },
      "outputs": [],
      "source": [
        "df.d = df.d.fillna(df.d.mean())"
      ]
    },
    {
      "cell_type": "code",
      "execution_count": null,
      "metadata": {
        "id": "vPpMMByjXjqW"
      },
      "outputs": [],
      "source": [
        "def treat_na_fill(df, select_columns, fill_values):\n",
        "  for col in select_columns:\n",
        "    df[col] = df[col].fillna(fill_values[col])\n",
        "  return df"
      ]
    },
    {
      "cell_type": "code",
      "execution_count": null,
      "metadata": {
        "id": "theoqsIVvt17"
      },
      "outputs": [],
      "source": []
    },
    {
      "cell_type": "code",
      "execution_count": null,
      "metadata": {
        "colab": {
          "base_uri": "https://localhost:8080/",
          "height": 168
        },
        "id": "Z8gooGKoYW76",
        "outputId": "8eb00c50-3ff6-4895-a12b-3d7e3d6c2f00"
      },
      "outputs": [
        {
          "data": {
            "text/html": [
              "<div>\n",
              "<style scoped>\n",
              "    .dataframe tbody tr th:only-of-type {\n",
              "        vertical-align: middle;\n",
              "    }\n",
              "\n",
              "    .dataframe tbody tr th {\n",
              "        vertical-align: top;\n",
              "    }\n",
              "\n",
              "    .dataframe thead th {\n",
              "        text-align: right;\n",
              "    }\n",
              "</style>\n",
              "<table border=\"1\" class=\"dataframe\">\n",
              "  <thead>\n",
              "    <tr style=\"text-align: right;\">\n",
              "      <th></th>\n",
              "      <th>a</th>\n",
              "      <th>b</th>\n",
              "      <th>c</th>\n",
              "      <th>d</th>\n",
              "    </tr>\n",
              "  </thead>\n",
              "  <tbody>\n",
              "    <tr>\n",
              "      <th>0</th>\n",
              "      <td>0.0</td>\n",
              "      <td>0.0</td>\n",
              "      <td>-1.0</td>\n",
              "      <td>1.000000</td>\n",
              "    </tr>\n",
              "    <tr>\n",
              "      <th>1</th>\n",
              "      <td>NaN</td>\n",
              "      <td>2.0</td>\n",
              "      <td>NaN</td>\n",
              "      <td>8.666667</td>\n",
              "    </tr>\n",
              "    <tr>\n",
              "      <th>2</th>\n",
              "      <td>2.0</td>\n",
              "      <td>3.0</td>\n",
              "      <td>NaN</td>\n",
              "      <td>9.000000</td>\n",
              "    </tr>\n",
              "    <tr>\n",
              "      <th>3</th>\n",
              "      <td>NaN</td>\n",
              "      <td>4.0</td>\n",
              "      <td>-4.0</td>\n",
              "      <td>16.000000</td>\n",
              "    </tr>\n",
              "  </tbody>\n",
              "</table>\n",
              "</div>"
            ],
            "text/plain": [
              "     a    b    c          d\n",
              "0  0.0  0.0 -1.0   1.000000\n",
              "1  NaN  2.0  NaN   8.666667\n",
              "2  2.0  3.0  NaN   9.000000\n",
              "3  NaN  4.0 -4.0  16.000000"
            ]
          },
          "execution_count": 33,
          "metadata": {
            "tags": []
          },
          "output_type": "execute_result"
        }
      ],
      "source": [
        "df.head()"
      ]
    },
    {
      "cell_type": "code",
      "execution_count": null,
      "metadata": {
        "id": "_S9IuzJgrNQi"
      },
      "outputs": [],
      "source": []
    },
    {
      "cell_type": "code",
      "execution_count": null,
      "metadata": {
        "id": "sTQyj2I0YwN6"
      },
      "outputs": [],
      "source": [
        "df = treat_na_fill(df, ['b', 'd'], {'b': 0, 'd': df.d.mean()})"
      ]
    },
    {
      "cell_type": "code",
      "execution_count": null,
      "metadata": {
        "id": "IWUaM_1ZZ6QF"
      },
      "outputs": [],
      "source": [
        "def treat_na_drop(df, select_columns):\n",
        "  for col in select_columns:\n",
        "    df = df.drop(col, axis=1)\n",
        "  return df"
      ]
    },
    {
      "cell_type": "code",
      "execution_count": null,
      "metadata": {
        "id": "sdfNKvLQYYHv"
      },
      "outputs": [],
      "source": [
        "df = treat_na_drop(df, ['a', 'c'])"
      ]
    },
    {
      "cell_type": "code",
      "execution_count": null,
      "metadata": {
        "colab": {
          "base_uri": "https://localhost:8080/",
          "height": 168
        },
        "id": "z3TGg0S0aKVm",
        "outputId": "73d04441-780e-41b9-e237-c0790cd115fc"
      },
      "outputs": [
        {
          "data": {
            "text/html": [
              "<div>\n",
              "<style scoped>\n",
              "    .dataframe tbody tr th:only-of-type {\n",
              "        vertical-align: middle;\n",
              "    }\n",
              "\n",
              "    .dataframe tbody tr th {\n",
              "        vertical-align: top;\n",
              "    }\n",
              "\n",
              "    .dataframe thead th {\n",
              "        text-align: right;\n",
              "    }\n",
              "</style>\n",
              "<table border=\"1\" class=\"dataframe\">\n",
              "  <thead>\n",
              "    <tr style=\"text-align: right;\">\n",
              "      <th></th>\n",
              "      <th>b</th>\n",
              "      <th>d</th>\n",
              "    </tr>\n",
              "  </thead>\n",
              "  <tbody>\n",
              "    <tr>\n",
              "      <th>0</th>\n",
              "      <td>0.0</td>\n",
              "      <td>1.000000</td>\n",
              "    </tr>\n",
              "    <tr>\n",
              "      <th>1</th>\n",
              "      <td>2.0</td>\n",
              "      <td>8.666667</td>\n",
              "    </tr>\n",
              "    <tr>\n",
              "      <th>2</th>\n",
              "      <td>3.0</td>\n",
              "      <td>9.000000</td>\n",
              "    </tr>\n",
              "    <tr>\n",
              "      <th>3</th>\n",
              "      <td>4.0</td>\n",
              "      <td>16.000000</td>\n",
              "    </tr>\n",
              "  </tbody>\n",
              "</table>\n",
              "</div>"
            ],
            "text/plain": [
              "     b          d\n",
              "0  0.0   1.000000\n",
              "1  2.0   8.666667\n",
              "2  3.0   9.000000\n",
              "3  4.0  16.000000"
            ]
          },
          "execution_count": 36,
          "metadata": {
            "tags": []
          },
          "output_type": "execute_result"
        }
      ],
      "source": [
        "df.head()"
      ]
    },
    {
      "cell_type": "code",
      "execution_count": null,
      "metadata": {
        "id": "KbJLbN3RrYfu"
      },
      "outputs": [],
      "source": [
        "assert df.dropna().shape[0] == df.shape[0]"
      ]
    },
    {
      "cell_type": "code",
      "execution_count": null,
      "metadata": {
        "id": "LOGblMLKaV1d"
      },
      "outputs": [],
      "source": [
        "df = pd.DataFrame([(0.0, np.nan, -1.0, 1.0),\n",
        "                   (np.nan, 2.0, np.nan, np.nan),\n",
        "                   (2.0, 3.0, np.nan, 9.0),\n",
        "                   (np.nan, 4.0, -4.0, 16.0)],\n",
        "                  columns=list('abcd'))"
      ]
    },
    {
      "cell_type": "code",
      "execution_count": null,
      "metadata": {
        "colab": {
          "base_uri": "https://localhost:8080/",
          "height": 168
        },
        "id": "mI5o81cAaZob",
        "outputId": "2b6b482b-16d2-4913-aff7-9a364550ee8a"
      },
      "outputs": [
        {
          "data": {
            "text/html": [
              "<div>\n",
              "<style scoped>\n",
              "    .dataframe tbody tr th:only-of-type {\n",
              "        vertical-align: middle;\n",
              "    }\n",
              "\n",
              "    .dataframe tbody tr th {\n",
              "        vertical-align: top;\n",
              "    }\n",
              "\n",
              "    .dataframe thead th {\n",
              "        text-align: right;\n",
              "    }\n",
              "</style>\n",
              "<table border=\"1\" class=\"dataframe\">\n",
              "  <thead>\n",
              "    <tr style=\"text-align: right;\">\n",
              "      <th></th>\n",
              "      <th>b</th>\n",
              "      <th>d</th>\n",
              "    </tr>\n",
              "  </thead>\n",
              "  <tbody>\n",
              "    <tr>\n",
              "      <th>0</th>\n",
              "      <td>0.0</td>\n",
              "      <td>1.000000</td>\n",
              "    </tr>\n",
              "    <tr>\n",
              "      <th>1</th>\n",
              "      <td>2.0</td>\n",
              "      <td>8.666667</td>\n",
              "    </tr>\n",
              "    <tr>\n",
              "      <th>2</th>\n",
              "      <td>3.0</td>\n",
              "      <td>9.000000</td>\n",
              "    </tr>\n",
              "    <tr>\n",
              "      <th>3</th>\n",
              "      <td>4.0</td>\n",
              "      <td>16.000000</td>\n",
              "    </tr>\n",
              "  </tbody>\n",
              "</table>\n",
              "</div>"
            ],
            "text/plain": [
              "     b          d\n",
              "0  0.0   1.000000\n",
              "1  2.0   8.666667\n",
              "2  3.0   9.000000\n",
              "3  4.0  16.000000"
            ]
          },
          "execution_count": 41,
          "metadata": {
            "tags": []
          },
          "output_type": "execute_result"
        }
      ],
      "source": [
        "df.pipe(treat_na_fill, ['b', 'd'], {'b': 0, 'd': df.d.mean()}\n",
        "        ).pipe(treat_na_drop, ['a', 'c'])"
      ]
    },
    {
      "cell_type": "code",
      "execution_count": null,
      "metadata": {
        "id": "BB281F5xahFa"
      },
      "outputs": [],
      "source": []
    },
    {
      "cell_type": "code",
      "execution_count": null,
      "metadata": {
        "id": "JaAYtCAqtA8Q"
      },
      "outputs": [],
      "source": []
    }
  ],
  "metadata": {
    "colab": {
      "collapsed_sections": [],
      "name": "DCW -Discretização",
      "provenance": []
    },
    "interpreter": {
      "hash": "6f5583cf1d9466b5c27e75c89cc6b383bed5736d6b16c51c8074d8690011a952"
    },
    "kernelspec": {
      "display_name": "Python 3.8.12 ('base')",
      "language": "python",
      "name": "python3"
    },
    "language_info": {
      "codemirror_mode": {
        "name": "ipython",
        "version": 3
      },
      "file_extension": ".py",
      "mimetype": "text/x-python",
      "name": "python",
      "nbconvert_exporter": "python",
      "pygments_lexer": "ipython3",
      "version": "3.8.12"
    },
    "toc": {
      "base_numbering": 1,
      "nav_menu": {},
      "number_sections": true,
      "sideBar": true,
      "skip_h1_title": false,
      "title_cell": "Table of Contents",
      "title_sidebar": "Contents",
      "toc_cell": false,
      "toc_position": {},
      "toc_section_display": true,
      "toc_window_display": true
    },
    "varInspector": {
      "cols": {
        "lenName": 16,
        "lenType": 16,
        "lenVar": 40
      },
      "kernels_config": {
        "python": {
          "delete_cmd_postfix": "",
          "delete_cmd_prefix": "del ",
          "library": "var_list.py",
          "varRefreshCmd": "print(var_dic_list())"
        },
        "r": {
          "delete_cmd_postfix": ") ",
          "delete_cmd_prefix": "rm(",
          "library": "var_list.r",
          "varRefreshCmd": "cat(var_dic_list()) "
        }
      },
      "types_to_exclude": [
        "module",
        "function",
        "builtin_function_or_method",
        "instance",
        "_Feature"
      ],
      "window_display": false
    }
  },
  "nbformat": 4,
  "nbformat_minor": 0
}
