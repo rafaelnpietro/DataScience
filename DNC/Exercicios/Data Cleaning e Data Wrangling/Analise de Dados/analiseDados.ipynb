{
 "cells": [
  {
   "cell_type": "code",
   "execution_count": 5,
   "metadata": {},
   "outputs": [],
   "source": [
    "import pandas as pd\n",
    "import numpy as np\n",
    "import tkinter as tk\n",
    "import matplotlib.pyplot as plt\n",
    "from tkinter import filedialog\n",
    "import datetime"
   ]
  },
  {
   "cell_type": "code",
   "execution_count": 2,
   "metadata": {},
   "outputs": [
    {
     "data": {
      "text/plain": [
       "'C:/Users/Rafael Pietro/OneDrive/Cursos/DNC/Datasets/Analise de dados na pratica/sample_medicare.csv'"
      ]
     },
     "execution_count": 2,
     "metadata": {},
     "output_type": "execute_result"
    }
   ],
   "source": [
    "root =tk.Tk()\n",
    "root.withdraw()\n",
    "filepath=filedialog.askopenfilename()\n",
    "filepath\n"
   ]
  },
  {
   "cell_type": "code",
   "execution_count": 3,
   "metadata": {},
   "outputs": [],
   "source": [
    "df= pd.read_csv(filepath)"
   ]
  },
  {
   "cell_type": "code",
   "execution_count": 4,
   "metadata": {},
   "outputs": [
    {
     "data": {
      "text/html": [
       "<div>\n",
       "<style scoped>\n",
       "    .dataframe tbody tr th:only-of-type {\n",
       "        vertical-align: middle;\n",
       "    }\n",
       "\n",
       "    .dataframe tbody tr th {\n",
       "        vertical-align: top;\n",
       "    }\n",
       "\n",
       "    .dataframe thead th {\n",
       "        text-align: right;\n",
       "    }\n",
       "</style>\n",
       "<table border=\"1\" class=\"dataframe\">\n",
       "  <thead>\n",
       "    <tr style=\"text-align: right;\">\n",
       "      <th></th>\n",
       "      <th>npi</th>\n",
       "      <th>nppes_provider_last_org_name</th>\n",
       "      <th>nppes_provider_first_name</th>\n",
       "      <th>nppes_provider_city</th>\n",
       "      <th>nppes_provider_state</th>\n",
       "      <th>specialty_description</th>\n",
       "      <th>description_flag</th>\n",
       "      <th>drug_name</th>\n",
       "      <th>generic_name</th>\n",
       "      <th>bene_count</th>\n",
       "      <th>...</th>\n",
       "      <th>total_30_day_fill_count</th>\n",
       "      <th>total_day_supply</th>\n",
       "      <th>total_drug_cost</th>\n",
       "      <th>bene_count_ge65</th>\n",
       "      <th>bene_count_ge65_suppress_flag</th>\n",
       "      <th>total_claim_count_ge65</th>\n",
       "      <th>ge65_suppress_flag</th>\n",
       "      <th>total_30_day_fill_count_ge65</th>\n",
       "      <th>total_day_supply_ge65</th>\n",
       "      <th>total_drug_cost_ge65</th>\n",
       "    </tr>\n",
       "  </thead>\n",
       "  <tbody>\n",
       "    <tr>\n",
       "      <th>0</th>\n",
       "      <td>1750477758</td>\n",
       "      <td>RICHARDSON</td>\n",
       "      <td>FAZAL</td>\n",
       "      <td>GORMAN</td>\n",
       "      <td>IN</td>\n",
       "      <td>Optometry</td>\n",
       "      <td>S</td>\n",
       "      <td>HYDROCHLOROTHIAZIDE</td>\n",
       "      <td>CLOPIDOGREL BISULFATE</td>\n",
       "      <td>NaN</td>\n",
       "      <td>...</td>\n",
       "      <td>30.0</td>\n",
       "      <td>16800</td>\n",
       "      <td>1075.11</td>\n",
       "      <td>NaN</td>\n",
       "      <td>*</td>\n",
       "      <td>NaN</td>\n",
       "      <td>#</td>\n",
       "      <td>15.0</td>\n",
       "      <td>1140.0</td>\n",
       "      <td>NaN</td>\n",
       "    </tr>\n",
       "    <tr>\n",
       "      <th>1</th>\n",
       "      <td>1265604870</td>\n",
       "      <td>JOHNSON</td>\n",
       "      <td>PETER</td>\n",
       "      <td>FOUNTAIN VALLEY</td>\n",
       "      <td>IL</td>\n",
       "      <td>Nurse Practitioner</td>\n",
       "      <td>S</td>\n",
       "      <td>OXYCODONE HCL</td>\n",
       "      <td>GLIMEPIRIDE</td>\n",
       "      <td>NaN</td>\n",
       "      <td>...</td>\n",
       "      <td>12.0</td>\n",
       "      <td>3510</td>\n",
       "      <td>532.98</td>\n",
       "      <td>NaN</td>\n",
       "      <td>NaN</td>\n",
       "      <td>27.0</td>\n",
       "      <td>*</td>\n",
       "      <td>0.0</td>\n",
       "      <td>364.0</td>\n",
       "      <td>937.41</td>\n",
       "    </tr>\n",
       "    <tr>\n",
       "      <th>2</th>\n",
       "      <td>1295731255</td>\n",
       "      <td>MCMANMON</td>\n",
       "      <td>JONATHAN</td>\n",
       "      <td>POMPANO BEACH</td>\n",
       "      <td>IA</td>\n",
       "      <td>Family Practice</td>\n",
       "      <td>S</td>\n",
       "      <td>MECLIZINE HCL</td>\n",
       "      <td>GABAPENTIN</td>\n",
       "      <td>27.0</td>\n",
       "      <td>...</td>\n",
       "      <td>14.3</td>\n",
       "      <td>1440</td>\n",
       "      <td>485.72</td>\n",
       "      <td>NaN</td>\n",
       "      <td>#</td>\n",
       "      <td>46.0</td>\n",
       "      <td>NaN</td>\n",
       "      <td>38.0</td>\n",
       "      <td>NaN</td>\n",
       "      <td>0.00</td>\n",
       "    </tr>\n",
       "    <tr>\n",
       "      <th>3</th>\n",
       "      <td>1356337398</td>\n",
       "      <td>EAKES</td>\n",
       "      <td>KIRK</td>\n",
       "      <td>AUSTIN</td>\n",
       "      <td>VA</td>\n",
       "      <td>Nephrology</td>\n",
       "      <td>S</td>\n",
       "      <td>WARFARIN SODIUM</td>\n",
       "      <td>ZIPRASIDONE HCL</td>\n",
       "      <td>21.0</td>\n",
       "      <td>...</td>\n",
       "      <td>23.0</td>\n",
       "      <td>600</td>\n",
       "      <td>256.14</td>\n",
       "      <td>NaN</td>\n",
       "      <td>#</td>\n",
       "      <td>11.0</td>\n",
       "      <td>NaN</td>\n",
       "      <td>NaN</td>\n",
       "      <td>NaN</td>\n",
       "      <td>0.00</td>\n",
       "    </tr>\n",
       "    <tr>\n",
       "      <th>4</th>\n",
       "      <td>1265409056</td>\n",
       "      <td>WYNN</td>\n",
       "      <td>SARA</td>\n",
       "      <td>SMYRNA</td>\n",
       "      <td>OR</td>\n",
       "      <td>Physician Assistant</td>\n",
       "      <td>S</td>\n",
       "      <td>PAROXETINE HCL</td>\n",
       "      <td>VALPROIC ACID</td>\n",
       "      <td>NaN</td>\n",
       "      <td>...</td>\n",
       "      <td>112.0</td>\n",
       "      <td>1680</td>\n",
       "      <td>4013.17</td>\n",
       "      <td>NaN</td>\n",
       "      <td>*</td>\n",
       "      <td>14.0</td>\n",
       "      <td>#</td>\n",
       "      <td>88.9</td>\n",
       "      <td>NaN</td>\n",
       "      <td>NaN</td>\n",
       "    </tr>\n",
       "  </tbody>\n",
       "</table>\n",
       "<p>5 rows × 21 columns</p>\n",
       "</div>"
      ],
      "text/plain": [
       "          npi nppes_provider_last_org_name nppes_provider_first_name  \\\n",
       "0  1750477758                   RICHARDSON                     FAZAL   \n",
       "1  1265604870                      JOHNSON                     PETER   \n",
       "2  1295731255                     MCMANMON                  JONATHAN   \n",
       "3  1356337398                        EAKES                      KIRK   \n",
       "4  1265409056                         WYNN                      SARA   \n",
       "\n",
       "  nppes_provider_city nppes_provider_state specialty_description  \\\n",
       "0              GORMAN                   IN             Optometry   \n",
       "1     FOUNTAIN VALLEY                   IL    Nurse Practitioner   \n",
       "2       POMPANO BEACH                   IA       Family Practice   \n",
       "3              AUSTIN                   VA            Nephrology   \n",
       "4              SMYRNA                   OR   Physician Assistant   \n",
       "\n",
       "  description_flag            drug_name           generic_name  bene_count  \\\n",
       "0                S  HYDROCHLOROTHIAZIDE  CLOPIDOGREL BISULFATE         NaN   \n",
       "1                S        OXYCODONE HCL            GLIMEPIRIDE         NaN   \n",
       "2                S        MECLIZINE HCL             GABAPENTIN        27.0   \n",
       "3                S      WARFARIN SODIUM        ZIPRASIDONE HCL        21.0   \n",
       "4                S       PAROXETINE HCL          VALPROIC ACID         NaN   \n",
       "\n",
       "   ...  total_30_day_fill_count  total_day_supply  total_drug_cost  \\\n",
       "0  ...                     30.0             16800          1075.11   \n",
       "1  ...                     12.0              3510           532.98   \n",
       "2  ...                     14.3              1440           485.72   \n",
       "3  ...                     23.0               600           256.14   \n",
       "4  ...                    112.0              1680          4013.17   \n",
       "\n",
       "   bene_count_ge65  bene_count_ge65_suppress_flag total_claim_count_ge65  \\\n",
       "0              NaN                              *                    NaN   \n",
       "1              NaN                            NaN                   27.0   \n",
       "2              NaN                              #                   46.0   \n",
       "3              NaN                              #                   11.0   \n",
       "4              NaN                              *                   14.0   \n",
       "\n",
       "   ge65_suppress_flag total_30_day_fill_count_ge65  total_day_supply_ge65  \\\n",
       "0                   #                         15.0                 1140.0   \n",
       "1                   *                          0.0                  364.0   \n",
       "2                 NaN                         38.0                    NaN   \n",
       "3                 NaN                          NaN                    NaN   \n",
       "4                   #                         88.9                    NaN   \n",
       "\n",
       "   total_drug_cost_ge65  \n",
       "0                   NaN  \n",
       "1                937.41  \n",
       "2                  0.00  \n",
       "3                  0.00  \n",
       "4                   NaN  \n",
       "\n",
       "[5 rows x 21 columns]"
      ]
     },
     "execution_count": 4,
     "metadata": {},
     "output_type": "execute_result"
    }
   ],
   "source": [
    "df.head()"
   ]
  },
  {
   "cell_type": "code",
   "execution_count": 6,
   "metadata": {},
   "outputs": [
    {
     "data": {
      "text/plain": [
       "npi                                int64\n",
       "nppes_provider_last_org_name      object\n",
       "nppes_provider_first_name         object\n",
       "nppes_provider_city               object\n",
       "nppes_provider_state              object\n",
       "specialty_description             object\n",
       "description_flag                  object\n",
       "drug_name                         object\n",
       "generic_name                      object\n",
       "bene_count                       float64\n",
       "total_claim_count                  int64\n",
       "total_30_day_fill_count          float64\n",
       "total_day_supply                   int64\n",
       "total_drug_cost                  float64\n",
       "bene_count_ge65                  float64\n",
       "bene_count_ge65_suppress_flag     object\n",
       "total_claim_count_ge65           float64\n",
       "ge65_suppress_flag                object\n",
       "total_30_day_fill_count_ge65     float64\n",
       "total_day_supply_ge65            float64\n",
       "total_drug_cost_ge65             float64\n",
       "dtype: object"
      ]
     },
     "execution_count": 6,
     "metadata": {},
     "output_type": "execute_result"
    }
   ],
   "source": [
    "df.dtypes"
   ]
  },
  {
   "cell_type": "code",
   "execution_count": 28,
   "metadata": {},
   "outputs": [
    {
     "data": {
      "text/plain": [
       "100000"
      ]
     },
     "execution_count": 28,
     "metadata": {},
     "output_type": "execute_result"
    }
   ],
   "source": [
    "df.shape[0]"
   ]
  },
  {
   "cell_type": "code",
   "execution_count": 26,
   "metadata": {},
   "outputs": [
    {
     "data": {
      "text/plain": [
       "npi                                  0\n",
       "nppes_provider_last_org_name         3\n",
       "nppes_provider_first_name            2\n",
       "nppes_provider_city                  0\n",
       "nppes_provider_state                 0\n",
       "specialty_description                0\n",
       "description_flag                     0\n",
       "drug_name                            0\n",
       "generic_name                         0\n",
       "bene_count                       61372\n",
       "total_claim_count                    0\n",
       "total_30_day_fill_count              0\n",
       "total_day_supply                     0\n",
       "total_drug_cost                      0\n",
       "bene_count_ge65                  86087\n",
       "bene_count_ge65_suppress_flag    13841\n",
       "total_claim_count_ge65           42521\n",
       "ge65_suppress_flag               57945\n",
       "total_30_day_fill_count_ge65     42103\n",
       "total_day_supply_ge65            42236\n",
       "total_drug_cost_ge65             42339\n",
       "dtype: int64"
      ]
     },
     "execution_count": 26,
     "metadata": {},
     "output_type": "execute_result"
    }
   ],
   "source": [
    "df.isnull().sum()"
   ]
  },
  {
   "cell_type": "code",
   "execution_count": 35,
   "metadata": {},
   "outputs": [
    {
     "data": {
      "text/plain": [
       "bene_count_ge65                  0.86087\n",
       "bene_count                       0.61372\n",
       "ge65_suppress_flag               0.57945\n",
       "total_claim_count_ge65           0.42521\n",
       "total_drug_cost_ge65             0.42339\n",
       "total_day_supply_ge65            0.42236\n",
       "total_30_day_fill_count_ge65     0.42103\n",
       "bene_count_ge65_suppress_flag    0.13841\n",
       "nppes_provider_last_org_name     0.00003\n",
       "nppes_provider_first_name        0.00002\n",
       "total_day_supply                 0.00000\n",
       "total_drug_cost                  0.00000\n",
       "npi                              0.00000\n",
       "total_30_day_fill_count          0.00000\n",
       "generic_name                     0.00000\n",
       "drug_name                        0.00000\n",
       "description_flag                 0.00000\n",
       "specialty_description            0.00000\n",
       "nppes_provider_state             0.00000\n",
       "nppes_provider_city              0.00000\n",
       "total_claim_count                0.00000\n",
       "dtype: float64"
      ]
     },
     "execution_count": 35,
     "metadata": {},
     "output_type": "execute_result"
    }
   ],
   "source": [
    "df.isnull().sum().sort_values(ascending=False)/df.shape[0]\n",
    "# Note que temos um percentual alto de nulos em algumas colunas, devemos avalias."
   ]
  },
  {
   "cell_type": "code",
   "execution_count": 36,
   "metadata": {},
   "outputs": [
    {
     "data": {
      "text/html": [
       "<div>\n",
       "<style scoped>\n",
       "    .dataframe tbody tr th:only-of-type {\n",
       "        vertical-align: middle;\n",
       "    }\n",
       "\n",
       "    .dataframe tbody tr th {\n",
       "        vertical-align: top;\n",
       "    }\n",
       "\n",
       "    .dataframe thead th {\n",
       "        text-align: right;\n",
       "    }\n",
       "</style>\n",
       "<table border=\"1\" class=\"dataframe\">\n",
       "  <thead>\n",
       "    <tr style=\"text-align: right;\">\n",
       "      <th></th>\n",
       "      <th>npi</th>\n",
       "      <th>bene_count</th>\n",
       "      <th>total_claim_count</th>\n",
       "      <th>total_30_day_fill_count</th>\n",
       "      <th>total_day_supply</th>\n",
       "      <th>total_drug_cost</th>\n",
       "      <th>bene_count_ge65</th>\n",
       "      <th>total_claim_count_ge65</th>\n",
       "      <th>total_30_day_fill_count_ge65</th>\n",
       "      <th>total_day_supply_ge65</th>\n",
       "      <th>total_drug_cost_ge65</th>\n",
       "    </tr>\n",
       "  </thead>\n",
       "  <tbody>\n",
       "    <tr>\n",
       "      <th>count</th>\n",
       "      <td>1.000000e+05</td>\n",
       "      <td>38628.000000</td>\n",
       "      <td>100000.000000</td>\n",
       "      <td>100000.000000</td>\n",
       "      <td>100000.000000</td>\n",
       "      <td>1.000000e+05</td>\n",
       "      <td>13913.000000</td>\n",
       "      <td>57479.000000</td>\n",
       "      <td>57897.000000</td>\n",
       "      <td>57764.000000</td>\n",
       "      <td>5.766100e+04</td>\n",
       "    </tr>\n",
       "    <tr>\n",
       "      <th>mean</th>\n",
       "      <td>1.498548e+09</td>\n",
       "      <td>28.713576</td>\n",
       "      <td>51.137660</td>\n",
       "      <td>74.597419</td>\n",
       "      <td>2109.676730</td>\n",
       "      <td>4.245201e+03</td>\n",
       "      <td>19.835118</td>\n",
       "      <td>48.060909</td>\n",
       "      <td>73.799373</td>\n",
       "      <td>2062.670591</td>\n",
       "      <td>3.465718e+03</td>\n",
       "    </tr>\n",
       "    <tr>\n",
       "      <th>std</th>\n",
       "      <td>2.880663e+08</td>\n",
       "      <td>27.706786</td>\n",
       "      <td>84.221171</td>\n",
       "      <td>129.506376</td>\n",
       "      <td>3929.466465</td>\n",
       "      <td>2.567230e+04</td>\n",
       "      <td>32.208941</td>\n",
       "      <td>94.803685</td>\n",
       "      <td>138.798766</td>\n",
       "      <td>3872.993071</td>\n",
       "      <td>2.243156e+04</td>\n",
       "    </tr>\n",
       "    <tr>\n",
       "      <th>min</th>\n",
       "      <td>1.003000e+09</td>\n",
       "      <td>11.000000</td>\n",
       "      <td>11.000000</td>\n",
       "      <td>11.000000</td>\n",
       "      <td>11.000000</td>\n",
       "      <td>0.000000e+00</td>\n",
       "      <td>0.000000</td>\n",
       "      <td>0.000000</td>\n",
       "      <td>0.000000</td>\n",
       "      <td>0.000000</td>\n",
       "      <td>0.000000e+00</td>\n",
       "    </tr>\n",
       "    <tr>\n",
       "      <th>0.1%</th>\n",
       "      <td>1.003084e+09</td>\n",
       "      <td>11.000000</td>\n",
       "      <td>11.000000</td>\n",
       "      <td>11.000000</td>\n",
       "      <td>22.999000</td>\n",
       "      <td>2.555999e+01</td>\n",
       "      <td>0.000000</td>\n",
       "      <td>0.000000</td>\n",
       "      <td>0.000000</td>\n",
       "      <td>0.000000</td>\n",
       "      <td>0.000000e+00</td>\n",
       "    </tr>\n",
       "    <tr>\n",
       "      <th>1%</th>\n",
       "      <td>1.003999e+09</td>\n",
       "      <td>11.000000</td>\n",
       "      <td>11.000000</td>\n",
       "      <td>11.000000</td>\n",
       "      <td>68.000000</td>\n",
       "      <td>4.535980e+01</td>\n",
       "      <td>0.000000</td>\n",
       "      <td>0.000000</td>\n",
       "      <td>0.000000</td>\n",
       "      <td>0.000000</td>\n",
       "      <td>0.000000e+00</td>\n",
       "    </tr>\n",
       "    <tr>\n",
       "      <th>10%</th>\n",
       "      <td>1.104009e+09</td>\n",
       "      <td>12.000000</td>\n",
       "      <td>12.000000</td>\n",
       "      <td>13.000000</td>\n",
       "      <td>288.000000</td>\n",
       "      <td>1.204800e+02</td>\n",
       "      <td>0.000000</td>\n",
       "      <td>11.000000</td>\n",
       "      <td>11.000000</td>\n",
       "      <td>107.000000</td>\n",
       "      <td>5.459000e+01</td>\n",
       "    </tr>\n",
       "    <tr>\n",
       "      <th>25%</th>\n",
       "      <td>1.245488e+09</td>\n",
       "      <td>14.000000</td>\n",
       "      <td>15.000000</td>\n",
       "      <td>19.000000</td>\n",
       "      <td>449.000000</td>\n",
       "      <td>2.517975e+02</td>\n",
       "      <td>0.000000</td>\n",
       "      <td>13.000000</td>\n",
       "      <td>15.600000</td>\n",
       "      <td>390.000000</td>\n",
       "      <td>1.984100e+02</td>\n",
       "    </tr>\n",
       "    <tr>\n",
       "      <th>50%</th>\n",
       "      <td>1.497844e+09</td>\n",
       "      <td>20.000000</td>\n",
       "      <td>24.000000</td>\n",
       "      <td>34.000000</td>\n",
       "      <td>900.000000</td>\n",
       "      <td>6.761400e+02</td>\n",
       "      <td>13.000000</td>\n",
       "      <td>21.000000</td>\n",
       "      <td>31.000000</td>\n",
       "      <td>854.000000</td>\n",
       "      <td>5.987300e+02</td>\n",
       "    </tr>\n",
       "    <tr>\n",
       "      <th>75%</th>\n",
       "      <td>1.740577e+09</td>\n",
       "      <td>32.000000</td>\n",
       "      <td>51.000000</td>\n",
       "      <td>72.000000</td>\n",
       "      <td>2010.000000</td>\n",
       "      <td>2.363220e+03</td>\n",
       "      <td>24.000000</td>\n",
       "      <td>46.000000</td>\n",
       "      <td>69.000000</td>\n",
       "      <td>1950.000000</td>\n",
       "      <td>2.104990e+03</td>\n",
       "    </tr>\n",
       "    <tr>\n",
       "      <th>90%</th>\n",
       "      <td>1.902008e+09</td>\n",
       "      <td>55.000000</td>\n",
       "      <td>111.000000</td>\n",
       "      <td>165.410000</td>\n",
       "      <td>4830.000000</td>\n",
       "      <td>7.657301e+03</td>\n",
       "      <td>47.000000</td>\n",
       "      <td>109.000000</td>\n",
       "      <td>171.000000</td>\n",
       "      <td>4860.000000</td>\n",
       "      <td>6.550970e+03</td>\n",
       "    </tr>\n",
       "    <tr>\n",
       "      <th>99%</th>\n",
       "      <td>1.982947e+09</td>\n",
       "      <td>140.000000</td>\n",
       "      <td>406.000000</td>\n",
       "      <td>653.300000</td>\n",
       "      <td>19541.110000</td>\n",
       "      <td>5.477240e+04</td>\n",
       "      <td>147.000000</td>\n",
       "      <td>414.000000</td>\n",
       "      <td>690.020000</td>\n",
       "      <td>19626.660000</td>\n",
       "      <td>4.349965e+04</td>\n",
       "    </tr>\n",
       "    <tr>\n",
       "      <th>99.9%</th>\n",
       "      <td>1.992909e+09</td>\n",
       "      <td>276.865000</td>\n",
       "      <td>913.000000</td>\n",
       "      <td>1317.003000</td>\n",
       "      <td>41398.136000</td>\n",
       "      <td>3.089698e+05</td>\n",
       "      <td>318.088000</td>\n",
       "      <td>840.088000</td>\n",
       "      <td>1439.970400</td>\n",
       "      <td>39770.175000</td>\n",
       "      <td>2.038282e+05</td>\n",
       "    </tr>\n",
       "    <tr>\n",
       "      <th>max</th>\n",
       "      <td>1.993000e+09</td>\n",
       "      <td>626.000000</td>\n",
       "      <td>3342.000000</td>\n",
       "      <td>5278.500000</td>\n",
       "      <td>150519.000000</td>\n",
       "      <td>2.884893e+06</td>\n",
       "      <td>840.000000</td>\n",
       "      <td>10718.000000</td>\n",
       "      <td>4912.000000</td>\n",
       "      <td>90748.000000</td>\n",
       "      <td>3.042494e+06</td>\n",
       "    </tr>\n",
       "  </tbody>\n",
       "</table>\n",
       "</div>"
      ],
      "text/plain": [
       "                npi    bene_count  total_claim_count  total_30_day_fill_count  \\\n",
       "count  1.000000e+05  38628.000000      100000.000000            100000.000000   \n",
       "mean   1.498548e+09     28.713576          51.137660                74.597419   \n",
       "std    2.880663e+08     27.706786          84.221171               129.506376   \n",
       "min    1.003000e+09     11.000000          11.000000                11.000000   \n",
       "0.1%   1.003084e+09     11.000000          11.000000                11.000000   \n",
       "1%     1.003999e+09     11.000000          11.000000                11.000000   \n",
       "10%    1.104009e+09     12.000000          12.000000                13.000000   \n",
       "25%    1.245488e+09     14.000000          15.000000                19.000000   \n",
       "50%    1.497844e+09     20.000000          24.000000                34.000000   \n",
       "75%    1.740577e+09     32.000000          51.000000                72.000000   \n",
       "90%    1.902008e+09     55.000000         111.000000               165.410000   \n",
       "99%    1.982947e+09    140.000000         406.000000               653.300000   \n",
       "99.9%  1.992909e+09    276.865000         913.000000              1317.003000   \n",
       "max    1.993000e+09    626.000000        3342.000000              5278.500000   \n",
       "\n",
       "       total_day_supply  total_drug_cost  bene_count_ge65  \\\n",
       "count     100000.000000     1.000000e+05     13913.000000   \n",
       "mean        2109.676730     4.245201e+03        19.835118   \n",
       "std         3929.466465     2.567230e+04        32.208941   \n",
       "min           11.000000     0.000000e+00         0.000000   \n",
       "0.1%          22.999000     2.555999e+01         0.000000   \n",
       "1%            68.000000     4.535980e+01         0.000000   \n",
       "10%          288.000000     1.204800e+02         0.000000   \n",
       "25%          449.000000     2.517975e+02         0.000000   \n",
       "50%          900.000000     6.761400e+02        13.000000   \n",
       "75%         2010.000000     2.363220e+03        24.000000   \n",
       "90%         4830.000000     7.657301e+03        47.000000   \n",
       "99%        19541.110000     5.477240e+04       147.000000   \n",
       "99.9%      41398.136000     3.089698e+05       318.088000   \n",
       "max       150519.000000     2.884893e+06       840.000000   \n",
       "\n",
       "       total_claim_count_ge65  total_30_day_fill_count_ge65  \\\n",
       "count            57479.000000                  57897.000000   \n",
       "mean                48.060909                     73.799373   \n",
       "std                 94.803685                    138.798766   \n",
       "min                  0.000000                      0.000000   \n",
       "0.1%                 0.000000                      0.000000   \n",
       "1%                   0.000000                      0.000000   \n",
       "10%                 11.000000                     11.000000   \n",
       "25%                 13.000000                     15.600000   \n",
       "50%                 21.000000                     31.000000   \n",
       "75%                 46.000000                     69.000000   \n",
       "90%                109.000000                    171.000000   \n",
       "99%                414.000000                    690.020000   \n",
       "99.9%              840.088000                   1439.970400   \n",
       "max              10718.000000                   4912.000000   \n",
       "\n",
       "       total_day_supply_ge65  total_drug_cost_ge65  \n",
       "count           57764.000000          5.766100e+04  \n",
       "mean             2062.670591          3.465718e+03  \n",
       "std              3872.993071          2.243156e+04  \n",
       "min                 0.000000          0.000000e+00  \n",
       "0.1%                0.000000          0.000000e+00  \n",
       "1%                  0.000000          0.000000e+00  \n",
       "10%               107.000000          5.459000e+01  \n",
       "25%               390.000000          1.984100e+02  \n",
       "50%               854.000000          5.987300e+02  \n",
       "75%              1950.000000          2.104990e+03  \n",
       "90%              4860.000000          6.550970e+03  \n",
       "99%             19626.660000          4.349965e+04  \n",
       "99.9%           39770.175000          2.038282e+05  \n",
       "max             90748.000000          3.042494e+06  "
      ]
     },
     "execution_count": 36,
     "metadata": {},
     "output_type": "execute_result"
    }
   ],
   "source": [
    "df.describe(percentiles=[0.001,.01,.1,.25,.5,.75,.9,.99,.999])\n",
    "# Vemos que temos alguns outliers, onde 99,9% dos dados estão até  913 no total claim count,\n",
    "# mas depois tem uma cauda até 3342."
   ]
  },
  {
   "cell_type": "code",
   "execution_count": 63,
   "metadata": {},
   "outputs": [
    {
     "data": {
      "image/png": "[encoded data removed]",
      "text/plain": [
       "<Figure size 432x288 with 1 Axes>"
      ]
     },
     "metadata": {
      "needs_background": "light"
     },
     "output_type": "display_data"
    }
   ],
   "source": [
    "df[\"bene_count_ge65\"].dropna().hist(bins=20)\n",
    "plt.show()\n",
    "# Aqui estamos tirando os NA para depois plotar o histograma desta coluna."
   ]
  },
  {
   "cell_type": "code",
   "execution_count": 58,
   "metadata": {},
   "outputs": [
    {
     "data": {
      "text/plain": [
       "npi                              12383\n",
       "nppes_provider_last_org_name     12383\n",
       "nppes_provider_first_name        12383\n",
       "nppes_provider_city              12383\n",
       "nppes_provider_state             12383\n",
       "specialty_description            12383\n",
       "description_flag                 12383\n",
       "drug_name                        12383\n",
       "generic_name                     12383\n",
       "bene_count                        4693\n",
       "total_claim_count                12383\n",
       "total_30_day_fill_count          12383\n",
       "total_day_supply                 12383\n",
       "total_drug_cost                  12383\n",
       "bene_count_ge65                  12383\n",
       "bene_count_ge65_suppress_flag    10709\n",
       "total_claim_count_ge65            7129\n",
       "ge65_suppress_flag                5276\n",
       "total_30_day_fill_count_ge65      7211\n",
       "total_day_supply_ge65             7216\n",
       "total_drug_cost_ge65              7089\n",
       "dtype: int64"
      ]
     },
     "execution_count": 58,
     "metadata": {},
     "output_type": "execute_result"
    }
   ],
   "source": [
    "df[df[\"bene_count_ge65\"]<45].count()\n",
    "# Usei 45 pq fiz 913 (99,9% dos dados) -11 (0,1% dos dados) e dividi por 20 (20 bins)"
   ]
  },
  {
   "cell_type": "code",
   "execution_count": 78,
   "metadata": {},
   "outputs": [
    {
     "data": {
      "image/png": "[encoded data removed]",
      "text/plain": [
       "<Figure size 432x288 with 1 Axes>"
      ]
     },
     "metadata": {
      "needs_background": "light"
     },
     "output_type": "display_data"
    }
   ],
   "source": [
    "df.loc[df[\"bene_count_ge65\"]<200,\"bene_count_ge65\"].dropna().hist(bins=20)\n",
    "plt.show()\n",
    "# Aqui tiramos aqueles outliers visivelmente presentes no primeiro gráfico, para vermos melhor."
   ]
  },
  {
   "cell_type": "code",
   "execution_count": 83,
   "metadata": {},
   "outputs": [
    {
     "data": {
      "text/plain": [
       "S    97586\n",
       "T     2414\n",
       "Name: description_flag, dtype: int64"
      ]
     },
     "execution_count": 83,
     "metadata": {},
     "output_type": "execute_result"
    }
   ],
   "source": [
    "df[\"description_flag\"].value_counts(dropna=False)\n",
    "# vendo se a flag só tem true ou falso de verdade"
   ]
  },
  {
   "cell_type": "code",
   "execution_count": 86,
   "metadata": {},
   "outputs": [
    {
     "data": {
      "text/plain": [
       "S    97586\n",
       "T     2414\n",
       "Name: description_flag, dtype: int64"
      ]
     },
     "execution_count": 86,
     "metadata": {},
     "output_type": "execute_result"
    }
   ],
   "source": [
    "df.description_flag.value_counts(dropna=False)"
   ]
  },
  {
   "cell_type": "code",
   "execution_count": 94,
   "metadata": {},
   "outputs": [
    {
     "data": {
      "text/plain": [
       "NaN    57945\n",
       "#      27365\n",
       "*      14690\n",
       "Name: ge65_suppress_flag, dtype: int64"
      ]
     },
     "execution_count": 94,
     "metadata": {},
     "output_type": "execute_result"
    }
   ],
   "source": [
    "df.ge65_suppress_flag.value_counts(dropna=False)"
   ]
  },
  {
   "cell_type": "code",
   "execution_count": 96,
   "metadata": {},
   "outputs": [
    {
     "data": {
      "text/html": [
       "<div>\n",
       "<style scoped>\n",
       "    .dataframe tbody tr th:only-of-type {\n",
       "        vertical-align: middle;\n",
       "    }\n",
       "\n",
       "    .dataframe tbody tr th {\n",
       "        vertical-align: top;\n",
       "    }\n",
       "\n",
       "    .dataframe thead th {\n",
       "        text-align: right;\n",
       "    }\n",
       "</style>\n",
       "<table border=\"1\" class=\"dataframe\">\n",
       "  <thead>\n",
       "    <tr style=\"text-align: right;\">\n",
       "      <th></th>\n",
       "      <th>description_flag</th>\n",
       "      <th>ge65_suppress_flag</th>\n",
       "    </tr>\n",
       "  </thead>\n",
       "  <tbody>\n",
       "    <tr>\n",
       "      <th>S</th>\n",
       "      <td>97586.0</td>\n",
       "      <td>NaN</td>\n",
       "    </tr>\n",
       "    <tr>\n",
       "      <th>T</th>\n",
       "      <td>2414.0</td>\n",
       "      <td>NaN</td>\n",
       "    </tr>\n",
       "    <tr>\n",
       "      <th>NaN</th>\n",
       "      <td>NaN</td>\n",
       "      <td>57945.0</td>\n",
       "    </tr>\n",
       "    <tr>\n",
       "      <th>#</th>\n",
       "      <td>NaN</td>\n",
       "      <td>27365.0</td>\n",
       "    </tr>\n",
       "    <tr>\n",
       "      <th>*</th>\n",
       "      <td>NaN</td>\n",
       "      <td>14690.0</td>\n",
       "    </tr>\n",
       "  </tbody>\n",
       "</table>\n",
       "</div>"
      ],
      "text/plain": [
       "     description_flag  ge65_suppress_flag\n",
       "S             97586.0                 NaN\n",
       "T              2414.0                 NaN\n",
       "NaN               NaN             57945.0\n",
       "#                 NaN             27365.0\n",
       "*                 NaN             14690.0"
      ]
     },
     "execution_count": 96,
     "metadata": {},
     "output_type": "execute_result"
    }
   ],
   "source": [
    "df[[\"description_flag\",\"ge65_suppress_flag\"]].apply(pd.Series.value_counts,dropna=False)\n",
    "# Fazendo a mesma coisa de cima, mas para mais de uma coluna de uma vez\n",
    "# Aqui vemos que a primeira coluna tem somente S e T\n",
    "# Enquanto a segunda coluna tem NaN, # e *"
   ]
  },
  {
   "cell_type": "code",
   "execution_count": 104,
   "metadata": {},
   "outputs": [
    {
     "data": {
      "text/plain": [
       "<AxesSubplot:>"
      ]
     },
     "execution_count": 104,
     "metadata": {},
     "output_type": "execute_result"
    },
    {
     "data": {
      "image/png": "[encoded data removed]",
      "text/plain": [
       "<Figure size 1080x360 with 1 Axes>"
      ]
     },
     "metadata": {
      "needs_background": "light"
     },
     "output_type": "display_data"
    }
   ],
   "source": [
    "# Fazendo gráfico\n",
    "fig, axs = plt.subplots(figsize=(15,5))\n",
    "df[\"nppes_provider_state\"].value_counts(dropna=False).plot(kind=\"bar\")"
   ]
  },
  {
   "cell_type": "code",
   "execution_count": null,
   "metadata": {},
   "outputs": [],
   "source": []
  }
 ],
 "metadata": {
  "interpreter": {
   "hash": "6f5583cf1d9466b5c27e75c89cc6b383bed5736d6b16c51c8074d8690011a952"
  },
  "kernelspec": {
   "display_name": "Python 3.8.12 ('base')",
   "language": "python",
   "name": "python3"
  },
  "language_info": {
   "codemirror_mode": {
    "name": "ipython",
    "version": 3
   },
   "file_extension": ".py",
   "mimetype": "text/x-python",
   "name": "python",
   "nbconvert_exporter": "python",
   "pygments_lexer": "ipython3",
   "version": "3.8.12"
  },
  "orig_nbformat": 4
 },
 "nbformat": 4,
 "nbformat_minor": 2
}
