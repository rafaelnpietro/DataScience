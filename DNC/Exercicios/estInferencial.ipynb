{
  "cells": [
    {
      "cell_type": "code",
      "execution_count": 1,
      "metadata": {
        "id": "Q_-BG5B26KWf"
      },
      "outputs": [],
      "source": [
        "import numpy as np\n",
        "import pandas as pd\n",
        "\n",
        "import matplotlib.pyplot as plt\n",
        "import seaborn as sns\n",
        "\n",
        "from scipy.stats import norm\n",
        "import scipy.stats as st\n",
        "\n",
        "import os\n",
        "import random"
      ]
    },
    {
      "cell_type": "markdown",
      "metadata": {
        "id": "7_snsFzp6KWl"
      },
      "source": [
        "### Amostragem"
      ]
    },
    {
      "cell_type": "markdown",
      "metadata": {
        "id": "ckqeL_zR6KWm"
      },
      "source": [
        "Uma produtora deseja fazer um estudo sobre qualidade de queijos e, para isso, conduzir uma amostragem simples aleatória de 20 queijos de um lote de 100. Cada queijo recebeu uma identificação numérica. "
      ]
    },
    {
      "cell_type": "code",
      "execution_count": 14,
      "metadata": {
        "id": "4yfvqE_26KWn"
      },
      "outputs": [
        {
          "data": {
            "text/plain": [
              "[1,\n",
              " 2,\n",
              " 3,\n",
              " 4,\n",
              " 5,\n",
              " 6,\n",
              " 7,\n",
              " 8,\n",
              " 9,\n",
              " 10,\n",
              " 11,\n",
              " 12,\n",
              " 13,\n",
              " 14,\n",
              " 15,\n",
              " 16,\n",
              " 17,\n",
              " 18,\n",
              " 19,\n",
              " 20,\n",
              " 21,\n",
              " 22,\n",
              " 23,\n",
              " 24,\n",
              " 25,\n",
              " 26,\n",
              " 27,\n",
              " 28,\n",
              " 29,\n",
              " 30,\n",
              " 31,\n",
              " 32,\n",
              " 33,\n",
              " 34,\n",
              " 35,\n",
              " 36,\n",
              " 37,\n",
              " 38,\n",
              " 39,\n",
              " 40,\n",
              " 41,\n",
              " 42,\n",
              " 43,\n",
              " 44,\n",
              " 45,\n",
              " 46,\n",
              " 47,\n",
              " 48,\n",
              " 49,\n",
              " 50,\n",
              " 51,\n",
              " 52,\n",
              " 53,\n",
              " 54,\n",
              " 55,\n",
              " 56,\n",
              " 57,\n",
              " 58,\n",
              " 59,\n",
              " 60,\n",
              " 61,\n",
              " 62,\n",
              " 63,\n",
              " 64,\n",
              " 65,\n",
              " 66,\n",
              " 67,\n",
              " 68,\n",
              " 69,\n",
              " 70,\n",
              " 71,\n",
              " 72,\n",
              " 73,\n",
              " 74,\n",
              " 75,\n",
              " 76,\n",
              " 77,\n",
              " 78,\n",
              " 79,\n",
              " 80,\n",
              " 81,\n",
              " 82,\n",
              " 83,\n",
              " 84,\n",
              " 85,\n",
              " 86,\n",
              " 87,\n",
              " 88,\n",
              " 89,\n",
              " 90,\n",
              " 91,\n",
              " 92,\n",
              " 93,\n",
              " 94,\n",
              " 95,\n",
              " 96,\n",
              " 97,\n",
              " 98,\n",
              " 99,\n",
              " 100]"
            ]
          },
          "execution_count": 14,
          "metadata": {},
          "output_type": "execute_result"
        }
      ],
      "source": [
        "lista_queijos = list(range(1,101))\n",
        "lista_queijos"
      ]
    },
    {
      "cell_type": "code",
      "execution_count": null,
      "metadata": {
        "id": "mhWwQ68Z6KWo",
        "outputId": "d030365a-8f4c-4810-8748-496cb8d9bb4d"
      },
      "outputs": [
        {
          "data": {
            "text/plain": [
              "[52, 62, 55, 24, 95, 74, 1, 13, 3, 48, 22, 5, 96, 54, 41, 43, 85, 87, 60, 75]"
            ]
          },
          "execution_count": 86,
          "metadata": {
            "tags": []
          },
          "output_type": "execute_result"
        }
      ],
      "source": [
        "random_sample_queijos = random.sample(lista_queijos, k=20)\n",
        "random_sample_queijos"
      ]
    },
    {
      "cell_type": "markdown",
      "metadata": {
        "id": "HnEIxf2N6KWq"
      },
      "source": [
        "Um grupo de pesquisa deseja estudar nível de educação em algumas cidades do Brasil. Para isso, precisam selecionar da população original, 2 itens de cada uma das cidades consideradas no estudo para incluir na amostra. "
      ]
    },
    {
      "cell_type": "code",
      "execution_count": 3,
      "metadata": {
        "id": "YJJ80WmW6KWq"
      },
      "outputs": [],
      "source": [
        "cidades = {\"cidade\": [\"Belo Horizonte\",\"Porto Alegre\", \"Rio de Janeiro\", \"Belem\",\n",
        "                      \"Porto Alegre\", \"Porto Alegre\",\"Vitoria\", \"Maceio\",\"Belem\",\n",
        "                     \"Belo Horizonte\", \"Maceio\", \"Vitoria\", \"Belem\", \"Rio de Janeiro\",\"Belo Horizonte\",\"Porto Alegre\", \"Belo Horizonte\",\n",
        "                     \"Belo Horizonte\", \"Belem\",\"Porto Alegre\", \"Vitoria\", \"Rio de Janeiro\",\n",
        "                      \"Belo Horizonte\", \"Belem\", \"Maceio\", \"Vitoria\"]}"
      ]
    },
    {
      "cell_type": "code",
      "execution_count": 16,
      "metadata": {
        "id": "93Bx1Wue6KWq",
        "outputId": "83cd3201-4b34-4c42-8c0e-af930223647c"
      },
      "outputs": [
        {
          "data": {
            "text/html": [
              "<div>\n",
              "<style scoped>\n",
              "    .dataframe tbody tr th:only-of-type {\n",
              "        vertical-align: middle;\n",
              "    }\n",
              "\n",
              "    .dataframe tbody tr th {\n",
              "        vertical-align: top;\n",
              "    }\n",
              "\n",
              "    .dataframe thead th {\n",
              "        text-align: right;\n",
              "    }\n",
              "</style>\n",
              "<table border=\"1\" class=\"dataframe\">\n",
              "  <thead>\n",
              "    <tr style=\"text-align: right;\">\n",
              "      <th></th>\n",
              "      <th>cidade</th>\n",
              "    </tr>\n",
              "  </thead>\n",
              "  <tbody>\n",
              "    <tr>\n",
              "      <th>0</th>\n",
              "      <td>Belo Horizonte</td>\n",
              "    </tr>\n",
              "    <tr>\n",
              "      <th>1</th>\n",
              "      <td>Porto Alegre</td>\n",
              "    </tr>\n",
              "    <tr>\n",
              "      <th>2</th>\n",
              "      <td>Rio de Janeiro</td>\n",
              "    </tr>\n",
              "    <tr>\n",
              "      <th>3</th>\n",
              "      <td>Belem</td>\n",
              "    </tr>\n",
              "    <tr>\n",
              "      <th>4</th>\n",
              "      <td>Porto Alegre</td>\n",
              "    </tr>\n",
              "    <tr>\n",
              "      <th>5</th>\n",
              "      <td>Porto Alegre</td>\n",
              "    </tr>\n",
              "    <tr>\n",
              "      <th>6</th>\n",
              "      <td>Vitoria</td>\n",
              "    </tr>\n",
              "    <tr>\n",
              "      <th>7</th>\n",
              "      <td>Maceio</td>\n",
              "    </tr>\n",
              "    <tr>\n",
              "      <th>8</th>\n",
              "      <td>Belem</td>\n",
              "    </tr>\n",
              "    <tr>\n",
              "      <th>9</th>\n",
              "      <td>Belo Horizonte</td>\n",
              "    </tr>\n",
              "    <tr>\n",
              "      <th>10</th>\n",
              "      <td>Maceio</td>\n",
              "    </tr>\n",
              "    <tr>\n",
              "      <th>11</th>\n",
              "      <td>Vitoria</td>\n",
              "    </tr>\n",
              "    <tr>\n",
              "      <th>12</th>\n",
              "      <td>Belem</td>\n",
              "    </tr>\n",
              "    <tr>\n",
              "      <th>13</th>\n",
              "      <td>Rio de Janeiro</td>\n",
              "    </tr>\n",
              "    <tr>\n",
              "      <th>14</th>\n",
              "      <td>Belo Horizonte</td>\n",
              "    </tr>\n",
              "    <tr>\n",
              "      <th>15</th>\n",
              "      <td>Porto Alegre</td>\n",
              "    </tr>\n",
              "    <tr>\n",
              "      <th>16</th>\n",
              "      <td>Belo Horizonte</td>\n",
              "    </tr>\n",
              "    <tr>\n",
              "      <th>17</th>\n",
              "      <td>Belo Horizonte</td>\n",
              "    </tr>\n",
              "    <tr>\n",
              "      <th>18</th>\n",
              "      <td>Belem</td>\n",
              "    </tr>\n",
              "    <tr>\n",
              "      <th>19</th>\n",
              "      <td>Porto Alegre</td>\n",
              "    </tr>\n",
              "    <tr>\n",
              "      <th>20</th>\n",
              "      <td>Vitoria</td>\n",
              "    </tr>\n",
              "    <tr>\n",
              "      <th>21</th>\n",
              "      <td>Rio de Janeiro</td>\n",
              "    </tr>\n",
              "    <tr>\n",
              "      <th>22</th>\n",
              "      <td>Belo Horizonte</td>\n",
              "    </tr>\n",
              "    <tr>\n",
              "      <th>23</th>\n",
              "      <td>Belem</td>\n",
              "    </tr>\n",
              "    <tr>\n",
              "      <th>24</th>\n",
              "      <td>Maceio</td>\n",
              "    </tr>\n",
              "    <tr>\n",
              "      <th>25</th>\n",
              "      <td>Vitoria</td>\n",
              "    </tr>\n",
              "  </tbody>\n",
              "</table>\n",
              "</div>"
            ],
            "text/plain": [
              "            cidade\n",
              "0   Belo Horizonte\n",
              "1     Porto Alegre\n",
              "2   Rio de Janeiro\n",
              "3            Belem\n",
              "4     Porto Alegre\n",
              "5     Porto Alegre\n",
              "6          Vitoria\n",
              "7           Maceio\n",
              "8            Belem\n",
              "9   Belo Horizonte\n",
              "10          Maceio\n",
              "11         Vitoria\n",
              "12           Belem\n",
              "13  Rio de Janeiro\n",
              "14  Belo Horizonte\n",
              "15    Porto Alegre\n",
              "16  Belo Horizonte\n",
              "17  Belo Horizonte\n",
              "18           Belem\n",
              "19    Porto Alegre\n",
              "20         Vitoria\n",
              "21  Rio de Janeiro\n",
              "22  Belo Horizonte\n",
              "23           Belem\n",
              "24          Maceio\n",
              "25         Vitoria"
            ]
          },
          "execution_count": 16,
          "metadata": {},
          "output_type": "execute_result"
        }
      ],
      "source": [
        "cidades_df = pd.DataFrame(data=cidades)\n",
        "cidades_df"
      ]
    },
    {
      "cell_type": "code",
      "execution_count": 17,
      "metadata": {
        "id": "WuCgo4fX6KWs",
        "outputId": "1c55307f-75f9-4b96-cb1c-c913c577084a"
      },
      "outputs": [
        {
          "data": {
            "text/html": [
              "<div>\n",
              "<style scoped>\n",
              "    .dataframe tbody tr th:only-of-type {\n",
              "        vertical-align: middle;\n",
              "    }\n",
              "\n",
              "    .dataframe tbody tr th {\n",
              "        vertical-align: top;\n",
              "    }\n",
              "\n",
              "    .dataframe thead th {\n",
              "        text-align: right;\n",
              "    }\n",
              "</style>\n",
              "<table border=\"1\" class=\"dataframe\">\n",
              "  <thead>\n",
              "    <tr style=\"text-align: right;\">\n",
              "      <th></th>\n",
              "      <th></th>\n",
              "      <th>cidade</th>\n",
              "    </tr>\n",
              "    <tr>\n",
              "      <th>cidade</th>\n",
              "      <th></th>\n",
              "      <th></th>\n",
              "    </tr>\n",
              "  </thead>\n",
              "  <tbody>\n",
              "    <tr>\n",
              "      <th rowspan=\"2\" valign=\"top\">Belem</th>\n",
              "      <th>8</th>\n",
              "      <td>Belem</td>\n",
              "    </tr>\n",
              "    <tr>\n",
              "      <th>23</th>\n",
              "      <td>Belem</td>\n",
              "    </tr>\n",
              "    <tr>\n",
              "      <th rowspan=\"2\" valign=\"top\">Belo Horizonte</th>\n",
              "      <th>0</th>\n",
              "      <td>Belo Horizonte</td>\n",
              "    </tr>\n",
              "    <tr>\n",
              "      <th>9</th>\n",
              "      <td>Belo Horizonte</td>\n",
              "    </tr>\n",
              "    <tr>\n",
              "      <th rowspan=\"2\" valign=\"top\">Maceio</th>\n",
              "      <th>7</th>\n",
              "      <td>Maceio</td>\n",
              "    </tr>\n",
              "    <tr>\n",
              "      <th>10</th>\n",
              "      <td>Maceio</td>\n",
              "    </tr>\n",
              "    <tr>\n",
              "      <th rowspan=\"2\" valign=\"top\">Porto Alegre</th>\n",
              "      <th>4</th>\n",
              "      <td>Porto Alegre</td>\n",
              "    </tr>\n",
              "    <tr>\n",
              "      <th>19</th>\n",
              "      <td>Porto Alegre</td>\n",
              "    </tr>\n",
              "    <tr>\n",
              "      <th rowspan=\"2\" valign=\"top\">Rio de Janeiro</th>\n",
              "      <th>2</th>\n",
              "      <td>Rio de Janeiro</td>\n",
              "    </tr>\n",
              "    <tr>\n",
              "      <th>13</th>\n",
              "      <td>Rio de Janeiro</td>\n",
              "    </tr>\n",
              "    <tr>\n",
              "      <th rowspan=\"2\" valign=\"top\">Vitoria</th>\n",
              "      <th>11</th>\n",
              "      <td>Vitoria</td>\n",
              "    </tr>\n",
              "    <tr>\n",
              "      <th>25</th>\n",
              "      <td>Vitoria</td>\n",
              "    </tr>\n",
              "  </tbody>\n",
              "</table>\n",
              "</div>"
            ],
            "text/plain": [
              "                           cidade\n",
              "cidade                           \n",
              "Belem          8            Belem\n",
              "               23           Belem\n",
              "Belo Horizonte 0   Belo Horizonte\n",
              "               9   Belo Horizonte\n",
              "Maceio         7           Maceio\n",
              "               10          Maceio\n",
              "Porto Alegre   4     Porto Alegre\n",
              "               19    Porto Alegre\n",
              "Rio de Janeiro 2   Rio de Janeiro\n",
              "               13  Rio de Janeiro\n",
              "Vitoria        11         Vitoria\n",
              "               25         Vitoria"
            ]
          },
          "execution_count": 17,
          "metadata": {},
          "output_type": "execute_result"
        }
      ],
      "source": [
        "cidades_df.groupby(\"cidade\").apply(lambda x: x.sample(2, random_state=42))"
      ]
    },
    {
      "cell_type": "code",
      "execution_count": null,
      "metadata": {
        "id": "rLoY2pkW6KWt",
        "outputId": "e21b3f2c-81d1-44cc-a866-292b96892812"
      },
      "outputs": [
        {
          "data": {
            "text/html": [
              "<div>\n",
              "<style scoped>\n",
              "    .dataframe tbody tr th:only-of-type {\n",
              "        vertical-align: middle;\n",
              "    }\n",
              "\n",
              "    .dataframe tbody tr th {\n",
              "        vertical-align: top;\n",
              "    }\n",
              "\n",
              "    .dataframe thead th {\n",
              "        text-align: right;\n",
              "    }\n",
              "</style>\n",
              "<table border=\"1\" class=\"dataframe\">\n",
              "  <thead>\n",
              "    <tr style=\"text-align: right;\">\n",
              "      <th></th>\n",
              "      <th>cidade</th>\n",
              "    </tr>\n",
              "  </thead>\n",
              "  <tbody>\n",
              "    <tr>\n",
              "      <th>8</th>\n",
              "      <td>Belem</td>\n",
              "    </tr>\n",
              "    <tr>\n",
              "      <th>23</th>\n",
              "      <td>Belem</td>\n",
              "    </tr>\n",
              "    <tr>\n",
              "      <th>0</th>\n",
              "      <td>Belo Horizonte</td>\n",
              "    </tr>\n",
              "    <tr>\n",
              "      <th>9</th>\n",
              "      <td>Belo Horizonte</td>\n",
              "    </tr>\n",
              "    <tr>\n",
              "      <th>7</th>\n",
              "      <td>Maceio</td>\n",
              "    </tr>\n",
              "    <tr>\n",
              "      <th>10</th>\n",
              "      <td>Maceio</td>\n",
              "    </tr>\n",
              "    <tr>\n",
              "      <th>4</th>\n",
              "      <td>Porto Alegre</td>\n",
              "    </tr>\n",
              "    <tr>\n",
              "      <th>19</th>\n",
              "      <td>Porto Alegre</td>\n",
              "    </tr>\n",
              "    <tr>\n",
              "      <th>2</th>\n",
              "      <td>Rio de Janeiro</td>\n",
              "    </tr>\n",
              "    <tr>\n",
              "      <th>13</th>\n",
              "      <td>Rio de Janeiro</td>\n",
              "    </tr>\n",
              "    <tr>\n",
              "      <th>11</th>\n",
              "      <td>Vitoria</td>\n",
              "    </tr>\n",
              "    <tr>\n",
              "      <th>25</th>\n",
              "      <td>Vitoria</td>\n",
              "    </tr>\n",
              "  </tbody>\n",
              "</table>\n",
              "</div>"
            ],
            "text/plain": [
              "            cidade\n",
              "8            Belem\n",
              "23           Belem\n",
              "0   Belo Horizonte\n",
              "9   Belo Horizonte\n",
              "7           Maceio\n",
              "10          Maceio\n",
              "4     Porto Alegre\n",
              "19    Porto Alegre\n",
              "2   Rio de Janeiro\n",
              "13  Rio de Janeiro\n",
              "11         Vitoria\n",
              "25         Vitoria"
            ]
          },
          "execution_count": 102,
          "metadata": {
            "tags": []
          },
          "output_type": "execute_result"
        }
      ],
      "source": [
        "cidades_df.groupby(\"cidade\", group_keys=False).apply(lambda x: x.sample(2, random_state=42)) \n",
        "# Assim some as chaves que representa cada uma das cidades no exemplo acima."
      ]
    },
    {
      "cell_type": "markdown",
      "metadata": {
        "id": "fKoABOUb6KWt"
      },
      "source": [
        "### Teorema do Limite Central"
      ]
    },
    {
      "cell_type": "code",
      "execution_count": 29,
      "metadata": {
        "id": "F6A0oDyM6KWu",
        "outputId": "75aa038c-e01b-4185-d9b1-5eebc09ea9a5"
      },
      "outputs": [
        {
          "data": {
            "text/plain": [
              "[1465.55,\n",
              " 1493.2,\n",
              " 1375.075,\n",
              " 1351.45,\n",
              " 1810.3,\n",
              " 1465.5,\n",
              " 1548.375,\n",
              " 1622.525,\n",
              " 1324.825,\n",
              " 1509.925,\n",
              " 1415.725,\n",
              " 1214.225,\n",
              " 1418.375,\n",
              " 1401.725,\n",
              " 1338.425,\n",
              " 1286.825,\n",
              " 1408.425,\n",
              " 1428.4,\n",
              " 1477.025,\n",
              " 1694.625]"
            ]
          },
          "execution_count": 29,
          "metadata": {},
          "output_type": "execute_result"
        }
      ],
      "source": [
        "pop = range(3000)\n",
        "means = []\n",
        "\n",
        "#montando distribuição amostral, n=40\n",
        "for i in range(20):\n",
        "    sample = random.sample(pop, k=40) #tira uma amostra de 40 elementos\n",
        "    means.append(np.mean(sample)) #tira a média desta amostra e adiciona ao means\n",
        "\n",
        "means"
      ]
    },
    {
      "cell_type": "code",
      "execution_count": 30,
      "metadata": {
        "id": "bNeONuRG6KWu",
        "outputId": "f518981e-8bd4-43a6-f20a-f0c9d406fe8c"
      },
      "outputs": [
        {
          "data": {
            "text/plain": [
              "1452.525"
            ]
          },
          "execution_count": 30,
          "metadata": {},
          "output_type": "execute_result"
        }
      ],
      "source": [
        "np.mean(means)"
      ]
    },
    {
      "cell_type": "code",
      "execution_count": 31,
      "metadata": {
        "id": "-lRdnmMe6KWu",
        "outputId": "d78699ac-5f86-40bc-bab3-ce45372fae8c"
      },
      "outputs": [
        {
          "data": {
            "text/plain": [
              "1499.5"
            ]
          },
          "execution_count": 31,
          "metadata": {},
          "output_type": "execute_result"
        }
      ],
      "source": [
        "np.mean(pop)"
      ]
    },
    {
      "cell_type": "markdown",
      "metadata": {
        "id": "Kd_0BdZB6KWv"
      },
      "source": [
        "### Distribuição Normal"
      ]
    },
    {
      "cell_type": "code",
      "execution_count": 36,
      "metadata": {
        "id": "JRRP-gT_6KWv",
        "outputId": "54a8546d-f000-4881-be06-f4b16a322ea6"
      },
      "outputs": [],
      "source": [
        "data= np.array([-10.        ,  -9.7979798 ,  -9.5959596 ,  -9.39393939,\n",
        "        -9.19191919,  -8.98989899,  -8.78787879,  -8.58585859,\n",
        "        -8.38383838,  -8.18181818,  -7.97979798,  -7.77777778,\n",
        "        -7.57575758,  -7.37373737,  -7.17171717,  -6.96969697,\n",
        "        -6.76767677,  -6.56565657,  -6.36363636,  -6.16161616,\n",
        "        -5.95959596,  -5.75757576,  -5.55555556,  -5.35353535,\n",
        "        -5.15151515,  -4.94949495,  -4.74747475,  -4.54545455,\n",
        "        -4.34343434,  -4.14141414,  -3.93939394,  -3.73737374,\n",
        "        -3.53535354,  -3.33333333,  -3.13131313,  -2.92929293,\n",
        "        -2.72727273,  -2.52525253,  -2.32323232,  -2.12121212,\n",
        "        -1.91919192,  -1.71717172,  -1.51515152,  -1.31313131,\n",
        "        -1.11111111,  -0.90909091,  -0.70707071,  -0.50505051,\n",
        "        -0.3030303 ,  -0.1010101 ,   0.1010101 ,   0.3030303 ,\n",
        "         0.50505051,   0.70707071,   0.90909091,   1.11111111,\n",
        "         1.31313131,   1.51515152,   1.71717172,   1.91919192,\n",
        "         2.12121212,   2.32323232,   2.52525253,   2.72727273,\n",
        "         2.92929293,   3.13131313,   3.33333333,   3.53535354,\n",
        "         3.73737374,   3.93939394,   4.14141414,   4.34343434,\n",
        "         4.54545455,   4.74747475,   4.94949495,   5.15151515,\n",
        "         5.35353535,   5.55555556,   5.75757576,   5.95959596,\n",
        "         6.16161616,   6.36363636,   6.56565657,   6.76767677,\n",
        "         6.96969697,   7.17171717,   7.37373737,   7.57575758,\n",
        "         7.77777778,   7.97979798,   8.18181818,   8.38383838,\n",
        "         8.58585859,   8.78787879,   8.98989899,   9.19191919,\n",
        "         9.39393939,   9.5959596 ,   9.7979798 ,  10.        ])"
      ]
    },
    {
      "cell_type": "code",
      "execution_count": 40,
      "metadata": {},
      "outputs": [],
      "source": [
        "data=np.arange(-10,10,0.20202)"
      ]
    },
    {
      "cell_type": "code",
      "execution_count": 47,
      "metadata": {
        "id": "NFXbIOVS6KWw",
        "outputId": "c3c166e2-160d-4136-bf91-140398ed47b8"
      },
      "outputs": [
        {
          "data": {
            "image/png": "[encoded data removed]",
            "text/plain": [
              "<Figure size 432x288 with 1 Axes>"
            ]
          },
          "metadata": {
            "needs_background": "light"
          },
          "output_type": "display_data"
        }
      ],
      "source": [
        "fig, ax = plt.subplots()\n",
        "\n",
        "stds = [1.0, 2.0, 3.0, 4.0] #desvios padrões\n",
        "\n",
        "for std in stds: #para cada desvio padrão, plotar um gráfico.\n",
        "    ax.plot(data, norm.pdf(data,scale=std), label='std=%.2f' % std)\n",
        "    \n",
        "ax.set_xlabel('x')\n",
        "ax.set_ylabel('pdf(x)')\n",
        "ax.set_title('Normal Distribution')\n",
        "ax.legend(loc='best', frameon=True)\n",
        "ax.grid(True)"
      ]
    },
    {
      "cell_type": "code",
      "execution_count": 48,
      "metadata": {
        "id": "XT2j-_0w6KWw",
        "outputId": "e33ac1a9-29b6-4599-bcc5-6059ba5044fb"
      },
      "outputs": [
        {
          "data": {
            "image/png": "[encoded data removed]",
            "text/plain": [
              "<Figure size 432x288 with 1 Axes>"
            ]
          },
          "metadata": {
            "needs_background": "light"
          },
          "output_type": "display_data"
        }
      ],
      "source": [
        "fig, ax = plt.subplots()\n",
        "\n",
        "means = [0.0, 1.0, 2.0, 5.0] #médias\n",
        "for mean in means: #para cada média plotar um gráfico\n",
        "    ax.plot(data, norm.pdf(data,loc=mean), label='mean=%.1f' % mean)\n",
        "    \n",
        "ax.set_xlabel('x')\n",
        "ax.set_ylabel('pdf(x)')\n",
        "ax.set_title('Normal Distribution')\n",
        "ax.legend(loc='best', frameon=True)\n",
        "ax.grid(True)"
      ]
    },
    {
      "cell_type": "code",
      "execution_count": 50,
      "metadata": {
        "id": "55qbjjL66KWx",
        "outputId": "5ceaf8a4-3421-4429-d123-acd9bd417892"
      },
      "outputs": [
        {
          "data": {
            "image/png": "[encoded data removed]",
            "text/plain": [
              "<Figure size 432x288 with 1 Axes>"
            ]
          },
          "metadata": {
            "needs_background": "light"
          },
          "output_type": "display_data"
        }
      ],
      "source": [
        "fig, ax = plt.subplots()\n",
        "\n",
        "data = np.linspace(-2.5,12.5,100)\n",
        "\n",
        "ax.plot(data, norm.pdf(data,loc=4.0, scale=1.0), label='mean=%.1f' % 4.0) #média 4 e desvio 1\n",
        "ax.plot(data, norm.pdf(data,loc=6.0, scale=2.0), label='mean=%.1f' % 6.0) #média 6 e desvio 2\n",
        "\n",
        "    \n",
        "ax.set_xlabel('x')\n",
        "ax.set_ylabel('pdf(x)')\n",
        "ax.set_title('Normal Distribution')\n",
        "ax.legend(loc='best', frameon=True)\n",
        "ax.grid(True)"
      ]
    },
    {
      "cell_type": "code",
      "execution_count": 51,
      "metadata": {},
      "outputs": [
        {
          "data": {
            "text/plain": [
              "array([-2.5       , -2.34848485, -2.1969697 , -2.04545455, -1.89393939,\n",
              "       -1.74242424, -1.59090909, -1.43939394, -1.28787879, -1.13636364,\n",
              "       -0.98484848, -0.83333333, -0.68181818, -0.53030303, -0.37878788,\n",
              "       -0.22727273, -0.07575758,  0.07575758,  0.22727273,  0.37878788,\n",
              "        0.53030303,  0.68181818,  0.83333333,  0.98484848,  1.13636364,\n",
              "        1.28787879,  1.43939394,  1.59090909,  1.74242424,  1.89393939,\n",
              "        2.04545455,  2.1969697 ,  2.34848485,  2.5       ,  2.65151515,\n",
              "        2.8030303 ,  2.95454545,  3.10606061,  3.25757576,  3.40909091,\n",
              "        3.56060606,  3.71212121,  3.86363636,  4.01515152,  4.16666667,\n",
              "        4.31818182,  4.46969697,  4.62121212,  4.77272727,  4.92424242,\n",
              "        5.07575758,  5.22727273,  5.37878788,  5.53030303,  5.68181818,\n",
              "        5.83333333,  5.98484848,  6.13636364,  6.28787879,  6.43939394,\n",
              "        6.59090909,  6.74242424,  6.89393939,  7.04545455,  7.1969697 ,\n",
              "        7.34848485,  7.5       ,  7.65151515,  7.8030303 ,  7.95454545,\n",
              "        8.10606061,  8.25757576,  8.40909091,  8.56060606,  8.71212121,\n",
              "        8.86363636,  9.01515152,  9.16666667,  9.31818182,  9.46969697,\n",
              "        9.62121212,  9.77272727,  9.92424242, 10.07575758, 10.22727273,\n",
              "       10.37878788, 10.53030303, 10.68181818, 10.83333333, 10.98484848,\n",
              "       11.13636364, 11.28787879, 11.43939394, 11.59090909, 11.74242424,\n",
              "       11.89393939, 12.04545455, 12.1969697 , 12.34848485, 12.5       ])"
            ]
          },
          "execution_count": 51,
          "metadata": {},
          "output_type": "execute_result"
        }
      ],
      "source": [
        "data"
      ]
    },
    {
      "cell_type": "markdown",
      "metadata": {
        "id": "KovglcCa6KWx"
      },
      "source": [
        "Média de altura de uma população normalmente distribuída é 1.60 m, com desvio de 0.2m. Qual a probabilidade de selecionarmos uma pessoa aleatória e essa pessoa ser mais baixa que 1.40m?"
      ]
    },
    {
      "cell_type": "code",
      "execution_count": 57,
      "metadata": {
        "id": "lx7D9Zcc6KWx",
        "outputId": "713a24c4-ca28-4477-a2cc-b141a69da758"
      },
      "outputs": [
        {
          "data": {
            "image/png": "[encoded data removed]",
            "text/plain": [
              "<Figure size 432x288 with 1 Axes>"
            ]
          },
          "metadata": {
            "needs_background": "light"
          },
          "output_type": "display_data"
        }
      ],
      "source": [
        "fig, ax = plt.subplots()\n",
        "\n",
        "data = np.linspace(1.0, 2.5, 100)\n",
        "\n",
        "ax.plot(data, norm.pdf(data,loc=1.6, scale=0.2), label='mean=%.1f' % 1.6)\n",
        "    \n",
        "ax.set_xlabel('x')\n",
        "ax.set_ylabel('pdf(x)')\n",
        "ax.set_title('Normal Distribution')\n",
        "ax.legend(loc='best', frameon=True)\n",
        "ax.grid(True)"
      ]
    },
    {
      "cell_type": "code",
      "execution_count": null,
      "metadata": {
        "id": "Zv2JhL2_6KWy",
        "outputId": "7e850358-a0dd-43bb-b54b-9df9e6e382ca"
      },
      "outputs": [
        {
          "data": {
            "text/plain": [
              "0.15865525393145685"
            ]
          },
          "execution_count": 66,
          "metadata": {
            "tags": []
          },
          "output_type": "execute_result"
        }
      ],
      "source": [
        "norm(loc=1.60, scale=0.2).cdf(1.40) #calculando a área da curva de 1 a 1.4"
      ]
    },
    {
      "cell_type": "markdown",
      "metadata": {
        "id": "KPHe9eNS6KWy"
      },
      "source": [
        "### Intervalo de Confiança"
      ]
    },
    {
      "cell_type": "markdown",
      "metadata": {
        "id": "n7jDsk136KWy"
      },
      "source": [
        "Peso de uma população, vamos criar um intervalo de confiança com nível de confiança 95% para o peso populacional médio.\n",
        "Usar a distribuição t (n<30)"
      ]
    },
    {
      "cell_type": "code",
      "execution_count": null,
      "metadata": {
        "id": "GX6DYAHv6KWy"
      },
      "outputs": [],
      "source": [
        "sample = [12, 12, 13, 13, 15, 16, 17, 22, 23, 25, 26, 27, 28, 28, 29]\n",
        "# Usamos a distribuição t por conta do tamanho da amostra\n",
        "\n",
        "teste_peso_95 = st.t.interval(alpha=0.95, df=len(sample)-1, loc=np.mean(sample), scale=st.sem(sample)) "
      ]
    },
    {
      "cell_type": "code",
      "execution_count": null,
      "metadata": {
        "id": "INSvzhpj6KWz",
        "outputId": "c64aa1fb-3119-4f1e-9631-de1ff28c56c1"
      },
      "outputs": [
        {
          "data": {
            "text/plain": [
              "(16.75776979778498, 24.042230202215016)"
            ]
          },
          "execution_count": 118,
          "metadata": {
            "tags": []
          },
          "output_type": "execute_result"
        }
      ],
      "source": [
        "teste_peso_95"
      ]
    },
    {
      "cell_type": "markdown",
      "metadata": {
        "id": "SORmnHji6KWz"
      },
      "source": [
        "Usando nível de confiança de 99%"
      ]
    },
    {
      "cell_type": "code",
      "execution_count": null,
      "metadata": {
        "id": "MxaRVYVo6KWz"
      },
      "outputs": [],
      "source": [
        "teste_peso_99 = st.t.interval(alpha=0.99, df=len(sample)-1, loc=np.mean(sample), scale=st.sem(sample)) "
      ]
    },
    {
      "cell_type": "code",
      "execution_count": null,
      "metadata": {
        "id": "QRI_WxRP6KW0",
        "outputId": "ef3082c5-6266-447b-dc6d-b28818665d39"
      },
      "outputs": [
        {
          "data": {
            "text/plain": [
              "(15.3447902793728, 25.455209720627195)"
            ]
          },
          "execution_count": 120,
          "metadata": {
            "tags": []
          },
          "output_type": "execute_result"
        }
      ],
      "source": [
        "teste_peso_99"
      ]
    },
    {
      "cell_type": "markdown",
      "metadata": {
        "id": "oZOd3MwY6KW0"
      },
      "source": [
        "Usando teste z para distribuição normal ou quando temos n>=30."
      ]
    },
    {
      "cell_type": "code",
      "execution_count": 62,
      "metadata": {
        "id": "TQnK9BcR6KW1"
      },
      "outputs": [],
      "source": [
        "np.random.seed(42)\n",
        "sample_data = np.random.randint(10, 30, 50)\n",
        "\n",
        "test_norm_95 = st.norm.interval(alpha=0.95, loc=np.mean(sample_data), scale=st.sem(sample_data))"
      ]
    },
    {
      "cell_type": "code",
      "execution_count": 63,
      "metadata": {},
      "outputs": [
        {
          "data": {
            "text/plain": [
              "array([16, 29, 24, 20, 17, 16, 28, 20, 20, 13, 17, 12, 11, 21, 15, 11, 10,\n",
              "       21, 21, 26, 19, 25, 24, 24, 28, 21, 29, 12, 14, 28, 16, 18, 16, 27,\n",
              "       13, 23, 27, 18, 11, 29, 24, 16, 21, 17, 24, 12, 23, 26, 13, 27])"
            ]
          },
          "execution_count": 63,
          "metadata": {},
          "output_type": "execute_result"
        }
      ],
      "source": [
        "sample_data"
      ]
    },
    {
      "cell_type": "code",
      "execution_count": null,
      "metadata": {
        "id": "8h9IgQ4i6KW1",
        "outputId": "e733d0f8-3efa-4806-ebe5-30e51fdee6cf"
      },
      "outputs": [
        {
          "data": {
            "text/plain": [
              "(18.25642372955045, 21.46357627044955)"
            ]
          },
          "execution_count": 126,
          "metadata": {
            "tags": []
          },
          "output_type": "execute_result"
        }
      ],
      "source": [
        "test_norm_95"
      ]
    },
    {
      "cell_type": "markdown",
      "metadata": {
        "id": "VLHIGokn6KW2"
      },
      "source": [
        "### Teste de Hipotese"
      ]
    },
    {
      "cell_type": "code",
      "execution_count": 69,
      "metadata": {
        "id": "d9y1kTRN6KW2",
        "outputId": "976af6d8-575b-4620-d10e-09f8572a35ed"
      },
      "outputs": [
        {
          "data": {
            "text/plain": [
              "<matplotlib.legend.Legend at 0x25472e7e850>"
            ]
          },
          "execution_count": 69,
          "metadata": {},
          "output_type": "execute_result"
        },
        {
          "data": {
            "image/png": "[encoded data removed]",
            "text/plain": [
              "<Figure size 1440x720 with 1 Axes>"
            ]
          },
          "metadata": {
            "needs_background": "light"
          },
          "output_type": "display_data"
        }
      ],
      "source": [
        "sample_a = np.random.normal(24, 10, 10000)\n",
        "sample_b_1 = np.random.normal(24, 10, 10000)\n",
        "sample_b_2 = np.random.normal(25, 10, 10000)\n",
        "plt.figure(figsize=(20, 10))\n",
        "sns.kdeplot(sample_a, label=\"A\", shade = True, color = '#000000')\n",
        "sns.kdeplot(sample_b_1, label=\"B_1\", shade = True, color = '#B22222')\n",
        "sns.kdeplot(sample_b_2, label=\"B_2\", shade = True, color = '#00008B')\n",
        "plt.legend()"
      ]
    },
    {
      "cell_type": "code",
      "execution_count": 70,
      "metadata": {
        "id": "yFea8I4p6KW2",
        "outputId": "296abf8b-dd20-40fc-c5a8-b271782e24b0"
      },
      "outputs": [
        {
          "name": "stdout",
          "output_type": "stream",
          "text": [
            "Ttest_indResult(statistic=-1.5989548083526217, pvalue=0.10984644224497686)\n",
            "Ttest_indResult(statistic=5.662622067061534, pvalue=1.5112323062143697e-08)\n"
          ]
        }
      ],
      "source": [
        "import scipy.stats as stats\n",
        "## H0: A = B\n",
        "## H1: A != B\n",
        "test_1 = stats.ttest_ind(sample_b_1,sample_a, equal_var = True)\n",
        "test_2 = stats.ttest_ind(sample_b_2,sample_a, equal_var = True)\n",
        "print(test_1)\n",
        "print(test_2)"
      ]
    },
    {
      "cell_type": "code",
      "execution_count": null,
      "metadata": {
        "id": "glX_5BYp6KW2"
      },
      "outputs": [],
      "source": []
    }
  ],
  "metadata": {
    "colab": {
      "name": "Notebook de aula - Estatística Inferencial.ipynb",
      "provenance": []
    },
    "interpreter": {
      "hash": "ed225720166559e7176d3793db16a2fd8d295f725007103b21ac3099d2a89ee8"
    },
    "kernelspec": {
      "display_name": "Python 3.8.12 ('base')",
      "language": "python",
      "name": "python3"
    },
    "language_info": {
      "codemirror_mode": {
        "name": "ipython",
        "version": 3
      },
      "file_extension": ".py",
      "mimetype": "text/x-python",
      "name": "python",
      "nbconvert_exporter": "python",
      "pygments_lexer": "ipython3",
      "version": "3.8.12"
    }
  },
  "nbformat": 4,
  "nbformat_minor": 0
}
