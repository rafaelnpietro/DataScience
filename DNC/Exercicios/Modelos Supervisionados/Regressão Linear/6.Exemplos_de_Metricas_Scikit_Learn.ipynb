{
  "cells": [
    {
      "cell_type": "markdown",
      "metadata": {
        "id": "hXgN7LH_CQa_"
      },
      "source": [
        "# Exemplos de metricas com a Scikit-Learn"
      ]
    },
    {
      "cell_type": "code",
      "execution_count": 1,
      "metadata": {
        "id": "u5Bk5kqLQkgq"
      },
      "outputs": [],
      "source": [
        "# fake data\n",
        "y_true = [3, 0.5, 2, 7]\n",
        "y_pred = [2.5, 0.0, 2, 8]"
      ]
    },
    {
      "cell_type": "code",
      "execution_count": 2,
      "metadata": {
        "colab": {
          "base_uri": "https://localhost:8080/"
        },
        "id": "-xVmGq-qLZIg",
        "outputId": "5b4c2139-9bda-4ffd-e792-05f58a721334"
      },
      "outputs": [
        {
          "data": {
            "text/plain": [
              "0.6123724356957945"
            ]
          },
          "execution_count": 2,
          "metadata": {},
          "output_type": "execute_result"
        }
      ],
      "source": [
        "# RMSE import\n",
        "from sklearn.metrics import mean_squared_error\n",
        "\n",
        "# RMSE score\n",
        "mean_squared_error(y_true, y_pred, squared=False)"
      ]
    },
    {
      "cell_type": "code",
      "execution_count": 18,
      "metadata": {
        "colab": {
          "base_uri": "https://localhost:8080/"
        },
        "id": "eydc2wd0Ddv8",
        "outputId": "34bd4ebf-bc1a-48f6-c174-b80888525a7d"
      },
      "outputs": [
        {
          "name": "stdout",
          "output_type": "stream",
          "text": [
            "(506, 13)\n"
          ]
        }
      ],
      "source": [
        "from sklearn.datasets import load_boston\n",
        "# house-prices dataset download\n",
        "X, y = load_boston(return_X_y=True)\n",
        "print(X.shape)"
      ]
    },
    {
      "cell_type": "code",
      "execution_count": 4,
      "metadata": {
        "colab": {
          "base_uri": "https://localhost:8080/"
        },
        "id": "T8JB8nLeD-uy",
        "outputId": "facf510a-4efd-487a-b5e2-b8190ae111d2"
      },
      "outputs": [
        {
          "data": {
            "text/plain": [
              "array([6.320e-03, 1.800e+01, 2.310e+00, 0.000e+00, 5.380e-01, 6.575e+00,\n",
              "       6.520e+01, 4.090e+00, 1.000e+00, 2.960e+02, 1.530e+01, 3.969e+02,\n",
              "       4.980e+00])"
            ]
          },
          "execution_count": 4,
          "metadata": {},
          "output_type": "execute_result"
        }
      ],
      "source": [
        "# first row of independent variables dataset\n",
        "X[0]"
      ]
    },
    {
      "cell_type": "code",
      "execution_count": 5,
      "metadata": {
        "colab": {
          "base_uri": "https://localhost:8080/"
        },
        "id": "q7kFqbg0EEsJ",
        "outputId": "f61ab0db-6bac-4cc5-b376-cca0d015481a"
      },
      "outputs": [
        {
          "data": {
            "text/plain": [
              "24.0"
            ]
          },
          "execution_count": 5,
          "metadata": {},
          "output_type": "execute_result"
        }
      ],
      "source": [
        "# first row of the target array (house prices)\n",
        "y[0]"
      ]
    },
    {
      "cell_type": "code",
      "execution_count": 6,
      "metadata": {
        "colab": {
          "base_uri": "https://localhost:8080/"
        },
        "id": "bgngMqSHELW8",
        "outputId": "b857aac9-1505-4ab3-d94f-d8e2487c6e66"
      },
      "outputs": [
        {
          "name": "stdout",
          "output_type": "stream",
          "text": [
            "(339, 13)\n",
            "(167, 13)\n"
          ]
        }
      ],
      "source": [
        "# Train test sets separation\n",
        "from sklearn.model_selection import train_test_split\n",
        "X_train, X_test, y_train, y_test = train_test_split(\n",
        "    X, y, test_size=0.33, random_state=42)\n",
        "print(X_train.shape)\n",
        "print(X_test.shape)"
      ]
    },
    {
      "cell_type": "code",
      "execution_count": 7,
      "metadata": {
        "id": "4ikNARGtC85G"
      },
      "outputs": [],
      "source": [
        "# Model training + prediction with Random Forest model\n",
        "\n",
        "from sklearn.ensemble import RandomForestRegressor\n",
        "regr = RandomForestRegressor(max_depth=2, random_state=0)\n",
        "regr.fit(X_train, y_train)\n",
        "pred = regr.predict(X_test)"
      ]
    },
    {
      "cell_type": "code",
      "execution_count": 10,
      "metadata": {
        "colab": {
          "base_uri": "https://localhost:8080/"
        },
        "id": "wJEK15a0Qx6s",
        "outputId": "038bdbe2-cfc0-404d-960d-84a285811cd8"
      },
      "outputs": [
        {
          "name": "stdout",
          "output_type": "stream",
          "text": [
            "24.0\n",
            "22.567146908521863\n",
            "23.6\n",
            "RMSE = 4.511716537825545\n"
          ]
        }
      ],
      "source": [
        "# comparing test and prediction's first row\n",
        "print(y[0])\n",
        "print(pred[0])\n",
        "print(y_test[0])\n",
        "# RMSE scoring\n",
        "print(\"RMSE = {}\".format(mean_squared_error(y_test, pred, squared=False)))"
      ]
    },
    {
      "cell_type": "code",
      "execution_count": 11,
      "metadata": {
        "colab": {
          "base_uri": "https://localhost:8080/"
        },
        "id": "8jMZQ76KGAe1",
        "outputId": "78e5686f-cf9b-42c3-8a51-40cb1325c7ff"
      },
      "outputs": [
        {
          "name": "stdout",
          "output_type": "stream",
          "text": [
            "RMSE = 8.799980682431661\n"
          ]
        }
      ],
      "source": [
        "# RMSE score needs a baseline to be compared with\n",
        "\n",
        "# Compare with Dummy Regressor baseline\n",
        "import numpy as np\n",
        "m = np.mean(y_train) #Calcula a média do y train\n",
        "dummy_pred = [m for i in range(len(y_test))] # cria um array do mesmo tamanho do y test preenchido com a média calculada.\n",
        "print(\"RMSE = {}\".format(mean_squared_error(y_test, dummy_pred, squared=False)))"
      ]
    },
    {
      "cell_type": "code",
      "execution_count": 14,
      "metadata": {
        "colab": {
          "base_uri": "https://localhost:8080/"
        },
        "id": "SUT4kzNtCyNv",
        "outputId": "9ab88bc4-b7c7-4fba-8e41-101e89c96855"
      },
      "outputs": [
        {
          "name": "stdout",
          "output_type": "stream",
          "text": [
            "RMSE = 4.552364598463056\n"
          ]
        }
      ],
      "source": [
        "# Now compare with Linear Regression baseline\n",
        "from sklearn.linear_model import LinearRegression\n",
        "lin_reg = LinearRegression().fit(X_train, y_train)\n",
        "pred = lin_reg.predict(X_test)\n",
        "print(\"RMSE = {}\".format(mean_squared_error(y_test, pred, squared=False)))"
      ]
    },
    {
      "cell_type": "markdown",
      "metadata": {
        "id": "91yIZn3dMLJo"
      },
      "source": [
        "## R² e MAE"
      ]
    },
    {
      "cell_type": "code",
      "execution_count": 15,
      "metadata": {
        "colab": {
          "base_uri": "https://localhost:8080/"
        },
        "id": "okSVtHwNMS1o",
        "outputId": "2a20e811-2418-4041-9606-29b22a0ebb5a"
      },
      "outputs": [
        {
          "name": "stdout",
          "output_type": "stream",
          "text": [
            "R² = 0.9486081370449679\n"
          ]
        }
      ],
      "source": [
        "# MAE and R² calculation against a simple example\n",
        "from sklearn.metrics import r2_score, mean_absolute_error\n",
        "y_true = [3, -0.5, 2, 7]\n",
        "y_pred = [2.5, 0.0, 2, 8]\n",
        "print(\"R² = {}\".format(r2_score(y_true, y_pred)))"
      ]
    },
    {
      "cell_type": "code",
      "execution_count": 16,
      "metadata": {
        "colab": {
          "base_uri": "https://localhost:8080/"
        },
        "id": "e-ssfaolRBTb",
        "outputId": "cd712933-f918-44fb-82a2-4f0880a26e0c"
      },
      "outputs": [
        {
          "name": "stdout",
          "output_type": "stream",
          "text": [
            "MAE = 0.5\n"
          ]
        }
      ],
      "source": [
        "print(\"MAE = {}\".format(mean_absolute_error(y_true, y_pred)))"
      ]
    },
    {
      "cell_type": "code",
      "execution_count": null,
      "metadata": {
        "id": "kK3BZKFC7qzj"
      },
      "outputs": [],
      "source": []
    }
  ],
  "metadata": {
    "colab": {
      "collapsed_sections": [],
      "name": "RGS 20 - Exemplos de Metricas com Scikit Learn na Pratica.ipynb",
      "provenance": []
    },
    "interpreter": {
      "hash": "6f5583cf1d9466b5c27e75c89cc6b383bed5736d6b16c51c8074d8690011a952"
    },
    "kernelspec": {
      "display_name": "Python 3.8.12 ('base')",
      "language": "python",
      "name": "python3"
    },
    "language_info": {
      "codemirror_mode": {
        "name": "ipython",
        "version": 3
      },
      "file_extension": ".py",
      "mimetype": "text/x-python",
      "name": "python",
      "nbconvert_exporter": "python",
      "pygments_lexer": "ipython3",
      "version": "3.8.13"
    }
  },
  "nbformat": 4,
  "nbformat_minor": 0
}
