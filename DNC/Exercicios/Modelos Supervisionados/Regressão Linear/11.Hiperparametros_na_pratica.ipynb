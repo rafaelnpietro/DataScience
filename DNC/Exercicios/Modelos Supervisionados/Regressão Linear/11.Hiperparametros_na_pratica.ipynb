{
  "cells": [
    {
      "cell_type": "markdown",
      "metadata": {
        "id": "4_ujs314U-79"
      },
      "source": [
        "# Impl hiperparametros"
      ]
    },
    {
      "cell_type": "code",
      "execution_count": 4,
      "metadata": {
        "id": "WZYZ_Z_sVDiq"
      },
      "outputs": [
        {
          "name": "stdout",
          "output_type": "stream",
          "text": [
            "(506, 13) (506,)\n"
          ]
        }
      ],
      "source": [
        "# Downloading input data\n",
        "from sklearn.datasets import load_boston\n",
        "# house-prices dataset download\n",
        "X, y = load_boston(return_X_y=True)\n",
        "print(X.shape,y.shape)"
      ]
    },
    {
      "cell_type": "code",
      "execution_count": 6,
      "metadata": {
        "id": "4zoMPUDrVKR-"
      },
      "outputs": [],
      "source": [
        "from sklearn.model_selection import train_test_split\n",
        "X_train, X_test, y_train, y_test = train_test_split(X, y, test_size=0.33, random_state=42)"
      ]
    },
    {
      "cell_type": "code",
      "execution_count": 7,
      "metadata": {
        "colab": {
          "base_uri": "https://localhost:8080/"
        },
        "id": "1TqVwp9RVTVe",
        "outputId": "b8a2a349-7159-42ca-988e-6b232dcac200"
      },
      "outputs": [
        {
          "data": {
            "text/plain": [
              "DecisionTreeRegressor(random_state=0)"
            ]
          },
          "execution_count": 7,
          "metadata": {},
          "output_type": "execute_result"
        }
      ],
      "source": [
        "from sklearn.tree import DecisionTreeRegressor\n",
        "regressor = DecisionTreeRegressor(random_state=0)\n",
        "regressor.fit(X_train, y_train)"
      ]
    },
    {
      "cell_type": "code",
      "execution_count": 8,
      "metadata": {
        "id": "lpJRTFqoVjEs"
      },
      "outputs": [],
      "source": [
        "y_pred = regressor.predict(X_test)"
      ]
    },
    {
      "cell_type": "code",
      "execution_count": 9,
      "metadata": {
        "colab": {
          "base_uri": "https://localhost:8080/"
        },
        "id": "uvSoTSxHVnyR",
        "outputId": "ddc19a00-4621-4a91-d838-47e22587404a"
      },
      "outputs": [
        {
          "name": "stdout",
          "output_type": "stream",
          "text": [
            "0.0\n"
          ]
        },
        {
          "data": {
            "text/plain": [
              "2.867664670658683"
            ]
          },
          "execution_count": 9,
          "metadata": {},
          "output_type": "execute_result"
        }
      ],
      "source": [
        "from sklearn.metrics import mean_absolute_error\n",
        "print(mean_absolute_error(y_train, regressor.predict(X_train))) #Para entender se tem overfitting\n",
        "mean_absolute_error(y_test, y_pred)"
      ]
    },
    {
      "cell_type": "code",
      "execution_count": 24,
      "metadata": {
        "colab": {
          "base_uri": "https://localhost:8080/"
        },
        "id": "AtukdrXAWHEl",
        "outputId": "668269fe-c0ab-42cf-db3f-4ae4949a24c7"
      },
      "outputs": [
        {
          "data": {
            "text/plain": [
              "GridSearchCV(estimator=DecisionTreeRegressor(random_state=0),\n",
              "             param_grid={'criterion': ['squared_error', 'absolute_error'],\n",
              "                         'max_depth': range(3, 21)},\n",
              "             scoring='neg_mean_absolute_error')"
            ]
          },
          "execution_count": 24,
          "metadata": {},
          "output_type": "execute_result"
        }
      ],
      "source": [
        "from sklearn.model_selection import GridSearchCV\n",
        "parameters = {'max_depth':range(3, 21), \"criterion\": [\"squared_error\", \"absolute_error\"]} #Aqui escolhemos otimizar o critério de validação.\n",
        "\n",
        "reg = DecisionTreeRegressor(random_state=0)\n",
        "\n",
        "\n",
        "grd = GridSearchCV(reg, parameters, scoring=\"neg_mean_absolute_error\") #aqui no scoring vc escolhe qual validação ele deve tentar minimzar, nesse caso o MAE\n",
        "grd.fit(X_train, y_train)"
      ]
    },
    {
      "cell_type": "code",
      "execution_count": 28,
      "metadata": {},
      "outputs": [
        {
          "data": {
            "text/plain": [
              "{'mean_fit_time': array([0.00279908, 0.00240011, 0.00200043, 0.00299826, 0.00359969,\n",
              "        0.00440025, 0.00360475, 0.00419497, 0.00439153, 0.00400124,\n",
              "        0.00479946, 0.00399733, 0.00399752, 0.00360303, 0.00347919,\n",
              "        0.00399828, 0.00339794, 0.00359969, 0.00917692, 0.01299338,\n",
              "        0.01198645, 0.01519942, 0.01499667, 0.01779776, 0.02020321,\n",
              "        0.0190011 , 0.01905513, 0.01752434, 0.02651467, 0.02379184,\n",
              "        0.02900553, 0.03080359, 0.02778864, 0.02435913, 0.02001009,\n",
              "        0.01559958]),\n",
              " 'std_fit_time': array([7.49367388e-04, 8.01946448e-04, 3.15073558e-06, 6.30224050e-04,\n",
              "        1.02013233e-03, 1.02011626e-03, 1.20565269e-03, 7.59840124e-04,\n",
              "        7.96212695e-04, 6.33426227e-04, 7.45907202e-04, 6.32345080e-04,\n",
              "        6.33694901e-04, 4.93666320e-04, 4.49900683e-04, 8.94631769e-04,\n",
              "        4.91342781e-04, 8.01229938e-04, 1.95756102e-03, 8.91301682e-04,\n",
              "        1.89888858e-03, 1.94205014e-03, 6.37314948e-04, 2.78414965e-03,\n",
              "        2.64590739e-03, 2.09705730e-03, 3.06070426e-03, 2.16798310e-03,\n",
              "        6.07955055e-03, 4.16749741e-03, 2.27903432e-03, 1.17779746e-03,\n",
              "        2.32153013e-03, 4.23492453e-03, 3.41432293e-03, 1.35534581e-03]),\n",
              " 'mean_score_time': array([0.00060053, 0.00079975, 0.00039911, 0.00100141, 0.00080009,\n",
              "        0.00060015, 0.0006012 , 0.00120382, 0.00100379, 0.00079899,\n",
              "        0.00040236, 0.00060172, 0.00059872, 0.00039697, 0.00080051,\n",
              "        0.00040054, 0.0008007 , 0.00060081, 0.00060096, 0.00079255,\n",
              "        0.00100121, 0.00080051, 0.00080462, 0.00080142, 0.0008008 ,\n",
              "        0.00119944, 0.0008008 , 0.00039983, 0.00060053, 0.00100179,\n",
              "        0.00099769, 0.00140042, 0.00120907, 0.00100174, 0.00059972,\n",
              "        0.00019956]),\n",
              " 'std_score_time': array([4.90339684e-04, 3.99876124e-04, 4.88817956e-04, 6.32937888e-04,\n",
              "        4.00044278e-04, 4.90023589e-04, 4.90876019e-04, 4.06601575e-04,\n",
              "        1.36373760e-05, 7.50240519e-04, 4.92787651e-04, 4.91310489e-04,\n",
              "        4.88864338e-04, 4.86204969e-04, 4.00260576e-04, 4.90564080e-04,\n",
              "        4.00354381e-04, 4.90564242e-04, 4.90681993e-04, 3.96557528e-04,\n",
              "        1.86271906e-06, 4.00259241e-04, 4.02357031e-04, 4.00712500e-04,\n",
              "        4.00405429e-04, 3.99376026e-04, 7.49463051e-04, 4.89687385e-04,\n",
              "        4.90333632e-04, 6.32564047e-04, 7.15351098e-06, 4.98603091e-04,\n",
              "        4.00488299e-04, 9.24621555e-07, 4.89668292e-04, 3.99112701e-04]),\n",
              " 'param_criterion': masked_array(data=['squared_error', 'squared_error', 'squared_error',\n",
              "                    'squared_error', 'squared_error', 'squared_error',\n",
              "                    'squared_error', 'squared_error', 'squared_error',\n",
              "                    'squared_error', 'squared_error', 'squared_error',\n",
              "                    'squared_error', 'squared_error', 'squared_error',\n",
              "                    'squared_error', 'squared_error', 'squared_error',\n",
              "                    'absolute_error', 'absolute_error', 'absolute_error',\n",
              "                    'absolute_error', 'absolute_error', 'absolute_error',\n",
              "                    'absolute_error', 'absolute_error', 'absolute_error',\n",
              "                    'absolute_error', 'absolute_error', 'absolute_error',\n",
              "                    'absolute_error', 'absolute_error', 'absolute_error',\n",
              "                    'absolute_error', 'absolute_error', 'absolute_error'],\n",
              "              mask=[False, False, False, False, False, False, False, False,\n",
              "                    False, False, False, False, False, False, False, False,\n",
              "                    False, False, False, False, False, False, False, False,\n",
              "                    False, False, False, False, False, False, False, False,\n",
              "                    False, False, False, False],\n",
              "        fill_value='?',\n",
              "             dtype=object),\n",
              " 'param_max_depth': masked_array(data=[3, 4, 5, 6, 7, 8, 9, 10, 11, 12, 13, 14, 15, 16, 17,\n",
              "                    18, 19, 20, 3, 4, 5, 6, 7, 8, 9, 10, 11, 12, 13, 14,\n",
              "                    15, 16, 17, 18, 19, 20],\n",
              "              mask=[False, False, False, False, False, False, False, False,\n",
              "                    False, False, False, False, False, False, False, False,\n",
              "                    False, False, False, False, False, False, False, False,\n",
              "                    False, False, False, False, False, False, False, False,\n",
              "                    False, False, False, False],\n",
              "        fill_value='?',\n",
              "             dtype=object),\n",
              " 'params': [{'criterion': 'squared_error', 'max_depth': 3},\n",
              "  {'criterion': 'squared_error', 'max_depth': 4},\n",
              "  {'criterion': 'squared_error', 'max_depth': 5},\n",
              "  {'criterion': 'squared_error', 'max_depth': 6},\n",
              "  {'criterion': 'squared_error', 'max_depth': 7},\n",
              "  {'criterion': 'squared_error', 'max_depth': 8},\n",
              "  {'criterion': 'squared_error', 'max_depth': 9},\n",
              "  {'criterion': 'squared_error', 'max_depth': 10},\n",
              "  {'criterion': 'squared_error', 'max_depth': 11},\n",
              "  {'criterion': 'squared_error', 'max_depth': 12},\n",
              "  {'criterion': 'squared_error', 'max_depth': 13},\n",
              "  {'criterion': 'squared_error', 'max_depth': 14},\n",
              "  {'criterion': 'squared_error', 'max_depth': 15},\n",
              "  {'criterion': 'squared_error', 'max_depth': 16},\n",
              "  {'criterion': 'squared_error', 'max_depth': 17},\n",
              "  {'criterion': 'squared_error', 'max_depth': 18},\n",
              "  {'criterion': 'squared_error', 'max_depth': 19},\n",
              "  {'criterion': 'squared_error', 'max_depth': 20},\n",
              "  {'criterion': 'absolute_error', 'max_depth': 3},\n",
              "  {'criterion': 'absolute_error', 'max_depth': 4},\n",
              "  {'criterion': 'absolute_error', 'max_depth': 5},\n",
              "  {'criterion': 'absolute_error', 'max_depth': 6},\n",
              "  {'criterion': 'absolute_error', 'max_depth': 7},\n",
              "  {'criterion': 'absolute_error', 'max_depth': 8},\n",
              "  {'criterion': 'absolute_error', 'max_depth': 9},\n",
              "  {'criterion': 'absolute_error', 'max_depth': 10},\n",
              "  {'criterion': 'absolute_error', 'max_depth': 11},\n",
              "  {'criterion': 'absolute_error', 'max_depth': 12},\n",
              "  {'criterion': 'absolute_error', 'max_depth': 13},\n",
              "  {'criterion': 'absolute_error', 'max_depth': 14},\n",
              "  {'criterion': 'absolute_error', 'max_depth': 15},\n",
              "  {'criterion': 'absolute_error', 'max_depth': 16},\n",
              "  {'criterion': 'absolute_error', 'max_depth': 17},\n",
              "  {'criterion': 'absolute_error', 'max_depth': 18},\n",
              "  {'criterion': 'absolute_error', 'max_depth': 19},\n",
              "  {'criterion': 'absolute_error', 'max_depth': 20}],\n",
              " 'split0_test_score': array([-3.52118706, -3.50080252, -3.37552994, -3.88645642, -3.67557893,\n",
              "        -3.67551662, -3.66354872, -3.69641707, -4.00690302, -4.03073752,\n",
              "        -3.95689935, -3.9804902 , -3.93636321, -3.7932423 , -3.9997549 ,\n",
              "        -3.91279412, -3.95882353, -3.88823529, -3.38823529, -3.47941176,\n",
              "        -3.46764706, -3.20220588, -3.16764706, -3.11838235, -3.22205882,\n",
              "        -3.23676471, -3.08161765, -3.42647059, -3.33602941, -3.21397059,\n",
              "        -3.33602941, -3.34117647, -3.35441176, -3.28382353, -3.42352941,\n",
              "        -3.19264706]),\n",
              " 'split1_test_score': array([-4.41944176, -4.10709837, -4.1837204 , -4.31457554, -3.9685447 ,\n",
              "        -4.11384507, -3.94337121, -4.24812675, -4.32928922, -4.1437605 ,\n",
              "        -4.38046569, -4.15257353, -4.1870098 , -4.26029412, -4.42647059,\n",
              "        -4.42647059, -4.42647059, -4.42647059, -3.69264706, -3.93602941,\n",
              "        -4.02279412, -3.90441176, -4.24632353, -4.15294118, -3.91029412,\n",
              "        -4.40367647, -4.43088235, -4.46029412, -3.96323529, -4.33235294,\n",
              "        -4.08455882, -4.51323529, -4.23235294, -3.94852941, -3.95      ,\n",
              "        -4.23823529]),\n",
              " 'split2_test_score': array([-4.57576501, -3.53597403, -3.0131084 , -3.05065711, -3.27754907,\n",
              "        -3.19151261, -3.31123865, -3.41052528, -3.10659059, -3.01343137,\n",
              "        -3.33831699, -3.04147059, -3.36348039, -3.17818627, -3.13617647,\n",
              "        -3.20404412, -3.19362745, -3.125     , -3.81838235, -3.99117647,\n",
              "        -3.78382353, -3.48897059, -3.42794118, -3.78014706, -3.50367647,\n",
              "        -3.07720588, -3.16397059, -3.32058824, -3.70073529, -3.60808824,\n",
              "        -3.76911765, -3.57941176, -3.37941176, -3.81323529, -3.82352941,\n",
              "        -3.82352941]),\n",
              " 'split3_test_score': array([-3.53653246, -2.86814442, -2.70435034, -2.50334034, -2.51072052,\n",
              "        -2.59002413, -2.57403697, -2.3799441 , -2.42897192, -2.22021757,\n",
              "        -2.33871732, -2.51829768, -2.53264706, -2.58851103, -2.55063025,\n",
              "        -2.38574661, -2.33128342, -2.55821078, -3.00808824, -2.91764706,\n",
              "        -2.92352941, -3.07426471, -3.21691176, -2.80220588, -2.925     ,\n",
              "        -2.89191176, -3.41029412, -3.41176471, -3.23382353, -3.07720588,\n",
              "        -3.03970588, -3.09852941, -3.09852941, -3.09852941, -3.09852941,\n",
              "        -3.09852941]),\n",
              " 'split4_test_score': array([-3.6441791 , -3.21077886, -3.26319711, -2.84866192, -2.89557925,\n",
              "        -3.33056695, -3.5973025 , -3.01834012, -3.044801  , -3.25079411,\n",
              "        -2.78442786, -3.08731343, -3.03880597, -3.20298507, -2.8761194 ,\n",
              "        -2.8761194 , -2.8761194 , -2.8761194 , -3.19701493, -3.31641791,\n",
              "        -3.00970149, -3.17910448, -3.36791045, -2.7738806 , -3.13656716,\n",
              "        -2.99552239, -3.04477612, -2.85820896, -3.09029851, -3.42761194,\n",
              "        -2.96492537, -3.24776119, -2.94626866, -2.87313433, -2.87313433,\n",
              "        -2.87313433]),\n",
              " 'mean_test_score': array([-3.93942108, -3.44455964, -3.30798124, -3.32073826, -3.2655945 ,\n",
              "        -3.38029307, -3.41789961, -3.35067067, -3.38331115, -3.33178822,\n",
              "        -3.35976544, -3.35602909, -3.41166129, -3.40464376, -3.39783032,\n",
              "        -3.36103497, -3.35726488, -3.37480721, -3.42087357, -3.52813652,\n",
              "        -3.44149912, -3.36979148, -3.4853468 , -3.32551141, -3.33951932,\n",
              "        -3.32101624, -3.42630817, -3.49546532, -3.46482441, -3.53184592,\n",
              "        -3.43886743, -3.55602283, -3.40219491, -3.4034504 , -3.43374451,\n",
              "        -3.4452151 ]),\n",
              " 'std_test_score': array([0.46038249, 0.40923963, 0.49493591, 0.67404582, 0.52328102,\n",
              "        0.50752167, 0.46736068, 0.62949253, 0.69074859, 0.70587953,\n",
              "        0.74463555, 0.61601685, 0.59841222, 0.57291678, 0.70410326,\n",
              "        0.72808898, 0.75046516, 0.68520466, 0.30114573, 0.40016968,\n",
              "        0.42673537, 0.30060108, 0.39221494, 0.54997841, 0.34045389,\n",
              "        0.55295061, 0.51819398, 0.52523106, 0.32071376, 0.43937032,\n",
              "        0.42907092, 0.50344556, 0.44543151, 0.41317244, 0.411147  ,\n",
              "        0.50660848]),\n",
              " 'rank_test_score': array([36, 28,  2,  3,  1, 15, 22,  8, 16,  6, 11,  9, 21, 20, 17, 12, 10,\n",
              "        14, 23, 33, 27, 13, 31,  5,  7,  4, 24, 32, 30, 34, 26, 35, 18, 19,\n",
              "        25, 29])}"
            ]
          },
          "execution_count": 28,
          "metadata": {},
          "output_type": "execute_result"
        }
      ],
      "source": [
        "grd.cv_results_ #Resultados do modelo"
      ]
    },
    {
      "cell_type": "code",
      "execution_count": 30,
      "metadata": {},
      "outputs": [
        {
          "data": {
            "text/plain": [
              "{'criterion': 'squared_error', 'max_depth': 7}"
            ]
          },
          "execution_count": 30,
          "metadata": {},
          "output_type": "execute_result"
        }
      ],
      "source": [
        "grd.best_params_"
      ]
    },
    {
      "cell_type": "code",
      "execution_count": 25,
      "metadata": {
        "colab": {
          "base_uri": "https://localhost:8080/"
        },
        "id": "jheZZUgkYfJp",
        "outputId": "6f6e2e83-ea89-40b0-d735-744a35da5dcf"
      },
      "outputs": [
        {
          "data": {
            "text/plain": [
              "DecisionTreeRegressor(max_depth=7, random_state=0)"
            ]
          },
          "execution_count": 25,
          "metadata": {},
          "output_type": "execute_result"
        }
      ],
      "source": [
        "grd.best_estimator_ # Melhores parâmetros"
      ]
    },
    {
      "cell_type": "code",
      "execution_count": 31,
      "metadata": {
        "colab": {
          "base_uri": "https://localhost:8080/"
        },
        "id": "sFbUYbDPbHYw",
        "outputId": "46a7c876-46d6-43be-e6ba-7b66c6ec58fb"
      },
      "outputs": [
        {
          "name": "stdout",
          "output_type": "stream",
          "text": [
            "1.2444872504633044\n"
          ]
        },
        {
          "data": {
            "text/plain": [
              "2.716956348023625"
            ]
          },
          "execution_count": 31,
          "metadata": {},
          "output_type": "execute_result"
        }
      ],
      "source": [
        "y_pred = grd.predict(X_test) # Quando vc da o .predict no modelo que o GridSearchCV treinou, ele já vai usar o modelo com melhores hiperparâmetros.\n",
        "print(mean_absolute_error(y_train, grd.predict(X_train)))\n",
        "mean_absolute_error(y_test, y_pred)"
      ]
    },
    {
      "cell_type": "markdown",
      "metadata": {
        "id": "5aCMLfe_bWJC"
      },
      "source": [
        "## Random Forest grid search"
      ]
    },
    {
      "cell_type": "code",
      "execution_count": 32,
      "metadata": {
        "id": "Cv6qqHNlgVxb"
      },
      "outputs": [],
      "source": [
        "parameters = {'max_depth':range(5, 8), \"n_estimators\": range(60, 70)}\n"
      ]
    },
    {
      "cell_type": "code",
      "execution_count": 33,
      "metadata": {
        "colab": {
          "base_uri": "https://localhost:8080/"
        },
        "id": "EKZlVzEIbaEK",
        "outputId": "e442fecb-6a6f-463c-a4c7-ecfa92957dda"
      },
      "outputs": [
        {
          "data": {
            "text/plain": [
              "GridSearchCV(estimator=RandomForestRegressor(max_depth=6, n_jobs=-1,\n",
              "                                             random_state=0),\n",
              "             param_grid={'max_depth': range(3, 10),\n",
              "                         'n_estimators': range(50, 100)},\n",
              "             scoring='neg_mean_absolute_error')"
            ]
          },
          "execution_count": 33,
          "metadata": {},
          "output_type": "execute_result"
        }
      ],
      "source": [
        "from sklearn.model_selection import GridSearchCV\n",
        "from sklearn.ensemble import RandomForestRegressor\n",
        "\n",
        "parameters = {'max_depth':range(3, 10), \"n_estimators\": range(50, 100)} #Aqui escolhemos otimizar o n_estimators, ou seja, o número de árvores\n",
        "reg = RandomForestRegressor(max_depth=6, random_state=0, n_jobs=-1) \n",
        "#n_jobs é a quantidade de \"rodagens\" em paralelo, colocando -1 vc deixa o python usar toda a capacidade da sua máquina.\n",
        "\n",
        "\n",
        "grd = GridSearchCV(reg, parameters, scoring=\"neg_mean_absolute_error\")\n",
        "grd.fit(X_train, y_train)"
      ]
    },
    {
      "cell_type": "code",
      "execution_count": 35,
      "metadata": {},
      "outputs": [
        {
          "data": {
            "text/plain": [
              "{'max_depth': 9, 'n_estimators': 80}"
            ]
          },
          "execution_count": 35,
          "metadata": {},
          "output_type": "execute_result"
        }
      ],
      "source": [
        "grd.best_params_"
      ]
    },
    {
      "cell_type": "code",
      "execution_count": 34,
      "metadata": {
        "colab": {
          "base_uri": "https://localhost:8080/"
        },
        "id": "ab_OgSRSc0Vx",
        "outputId": "4ee85c48-95ad-4065-a3d8-c33d2b9ea0ef"
      },
      "outputs": [
        {
          "data": {
            "text/plain": [
              "RandomForestRegressor(max_depth=9, n_estimators=80, n_jobs=-1, random_state=0)"
            ]
          },
          "execution_count": 34,
          "metadata": {},
          "output_type": "execute_result"
        }
      ],
      "source": [
        "grd.best_estimator_"
      ]
    },
    {
      "cell_type": "code",
      "execution_count": 36,
      "metadata": {
        "colab": {
          "base_uri": "https://localhost:8080/"
        },
        "id": "rulSiWTKcUwM",
        "outputId": "07655312-62a9-4dce-ede0-fcd4bb1271da"
      },
      "outputs": [
        {
          "name": "stdout",
          "output_type": "stream",
          "text": [
            "1.0680405639317379\n"
          ]
        },
        {
          "data": {
            "text/plain": [
              "2.2281270582126664"
            ]
          },
          "execution_count": 36,
          "metadata": {},
          "output_type": "execute_result"
        }
      ],
      "source": [
        "y_pred = grd.predict(X_test)\n",
        "print(mean_absolute_error(y_train, grd.predict(X_train)))\n",
        "mean_absolute_error(y_test, y_pred)"
      ]
    },
    {
      "cell_type": "markdown",
      "metadata": {
        "id": "q3BoFKMHmNVg"
      },
      "source": [
        "Implementaçao na mao do **Gradient Descent Algorithm**"
      ]
    },
    {
      "cell_type": "code",
      "execution_count": 40,
      "metadata": {},
      "outputs": [
        {
          "data": {
            "text/plain": [
              "(506, 13)"
            ]
          },
          "execution_count": 40,
          "metadata": {},
          "output_type": "execute_result"
        }
      ],
      "source": [
        "y_pred.shape"
      ]
    },
    {
      "cell_type": "code",
      "execution_count": 41,
      "metadata": {},
      "outputs": [
        {
          "data": {
            "text/plain": [
              "(506,)"
            ]
          },
          "execution_count": 41,
          "metadata": {},
          "output_type": "execute_result"
        }
      ],
      "source": [
        "y.shape"
      ]
    },
    {
      "cell_type": "code",
      "execution_count": 54,
      "metadata": {},
      "outputs": [
        {
          "data": {
            "text/plain": [
              "(506,)"
            ]
          },
          "execution_count": 54,
          "metadata": {},
          "output_type": "execute_result"
        }
      ],
      "source": [
        "X=X[:,5]\n",
        "X.shape"
      ]
    },
    {
      "cell_type": "code",
      "execution_count": 56,
      "metadata": {
        "colab": {
          "base_uri": "https://localhost:8080/"
        },
        "id": "RJjkO4VEkE2b",
        "outputId": "9f9038a3-bacb-49d1-e7e8-1240f5bef7b2"
      },
      "outputs": [
        {
          "name": "stdout",
          "output_type": "stream",
          "text": [
            "3.5759937183682804 0.4754543973042576\n"
          ]
        }
      ],
      "source": [
        "# Building the model\n",
        "m = 0\n",
        "c = 0\n",
        "\n",
        "L = 0.0001  # The learning Rate\n",
        "epochs = 1000  # The number of iterations to perform gradient descent\n",
        "\n",
        "n = float(len(X)) # Number of elements in X\n",
        "\n",
        "# Performing Gradient Descent \n",
        "for i in range(epochs):\n",
        "    y_pred = m*X + c  # The current predicted value of y\n",
        "    D_m = (-2/n) * sum(X * (y - y_pred))  # Derivative wrt m\n",
        "    D_c = (-2/n) * sum(y - y_pred)  # Derivative wrt c\n",
        "    m = m - L * D_m  # Update m\n",
        "    c = c - L * D_c  # Update c\n",
        "\n",
        "print(m, c)"
      ]
    },
    {
      "cell_type": "code",
      "execution_count": 58,
      "metadata": {
        "colab": {
          "base_uri": "https://localhost:8080/",
          "height": 537
        },
        "id": "AUAtFkJuk8jF",
        "outputId": "0abbcc0c-eef3-4728-f628-4086dd44680f"
      },
      "outputs": [
        {
          "data": {
            "image/png": "[encoded data removed]",
            "text/plain": [
              "<Figure size 432x288 with 1 Axes>"
            ]
          },
          "metadata": {
            "needs_background": "light"
          },
          "output_type": "display_data"
        }
      ],
      "source": [
        "# Making predictions\n",
        "import matplotlib.pyplot as plt\n",
        "y_pred = m*X + c\n",
        "\n",
        "plt.scatter(X, y) \n",
        "plt.plot([min(X), max(X)], [min(y_pred), max(y_pred)], color='red')  # regression line\n",
        "plt.show()"
      ]
    },
    {
      "cell_type": "markdown",
      "metadata": {
        "id": "Qi1ORdYTXhuE"
      },
      "source": [
        "# Otimização na mão dos hiperparâmetros de um árvore de decisão"
      ]
    },
    {
      "cell_type": "code",
      "execution_count": null,
      "metadata": {
        "colab": {
          "base_uri": "https://localhost:8080/"
        },
        "id": "Np3gVi7glrwt",
        "outputId": "3cd8e66d-2810-48cc-e06b-e98cca88dd5e"
      },
      "outputs": [
        {
          "name": "stdout",
          "output_type": "stream",
          "text": [
            "[[0.00057187]\n",
            " [0.09144139]\n",
            " [0.09683479]\n",
            " [0.13693797]\n",
            " [0.19527392]]\n",
            "\n",
            "[-1.1493464   0.09131401  0.09668352  0.13651039  0.19403525]\n"
          ]
        }
      ],
      "source": [
        "# Import the necessary modules and libraries\n",
        "import numpy as np\n",
        "from sklearn.tree import DecisionTreeRegressor\n",
        "import matplotlib.pyplot as plt\n",
        "\n",
        "# Create a random dataset\n",
        "rng = np.random.RandomState(1)\n",
        "X = np.sort(5 * rng.rand(80, 1), axis=0)\n",
        "y = np.sin(X).ravel()\n",
        "y[::5] += 3 * (0.5 - rng.rand(16))\n",
        "\n",
        "print(X[:5])\n",
        "print()\n",
        "print(y[:5])"
      ]
    },
    {
      "cell_type": "code",
      "execution_count": null,
      "metadata": {
        "colab": {
          "base_uri": "https://localhost:8080/",
          "height": 295
        },
        "id": "Bgq5jnGt_1HF",
        "outputId": "1527bd40-761b-46da-82dd-f1f96b935f18"
      },
      "outputs": [
        {
          "data": {
            "image/png": "[encoded data removed]",
            "text/plain": [
              "<Figure size 432x288 with 1 Axes>"
            ]
          },
          "metadata": {
            "needs_background": "light",
            "tags": []
          },
          "output_type": "display_data"
        }
      ],
      "source": [
        "# Plot the results\n",
        "plt.figure()\n",
        "plt.scatter(X, y, s=20, edgecolor=\"black\",\n",
        "            c=\"darkorange\", label=\"data\")\n",
        "plt.xlabel(\"data\")\n",
        "plt.ylabel(\"target\")\n",
        "plt.title(\"Decision Tree Regression\")\n",
        "plt.legend()\n",
        "plt.show()"
      ]
    },
    {
      "cell_type": "code",
      "execution_count": null,
      "metadata": {
        "id": "hKOD1blKYltr"
      },
      "outputs": [],
      "source": [
        "# Fit regression model\n",
        "regr_1 = DecisionTreeRegressor(max_depth=2)\n",
        "regr_2 = DecisionTreeRegressor(max_depth=5)\n",
        "regr_1.fit(X, y)\n",
        "regr_2.fit(X, y)"
      ]
    },
    {
      "cell_type": "code",
      "execution_count": null,
      "metadata": {
        "colab": {
          "base_uri": "https://localhost:8080/"
        },
        "id": "I5eRcQFwYoPt",
        "outputId": "7fe4de47-b43d-40b1-d802-57b82a990069"
      },
      "outputs": [
        {
          "name": "stdout",
          "output_type": "stream",
          "text": [
            "[0.05236068 0.05236068 0.05236068 0.05236068 0.05236068]\n",
            "[-1.1493464 -1.1493464 -1.1493464 -1.1493464 -1.1493464]\n"
          ]
        }
      ],
      "source": [
        "# Predict\n",
        "X_test = np.arange(0.0, 5.0, 0.01)[:, np.newaxis]\n",
        "y_1 = regr_1.predict(X_test)\n",
        "y_2 = regr_2.predict(X_test)\n",
        "print(y_1[:5])\n",
        "print(y_2[:5])"
      ]
    },
    {
      "cell_type": "code",
      "execution_count": null,
      "metadata": {
        "colab": {
          "base_uri": "https://localhost:8080/",
          "height": 295
        },
        "id": "hFzYOdmjYXP0",
        "outputId": "71fd252b-b80c-415d-d33d-75222ba25d8a"
      },
      "outputs": [
        {
          "data": {
            "image/png": "[encoded data removed]",
            "text/plain": [
              "<Figure size 432x288 with 1 Axes>"
            ]
          },
          "metadata": {
            "needs_background": "light",
            "tags": []
          },
          "output_type": "display_data"
        }
      ],
      "source": [
        "# Plot the results\n",
        "plt.figure()\n",
        "plt.scatter(X, y, s=20, edgecolor=\"black\",\n",
        "            c=\"darkorange\", label=\"data\")\n",
        "plt.plot(X_test, y_1, color=\"cornflowerblue\",\n",
        "         label=\"max_depth=2\", linewidth=2)\n",
        "plt.xlabel(\"data\")\n",
        "plt.ylabel(\"target\")\n",
        "plt.title(\"Decision Tree Regression\")\n",
        "plt.legend()\n",
        "plt.show()"
      ]
    },
    {
      "cell_type": "markdown",
      "metadata": {
        "id": "bMHEpGpXpXvW"
      },
      "source": [
        "(Um arvore de decisao é uma **funçao escada**)"
      ]
    },
    {
      "cell_type": "code",
      "execution_count": null,
      "metadata": {
        "colab": {
          "base_uri": "https://localhost:8080/",
          "height": 295
        },
        "id": "t0LK2ypFYxIa",
        "outputId": "e0612884-eb38-430c-bb75-d44932a366fe"
      },
      "outputs": [
        {
          "data": {
            "image/png": "[encoded data removed]",
            "text/plain": [
              "<Figure size 432x288 with 1 Axes>"
            ]
          },
          "metadata": {
            "needs_background": "light",
            "tags": []
          },
          "output_type": "display_data"
        }
      ],
      "source": [
        "# Plot the results\n",
        "plt.figure()\n",
        "plt.scatter(X, y, s=20, edgecolor=\"black\",\n",
        "            c=\"darkorange\", label=\"data\")\n",
        "plt.plot(X_test, y_2, color=\"yellowgreen\", label=\"max_depth=5\", linewidth=2)\n",
        "plt.xlabel(\"data\")\n",
        "plt.ylabel(\"target\")\n",
        "plt.title(\"Decision Tree Regression\")\n",
        "plt.legend()\n",
        "plt.show()"
      ]
    },
    {
      "cell_type": "markdown",
      "metadata": {
        "id": "NdHTs8rlZxQH"
      },
      "source": [
        "## Otimizaçao dos hiperparametros na mao"
      ]
    },
    {
      "cell_type": "code",
      "execution_count": null,
      "metadata": {
        "colab": {
          "base_uri": "https://localhost:8080/"
        },
        "id": "IOdRtkyyZ-Hh",
        "outputId": "b19e4bb6-fdeb-4904-bc31-b535d12cb4ff"
      },
      "outputs": [
        {
          "name": "stdout",
          "output_type": "stream",
          "text": [
            "(339, 13)\n",
            "(167, 13)\n"
          ]
        }
      ],
      "source": [
        "# Downloading input data\n",
        "from sklearn.datasets import load_boston\n",
        "# house-prices dataset download\n",
        "X, y = load_boston(return_X_y=True)\n",
        "\n",
        "# Train test sets separation\n",
        "from sklearn.model_selection import train_test_split\n",
        "X_train, X_test, y_train, y_test = train_test_split(\n",
        "    X, y, test_size=0.33, random_state=42)\n",
        "print(X_train.shape)\n",
        "print(X_test.shape)"
      ]
    },
    {
      "cell_type": "code",
      "execution_count": null,
      "metadata": {
        "id": "MVIjrmVzZ1re"
      },
      "outputs": [],
      "source": [
        "from sklearn.metrics import mean_squared_error\n",
        "\n",
        "max_depths = range(1, 50)\n",
        "training_error = []\n",
        "for max_depth in max_depths:\n",
        "    model_1 = DecisionTreeRegressor(max_depth=max_depth)\n",
        "    model_1.fit(X_train, y_train)\n",
        "    training_error.append(mean_squared_error(y_train, model_1.predict(X_train)))\n",
        "\n",
        "testing_error = []\n",
        "for max_depth in max_depths:\n",
        "    model_2 = DecisionTreeRegressor(max_depth=max_depth)\n",
        "    model_2.fit(X_test, y_test)\n",
        "    testing_error.append(mean_squared_error(y_test, model_2.predict(X_test)))"
      ]
    },
    {
      "cell_type": "markdown",
      "metadata": {
        "id": "a1SzUxA92Vx-"
      },
      "source": [
        "## Desenho da curva da loss function **MSE** em relaçao ao hiperparametro **Tree Depth**"
      ]
    },
    {
      "cell_type": "code",
      "execution_count": null,
      "metadata": {
        "colab": {
          "base_uri": "https://localhost:8080/",
          "height": 306
        },
        "id": "BsEAnv0p2JLg",
        "outputId": "94e60670-0f9b-4288-a95e-c63d37be1525"
      },
      "outputs": [
        {
          "data": {
            "image/png": "[encoded data removed]",
            "text/plain": [
              "<Figure size 432x288 with 1 Axes>"
            ]
          },
          "metadata": {
            "needs_background": "light",
            "tags": []
          },
          "output_type": "display_data"
        }
      ],
      "source": [
        "# drawing the curve\n",
        "plt.plot(max_depths, training_error, color='blue', label='Training error')\n",
        "plt.plot(max_depths, testing_error, color='green', label='Testing error')\n",
        "plt.xlabel('Tree depth')\n",
        "plt.ylabel('Mean squared error')\n",
        "plt.title('Hyperparameter Tuning', pad=15, size=15)\n",
        "plt.legend()\n",
        "# save figure in png format\n",
        "plt.savefig('error.png')"
      ]
    },
    {
      "cell_type": "code",
      "execution_count": null,
      "metadata": {
        "colab": {
          "base_uri": "https://localhost:8080/",
          "height": 306
        },
        "id": "_b0DckyQ_Gsg",
        "outputId": "4b79e9fb-3990-4400-ba63-0dd1579883be"
      },
      "outputs": [
        {
          "data": {
            "image/png": "[encoded data removed]",
            "text/plain": [
              "<Figure size 432x288 with 1 Axes>"
            ]
          },
          "metadata": {
            "needs_background": "light",
            "tags": []
          },
          "output_type": "display_data"
        }
      ],
      "source": [
        "# with zoom to better identify the optimal tree depth\n",
        "max_depths_zoom = max_depths[10:]\n",
        "training_error_zoom = training_error[10:]\n",
        "testing_error_zoom = testing_error[10:]\n",
        "\n",
        "# drawing the curve\n",
        "plt.plot(max_depths_zoom, training_error_zoom, color='blue', label='Training error')\n",
        "plt.plot(max_depths_zoom, testing_error_zoom, color='green', label='Testing error')\n",
        "plt.xlabel('Tree depth')\n",
        "plt.axvline(x=20, color='orange', linestyle='--')\n",
        "plt.annotate('optimum = 20', xy=(20.5, 0.2), color='red')\n",
        "plt.ylabel('Mean squared error')\n",
        "plt.title('Hyperparameter Tuning', pad=15, size=15)\n",
        "plt.legend()\n",
        "# save figure in png format\n",
        "plt.savefig('error.png')"
      ]
    },
    {
      "cell_type": "markdown",
      "metadata": {
        "id": "NIw9X1bYXnSp"
      },
      "source": [
        "# Otimização na mão dos hiperparâmetros de uma Random Forest"
      ]
    },
    {
      "cell_type": "code",
      "execution_count": null,
      "metadata": {
        "id": "bzaNPFc2XoGh"
      },
      "outputs": [],
      "source": [
        "from sklearn.ensemble import RandomForestRegressor\n",
        "\n",
        "n_estimators_list = range(1, 30)\n",
        "training_error = []\n",
        "for n_estimators in n_estimators_list:\n",
        "    model_1 = RandomForestRegressor(n_estimators=n_estimators, n_jobs=-1)\n",
        "    model_1.fit(X_train, y_train)\n",
        "    training_error.append(mean_squared_error(y_train, model_1.predict(X_train)))\n",
        "\n",
        "testing_error = []\n",
        "for n_estimators in n_estimators_list:\n",
        "    model_2 = RandomForestRegressor(n_estimators=n_estimators)\n",
        "    model_2.fit(X_test, y_test)\n",
        "    testing_error.append(mean_squared_error(y_test, model_2.predict(X_test)))"
      ]
    },
    {
      "cell_type": "code",
      "execution_count": null,
      "metadata": {
        "colab": {
          "base_uri": "https://localhost:8080/",
          "height": 306
        },
        "id": "GXUV6GZc3aFx",
        "outputId": "9dcb22fd-6ce9-4aa4-e6cf-a86d6795b429"
      },
      "outputs": [
        {
          "data": {
            "image/png": "[encoded data removed]",
            "text/plain": [
              "<Figure size 432x288 with 1 Axes>"
            ]
          },
          "metadata": {
            "needs_background": "light",
            "tags": []
          },
          "output_type": "display_data"
        }
      ],
      "source": [
        "# drawing the curve\n",
        "plt.plot(n_estimators_list, training_error, color='blue', label='Training error')\n",
        "plt.plot(n_estimators_list, testing_error, color='green', label='Testing error')\n",
        "plt.xlabel('Number of trees in the forest')\n",
        "plt.ylabel('Mean squared error')\n",
        "plt.title('Hyperparameter Tuning', pad=15, size=15)\n",
        "plt.legend()\n",
        "# save figure in png format\n",
        "plt.savefig('error.png')"
      ]
    },
    {
      "cell_type": "code",
      "execution_count": null,
      "metadata": {
        "colab": {
          "base_uri": "https://localhost:8080/"
        },
        "id": "iIR0WdTk-iOV",
        "outputId": "6fcc133f-0c3c-46ef-9078-884c47598bd0"
      },
      "outputs": [
        {
          "data": {
            "text/plain": [
              "22.532806324110677"
            ]
          },
          "execution_count": 62,
          "metadata": {
            "tags": []
          },
          "output_type": "execute_result"
        }
      ],
      "source": [
        "np.mean(y)"
      ]
    },
    {
      "cell_type": "markdown",
      "metadata": {
        "id": "wrJ96XO8-C1d"
      },
      "source": [
        "A partir de 10 arvores ja, o *MSE* fica fluctuando entre 2.3 e 4.0.  \n",
        "Podemos ficar com o hiperparametro `n_estimators` igual a **10** para otimizar a velocidade do treinamento e da prediçao do modelo."
      ]
    },
    {
      "cell_type": "code",
      "execution_count": null,
      "metadata": {
        "id": "kK3BZKFC7qzj"
      },
      "outputs": [],
      "source": []
    }
  ],
  "metadata": {
    "colab": {
      "collapsed_sections": [],
      "name": "RGS 27 - Otimizacao dos hiperparametros na pratica.ipynb",
      "provenance": [],
      "toc_visible": true
    },
    "interpreter": {
      "hash": "6f5583cf1d9466b5c27e75c89cc6b383bed5736d6b16c51c8074d8690011a952"
    },
    "kernelspec": {
      "display_name": "Python 3.8.12 ('base')",
      "language": "python",
      "name": "python3"
    },
    "language_info": {
      "codemirror_mode": {
        "name": "ipython",
        "version": 3
      },
      "file_extension": ".py",
      "mimetype": "text/x-python",
      "name": "python",
      "nbconvert_exporter": "python",
      "pygments_lexer": "ipython3",
      "version": "3.8.13"
    }
  },
  "nbformat": 4,
  "nbformat_minor": 0
}
