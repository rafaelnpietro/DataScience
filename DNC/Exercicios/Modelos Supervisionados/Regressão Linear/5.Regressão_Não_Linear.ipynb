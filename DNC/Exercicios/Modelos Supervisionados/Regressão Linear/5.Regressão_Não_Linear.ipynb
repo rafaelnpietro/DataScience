{
  "cells": [
    {
      "cell_type": "markdown",
      "metadata": {
        "id": "A5WuZJ85Lt0k"
      },
      "source": [
        "O RH da sua empresa soube que você está estudando ciência de dados e tem alguns dados de anos de experiência e salário na empresa. Eles precisam que você crie um modelo matemático pra facilitar o trabalho deles para na que hora da admissão, eles tenham uma estimativa justa de salário para o contratado conforme a experiência dele.\n",
        "\n",
        "Aqui você vai precisar escolher qual é o melhor polinômio para ajustar os dados sem ter o perigo que criar um modelo muito complexo que possa ter overfitting. Os passos são os mesmos: plotar os dados, fazer a regressão com polinomios de até 4º grau, comparar resíduos, R² e RMSE. Você pode fazer um split 70/30 dos dados."
      ]
    },
    {
      "cell_type": "code",
      "execution_count": 1,
      "metadata": {
        "id": "XM45UcaML-Av"
      },
      "outputs": [],
      "source": [
        "# aqui vai as bibliotecas que você vai usar\n",
        "from yellowbrick.regressor import ResidualsPlot\n",
        "import numpy as np\n",
        "import pandas as pd\n",
        "import matplotlib.pyplot as plt\n",
        "import seaborn as sns\n",
        "import scipy as sp\n",
        "import statsmodels.api as sm\n",
        "from sklearn.preprocessing import PolynomialFeatures\n",
        "from sklearn.linear_model import LinearRegression\n",
        "from sklearn.metrics import mean_squared_error, r2_score\n",
        "from sklearn.model_selection import train_test_split"
      ]
    },
    {
      "cell_type": "markdown",
      "metadata": {
        "id": "G-n8SBSwML5A"
      },
      "source": [
        "O dataset já está aqui carregado e você só vai precisar usar as variáveis X e y."
      ]
    },
    {
      "cell_type": "code",
      "execution_count": 6,
      "metadata": {
        "id": "XBOitxJ27JmD"
      },
      "outputs": [],
      "source": [
        "url = \"https://s3.us-west-2.amazonaws.com/public.gamelab.fun/dataset/position_salaries.csv\"\n",
        "df = pd.read_csv(url)\n",
        "X=df['Level'].values.reshape(-1,1) #anos de experiencia\n",
        "y=df['Salary'].values.reshape(-1,1) #salário"
      ]
    },
    {
      "cell_type": "code",
      "execution_count": 7,
      "metadata": {},
      "outputs": [
        {
          "data": {
            "text/html": [
              "<div>\n",
              "<style scoped>\n",
              "    .dataframe tbody tr th:only-of-type {\n",
              "        vertical-align: middle;\n",
              "    }\n",
              "\n",
              "    .dataframe tbody tr th {\n",
              "        vertical-align: top;\n",
              "    }\n",
              "\n",
              "    .dataframe thead th {\n",
              "        text-align: right;\n",
              "    }\n",
              "</style>\n",
              "<table border=\"1\" class=\"dataframe\">\n",
              "  <thead>\n",
              "    <tr style=\"text-align: right;\">\n",
              "      <th></th>\n",
              "      <th>Position</th>\n",
              "      <th>Level</th>\n",
              "      <th>Salary</th>\n",
              "    </tr>\n",
              "  </thead>\n",
              "  <tbody>\n",
              "    <tr>\n",
              "      <th>0</th>\n",
              "      <td>Business Analyst</td>\n",
              "      <td>1</td>\n",
              "      <td>45000</td>\n",
              "    </tr>\n",
              "    <tr>\n",
              "      <th>1</th>\n",
              "      <td>Junior Consultant</td>\n",
              "      <td>2</td>\n",
              "      <td>50000</td>\n",
              "    </tr>\n",
              "    <tr>\n",
              "      <th>2</th>\n",
              "      <td>Senior Consultant</td>\n",
              "      <td>3</td>\n",
              "      <td>60000</td>\n",
              "    </tr>\n",
              "    <tr>\n",
              "      <th>3</th>\n",
              "      <td>Manager</td>\n",
              "      <td>4</td>\n",
              "      <td>80000</td>\n",
              "    </tr>\n",
              "    <tr>\n",
              "      <th>4</th>\n",
              "      <td>Country Manager</td>\n",
              "      <td>5</td>\n",
              "      <td>110000</td>\n",
              "    </tr>\n",
              "    <tr>\n",
              "      <th>5</th>\n",
              "      <td>Region Manager</td>\n",
              "      <td>6</td>\n",
              "      <td>150000</td>\n",
              "    </tr>\n",
              "    <tr>\n",
              "      <th>6</th>\n",
              "      <td>Partner</td>\n",
              "      <td>7</td>\n",
              "      <td>200000</td>\n",
              "    </tr>\n",
              "    <tr>\n",
              "      <th>7</th>\n",
              "      <td>Senior Partner</td>\n",
              "      <td>8</td>\n",
              "      <td>300000</td>\n",
              "    </tr>\n",
              "    <tr>\n",
              "      <th>8</th>\n",
              "      <td>C-level</td>\n",
              "      <td>9</td>\n",
              "      <td>500000</td>\n",
              "    </tr>\n",
              "    <tr>\n",
              "      <th>9</th>\n",
              "      <td>CEO</td>\n",
              "      <td>10</td>\n",
              "      <td>1000000</td>\n",
              "    </tr>\n",
              "  </tbody>\n",
              "</table>\n",
              "</div>"
            ],
            "text/plain": [
              "            Position  Level   Salary\n",
              "0   Business Analyst      1    45000\n",
              "1  Junior Consultant      2    50000\n",
              "2  Senior Consultant      3    60000\n",
              "3            Manager      4    80000\n",
              "4    Country Manager      5   110000\n",
              "5     Region Manager      6   150000\n",
              "6            Partner      7   200000\n",
              "7     Senior Partner      8   300000\n",
              "8            C-level      9   500000\n",
              "9                CEO     10  1000000"
            ]
          },
          "execution_count": 7,
          "metadata": {},
          "output_type": "execute_result"
        }
      ],
      "source": [
        "df"
      ]
    },
    {
      "cell_type": "code",
      "execution_count": 6,
      "metadata": {},
      "outputs": [
        {
          "data": {
            "text/html": [
              "<div>\n",
              "<style scoped>\n",
              "    .dataframe tbody tr th:only-of-type {\n",
              "        vertical-align: middle;\n",
              "    }\n",
              "\n",
              "    .dataframe tbody tr th {\n",
              "        vertical-align: top;\n",
              "    }\n",
              "\n",
              "    .dataframe thead th {\n",
              "        text-align: right;\n",
              "    }\n",
              "</style>\n",
              "<table border=\"1\" class=\"dataframe\">\n",
              "  <thead>\n",
              "    <tr style=\"text-align: right;\">\n",
              "      <th></th>\n",
              "      <th>Level</th>\n",
              "      <th>Salary</th>\n",
              "    </tr>\n",
              "  </thead>\n",
              "  <tbody>\n",
              "    <tr>\n",
              "      <th>count</th>\n",
              "      <td>10.00000</td>\n",
              "      <td>10.000000</td>\n",
              "    </tr>\n",
              "    <tr>\n",
              "      <th>mean</th>\n",
              "      <td>5.50000</td>\n",
              "      <td>249500.000000</td>\n",
              "    </tr>\n",
              "    <tr>\n",
              "      <th>std</th>\n",
              "      <td>3.02765</td>\n",
              "      <td>299373.883668</td>\n",
              "    </tr>\n",
              "    <tr>\n",
              "      <th>min</th>\n",
              "      <td>1.00000</td>\n",
              "      <td>45000.000000</td>\n",
              "    </tr>\n",
              "    <tr>\n",
              "      <th>25%</th>\n",
              "      <td>3.25000</td>\n",
              "      <td>65000.000000</td>\n",
              "    </tr>\n",
              "    <tr>\n",
              "      <th>50%</th>\n",
              "      <td>5.50000</td>\n",
              "      <td>130000.000000</td>\n",
              "    </tr>\n",
              "    <tr>\n",
              "      <th>75%</th>\n",
              "      <td>7.75000</td>\n",
              "      <td>275000.000000</td>\n",
              "    </tr>\n",
              "    <tr>\n",
              "      <th>max</th>\n",
              "      <td>10.00000</td>\n",
              "      <td>1000000.000000</td>\n",
              "    </tr>\n",
              "  </tbody>\n",
              "</table>\n",
              "</div>"
            ],
            "text/plain": [
              "          Level          Salary\n",
              "count  10.00000       10.000000\n",
              "mean    5.50000   249500.000000\n",
              "std     3.02765   299373.883668\n",
              "min     1.00000    45000.000000\n",
              "25%     3.25000    65000.000000\n",
              "50%     5.50000   130000.000000\n",
              "75%     7.75000   275000.000000\n",
              "max    10.00000  1000000.000000"
            ]
          },
          "execution_count": 6,
          "metadata": {},
          "output_type": "execute_result"
        }
      ],
      "source": [
        "df.describe()"
      ]
    },
    {
      "cell_type": "code",
      "execution_count": 5,
      "metadata": {},
      "outputs": [
        {
          "name": "stdout",
          "output_type": "stream",
          "text": [
            "<class 'pandas.core.frame.DataFrame'>\n",
            "RangeIndex: 10 entries, 0 to 9\n",
            "Data columns (total 3 columns):\n",
            " #   Column    Non-Null Count  Dtype \n",
            "---  ------    --------------  ----- \n",
            " 0   Position  10 non-null     object\n",
            " 1   Level     10 non-null     int64 \n",
            " 2   Salary    10 non-null     int64 \n",
            "dtypes: int64(2), object(1)\n",
            "memory usage: 368.0+ bytes\n"
          ]
        }
      ],
      "source": [
        "df.info()"
      ]
    },
    {
      "cell_type": "markdown",
      "metadata": {
        "id": "Jm72SHBuNGzA"
      },
      "source": [
        "Visualização dos dados\n"
      ]
    },
    {
      "cell_type": "code",
      "execution_count": 8,
      "metadata": {
        "colab": {
          "base_uri": "https://localhost:8080/",
          "height": 307
        },
        "id": "uizffolBNNdA",
        "outputId": "9190fee0-7db5-4024-d720-0a0fea7da1a7"
      },
      "outputs": [
        {
          "data": {
            "text/plain": [
              "<AxesSubplot:xlabel='Level', ylabel='Salary'>"
            ]
          },
          "execution_count": 8,
          "metadata": {},
          "output_type": "execute_result"
        },
        {
          "data": {
            "image/png": "[encoded data removed]",
            "text/plain": [
              "<Figure size 576x396 with 1 Axes>"
            ]
          },
          "metadata": {},
          "output_type": "display_data"
        }
      ],
      "source": [
        "sns.scatterplot(data=df,x='Level',y='Salary')"
      ]
    },
    {
      "cell_type": "markdown",
      "metadata": {
        "id": "amSmQK2INNuq"
      },
      "source": [
        "Regressão linear"
      ]
    },
    {
      "cell_type": "markdown",
      "metadata": {},
      "source": [
        "### OLS"
      ]
    },
    {
      "cell_type": "code",
      "execution_count": 12,
      "metadata": {},
      "outputs": [],
      "source": [
        "reg1 = sm.OLS(y_train, X_train)\n",
        "reg1fit = reg1.fit()"
      ]
    },
    {
      "cell_type": "code",
      "execution_count": 13,
      "metadata": {},
      "outputs": [
        {
          "name": "stdout",
          "output_type": "stream",
          "text": [
            "                                 OLS Regression Results                                \n",
            "=======================================================================================\n",
            "Dep. Variable:                      y   R-squared (uncentered):                   0.797\n",
            "Model:                            OLS   Adj. R-squared (uncentered):              0.763\n",
            "Method:                 Least Squares   F-statistic:                              23.59\n",
            "Date:                Thu, 26 May 2022   Prob (F-statistic):                     0.00283\n",
            "Time:                        05:19:11   Log-Likelihood:                         -95.403\n",
            "No. Observations:                   7   AIC:                                      192.8\n",
            "Df Residuals:                       6   BIC:                                      192.8\n",
            "Df Model:                           1                                                  \n",
            "Covariance Type:            nonrobust                                                  \n",
            "==============================================================================\n",
            "                 coef    std err          t      P>|t|      [0.025      0.975]\n",
            "------------------------------------------------------------------------------\n",
            "x1          5.889e+04   1.21e+04      4.857      0.003    2.92e+04    8.86e+04\n",
            "==============================================================================\n",
            "Omnibus:                          nan   Durbin-Watson:                   2.181\n",
            "Prob(Omnibus):                    nan   Jarque-Bera (JB):                3.254\n",
            "Skew:                           1.570   Prob(JB):                        0.197\n",
            "Kurtosis:                       4.137   Cond. No.                         1.00\n",
            "==============================================================================\n",
            "\n",
            "Notes:\n",
            "[1] R² is computed without centering (uncentered) since the model does not contain a constant.\n",
            "[2] Standard Errors assume that the covariance matrix of the errors is correctly specified.\n"
          ]
        },
        {
          "name": "stderr",
          "output_type": "stream",
          "text": [
            "c:\\Anaconda\\lib\\site-packages\\statsmodels\\stats\\stattools.py:74: ValueWarning: omni_normtest is not valid with less than 8 observations; 7 samples were given.\n",
            "  warn(\"omni_normtest is not valid with less than 8 observations; %i \"\n"
          ]
        }
      ],
      "source": [
        "print(reg1fit.summary())"
      ]
    },
    {
      "cell_type": "code",
      "execution_count": 20,
      "metadata": {},
      "outputs": [],
      "source": [
        "xtest=pd.DataFrame(X_test)\n",
        "ytest=pd.DataFrame(y_test)"
      ]
    },
    {
      "cell_type": "code",
      "execution_count": 23,
      "metadata": {},
      "outputs": [
        {
          "data": {
            "text/plain": [
              "0    294453.125\n",
              "1    117781.250\n",
              "2    353343.750\n",
              "dtype: float64"
            ]
          },
          "execution_count": 23,
          "metadata": {},
          "output_type": "execute_result"
        }
      ],
      "source": [
        "reg1fit.predict(xtest)"
      ]
    },
    {
      "cell_type": "code",
      "execution_count": 25,
      "metadata": {},
      "outputs": [
        {
          "data": {
            "text/html": [
              "<div>\n",
              "<style scoped>\n",
              "    .dataframe tbody tr th:only-of-type {\n",
              "        vertical-align: middle;\n",
              "    }\n",
              "\n",
              "    .dataframe tbody tr th {\n",
              "        vertical-align: top;\n",
              "    }\n",
              "\n",
              "    .dataframe thead th {\n",
              "        text-align: right;\n",
              "    }\n",
              "</style>\n",
              "<table border=\"1\" class=\"dataframe\">\n",
              "  <thead>\n",
              "    <tr style=\"text-align: right;\">\n",
              "      <th></th>\n",
              "      <th>profReal</th>\n",
              "      <th>profPred</th>\n",
              "    </tr>\n",
              "  </thead>\n",
              "  <tbody>\n",
              "    <tr>\n",
              "      <th>0</th>\n",
              "      <td>110000</td>\n",
              "      <td>294453.125</td>\n",
              "    </tr>\n",
              "    <tr>\n",
              "      <th>1</th>\n",
              "      <td>50000</td>\n",
              "      <td>117781.250</td>\n",
              "    </tr>\n",
              "    <tr>\n",
              "      <th>2</th>\n",
              "      <td>150000</td>\n",
              "      <td>353343.750</td>\n",
              "    </tr>\n",
              "  </tbody>\n",
              "</table>\n",
              "</div>"
            ],
            "text/plain": [
              "   profReal    profPred\n",
              "0    110000  294453.125\n",
              "1     50000  117781.250\n",
              "2    150000  353343.750"
            ]
          },
          "execution_count": 25,
          "metadata": {},
          "output_type": "execute_result"
        }
      ],
      "source": [
        "predY = pd.concat([ytest, reg1fit.predict(xtest)], axis = 1)\n",
        "predY.columns = ['profReal', 'profPred']\n",
        "predY"
      ]
    },
    {
      "cell_type": "code",
      "execution_count": 27,
      "metadata": {},
      "outputs": [],
      "source": [
        "from sklearn import metrics"
      ]
    },
    {
      "cell_type": "code",
      "execution_count": 33,
      "metadata": {},
      "outputs": [
        {
          "name": "stdout",
          "output_type": "stream",
          "text": [
            "Rquadrado -14.782750099583678\n",
            "Raiz do erro quadrado médio 163264.54385229168\n"
          ]
        }
      ],
      "source": [
        "print('Rquadrado', metrics.r2_score(predY['profReal'], predY['profPred']))\n",
        "print('Raiz do erro quadrado médio', \n",
        "      np.sqrt(metrics.mean_squared_error(predY['profReal'], predY['profPred'])))\n"
      ]
    },
    {
      "cell_type": "markdown",
      "metadata": {},
      "source": [
        "### LinearRegression"
      ]
    },
    {
      "cell_type": "code",
      "execution_count": 34,
      "metadata": {
        "id": "v4vL1PC8NOo_"
      },
      "outputs": [],
      "source": [
        "X_train, X_test, y_train, y_test = train_test_split(X, y, test_size=0.3, random_state=2)\n",
        "\n",
        "poly_1 = LinearRegression()\n",
        "poly_1.fit(X_train, y_train)\n",
        "y_pred_teste_1=poly_1.predict(X_test)\n",
        "y_pred_treino_1=poly_1.predict(X_train)"
      ]
    },
    {
      "cell_type": "markdown",
      "metadata": {
        "id": "ufUfYzKaIkgK"
      },
      "source": [
        "Métricas"
      ]
    },
    {
      "cell_type": "code",
      "execution_count": 10,
      "metadata": {
        "colab": {
          "base_uri": "https://localhost:8080/"
        },
        "id": "P1bkd32zx0qm",
        "outputId": "78f663c2-2df9-430c-9c86-5310ff9813d4"
      },
      "outputs": [
        {
          "name": "stdout",
          "output_type": "stream",
          "text": [
            "RMSE treino: 32330439675.87\n",
            "RMSE teste: 15274930597.24\n",
            "R2 treino: 0.68\n",
            "R2 teste: -8.04\n"
          ]
        }
      ],
      "source": [
        "print('RMSE treino: %.2f'% mean_squared_error(y_train, y_pred_treino_1))\n",
        "print('RMSE teste: %.2f'% mean_squared_error(y_test, y_pred_teste_1))\n",
        "print('R2 treino: %.2f'% r2_score(y_train, y_pred_treino_1))\n",
        "print('R2 teste: %.2f'% r2_score(y_test, y_pred_teste_1))"
      ]
    },
    {
      "cell_type": "markdown",
      "metadata": {
        "id": "hho0o7cZIr6Y"
      },
      "source": [
        "Gráfico dos resíduos - Regressão linear\n"
      ]
    },
    {
      "cell_type": "code",
      "execution_count": 35,
      "metadata": {
        "colab": {
          "base_uri": "https://localhost:8080/",
          "height": 282
        },
        "id": "dqGxvgzg4Pku",
        "outputId": "44ad614e-bebd-499a-d3d6-a71e24d224da"
      },
      "outputs": [
        {
          "data": {
            "text/plain": [
              "-8.044366800996716"
            ]
          },
          "execution_count": 35,
          "metadata": {},
          "output_type": "execute_result"
        },
        {
          "data": {
            "image/png": "[encoded data removed]",
            "text/plain": [
              "<Figure size 576x396 with 2 Axes>"
            ]
          },
          "metadata": {},
          "output_type": "display_data"
        }
      ],
      "source": [
        "visualizer = ResidualsPlot(poly_1)\n",
        "\n",
        "visualizer.fit(X_train, y_train)  # Fit the training data to the visualizer\n",
        "visualizer.score(X_test, y_test)  # Evaluate the model on the test data"
      ]
    },
    {
      "cell_type": "markdown",
      "metadata": {
        "id": "YJGGLgl6I9_b"
      },
      "source": [
        "Comparação entre dados e predição"
      ]
    },
    {
      "cell_type": "code",
      "execution_count": null,
      "metadata": {
        "colab": {
          "base_uri": "https://localhost:8080/",
          "height": 310
        },
        "id": "Ho1MbUUUgwb8",
        "outputId": "a4a71557-2bf4-49c6-dce4-bab001f27cb0"
      },
      "outputs": [
        {
          "data": {
            "text/plain": [
              "[<matplotlib.lines.Line2D at 0x7f3169637110>,\n",
              " <matplotlib.lines.Line2D at 0x7f3169637350>]"
            ]
          },
          "execution_count": 11,
          "metadata": {},
          "output_type": "execute_result"
        },
        {
          "data": {
            "image/png": "[encoded data removed]",
            "text/plain": [
              "<Figure size 432x288 with 1 Axes>"
            ]
          },
          "metadata": {
            "needs_background": "light"
          },
          "output_type": "display_data"
        }
      ],
      "source": [
        "plt.plot(X, poly_1.predict(X), 'b', X, y,'ro')"
      ]
    },
    {
      "cell_type": "markdown",
      "metadata": {
        "id": "q7rQvsKcJDhC"
      },
      "source": [
        "### Regressão quadrática"
      ]
    },
    {
      "cell_type": "code",
      "execution_count": null,
      "metadata": {},
      "outputs": [],
      "source": [
        "# url = \"https://s3.us-west-2.amazonaws.com/public.gamelab.fun/dataset/position_salaries.csv\"\n",
        "# df = pd.read_csv(url)\n",
        "# X=df['Level'].values.reshape(-1,1) #anos de experiencia\n",
        "# y=df['Salary'].values.reshape(-1,1) #salário"
      ]
    },
    {
      "cell_type": "code",
      "execution_count": 36,
      "metadata": {
        "id": "7xA6Y0770V1Y"
      },
      "outputs": [],
      "source": [
        "poly = PolynomialFeatures(degree=2)\n",
        "X_poly = poly.fit_transform(X) #fazendo um polinomial\n",
        "\n",
        "X_train, X_test, y_train, y_test = train_test_split(X_poly, y, test_size=0.3, random_state=2)\n",
        "\n",
        "poly_2 = LinearRegression() #criou o modelo\n",
        "poly_2.fit(X_train, y_train) #treinou o modelo\n",
        "\n",
        "y_pred_teste_2=poly_2.predict(X_test) #testando o modelo\n",
        "y_pred_treino_2=poly_2.predict(X_train)"
      ]
    },
    {
      "cell_type": "markdown",
      "metadata": {
        "id": "Fg8qWj_MJLSk"
      },
      "source": [
        "Métricas"
      ]
    },
    {
      "cell_type": "code",
      "execution_count": 38,
      "metadata": {
        "colab": {
          "base_uri": "https://localhost:8080/"
        },
        "id": "PIfKSODb0gsO",
        "outputId": "e6cb6d2c-042c-49a5-c104-5cd7945e6db7"
      },
      "outputs": [
        {
          "name": "stdout",
          "output_type": "stream",
          "text": [
            "RMSE treino: 8845125384.17\n",
            "RMSE teste: 3255845702.62\n",
            "R2 treino: 0.91\n",
            "R2 teste: -0.93\n"
          ]
        }
      ],
      "source": [
        "print('RMSE treino: %.2f'% mean_squared_error(y_train, y_pred_treino_2))\n",
        "print('RMSE teste: %.2f'% mean_squared_error(y_test, y_pred_teste_2))\n",
        "print('R2 treino: %.2f'% r2_score(y_train, y_pred_treino_2))\n",
        "print('R2 teste: %.2f'% r2_score(y_test, y_pred_teste_2))"
      ]
    },
    {
      "cell_type": "markdown",
      "metadata": {
        "id": "S2439Ly5JNGW"
      },
      "source": [
        "Gráficos dos resíduos"
      ]
    },
    {
      "cell_type": "code",
      "execution_count": 39,
      "metadata": {
        "colab": {
          "base_uri": "https://localhost:8080/",
          "height": 364
        },
        "id": "4q3kRWIq0rfl",
        "outputId": "af993f32-d001-4412-c26e-6cc4a0f4ac8b"
      },
      "outputs": [
        {
          "data": {
            "text/plain": [
              "-0.9278033765499452"
            ]
          },
          "execution_count": 39,
          "metadata": {},
          "output_type": "execute_result"
        },
        {
          "data": {
            "image/png": "[encoded data removed]",
            "text/plain": [
              "<Figure size 576x396 with 2 Axes>"
            ]
          },
          "metadata": {},
          "output_type": "display_data"
        }
      ],
      "source": [
        "visualizer = ResidualsPlot(poly_2)\n",
        "\n",
        "visualizer.fit(X_train, y_train)  # Fit the training data to the visualizer\n",
        "visualizer.score(X_test, y_test)  # Evaluate the model on the test data"
      ]
    },
    {
      "cell_type": "markdown",
      "metadata": {
        "id": "o1o5UeBsJQg2"
      },
      "source": [
        "Comparação entre dados e predição "
      ]
    },
    {
      "cell_type": "code",
      "execution_count": 41,
      "metadata": {
        "colab": {
          "base_uri": "https://localhost:8080/",
          "height": 392
        },
        "id": "G6NgJ78Jg_FR",
        "outputId": "51f139c3-2570-4e64-87e9-f0a537dd1a51"
      },
      "outputs": [
        {
          "data": {
            "text/plain": [
              "[<matplotlib.lines.Line2D at 0x1e3b31fb4f0>,\n",
              " <matplotlib.lines.Line2D at 0x1e3b31fb520>]"
            ]
          },
          "execution_count": 41,
          "metadata": {},
          "output_type": "execute_result"
        },
        {
          "data": {
            "image/png": "[encoded data removed]",
            "text/plain": [
              "<Figure size 576x396 with 1 Axes>"
            ]
          },
          "metadata": {},
          "output_type": "display_data"
        }
      ],
      "source": [
        "plt.plot(X, poly_2.predict(X_poly), 'b', X, y,'ro')"
      ]
    },
    {
      "cell_type": "markdown",
      "metadata": {
        "id": "choTeLW-JZo5"
      },
      "source": [
        "### Regressão cúbica"
      ]
    },
    {
      "cell_type": "code",
      "execution_count": 42,
      "metadata": {
        "id": "Qk4Xkf3d1jva"
      },
      "outputs": [],
      "source": [
        "poly = PolynomialFeatures(degree=3)\n",
        "X_poly = poly.fit_transform(X)\n",
        "\n",
        "X_train, X_test, y_train, y_test = train_test_split(X_poly, y, test_size=0.3, random_state=2)\n",
        "\n",
        "poly_3 = LinearRegression()\n",
        "poly_3.fit(X_train, y_train)\n",
        "\n",
        "y_pred_teste_3=poly_3.predict(X_test)\n",
        "y_pred_treino_3=poly_3.predict(X_train)"
      ]
    },
    {
      "cell_type": "markdown",
      "metadata": {
        "id": "D4yrIoKHJgFh"
      },
      "source": [
        "Métricas"
      ]
    },
    {
      "cell_type": "code",
      "execution_count": 43,
      "metadata": {
        "colab": {
          "base_uri": "https://localhost:8080/"
        },
        "id": "81bCWDu-1kGF",
        "outputId": "e0f80c9a-9f3f-4416-e687-cb30b10d0dc5"
      },
      "outputs": [
        {
          "name": "stdout",
          "output_type": "stream",
          "text": [
            "RMSE treino: 1353470582.90\n",
            "RMSE teste: 3062843386.53\n",
            "R2 treino: 0.99\n",
            "R2 teste: -0.81\n"
          ]
        }
      ],
      "source": [
        "print('RMSE treino: %.2f'% mean_squared_error(y_train, y_pred_treino_3))\n",
        "print('RMSE teste: %.2f'% mean_squared_error(y_test, y_pred_teste_3))\n",
        "print('R2 treino: %.2f'% r2_score(y_train, y_pred_treino_3))\n",
        "print('R2 teste: %.2f'% r2_score(y_test, y_pred_teste_3))"
      ]
    },
    {
      "cell_type": "markdown",
      "metadata": {
        "id": "skzQgttJJiRJ"
      },
      "source": [
        "Gráfico dos resíduos"
      ]
    },
    {
      "cell_type": "code",
      "execution_count": 44,
      "metadata": {
        "colab": {
          "base_uri": "https://localhost:8080/",
          "height": 377
        },
        "id": "ZYR4KtXB1kRe",
        "outputId": "86279d4e-cd2b-4072-a79a-cb128a870433"
      },
      "outputs": [
        {
          "data": {
            "text/plain": [
              "-0.8135256893945888"
            ]
          },
          "execution_count": 44,
          "metadata": {},
          "output_type": "execute_result"
        },
        {
          "data": {
            "image/png": "[encoded data removed]",
            "text/plain": [
              "<Figure size 576x396 with 2 Axes>"
            ]
          },
          "metadata": {},
          "output_type": "display_data"
        }
      ],
      "source": [
        "visualizer = ResidualsPlot(poly_3)\n",
        "\n",
        "visualizer.fit(X_train, y_train)  # Fit the training data to the visualizer\n",
        "visualizer.score(X_test, y_test)  # Evaluate the model on the test data"
      ]
    },
    {
      "cell_type": "markdown",
      "metadata": {
        "id": "-5l9rrLPJmbO"
      },
      "source": [
        "Comparação entre dados e predição"
      ]
    },
    {
      "cell_type": "code",
      "execution_count": 45,
      "metadata": {
        "colab": {
          "base_uri": "https://localhost:8080/",
          "height": 392
        },
        "id": "qez1-4aVhJs4",
        "outputId": "c0bd84e9-9730-4e2f-8a32-2ee56c14acdf"
      },
      "outputs": [
        {
          "data": {
            "text/plain": [
              "[<matplotlib.lines.Line2D at 0x1e3b33f5430>,\n",
              " <matplotlib.lines.Line2D at 0x1e3b33f5460>]"
            ]
          },
          "execution_count": 45,
          "metadata": {},
          "output_type": "execute_result"
        },
        {
          "data": {
            "image/png": "[encoded data removed]",
            "text/plain": [
              "<Figure size 576x396 with 1 Axes>"
            ]
          },
          "metadata": {},
          "output_type": "display_data"
        }
      ],
      "source": [
        "plt.plot(X, poly_3.predict(X_poly), 'b', X, y,'ro')"
      ]
    },
    {
      "cell_type": "markdown",
      "metadata": {
        "id": "9kuebOGQKLPo"
      },
      "source": [
        "### Regressão Quártica"
      ]
    },
    {
      "cell_type": "code",
      "execution_count": 46,
      "metadata": {
        "id": "YyP7qCfr2E8z"
      },
      "outputs": [],
      "source": [
        "poly = PolynomialFeatures(degree=4)\n",
        "X_poly = poly.fit_transform(X)\n",
        "\n",
        "X_train, X_test, y_train, y_test = train_test_split(X_poly, y, test_size=0.3, random_state=2)\n",
        "\n",
        "poly_4 = LinearRegression()\n",
        "poly_4.fit(X_train, y_train)\n",
        "y_pred_teste_4=poly_4.predict(X_test)\n",
        "y_pred_treino_4=poly_4.predict(X_train)"
      ]
    },
    {
      "cell_type": "markdown",
      "metadata": {
        "id": "vhVCs1iwKOPO"
      },
      "source": [
        "Métricas"
      ]
    },
    {
      "cell_type": "code",
      "execution_count": 51,
      "metadata": {
        "colab": {
          "base_uri": "https://localhost:8080/"
        },
        "id": "VkBqzqbF2FEq",
        "outputId": "1ada9bc8-0abe-438f-c953-ef0cd8d01706"
      },
      "outputs": [
        {
          "name": "stdout",
          "output_type": "stream",
          "text": [
            "RMSE treino: 159746225.04\n",
            "RMSE teste: 851047206.81\n",
            "R2 treino: 1.00\n",
            "R2 teste: 0.50\n"
          ]
        }
      ],
      "source": [
        "print('RMSE treino: %.2f'% mean_squared_error(y_train, y_pred_treino_4))\n",
        "print('RMSE teste: %.2f'% mean_squared_error(y_test, y_pred_teste_4))\n",
        "print('R2 treino: %.2f'% r2_score(y_train, y_pred_treino_4))\n",
        "print('R2 teste: %.2f'% r2_score(y_test, y_pred_teste_4))"
      ]
    },
    {
      "cell_type": "markdown",
      "metadata": {
        "id": "UGK-s7xiKQxE"
      },
      "source": [
        "Gráfico dos resíduos"
      ]
    },
    {
      "cell_type": "code",
      "execution_count": 48,
      "metadata": {
        "colab": {
          "base_uri": "https://localhost:8080/",
          "height": 377
        },
        "id": "OK0VniX42FaX",
        "outputId": "db947795-bff8-4e51-af73-172c67c296a3"
      },
      "outputs": [
        {
          "data": {
            "text/plain": [
              "0.4960904696538392"
            ]
          },
          "execution_count": 48,
          "metadata": {},
          "output_type": "execute_result"
        },
        {
          "data": {
            "image/png": "[encoded data removed]",
            "text/plain": [
              "<Figure size 576x396 with 2 Axes>"
            ]
          },
          "metadata": {},
          "output_type": "display_data"
        }
      ],
      "source": [
        "visualizer = ResidualsPlot(poly_4)\n",
        "\n",
        "visualizer.fit(X_train, y_train)  # Fit the training data to the visualizer\n",
        "visualizer.score(X_test, y_test)  # Evaluate the model on the test data"
      ]
    },
    {
      "cell_type": "markdown",
      "metadata": {
        "id": "o6VgBVajKWCg"
      },
      "source": [
        "Comparação entre dados e predição"
      ]
    },
    {
      "cell_type": "code",
      "execution_count": 49,
      "metadata": {
        "colab": {
          "base_uri": "https://localhost:8080/",
          "height": 392
        },
        "id": "tqqyL3TGhVJQ",
        "outputId": "3d45a5a6-0dec-4987-9df1-58fa6c62cdba"
      },
      "outputs": [
        {
          "data": {
            "text/plain": [
              "[<matplotlib.lines.Line2D at 0x1e3b35e84f0>,\n",
              " <matplotlib.lines.Line2D at 0x1e3b35e8520>]"
            ]
          },
          "execution_count": 49,
          "metadata": {},
          "output_type": "execute_result"
        },
        {
          "data": {
            "image/png": "[encoded data removed]",
            "text/plain": [
              "<Figure size 576x396 with 1 Axes>"
            ]
          },
          "metadata": {},
          "output_type": "display_data"
        }
      ],
      "source": [
        "plt.plot(X, poly_4.predict(X_poly), 'b', X, y,'ro')"
      ]
    },
    {
      "cell_type": "markdown",
      "metadata": {
        "id": "sR5r_SrWK_W0"
      },
      "source": [
        "Conclusão"
      ]
    },
    {
      "cell_type": "markdown",
      "metadata": {
        "id": "z2Z1RNzzKePv"
      },
      "source": [
        "Aqui vemos que aparentemente o polinômio de quarto grau representa melhor o salário conforme o tempo de experiência. \n",
        "\n",
        "Vemos que pela quantidade de amostras ser baixo, o maior polinômio que poderiamos ter é o polinômio interpolador, fator nos limita.\n",
        "\n",
        "Esse é um caso que talvez uma das decisões que precisariámos ter é dizer: \"Precisamos de mais dados para fazer um bom modelo\""
      ]
    }
  ],
  "metadata": {
    "colab": {
      "collapsed_sections": [],
      "name": "[DEx] 6 - GABARITO Regressão Não Linear ",
      "provenance": []
    },
    "interpreter": {
      "hash": "6f5583cf1d9466b5c27e75c89cc6b383bed5736d6b16c51c8074d8690011a952"
    },
    "kernelspec": {
      "display_name": "Python 3.8.12 ('base')",
      "language": "python",
      "name": "python3"
    },
    "language_info": {
      "codemirror_mode": {
        "name": "ipython",
        "version": 3
      },
      "file_extension": ".py",
      "mimetype": "text/x-python",
      "name": "python",
      "nbconvert_exporter": "python",
      "pygments_lexer": "ipython3",
      "version": "3.8.12"
    }
  },
  "nbformat": 4,
  "nbformat_minor": 0
}
