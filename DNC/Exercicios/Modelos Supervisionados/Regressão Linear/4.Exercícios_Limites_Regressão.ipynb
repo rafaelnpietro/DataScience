{
  "cells": [
    {
      "cell_type": "markdown",
      "metadata": {
        "id": "A5WuZJ85Lt0k"
      },
      "source": [
        "Uma das áreas em que a ciência de dados pode ser aplicada é na saúde, e um tema que está em foco é a pandemia do COVID-19. \n",
        "  \n",
        "Uma das formas que se pode utilizar esses dados é para entender óbitos através do tempo como uma forma de prever a tendência futura e auxiliar em políticas públicas, por exemplo.\n",
        "\n",
        "Sabendo de tudo isso, o epidemiologista chefe do Brasil te pediu pra analisar os dados de óbitos nacionais da semana 25 a 35 e quer saber quando que o número de mortes vai ser inferior a 100 óbitos por semana para saber quando toma a decisão de abrir as completamente as cidades.\n",
        "\n",
        "Como essa decisão é importante, ele precisa de uma análise dos dados e como conhecedor da área da saúde, ele te deu uma dica: uma regressão linear pode funcionar, mas epidemias tem comportamentos exponenciais do tipo A*exp(b*t). \n",
        "\n",
        "Então você deve plotar os dados de semana por óbito e semana por ln(obito) e observar se tem alguma diferença entre os gráficos. Após isso, você deve fazer uma regressão de semana por obito e semana por ln(obito) e através das métricas de R², erro quadrático médio, gráficos dos resíduos, normalidade dos resíduos (teste de Shapiro) e homocedasticidade (teste de Breusch-Pagan), você deve dizer escolher o modelo que vai responder a pergunta do epidemiologista."
      ]
    },
    {
      "cell_type": "code",
      "execution_count": 1,
      "metadata": {
        "colab": {
          "base_uri": "https://localhost:8080/"
        },
        "id": "XM45UcaML-Av",
        "outputId": "651864c8-e008-4be8-cbe2-57858386c19c"
      },
      "outputs": [],
      "source": [
        "# aqui vai as bibliotecas que você vai usar\n",
        "import numpy as np\n",
        "import pandas as pd\n",
        "import matplotlib.pyplot as plt\n",
        "import seaborn as sns\n",
        "import scipy as sp\n",
        "import statsmodels.api as sm"
      ]
    },
    {
      "cell_type": "markdown",
      "metadata": {
        "id": "G-n8SBSwML5A"
      },
      "source": [
        "O dataset já está aqui e foi retirado do https://covid.saude.gov.br/ . Ele corresponde ao numero de óbitos por semana da semana 25 até a semana 35."
      ]
    },
    {
      "cell_type": "code",
      "execution_count": 2,
      "metadata": {
        "id": "HHreGPtHMXcX"
      },
      "outputs": [],
      "source": [
        "semana = np.arange(25,36)\n",
        "obitos = np.array([11935, 10852, 9306, 8373, 8182, 6922, 6382,6032,5421,4801,4352])\n",
        "df=pd.DataFrame({'Semana':semana, 'Obitos':obitos}) #coloquei num dataframe pra ficar mais facil de plotar os dados\n",
        "semana=semana.reshape(-1, 1) #coloquei aqui pra poder treinar o modelo mais facilmente"
      ]
    },
    {
      "cell_type": "code",
      "execution_count": 3,
      "metadata": {},
      "outputs": [
        {
          "data": {
            "text/html": [
              "<div>\n",
              "<style scoped>\n",
              "    .dataframe tbody tr th:only-of-type {\n",
              "        vertical-align: middle;\n",
              "    }\n",
              "\n",
              "    .dataframe tbody tr th {\n",
              "        vertical-align: top;\n",
              "    }\n",
              "\n",
              "    .dataframe thead th {\n",
              "        text-align: right;\n",
              "    }\n",
              "</style>\n",
              "<table border=\"1\" class=\"dataframe\">\n",
              "  <thead>\n",
              "    <tr style=\"text-align: right;\">\n",
              "      <th></th>\n",
              "      <th>Semana</th>\n",
              "      <th>Obitos</th>\n",
              "    </tr>\n",
              "  </thead>\n",
              "  <tbody>\n",
              "    <tr>\n",
              "      <th>0</th>\n",
              "      <td>25</td>\n",
              "      <td>11935</td>\n",
              "    </tr>\n",
              "    <tr>\n",
              "      <th>1</th>\n",
              "      <td>26</td>\n",
              "      <td>10852</td>\n",
              "    </tr>\n",
              "    <tr>\n",
              "      <th>2</th>\n",
              "      <td>27</td>\n",
              "      <td>9306</td>\n",
              "    </tr>\n",
              "  </tbody>\n",
              "</table>\n",
              "</div>"
            ],
            "text/plain": [
              "   Semana  Obitos\n",
              "0      25   11935\n",
              "1      26   10852\n",
              "2      27    9306"
            ]
          },
          "execution_count": 3,
          "metadata": {},
          "output_type": "execute_result"
        }
      ],
      "source": [
        "df.head(3)"
      ]
    },
    {
      "cell_type": "code",
      "execution_count": 5,
      "metadata": {},
      "outputs": [
        {
          "data": {
            "text/html": [
              "<div>\n",
              "<style scoped>\n",
              "    .dataframe tbody tr th:only-of-type {\n",
              "        vertical-align: middle;\n",
              "    }\n",
              "\n",
              "    .dataframe tbody tr th {\n",
              "        vertical-align: top;\n",
              "    }\n",
              "\n",
              "    .dataframe thead th {\n",
              "        text-align: right;\n",
              "    }\n",
              "</style>\n",
              "<table border=\"1\" class=\"dataframe\">\n",
              "  <thead>\n",
              "    <tr style=\"text-align: right;\">\n",
              "      <th></th>\n",
              "      <th>Semana</th>\n",
              "      <th>Obitos</th>\n",
              "    </tr>\n",
              "  </thead>\n",
              "  <tbody>\n",
              "    <tr>\n",
              "      <th>count</th>\n",
              "      <td>11.000000</td>\n",
              "      <td>11.000000</td>\n",
              "    </tr>\n",
              "    <tr>\n",
              "      <th>mean</th>\n",
              "      <td>30.000000</td>\n",
              "      <td>7505.272727</td>\n",
              "    </tr>\n",
              "    <tr>\n",
              "      <th>std</th>\n",
              "      <td>3.316625</td>\n",
              "      <td>2462.711720</td>\n",
              "    </tr>\n",
              "    <tr>\n",
              "      <th>min</th>\n",
              "      <td>25.000000</td>\n",
              "      <td>4352.000000</td>\n",
              "    </tr>\n",
              "    <tr>\n",
              "      <th>25%</th>\n",
              "      <td>27.500000</td>\n",
              "      <td>5726.500000</td>\n",
              "    </tr>\n",
              "    <tr>\n",
              "      <th>50%</th>\n",
              "      <td>30.000000</td>\n",
              "      <td>6922.000000</td>\n",
              "    </tr>\n",
              "    <tr>\n",
              "      <th>75%</th>\n",
              "      <td>32.500000</td>\n",
              "      <td>8839.500000</td>\n",
              "    </tr>\n",
              "    <tr>\n",
              "      <th>max</th>\n",
              "      <td>35.000000</td>\n",
              "      <td>11935.000000</td>\n",
              "    </tr>\n",
              "  </tbody>\n",
              "</table>\n",
              "</div>"
            ],
            "text/plain": [
              "          Semana        Obitos\n",
              "count  11.000000     11.000000\n",
              "mean   30.000000   7505.272727\n",
              "std     3.316625   2462.711720\n",
              "min    25.000000   4352.000000\n",
              "25%    27.500000   5726.500000\n",
              "50%    30.000000   6922.000000\n",
              "75%    32.500000   8839.500000\n",
              "max    35.000000  11935.000000"
            ]
          },
          "execution_count": 5,
          "metadata": {},
          "output_type": "execute_result"
        }
      ],
      "source": [
        "df.describe()"
      ]
    },
    {
      "cell_type": "code",
      "execution_count": 4,
      "metadata": {},
      "outputs": [
        {
          "name": "stdout",
          "output_type": "stream",
          "text": [
            "<class 'pandas.core.frame.DataFrame'>\n",
            "RangeIndex: 11 entries, 0 to 10\n",
            "Data columns (total 2 columns):\n",
            " #   Column  Non-Null Count  Dtype\n",
            "---  ------  --------------  -----\n",
            " 0   Semana  11 non-null     int32\n",
            " 1   Obitos  11 non-null     int32\n",
            "dtypes: int32(2)\n",
            "memory usage: 216.0 bytes\n"
          ]
        }
      ],
      "source": [
        "df.info()"
      ]
    },
    {
      "cell_type": "markdown",
      "metadata": {
        "id": "Jm72SHBuNGzA"
      },
      "source": [
        "Visualização dos dados - tendência linear"
      ]
    },
    {
      "cell_type": "code",
      "execution_count": 13,
      "metadata": {},
      "outputs": [
        {
          "data": {
            "text/plain": [
              "<AxesSubplot:xlabel='Semana', ylabel='Obitos'>"
            ]
          },
          "execution_count": 13,
          "metadata": {},
          "output_type": "execute_result"
        },
        {
          "data": {
            "image/png": "[encoded data removed]",
            "text/plain": [
              "<Figure size 432x288 with 1 Axes>"
            ]
          },
          "metadata": {
            "needs_background": "light"
          },
          "output_type": "display_data"
        }
      ],
      "source": [
        "sns.histplot(data=df,x='Semana',y='Obitos')"
      ]
    },
    {
      "cell_type": "code",
      "execution_count": 16,
      "metadata": {
        "colab": {
          "base_uri": "https://localhost:8080/",
          "height": 296
        },
        "id": "FOrKj7RWNLlp",
        "outputId": "8e7a348e-95a5-48ee-a504-d3039c1b324b"
      },
      "outputs": [
        {
          "data": {
            "text/plain": [
              "<AxesSubplot:xlabel='Semana', ylabel='Obitos'>"
            ]
          },
          "execution_count": 16,
          "metadata": {},
          "output_type": "execute_result"
        },
        {
          "data": {
            "image/png": "[encoded data removed]",
            "text/plain": [
              "<Figure size 432x288 with 1 Axes>"
            ]
          },
          "metadata": {
            "needs_background": "light"
          },
          "output_type": "display_data"
        }
      ],
      "source": [
        "sns.scatterplot(data=df,x='Semana',y='Obitos')"
      ]
    },
    {
      "cell_type": "markdown",
      "metadata": {
        "id": "VWPIUMbtNMD7"
      },
      "source": [
        "Visualização dos dados - tendência do logaritmos dos óbitos\n",
        "\n",
        "\n",
        "---\n",
        "\n"
      ]
    },
    {
      "cell_type": "code",
      "execution_count": 15,
      "metadata": {
        "colab": {
          "base_uri": "https://localhost:8080/",
          "height": 296
        },
        "id": "uizffolBNNdA",
        "outputId": "52052048-91d8-4051-d0bb-fff3c54fae1d"
      },
      "outputs": [
        {
          "data": {
            "text/plain": [
              "<AxesSubplot:xlabel='Semana', ylabel='Obitos_exp'>"
            ]
          },
          "execution_count": 15,
          "metadata": {},
          "output_type": "execute_result"
        },
        {
          "data": {
            "image/png": "[encoded data removed]",
            "text/plain": [
              "<Figure size 432x288 with 1 Axes>"
            ]
          },
          "metadata": {
            "needs_background": "light"
          },
          "output_type": "display_data"
        }
      ],
      "source": [
        "# Para analisar a tendencia exponencial com uma reta, basta aplicar o logaritmo natural na variável a ser predita\n",
        "\n",
        "df['Obitos_exp']=np.log(df['Obitos'])\n",
        "sns.scatterplot(data=df,x='Semana',y='Obitos_exp')"
      ]
    },
    {
      "cell_type": "code",
      "execution_count": 17,
      "metadata": {},
      "outputs": [
        {
          "data": {
            "text/html": [
              "<div>\n",
              "<style scoped>\n",
              "    .dataframe tbody tr th:only-of-type {\n",
              "        vertical-align: middle;\n",
              "    }\n",
              "\n",
              "    .dataframe tbody tr th {\n",
              "        vertical-align: top;\n",
              "    }\n",
              "\n",
              "    .dataframe thead th {\n",
              "        text-align: right;\n",
              "    }\n",
              "</style>\n",
              "<table border=\"1\" class=\"dataframe\">\n",
              "  <thead>\n",
              "    <tr style=\"text-align: right;\">\n",
              "      <th></th>\n",
              "      <th>Semana</th>\n",
              "      <th>Obitos</th>\n",
              "      <th>Obitos_exp</th>\n",
              "    </tr>\n",
              "  </thead>\n",
              "  <tbody>\n",
              "    <tr>\n",
              "      <th>0</th>\n",
              "      <td>25</td>\n",
              "      <td>11935</td>\n",
              "      <td>9.387231</td>\n",
              "    </tr>\n",
              "  </tbody>\n",
              "</table>\n",
              "</div>"
            ],
            "text/plain": [
              "   Semana  Obitos  Obitos_exp\n",
              "0      25   11935    9.387231"
            ]
          },
          "execution_count": 17,
          "metadata": {},
          "output_type": "execute_result"
        }
      ],
      "source": [
        "df.head(1)"
      ]
    },
    {
      "cell_type": "markdown",
      "metadata": {
        "id": "LeR-BruBibu1"
      },
      "source": [
        "Vamos fazer uma coisa quando se tem poucos dados: não vamos fazer o split dos dados mas lembre-se de olhar bem as estatísticas e métricas para não ter overfitting!"
      ]
    },
    {
      "cell_type": "markdown",
      "metadata": {
        "id": "amSmQK2INNuq"
      },
      "source": [
        "Regressão linear"
      ]
    },
    {
      "cell_type": "code",
      "execution_count": 19,
      "metadata": {},
      "outputs": [
        {
          "data": {
            "text/plain": [
              "array([[ 1., 25.],\n",
              "       [ 1., 26.],\n",
              "       [ 1., 27.],\n",
              "       [ 1., 28.],\n",
              "       [ 1., 29.],\n",
              "       [ 1., 30.],\n",
              "       [ 1., 31.],\n",
              "       [ 1., 32.],\n",
              "       [ 1., 33.],\n",
              "       [ 1., 34.],\n",
              "       [ 1., 35.]])"
            ]
          },
          "execution_count": 19,
          "metadata": {},
          "output_type": "execute_result"
        }
      ],
      "source": [
        "X_linear=semana\n",
        "X_linear = sm.add_constant(X_linear) \n",
        "X_linear"
      ]
    },
    {
      "cell_type": "code",
      "execution_count": 23,
      "metadata": {},
      "outputs": [
        {
          "data": {
            "text/plain": [
              "0     11935\n",
              "1     10852\n",
              "2      9306\n",
              "3      8373\n",
              "4      8182\n",
              "5      6922\n",
              "6      6382\n",
              "7      6032\n",
              "8      5421\n",
              "9      4801\n",
              "10     4352\n",
              "Name: Obitos, dtype: int32"
            ]
          },
          "execution_count": 23,
          "metadata": {},
          "output_type": "execute_result"
        }
      ],
      "source": [
        "y_linear=df['Obitos']\n",
        "y_linear"
      ]
    },
    {
      "cell_type": "code",
      "execution_count": 62,
      "metadata": {},
      "outputs": [
        {
          "name": "stdout",
          "output_type": "stream",
          "text": [
            "                            OLS Regression Results                            \n",
            "==============================================================================\n",
            "Dep. Variable:                 Obitos   R-squared:                       0.965\n",
            "Model:                            OLS   Adj. R-squared:                  0.962\n",
            "Method:                 Least Squares   F-statistic:                     251.6\n",
            "Date:                Thu, 26 May 2022   Prob (F-statistic):           6.94e-08\n",
            "Time:                        03:26:03   Log-Likelihood:                -82.472\n",
            "No. Observations:                  11   AIC:                             168.9\n",
            "Df Residuals:                       9   BIC:                             169.7\n",
            "Df Model:                           1                                         \n",
            "Covariance Type:            nonrobust                                         \n",
            "==============================================================================\n",
            "                 coef    std err          t      P>|t|      [0.025      0.975]\n",
            "------------------------------------------------------------------------------\n",
            "const       2.939e+04   1387.603     21.183      0.000    2.63e+04    3.25e+04\n",
            "Semana      -729.6000     45.999    -15.861      0.000    -833.656    -625.544\n",
            "==============================================================================\n",
            "Omnibus:                        0.793   Durbin-Watson:                   0.806\n",
            "Prob(Omnibus):                  0.673   Jarque-Bera (JB):                0.623\n",
            "Skew:                           0.179   Prob(JB):                        0.732\n",
            "Kurtosis:                       1.890   Cond. No.                         288.\n",
            "==============================================================================\n",
            "\n",
            "Notes:\n",
            "[1] Standard Errors assume that the covariance matrix of the errors is correctly specified.\n",
            "None\n"
          ]
        },
        {
          "name": "stderr",
          "output_type": "stream",
          "text": [
            "c:\\Anaconda\\lib\\site-packages\\scipy\\stats\\stats.py:1541: UserWarning: kurtosistest only valid for n>=20 ... continuing anyway, n=11\n",
            "  warnings.warn(\"kurtosistest only valid for n>=20 ... continuing \"\n"
          ]
        }
      ],
      "source": [
        "X_linear1=df['Semana']\n",
        "X_linear1 = sm.add_constant(X_linear1) \n",
        "y_linear=df['Obitos']\n",
        "reg1 = sm.OLS(y_linear,X_linear1)\n",
        "reg1fit = reg1.fit()\n",
        "print(print(reg1fit.summary()))"
      ]
    },
    {
      "cell_type": "code",
      "execution_count": 33,
      "metadata": {
        "colab": {
          "base_uri": "https://localhost:8080/"
        },
        "id": "v4vL1PC8NOo_",
        "outputId": "19b18a96-1a75-4842-c648-9448e4a03cb9"
      },
      "outputs": [
        {
          "name": "stdout",
          "output_type": "stream",
          "text": [
            "                            OLS Regression Results                            \n",
            "==============================================================================\n",
            "Dep. Variable:                 Obitos   R-squared:                       0.965\n",
            "Model:                            OLS   Adj. R-squared:                  0.962\n",
            "Method:                 Least Squares   F-statistic:                     251.6\n",
            "Date:                Thu, 26 May 2022   Prob (F-statistic):           6.94e-08\n",
            "Time:                        03:00:30   Log-Likelihood:                -82.472\n",
            "No. Observations:                  11   AIC:                             168.9\n",
            "Df Residuals:                       9   BIC:                             169.7\n",
            "Df Model:                           1                                         \n",
            "Covariance Type:            nonrobust                                         \n",
            "==============================================================================\n",
            "                 coef    std err          t      P>|t|      [0.025      0.975]\n",
            "------------------------------------------------------------------------------\n",
            "const       2.939e+04   1387.603     21.183      0.000    2.63e+04    3.25e+04\n",
            "x1          -729.6000     45.999    -15.861      0.000    -833.656    -625.544\n",
            "==============================================================================\n",
            "Omnibus:                        0.793   Durbin-Watson:                   0.806\n",
            "Prob(Omnibus):                  0.673   Jarque-Bera (JB):                0.623\n",
            "Skew:                           0.179   Prob(JB):                        0.732\n",
            "Kurtosis:                       1.890   Cond. No.                         288.\n",
            "==============================================================================\n",
            "\n",
            "Notes:\n",
            "[1] Standard Errors assume that the covariance matrix of the errors is correctly specified.\n",
            "None\n"
          ]
        },
        {
          "name": "stderr",
          "output_type": "stream",
          "text": [
            "c:\\Anaconda\\lib\\site-packages\\scipy\\stats\\stats.py:1541: UserWarning: kurtosistest only valid for n>=20 ... continuing anyway, n=11\n",
            "  warnings.warn(\"kurtosistest only valid for n>=20 ... continuing \"\n"
          ]
        }
      ],
      "source": [
        "# a gente vai usar a biblioteca statsmodels porque ela nos dá todas as estatísticas sem precisar de esforço mas voce pode utilizar o que voce quiser\n",
        "\n",
        "X_linear=semana\n",
        "X_linear = sm.add_constant(X_linear) \n",
        "y_linear=df['Obitos']\n",
        "modelo_linear = sm.OLS(y_linear,X_linear)\n",
        "resultado_linear = modelo_linear.fit()\n",
        "print(print(resultado_linear.summary()))"
      ]
    },
    {
      "cell_type": "code",
      "execution_count": 42,
      "metadata": {},
      "outputs": [
        {
          "data": {
            "text/plain": [
              "0.0"
            ]
          },
          "execution_count": 42,
          "metadata": {},
          "output_type": "execute_result"
        }
      ],
      "source": [
        "res1=y_linear-predicao_linear #outro jeito de calcular o resíduo\n",
        "(res1-residuos_linear).sum()"
      ]
    },
    {
      "cell_type": "code",
      "execution_count": 35,
      "metadata": {},
      "outputs": [
        {
          "data": {
            "text/plain": [
              "0     781.727273\n",
              "1     428.327273\n",
              "2    -388.072727\n",
              "3    -591.472727\n",
              "4     -52.872727\n",
              "5    -583.272727\n",
              "6    -393.672727\n",
              "7     -14.072727\n",
              "8     104.527273\n",
              "9     214.127273\n",
              "10    494.727273\n",
              "dtype: float64"
            ]
          },
          "execution_count": 35,
          "metadata": {},
          "output_type": "execute_result"
        }
      ],
      "source": [
        "residuos_linear"
      ]
    },
    {
      "cell_type": "code",
      "execution_count": 34,
      "metadata": {
        "colab": {
          "base_uri": "https://localhost:8080/",
          "height": 282
        },
        "id": "UdFuzf2pjlYr",
        "outputId": "0053a045-8048-4132-92ef-b79c5343e886"
      },
      "outputs": [
        {
          "data": {
            "text/plain": [
              "<AxesSubplot:>"
            ]
          },
          "execution_count": 34,
          "metadata": {},
          "output_type": "execute_result"
        },
        {
          "data": {
            "image/png": "[encoded data removed]",
            "text/plain": [
              "<Figure size 432x288 with 1 Axes>"
            ]
          },
          "metadata": {
            "needs_background": "light"
          },
          "output_type": "display_data"
        }
      ],
      "source": [
        "predicao_linear= resultado_linear.predict(X_linear)\n",
        "residuos_linear=resultado_linear.resid\n",
        "sns.residplot(y=residuos_linear,x=predicao_linear)\n",
        "\n",
        "# O que você acha desses resíduos? Eles são tem a variância constante no intervalo?"
      ]
    },
    {
      "cell_type": "code",
      "execution_count": 46,
      "metadata": {},
      "outputs": [
        {
          "data": {
            "text/plain": [
              "<AxesSubplot:ylabel='Count'>"
            ]
          },
          "execution_count": 46,
          "metadata": {},
          "output_type": "execute_result"
        },
        {
          "data": {
            "image/png": "[encoded data removed]",
            "text/plain": [
              "<Figure size 432x288 with 1 Axes>"
            ]
          },
          "metadata": {
            "needs_background": "light"
          },
          "output_type": "display_data"
        }
      ],
      "source": [
        "sns.histplot(x=residuos_linear)"
      ]
    },
    {
      "cell_type": "code",
      "execution_count": 47,
      "metadata": {
        "colab": {
          "base_uri": "https://localhost:8080/"
        },
        "id": "7WEqUZWTwgIT",
        "outputId": "47955f64-fcdb-47ec-95ca-573e2a7abf09"
      },
      "outputs": [
        {
          "name": "stdout",
          "output_type": "stream",
          "text": [
            "436.38104510728357\n"
          ]
        }
      ],
      "source": [
        "#Aqui é o erro quadrático médio\n",
        "\n",
        "print(sm.tools.eval_measures.rmse(y_linear, predicao_linear))"
      ]
    },
    {
      "cell_type": "code",
      "execution_count": 52,
      "metadata": {},
      "outputs": [
        {
          "name": "stdout",
          "output_type": "stream",
          "text": [
            "0.5454545454545454 0.0013494428782933796\n"
          ]
        }
      ],
      "source": [
        "kStat, kPvalue = sp.stats.kstest(residuos_linear, 'norm')\n",
        "# Testando se a distribuição é normal.\n",
        "print(kStat,kPvalue)"
      ]
    },
    {
      "cell_type": "code",
      "execution_count": 51,
      "metadata": {
        "colab": {
          "base_uri": "https://localhost:8080/"
        },
        "id": "fg59sUnni7jL",
        "outputId": "bf1f1d1f-4d67-41b6-e17b-5bee6abf33f5"
      },
      "outputs": [
        {
          "name": "stdout",
          "output_type": "stream",
          "text": [
            "Statistics=0.948, p=0.623\n"
          ]
        }
      ],
      "source": [
        "#vamos fazer o teste de normalidade dos resíduos\n",
        "\n",
        "stat, p = sp.stats.shapiro(residuos_linear)\n",
        "print('Statistics=%.3f, p=%.3f' % (stat, p))\n",
        "\n",
        "#o p valor é maior que 5%, então a distribuição é normal"
      ]
    },
    {
      "cell_type": "code",
      "execution_count": 60,
      "metadata": {
        "colab": {
          "base_uri": "https://localhost:8080/"
        },
        "id": "bwXdxlFLlQHN",
        "outputId": "d4ad6413-95e7-4d15-af90-f0149a04eea8"
      },
      "outputs": [
        {
          "data": {
            "text/plain": [
              "(3.1565450595054574,\n",
              " 0.07562307126980328,\n",
              " 3.6219887474432135,\n",
              " 0.08943609074405841)"
            ]
          },
          "execution_count": 60,
          "metadata": {},
          "output_type": "execute_result"
        }
      ],
      "source": [
        "# aqui tem o teste de homocedasticidade \n",
        "\n",
        "sm.stats.het_breuschpagan(residuos_linear,resultado_linear.model.exog)\n",
        "\n",
        "#o pvalor está na segunda linha e como é maior que 5%, os resíduos tem variancia inconstante no intervalo"
      ]
    },
    {
      "cell_type": "markdown",
      "metadata": {},
      "source": [
        "## Ln"
      ]
    },
    {
      "cell_type": "code",
      "execution_count": 63,
      "metadata": {},
      "outputs": [
        {
          "data": {
            "text/html": [
              "<div>\n",
              "<style scoped>\n",
              "    .dataframe tbody tr th:only-of-type {\n",
              "        vertical-align: middle;\n",
              "    }\n",
              "\n",
              "    .dataframe tbody tr th {\n",
              "        vertical-align: top;\n",
              "    }\n",
              "\n",
              "    .dataframe thead th {\n",
              "        text-align: right;\n",
              "    }\n",
              "</style>\n",
              "<table border=\"1\" class=\"dataframe\">\n",
              "  <thead>\n",
              "    <tr style=\"text-align: right;\">\n",
              "      <th></th>\n",
              "      <th>Semana</th>\n",
              "      <th>Obitos</th>\n",
              "      <th>Obitos_exp</th>\n",
              "    </tr>\n",
              "  </thead>\n",
              "  <tbody>\n",
              "    <tr>\n",
              "      <th>0</th>\n",
              "      <td>25</td>\n",
              "      <td>11935</td>\n",
              "      <td>9.387231</td>\n",
              "    </tr>\n",
              "  </tbody>\n",
              "</table>\n",
              "</div>"
            ],
            "text/plain": [
              "   Semana  Obitos  Obitos_exp\n",
              "0      25   11935    9.387231"
            ]
          },
          "execution_count": 63,
          "metadata": {},
          "output_type": "execute_result"
        }
      ],
      "source": [
        "df.head(1)"
      ]
    },
    {
      "cell_type": "markdown",
      "metadata": {
        "id": "Tu6BpqL5pLAS"
      },
      "source": [
        "Regressão linear de Ln(y) = a*x+b-> Observe que se você a curva segue y= a*exp(b*x), a equação fica ln(y) = ln(a)+b*x se colocar ln dos dois lados"
      ]
    },
    {
      "cell_type": "code",
      "execution_count": 65,
      "metadata": {
        "colab": {
          "base_uri": "https://localhost:8080/"
        },
        "id": "-HFpyc1Zj6NE",
        "outputId": "fda48b33-3fbf-452e-c5a6-1407e5de44b3"
      },
      "outputs": [
        {
          "name": "stdout",
          "output_type": "stream",
          "text": [
            "                            OLS Regression Results                            \n",
            "==============================================================================\n",
            "Dep. Variable:             Obitos_exp   R-squared:                       0.993\n",
            "Model:                            OLS   Adj. R-squared:                  0.993\n",
            "Method:                 Least Squares   F-statistic:                     1335.\n",
            "Date:                Thu, 26 May 2022   Prob (F-statistic):           4.27e-11\n",
            "Time:                        03:27:55   Log-Likelihood:                 24.721\n",
            "No. Observations:                  11   AIC:                            -45.44\n",
            "Df Residuals:                       9   BIC:                            -44.65\n",
            "Df Model:                           1                                         \n",
            "Covariance Type:            nonrobust                                         \n",
            "==============================================================================\n",
            "                 coef    std err          t      P>|t|      [0.025      0.975]\n",
            "------------------------------------------------------------------------------\n",
            "const         11.8288      0.081    145.479      0.000      11.645      12.013\n",
            "x1            -0.0985      0.003    -36.533      0.000      -0.105      -0.092\n",
            "==============================================================================\n",
            "Omnibus:                        2.723   Durbin-Watson:                   2.251\n",
            "Prob(Omnibus):                  0.256   Jarque-Bera (JB):                1.003\n",
            "Skew:                          -0.170   Prob(JB):                        0.605\n",
            "Kurtosis:                       1.560   Cond. No.                         288.\n",
            "==============================================================================\n",
            "\n",
            "Notes:\n",
            "[1] Standard Errors assume that the covariance matrix of the errors is correctly specified.\n"
          ]
        },
        {
          "name": "stderr",
          "output_type": "stream",
          "text": [
            "c:\\Anaconda\\lib\\site-packages\\scipy\\stats\\stats.py:1541: UserWarning: kurtosistest only valid for n>=20 ... continuing anyway, n=11\n",
            "  warnings.warn(\"kurtosistest only valid for n>=20 ... continuing \"\n"
          ]
        }
      ],
      "source": [
        "X_exp=semana\n",
        "X_exp = sm.add_constant(X_exp) \n",
        "y_exp=df['Obitos_exp']\n",
        "modelo_exp= sm.OLS(y_exp,X_exp)\n",
        "resultado_exp = modelo_exp.fit()\n",
        "print(resultado_exp.summary())"
      ]
    },
    {
      "cell_type": "code",
      "execution_count": 69,
      "metadata": {
        "colab": {
          "base_uri": "https://localhost:8080/",
          "height": 282
        },
        "id": "E5A3cS-kq00w",
        "outputId": "bbd0b928-2cc5-42d7-dc36-f1642da8bf57"
      },
      "outputs": [
        {
          "data": {
            "text/plain": [
              "<AxesSubplot:ylabel='Obitos_exp'>"
            ]
          },
          "execution_count": 69,
          "metadata": {},
          "output_type": "execute_result"
        },
        {
          "data": {
            "image/png": "[encoded data removed]",
            "text/plain": [
              "<Figure size 432x288 with 1 Axes>"
            ]
          },
          "metadata": {
            "needs_background": "light"
          },
          "output_type": "display_data"
        }
      ],
      "source": [
        "predicao_exp= resultado_exp.predict(X_exp) #aqui a gente precisa pegar só o vetor de semanas para o programa entender (esse vetor tem o const tb)\n",
        "\n",
        "residuos_exp=np.exp(predicao_exp)-np.exp(np.transpose(y_exp))# aqui a gente volta a usar o numero de obitos ao inves do ln(obitos)\n",
        "sns.residplot(y=residuos_exp,x=np.exp(predicao_exp))\n",
        "\n",
        "# o que você acha desses resíduos? Eles são tem a variância constante no intervalo e estão distribuidos normalmente?"
      ]
    },
    {
      "cell_type": "code",
      "execution_count": 70,
      "metadata": {
        "colab": {
          "base_uri": "https://localhost:8080/"
        },
        "id": "i80kEh0Jw0bX",
        "outputId": "2b8e9b4c-14d5-431f-fe4f-696180f1a9c7"
      },
      "outputs": [
        {
          "name": "stdout",
          "output_type": "stream",
          "text": [
            "214.07239449511812\n"
          ]
        }
      ],
      "source": [
        "#Aqui é o erro quadrático médio\n",
        "\n",
        "print(sm.tools.eval_measures.rmse(np.exp(y_exp), np.exp(predicao_exp)))"
      ]
    },
    {
      "cell_type": "code",
      "execution_count": 71,
      "metadata": {
        "colab": {
          "base_uri": "https://localhost:8080/"
        },
        "id": "vZS1hLqijyym",
        "outputId": "91ff5f4e-2b89-4db5-cd1c-dc443a4639c3"
      },
      "outputs": [
        {
          "name": "stdout",
          "output_type": "stream",
          "text": [
            "Statistics=0.928, p=0.388\n"
          ]
        }
      ],
      "source": [
        "#vamos fazer o teste de normalidade dos resíduos\n",
        "stat, p = sp.stats.shapiro(residuos_exp)\n",
        "print('Statistics=%.3f, p=%.3f' % (stat, p))\n",
        "#o p valor é maior que 5%, então a distribuição é normal"
      ]
    },
    {
      "cell_type": "code",
      "execution_count": 72,
      "metadata": {
        "colab": {
          "base_uri": "https://localhost:8080/"
        },
        "id": "PDKONcMKmm9y",
        "outputId": "d75d0820-a667-48f5-f882-854c8316b6cf"
      },
      "outputs": [
        {
          "data": {
            "text/plain": [
              "(6.794328498722505,\n",
              " 0.009144791323038422,\n",
              " 14.539641641038349,\n",
              " 0.004133495125161037)"
            ]
          },
          "execution_count": 72,
          "metadata": {},
          "output_type": "execute_result"
        }
      ],
      "source": [
        "# aqui tem o teste de homocedasticidade\n",
        "\n",
        "sm.stats.het_breuschpagan(residuos_exp,resultado_exp.model.exog)\n",
        "\n",
        "#o pvalor está na segunda linha e como é menor que 5%, os resíduos tem variancia constante no intervalo"
      ]
    },
    {
      "cell_type": "code",
      "execution_count": 83,
      "metadata": {
        "colab": {
          "base_uri": "https://localhost:8080/",
          "height": 316
        },
        "id": "bWGxHFChsPok",
        "outputId": "e6f84226-7e53-404b-b70a-0df5d46092b5"
      },
      "outputs": [
        {
          "data": {
            "text/plain": [
              "[<matplotlib.lines.Line2D at 0x15d85c912e0>,\n",
              " <matplotlib.lines.Line2D at 0x15d85c912b0>,\n",
              " <matplotlib.lines.Line2D at 0x15d85c91580>]"
            ]
          },
          "execution_count": 83,
          "metadata": {},
          "output_type": "execute_result"
        },
        {
          "data": {
            "image/png": "[encoded data removed]",
            "text/plain": [
              "<Figure size 432x288 with 1 Axes>"
            ]
          },
          "metadata": {
            "needs_background": "light"
          },
          "output_type": "display_data"
        }
      ],
      "source": [
        "# comparação visual entre os modelos\n",
        "# qual voce acha que ajustou melhor?\n",
        "\n",
        "plt.plot(df['Semana'], predicao_linear, 'b', df['Semana'], np.exp(predicao_exp), 'r',df['Semana'],df['Obitos'],'go')"
      ]
    },
    {
      "cell_type": "markdown",
      "metadata": {
        "id": "_nikEQS3n5hs"
      },
      "source": [
        "O R² do linear é 0.965 e do modelo exponencial é de 0.993. O RMSE linear é 436.38 e do exponencial 214.07. Apesar dos dois modelos terem resíduos normais, apenas o exponencial tem homocedasticidade.\n",
        "\n",
        "O modelo exponencial tem melhores métricas em comparação ao modelo linear e contextualizando com os dados, o modelo exponencial ajustado tende a zero no tempo infinito e o linear não, perdendo o sentido físico do dado. \n",
        "\n",
        "Respondendo ao epidemiologista, ln(obitos = 100)= -0.0985*semanas + 11.83 e isolando as semanas, temos que a semana com menos de 100 mortes será a partir da semana 73 ou seja, daqui a aproximadamente 9 meses.\n",
        "\n"
      ]
    },
    {
      "cell_type": "code",
      "execution_count": 86,
      "metadata": {},
      "outputs": [
        {
          "data": {
            "text/plain": [
              "const    11.828820\n",
              "x1       -0.098471\n",
              "dtype: float64"
            ]
          },
          "execution_count": 86,
          "metadata": {},
          "output_type": "execute_result"
        }
      ],
      "source": [
        "resultado_exp.params\n",
        "# resgatando os parametros"
      ]
    }
  ],
  "metadata": {
    "colab": {
      "collapsed_sections": [],
      "name": "[DEx] 5- GABARITO Limites da Regressão Linear.ipynb",
      "provenance": []
    },
    "interpreter": {
      "hash": "6f5583cf1d9466b5c27e75c89cc6b383bed5736d6b16c51c8074d8690011a952"
    },
    "kernelspec": {
      "display_name": "Python 3.8.12 ('base')",
      "language": "python",
      "name": "python3"
    },
    "language_info": {
      "codemirror_mode": {
        "name": "ipython",
        "version": 3
      },
      "file_extension": ".py",
      "mimetype": "text/x-python",
      "name": "python",
      "nbconvert_exporter": "python",
      "pygments_lexer": "ipython3",
      "version": "3.8.12"
    }
  },
  "nbformat": 4,
  "nbformat_minor": 0
}
