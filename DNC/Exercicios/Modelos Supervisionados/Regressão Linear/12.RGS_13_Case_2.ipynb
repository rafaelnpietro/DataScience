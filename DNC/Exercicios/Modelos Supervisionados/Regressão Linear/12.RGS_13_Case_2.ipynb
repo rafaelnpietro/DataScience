{
  "cells": [
    {
      "cell_type": "markdown",
      "metadata": {
        "id": "u5I6IqGTabns"
      },
      "source": [
        "Ajude **Santander** a identificar o valor das transações para cada cliente potencial. Esse é um primeiro passo que o **Santander** precisa acertar para personalizar seus serviços em grande escala."
      ]
    },
    {
      "cell_type": "markdown",
      "metadata": {
        "id": "eAeDxWfEaeU_"
      },
      "source": [
        "Baixa o dataset *train* no url seguinte:  \n",
        "https://www.kaggle.com/c/santander-value-prediction-challenge/data"
      ]
    },
    {
      "cell_type": "markdown",
      "metadata": {
        "id": "Q5yEmOxGaimP"
      },
      "source": [
        "Depois, pode deixar ele na pasta `colab_data` do `Drive` (com um *Drag and Drop*)"
      ]
    },
    {
      "cell_type": "markdown",
      "metadata": {
        "id": "VUsBC2i3alci"
      },
      "source": [
        "O case podera ser quebrado nas **6** partes seguintes:  \n",
        "- **Identificar o problema**\n",
        "  - Qual o tipo (classificaçao, regressao, clustering) de problema e porque? \n",
        "- **Necessidades de aplicar transformaçoes?**\n",
        "  - Ex: *imputing* de valores null, *encoding* de colunas *string*, etc \n",
        "- **Separar os sets de treinamento e teste**\n",
        "- **Baseline**\n",
        "  - Achar uma baseline, um primeiro modelo para ter uma referencia\n",
        "- **Escolher a metrica**\n",
        "- **Melhorar o resultado**\n",
        "  - Feature engineering, otimizaçao do modelo, hiperparametros, etc"
      ]
    },
    {
      "cell_type": "code",
      "execution_count": 2,
      "metadata": {
        "colab": {
          "base_uri": "https://localhost:8080/",
          "height": 255
        },
        "id": "mZkOwu3sadpt",
        "outputId": "8f619948-bbb9-40aa-d7e7-169850de2ba1"
      },
      "outputs": [
        {
          "data": {
            "text/html": [
              "<div>\n",
              "<style scoped>\n",
              "    .dataframe tbody tr th:only-of-type {\n",
              "        vertical-align: middle;\n",
              "    }\n",
              "\n",
              "    .dataframe tbody tr th {\n",
              "        vertical-align: top;\n",
              "    }\n",
              "\n",
              "    .dataframe thead th {\n",
              "        text-align: right;\n",
              "    }\n",
              "</style>\n",
              "<table border=\"1\" class=\"dataframe\">\n",
              "  <thead>\n",
              "    <tr style=\"text-align: right;\">\n",
              "      <th></th>\n",
              "      <th>ID</th>\n",
              "      <th>target</th>\n",
              "      <th>48df886f9</th>\n",
              "      <th>0deb4b6a8</th>\n",
              "      <th>34b15f335</th>\n",
              "      <th>a8cb14b00</th>\n",
              "      <th>2f0771a37</th>\n",
              "      <th>30347e683</th>\n",
              "      <th>d08d1fbe3</th>\n",
              "      <th>6ee66e115</th>\n",
              "      <th>...</th>\n",
              "      <th>3ecc09859</th>\n",
              "      <th>9281abeea</th>\n",
              "      <th>8675bec0b</th>\n",
              "      <th>3a13ed79a</th>\n",
              "      <th>f677d4d13</th>\n",
              "      <th>71b203550</th>\n",
              "      <th>137efaa80</th>\n",
              "      <th>fb36b89d9</th>\n",
              "      <th>7e293fbaf</th>\n",
              "      <th>9fc776466</th>\n",
              "    </tr>\n",
              "  </thead>\n",
              "  <tbody>\n",
              "    <tr>\n",
              "      <th>0</th>\n",
              "      <td>000d6aaf2</td>\n",
              "      <td>38000000.0</td>\n",
              "      <td>0.0</td>\n",
              "      <td>0</td>\n",
              "      <td>0.0</td>\n",
              "      <td>0</td>\n",
              "      <td>0</td>\n",
              "      <td>0</td>\n",
              "      <td>0</td>\n",
              "      <td>0</td>\n",
              "      <td>...</td>\n",
              "      <td>0.0</td>\n",
              "      <td>0.0</td>\n",
              "      <td>0.0</td>\n",
              "      <td>0</td>\n",
              "      <td>0</td>\n",
              "      <td>0</td>\n",
              "      <td>0</td>\n",
              "      <td>0</td>\n",
              "      <td>0</td>\n",
              "      <td>0</td>\n",
              "    </tr>\n",
              "    <tr>\n",
              "      <th>1</th>\n",
              "      <td>000fbd867</td>\n",
              "      <td>600000.0</td>\n",
              "      <td>0.0</td>\n",
              "      <td>0</td>\n",
              "      <td>0.0</td>\n",
              "      <td>0</td>\n",
              "      <td>0</td>\n",
              "      <td>0</td>\n",
              "      <td>0</td>\n",
              "      <td>0</td>\n",
              "      <td>...</td>\n",
              "      <td>0.0</td>\n",
              "      <td>0.0</td>\n",
              "      <td>0.0</td>\n",
              "      <td>0</td>\n",
              "      <td>0</td>\n",
              "      <td>0</td>\n",
              "      <td>0</td>\n",
              "      <td>0</td>\n",
              "      <td>0</td>\n",
              "      <td>0</td>\n",
              "    </tr>\n",
              "    <tr>\n",
              "      <th>2</th>\n",
              "      <td>0027d6b71</td>\n",
              "      <td>10000000.0</td>\n",
              "      <td>0.0</td>\n",
              "      <td>0</td>\n",
              "      <td>0.0</td>\n",
              "      <td>0</td>\n",
              "      <td>0</td>\n",
              "      <td>0</td>\n",
              "      <td>0</td>\n",
              "      <td>0</td>\n",
              "      <td>...</td>\n",
              "      <td>0.0</td>\n",
              "      <td>0.0</td>\n",
              "      <td>0.0</td>\n",
              "      <td>0</td>\n",
              "      <td>0</td>\n",
              "      <td>0</td>\n",
              "      <td>0</td>\n",
              "      <td>0</td>\n",
              "      <td>0</td>\n",
              "      <td>0</td>\n",
              "    </tr>\n",
              "    <tr>\n",
              "      <th>3</th>\n",
              "      <td>0028cbf45</td>\n",
              "      <td>2000000.0</td>\n",
              "      <td>0.0</td>\n",
              "      <td>0</td>\n",
              "      <td>0.0</td>\n",
              "      <td>0</td>\n",
              "      <td>0</td>\n",
              "      <td>0</td>\n",
              "      <td>0</td>\n",
              "      <td>0</td>\n",
              "      <td>...</td>\n",
              "      <td>0.0</td>\n",
              "      <td>0.0</td>\n",
              "      <td>0.0</td>\n",
              "      <td>0</td>\n",
              "      <td>0</td>\n",
              "      <td>0</td>\n",
              "      <td>0</td>\n",
              "      <td>0</td>\n",
              "      <td>0</td>\n",
              "      <td>0</td>\n",
              "    </tr>\n",
              "    <tr>\n",
              "      <th>4</th>\n",
              "      <td>002a68644</td>\n",
              "      <td>14400000.0</td>\n",
              "      <td>0.0</td>\n",
              "      <td>0</td>\n",
              "      <td>0.0</td>\n",
              "      <td>0</td>\n",
              "      <td>0</td>\n",
              "      <td>0</td>\n",
              "      <td>0</td>\n",
              "      <td>0</td>\n",
              "      <td>...</td>\n",
              "      <td>0.0</td>\n",
              "      <td>0.0</td>\n",
              "      <td>0.0</td>\n",
              "      <td>0</td>\n",
              "      <td>0</td>\n",
              "      <td>0</td>\n",
              "      <td>0</td>\n",
              "      <td>0</td>\n",
              "      <td>0</td>\n",
              "      <td>0</td>\n",
              "    </tr>\n",
              "  </tbody>\n",
              "</table>\n",
              "<p>5 rows × 4993 columns</p>\n",
              "</div>"
            ],
            "text/plain": [
              "          ID      target  48df886f9  0deb4b6a8  34b15f335  a8cb14b00  \\\n",
              "0  000d6aaf2  38000000.0        0.0          0        0.0          0   \n",
              "1  000fbd867    600000.0        0.0          0        0.0          0   \n",
              "2  0027d6b71  10000000.0        0.0          0        0.0          0   \n",
              "3  0028cbf45   2000000.0        0.0          0        0.0          0   \n",
              "4  002a68644  14400000.0        0.0          0        0.0          0   \n",
              "\n",
              "   2f0771a37  30347e683  d08d1fbe3  6ee66e115  ...  3ecc09859  9281abeea  \\\n",
              "0          0          0          0          0  ...        0.0        0.0   \n",
              "1          0          0          0          0  ...        0.0        0.0   \n",
              "2          0          0          0          0  ...        0.0        0.0   \n",
              "3          0          0          0          0  ...        0.0        0.0   \n",
              "4          0          0          0          0  ...        0.0        0.0   \n",
              "\n",
              "   8675bec0b  3a13ed79a  f677d4d13  71b203550  137efaa80  fb36b89d9  \\\n",
              "0        0.0          0          0          0          0          0   \n",
              "1        0.0          0          0          0          0          0   \n",
              "2        0.0          0          0          0          0          0   \n",
              "3        0.0          0          0          0          0          0   \n",
              "4        0.0          0          0          0          0          0   \n",
              "\n",
              "   7e293fbaf  9fc776466  \n",
              "0          0          0  \n",
              "1          0          0  \n",
              "2          0          0  \n",
              "3          0          0  \n",
              "4          0          0  \n",
              "\n",
              "[5 rows x 4993 columns]"
            ]
          },
          "execution_count": 2,
          "metadata": {},
          "output_type": "execute_result"
        }
      ],
      "source": [
        "import pandas as pd\n",
        "\n",
        "df = pd.read_csv(r\"C:\\Users\\Rafael Pietro\\OneDrive\\Cursos\\DNC\\Datasets\\Modelos Supervisionados\\Case\\train.csv\")\n",
        "df.head()"
      ]
    },
    {
      "cell_type": "code",
      "execution_count": 3,
      "metadata": {
        "colab": {
          "base_uri": "https://localhost:8080/"
        },
        "id": "BdTefCdX8i6x",
        "outputId": "c3f29f24-1fb7-4fc9-e483-89055f88c8e8"
      },
      "outputs": [
        {
          "name": "stdout",
          "output_type": "stream",
          "text": [
            "<class 'pandas.core.frame.DataFrame'>\n",
            "RangeIndex: 4459 entries, 0 to 4458\n",
            "Columns: 4993 entries, ID to 9fc776466\n",
            "dtypes: float64(1845), int64(3147), object(1)\n",
            "memory usage: 169.9+ MB\n"
          ]
        }
      ],
      "source": [
        "df.info()"
      ]
    },
    {
      "cell_type": "code",
      "execution_count": 4,
      "metadata": {
        "colab": {
          "base_uri": "https://localhost:8080/"
        },
        "id": "72kesUA4-F2w",
        "outputId": "f1e16202-7263-4896-e0c2-9bae9a13cf28"
      },
      "outputs": [
        {
          "data": {
            "text/plain": [
              "count    4.459000e+03\n",
              "mean     5.944923e+06\n",
              "std      8.234312e+06\n",
              "min      3.000000e+04\n",
              "25%      6.000000e+05\n",
              "50%      2.260000e+06\n",
              "75%      8.000000e+06\n",
              "max      4.000000e+07\n",
              "Name: target, dtype: float64"
            ]
          },
          "execution_count": 4,
          "metadata": {},
          "output_type": "execute_result"
        }
      ],
      "source": [
        "df[\"target\"].describe()"
      ]
    },
    {
      "cell_type": "code",
      "execution_count": 5,
      "metadata": {
        "id": "WQ-fKsIA7-tj"
      },
      "outputs": [],
      "source": [
        "id = df[\"ID\"]\n",
        "y = df[\"target\"]\n",
        "X = df.drop([\"ID\", \"target\"], axis=1)"
      ]
    },
    {
      "cell_type": "code",
      "execution_count": 6,
      "metadata": {},
      "outputs": [
        {
          "name": "stdout",
          "output_type": "stream",
          "text": [
            "(4459,) \n",
            " (4459,) \n",
            " (4459, 4991)\n"
          ]
        }
      ],
      "source": [
        "print(id.shape,'\\n',y.shape,'\\n',X.shape)"
      ]
    },
    {
      "cell_type": "code",
      "execution_count": 7,
      "metadata": {},
      "outputs": [],
      "source": [
        "df.corr()['target'].abs().sort_values(ascending=False)"
      ]
    },
    {
      "cell_type": "markdown",
      "metadata": {
        "id": "dJb8t7tX9M1C"
      },
      "source": [
        "## Split train test"
      ]
    },
    {
      "cell_type": "code",
      "execution_count": 31,
      "metadata": {
        "id": "L43SyG6W8fj4"
      },
      "outputs": [],
      "source": [
        "from sklearn.model_selection import train_test_split\n",
        "\n",
        "X_train, X_test, y_train, y_test = train_test_split(\n",
        "    X, y, test_size=0.20, random_state=42)"
      ]
    },
    {
      "cell_type": "code",
      "execution_count": 32,
      "metadata": {},
      "outputs": [
        {
          "name": "stdout",
          "output_type": "stream",
          "text": [
            "(3567, 4991) \n",
            " (892, 4991) \n",
            " (3567,) \n",
            " (892,)\n"
          ]
        }
      ],
      "source": [
        "print(X_train.shape,'\\n',X_test.shape,'\\n',y_train.shape,'\\n',y_test.shape)"
      ]
    },
    {
      "cell_type": "markdown",
      "metadata": {
        "id": "7h8Jb7jG9ZHE"
      },
      "source": [
        "## Baseline"
      ]
    },
    {
      "cell_type": "code",
      "execution_count": 33,
      "metadata": {
        "id": "kbTNx1AC9Xhj"
      },
      "outputs": [],
      "source": [
        "from sklearn.linear_model import LinearRegression\n",
        "reg = LinearRegression().fit(X_train, y_train)"
      ]
    },
    {
      "cell_type": "code",
      "execution_count": 25,
      "metadata": {
        "colab": {
          "base_uri": "https://localhost:8080/"
        },
        "id": "gdud2sDZ9hZT",
        "outputId": "7dd3c772-593d-4c8f-b6d9-804a91695c85"
      },
      "outputs": [
        {
          "name": "stdout",
          "output_type": "stream",
          "text": [
            "13930.62449721572\n",
            "3176573602530918.5\n"
          ]
        }
      ],
      "source": [
        "from sklearn.metrics import mean_absolute_error\n",
        "\n",
        "y_train_pred = reg.predict(X_train)\n",
        "y_pred = reg.predict(X_test)\n",
        "print(mean_absolute_error(y_train, y_train_pred))\n",
        "print(mean_absolute_error(y_test, y_pred))"
      ]
    },
    {
      "cell_type": "code",
      "execution_count": 34,
      "metadata": {
        "colab": {
          "base_uri": "https://localhost:8080/"
        },
        "id": "0MIdc-mf9_J7",
        "outputId": "9881e60e-718e-4f60-c7f8-33485aa4241d"
      },
      "outputs": [
        {
          "name": "stderr",
          "output_type": "stream",
          "text": [
            "c:\\Anaconda\\lib\\site-packages\\sklearn\\feature_selection\\_univariate_selection.py:289: RuntimeWarning: invalid value encountered in true_divide\n",
            "  correlation_coefficient /= X_norms\n"
          ]
        }
      ],
      "source": [
        "from sklearn.feature_selection import SelectKBest, f_regression\n",
        "sel_kbest = SelectKBest(f_regression, k=45).fit(X_train, y_train)"
      ]
    },
    {
      "cell_type": "code",
      "execution_count": 36,
      "metadata": {},
      "outputs": [
        {
          "data": {
            "text/plain": [
              "SelectKBest(k=45, score_func=<function f_regression at 0x0000024C88177160>)"
            ]
          },
          "execution_count": 36,
          "metadata": {},
          "output_type": "execute_result"
        }
      ],
      "source": [
        "sel_kbest"
      ]
    },
    {
      "cell_type": "code",
      "execution_count": 35,
      "metadata": {
        "id": "HbvupIvx__ve"
      },
      "outputs": [],
      "source": [
        "X_train_sel = sel_kbest.transform(X_train)\n",
        "X_test_sel = sel_kbest.transform(X_test)"
      ]
    },
    {
      "cell_type": "code",
      "execution_count": 37,
      "metadata": {
        "colab": {
          "base_uri": "https://localhost:8080/"
        },
        "id": "9st1FXP7Ac8C",
        "outputId": "0bf8cb5b-34fb-4b0c-8181-a3106ee68b39"
      },
      "outputs": [
        {
          "data": {
            "text/plain": [
              "(3567, 45)"
            ]
          },
          "execution_count": 37,
          "metadata": {},
          "output_type": "execute_result"
        }
      ],
      "source": [
        "X_train_sel.shape"
      ]
    },
    {
      "cell_type": "code",
      "execution_count": 42,
      "metadata": {},
      "outputs": [
        {
          "data": {
            "text/plain": [
              "array([[       0.  ,        0.  ,        0.  , ...,        0.  ,\n",
              "               0.  ,        0.  ],\n",
              "       [47500000.  , 20000000.  , 36000000.  , ..., 30000000.  ,\n",
              "        48571428.58, 20000000.  ],\n",
              "       [       0.  ,        0.  ,        0.  , ...,        0.  ,\n",
              "               0.  ,        0.  ],\n",
              "       ...,\n",
              "       [       0.  ,        0.  ,        0.  , ...,        0.  ,\n",
              "               0.  ,        0.  ],\n",
              "       [  400000.  ,   350000.  ,   400000.  , ...,        0.  ,\n",
              "          400000.  ,        0.  ],\n",
              "       [  200000.  ,        0.  ,        0.  , ...,        0.  ,\n",
              "         2000000.  ,        0.  ]])"
            ]
          },
          "execution_count": 42,
          "metadata": {},
          "output_type": "execute_result"
        }
      ],
      "source": [
        "X_train_sel"
      ]
    },
    {
      "cell_type": "code",
      "execution_count": 43,
      "metadata": {
        "colab": {
          "base_uri": "https://localhost:8080/"
        },
        "id": "s_dCxMioAerr",
        "outputId": "cd14fbf0-73ba-4706-b122-6918514af08d"
      },
      "outputs": [
        {
          "name": "stdout",
          "output_type": "stream",
          "text": [
            "5322548.588998504\n",
            "5230263.099091365\n"
          ]
        }
      ],
      "source": [
        "reg = LinearRegression().fit(X_train_sel, y_train)\n",
        "\n",
        "y_train_pred = reg.predict(X_train_sel)\n",
        "y_pred = reg.predict(X_test_sel)\n",
        "\n",
        "print(mean_absolute_error(y_train, y_train_pred))\n",
        "print(mean_absolute_error(y_test, y_pred))"
      ]
    },
    {
      "cell_type": "markdown",
      "metadata": {
        "id": "jOU2GTIZB4Vj"
      },
      "source": [
        "## Escolher a metrica"
      ]
    },
    {
      "cell_type": "code",
      "execution_count": 44,
      "metadata": {
        "id": "to5tqN5aArbb"
      },
      "outputs": [],
      "source": [
        "from sklearn.metrics import mean_squared_log_error"
      ]
    },
    {
      "cell_type": "code",
      "execution_count": 45,
      "metadata": {
        "id": "1DnswI9JECry"
      },
      "outputs": [],
      "source": [
        "y_train_pred = reg.predict(X_train_sel)\n",
        "y_pred = reg.predict(X_test_sel)"
      ]
    },
    {
      "cell_type": "code",
      "execution_count": 46,
      "metadata": {
        "id": "Cw-YQHZdEz8f"
      },
      "outputs": [],
      "source": [
        "y_train = y_train[y_train_pred > 0]\n",
        "y_train_pred = y_train_pred[y_train_pred > 0]\n",
        "y_test = y_test[y_pred > 0]\n",
        "y_pred = y_pred[y_pred > 0]"
      ]
    },
    {
      "cell_type": "code",
      "execution_count": 47,
      "metadata": {
        "colab": {
          "base_uri": "https://localhost:8080/"
        },
        "id": "7NSBzCrtB9zW",
        "outputId": "b572156b-1433-4273-a0eb-b659e238a8af"
      },
      "outputs": [
        {
          "name": "stdout",
          "output_type": "stream",
          "text": [
            "3.911277869992664\n",
            "3.7452270716462412\n"
          ]
        }
      ],
      "source": [
        "print(mean_squared_log_error(y_train, y_train_pred))\n",
        "print(mean_squared_log_error(y_test, y_pred))"
      ]
    },
    {
      "cell_type": "markdown",
      "metadata": {
        "id": "UyP1k8B-Gegv"
      },
      "source": [
        "## Melhorar o resultado"
      ]
    },
    {
      "cell_type": "code",
      "execution_count": 48,
      "metadata": {
        "id": "yXDjGMK2G4gt"
      },
      "outputs": [],
      "source": [
        "X_train, X_test, y_train, y_test = train_test_split(\n",
        "    X, y, test_size=0.20, random_state=42)"
      ]
    },
    {
      "cell_type": "code",
      "execution_count": 49,
      "metadata": {
        "colab": {
          "base_uri": "https://localhost:8080/"
        },
        "id": "kIAj8sOyG9WS",
        "outputId": "e2eea80c-1d45-41b1-f92a-f45211e88de1"
      },
      "outputs": [
        {
          "name": "stderr",
          "output_type": "stream",
          "text": [
            "c:\\Anaconda\\lib\\site-packages\\sklearn\\feature_selection\\_univariate_selection.py:289: RuntimeWarning: invalid value encountered in true_divide\n",
            "  correlation_coefficient /= X_norms\n"
          ]
        }
      ],
      "source": [
        "sel_kbest = SelectKBest(f_regression, k=45).fit(X_train, y_train)\n",
        "X_train_sel = sel_kbest.transform(X_train)\n",
        "X_test_sel = sel_kbest.transform(X_test)"
      ]
    },
    {
      "cell_type": "code",
      "execution_count": 50,
      "metadata": {
        "colab": {
          "base_uri": "https://localhost:8080/"
        },
        "id": "FZmPPSHADpyO",
        "outputId": "7b2847d4-0a73-4f66-873c-3fea0c980fe7"
      },
      "outputs": [
        {
          "data": {
            "text/plain": [
              "RandomForestRegressor(max_depth=6, random_state=0)"
            ]
          },
          "execution_count": 50,
          "metadata": {},
          "output_type": "execute_result"
        }
      ],
      "source": [
        "from sklearn.ensemble import RandomForestRegressor\n",
        "regr = RandomForestRegressor(max_depth=6, random_state=0)\n",
        "regr.fit(X_train_sel, y_train)"
      ]
    },
    {
      "cell_type": "code",
      "execution_count": 51,
      "metadata": {
        "colab": {
          "base_uri": "https://localhost:8080/"
        },
        "id": "P6ihjCdPGyGr",
        "outputId": "b269f7d0-0a66-4e12-fb2e-a127b159d183"
      },
      "outputs": [
        {
          "name": "stdout",
          "output_type": "stream",
          "text": [
            "3.832475327822927\n",
            "3.719739927585444\n"
          ]
        }
      ],
      "source": [
        "y_train_pred = regr.predict(X_train_sel)\n",
        "y_pred = regr.predict(X_test_sel)\n",
        "\n",
        "\n",
        "print(mean_squared_log_error(y_train, y_train_pred))\n",
        "print(mean_squared_log_error(y_test, y_pred))"
      ]
    },
    {
      "cell_type": "code",
      "execution_count": null,
      "metadata": {
        "colab": {
          "base_uri": "https://localhost:8080/"
        },
        "id": "MzNPfSDZHK-9",
        "outputId": "46daf817-1648-4402-941a-09fe1831182e"
      },
      "outputs": [
        {
          "data": {
            "text/plain": [
              "GridSearchCV(cv=None, error_score=nan,\n",
              "             estimator=RandomForestRegressor(bootstrap=True, ccp_alpha=0.0,\n",
              "                                             criterion='mse', max_depth=None,\n",
              "                                             max_features='auto',\n",
              "                                             max_leaf_nodes=None,\n",
              "                                             max_samples=None,\n",
              "                                             min_impurity_decrease=0.0,\n",
              "                                             min_impurity_split=None,\n",
              "                                             min_samples_leaf=1,\n",
              "                                             min_samples_split=2,\n",
              "                                             min_weight_fraction_leaf=0.0,\n",
              "                                             n_estimators=100, n_jobs=-1,\n",
              "                                             oob_score=False, random_state=0,\n",
              "                                             verbose=0, warm_start=False),\n",
              "             iid='deprecated', n_jobs=None,\n",
              "             param_grid={'max_depth': [2, 6, 10, 20],\n",
              "                         'n_estimators': [20, 50, 100, 200]},\n",
              "             pre_dispatch='2*n_jobs', refit=True, return_train_score=False,\n",
              "             scoring=None, verbose=0)"
            ]
          },
          "execution_count": 92,
          "metadata": {},
          "output_type": "execute_result"
        }
      ],
      "source": [
        "from sklearn.model_selection import GridSearchCV\n",
        "parameters = {'max_depth':[2, 6, 10, 20], 'n_estimators':[20, 50, 100, 200]}\n",
        "regr = RandomForestRegressor(random_state=0, n_jobs=-1)\n",
        "\n",
        "clf = GridSearchCV(regr, parameters)\n",
        "clf.fit(X_train_sel, y_train)"
      ]
    },
    {
      "cell_type": "code",
      "execution_count": null,
      "metadata": {
        "colab": {
          "base_uri": "https://localhost:8080/"
        },
        "id": "SdotSaOqIDRx",
        "outputId": "6c2e3217-9dc6-469c-f763-3b3b90662c6c"
      },
      "outputs": [
        {
          "name": "stdout",
          "output_type": "stream",
          "text": [
            "2.6419218238697284\n",
            "3.2293333350212725\n"
          ]
        }
      ],
      "source": [
        "y_train_pred = clf.predict(X_train_sel)\n",
        "y_pred = clf.predict(X_test_sel)\n",
        "\n",
        "\n",
        "print(mean_squared_log_error(y_train, y_train_pred))\n",
        "print(mean_squared_log_error(y_test, y_pred))"
      ]
    },
    {
      "cell_type": "code",
      "execution_count": null,
      "metadata": {
        "colab": {
          "base_uri": "https://localhost:8080/"
        },
        "id": "4aMG2xmYIHPN",
        "outputId": "90f08a54-7873-48f6-ba4e-a35ed3f7ea43"
      },
      "outputs": [
        {
          "data": {
            "text/plain": [
              "RandomForestRegressor(bootstrap=True, ccp_alpha=0.0, criterion='mse',\n",
              "                      max_depth=20, max_features='auto', max_leaf_nodes=None,\n",
              "                      max_samples=None, min_impurity_decrease=0.0,\n",
              "                      min_impurity_split=None, min_samples_leaf=1,\n",
              "                      min_samples_split=2, min_weight_fraction_leaf=0.0,\n",
              "                      n_estimators=200, n_jobs=-1, oob_score=False,\n",
              "                      random_state=0, verbose=0, warm_start=False)"
            ]
          },
          "execution_count": 95,
          "metadata": {},
          "output_type": "execute_result"
        }
      ],
      "source": [
        "clf.best_estimator_"
      ]
    },
    {
      "cell_type": "code",
      "execution_count": null,
      "metadata": {
        "id": "k4_ma9ZyI64O"
      },
      "outputs": [],
      "source": []
    }
  ],
  "metadata": {
    "colab": {
      "collapsed_sections": [],
      "name": "RGS 13 - Case 2.ipynb",
      "provenance": []
    },
    "interpreter": {
      "hash": "6f5583cf1d9466b5c27e75c89cc6b383bed5736d6b16c51c8074d8690011a952"
    },
    "kernelspec": {
      "display_name": "Python 3.8.12 ('base')",
      "language": "python",
      "name": "python3"
    },
    "language_info": {
      "codemirror_mode": {
        "name": "ipython",
        "version": 3
      },
      "file_extension": ".py",
      "mimetype": "text/x-python",
      "name": "python",
      "nbconvert_exporter": "python",
      "pygments_lexer": "ipython3",
      "version": "3.8.13"
    }
  },
  "nbformat": 4,
  "nbformat_minor": 0
}
