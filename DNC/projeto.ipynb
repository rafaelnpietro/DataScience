{
 "cells": [
  {
   "cell_type": "code",
   "execution_count": 1,
   "metadata": {},
   "outputs": [],
   "source": [
    "import matplotlib as mpl\n",
    "import matplotlib.pyplot as plt\n",
    "import pandas as pd \n",
    "import numpy as np "
   ]
  },
  {
   "cell_type": "code",
   "execution_count": 6,
   "metadata": {},
   "outputs": [],
   "source": [
    "df=pd.read_excel(r'D:\\Downloads\\Databse DNC para Projeto Re-sizing.xlsx',sheet_name='Database(2) -DNC')\n",
    "\n"
   ]
  },
  {
   "cell_type": "code",
   "execution_count": 3,
   "metadata": {},
   "outputs": [
    {
     "data": {
      "text/html": [
       "<div>\n",
       "<style scoped>\n",
       "    .dataframe tbody tr th:only-of-type {\n",
       "        vertical-align: middle;\n",
       "    }\n",
       "\n",
       "    .dataframe tbody tr th {\n",
       "        vertical-align: top;\n",
       "    }\n",
       "\n",
       "    .dataframe thead th {\n",
       "        text-align: right;\n",
       "    }\n",
       "</style>\n",
       "<table border=\"1\" class=\"dataframe\">\n",
       "  <thead>\n",
       "    <tr style=\"text-align: right;\">\n",
       "      <th></th>\n",
       "      <th>Cod do cliente</th>\n",
       "      <th>Cliente é de pedido?</th>\n",
       "      <th>Produto</th>\n",
       "      <th>Cidade</th>\n",
       "      <th>Estado</th>\n",
       "      <th>Horário de acesso</th>\n",
       "      <th>Chassi do cliente</th>\n",
       "      <th>Capacidade do cliente (Un)</th>\n",
       "      <th>Volume ideal entrega (Un)</th>\n",
       "    </tr>\n",
       "  </thead>\n",
       "  <tbody>\n",
       "    <tr>\n",
       "      <th>0</th>\n",
       "      <td>10001</td>\n",
       "      <td>N</td>\n",
       "      <td>A</td>\n",
       "      <td>MARILIA</td>\n",
       "      <td>SP</td>\n",
       "      <td>8X5 08:00 SAT UNTIL 12:00</td>\n",
       "      <td>Y</td>\n",
       "      <td>2731</td>\n",
       "      <td>1842</td>\n",
       "    </tr>\n",
       "    <tr>\n",
       "      <th>1</th>\n",
       "      <td>3967</td>\n",
       "      <td>N</td>\n",
       "      <td>A</td>\n",
       "      <td>CARLOS BARBOSA</td>\n",
       "      <td>RS</td>\n",
       "      <td>11X5 07:00</td>\n",
       "      <td>X</td>\n",
       "      <td>1432</td>\n",
       "      <td>1061</td>\n",
       "    </tr>\n",
       "    <tr>\n",
       "      <th>2</th>\n",
       "      <td>2037</td>\n",
       "      <td>N</td>\n",
       "      <td>A</td>\n",
       "      <td>SAO PAULO</td>\n",
       "      <td>SP</td>\n",
       "      <td>24X7 00:00</td>\n",
       "      <td>X</td>\n",
       "      <td>6250</td>\n",
       "      <td>4737</td>\n",
       "    </tr>\n",
       "    <tr>\n",
       "      <th>3</th>\n",
       "      <td>2129</td>\n",
       "      <td>Y</td>\n",
       "      <td>A</td>\n",
       "      <td>DOMINGOS MARTINS</td>\n",
       "      <td>ES</td>\n",
       "      <td>9X4 07:00 FRI UNTIL 15:00</td>\n",
       "      <td>Y</td>\n",
       "      <td>12955</td>\n",
       "      <td>9546</td>\n",
       "    </tr>\n",
       "    <tr>\n",
       "      <th>4</th>\n",
       "      <td>2996</td>\n",
       "      <td>N</td>\n",
       "      <td>A</td>\n",
       "      <td>APARECIDA DE GOIANIA</td>\n",
       "      <td>GO</td>\n",
       "      <td>Sab - 08:00 -17:00</td>\n",
       "      <td>X</td>\n",
       "      <td>12728</td>\n",
       "      <td>8910</td>\n",
       "    </tr>\n",
       "  </tbody>\n",
       "</table>\n",
       "</div>"
      ],
      "text/plain": [
       "   Cod do cliente Cliente é de pedido? Produto                Cidade Estado  \\\n",
       "0           10001                    N       A               MARILIA     SP   \n",
       "1            3967                    N       A        CARLOS BARBOSA     RS   \n",
       "2            2037                    N       A             SAO PAULO     SP   \n",
       "3            2129                    Y       A      DOMINGOS MARTINS     ES   \n",
       "4            2996                    N       A  APARECIDA DE GOIANIA     GO   \n",
       "\n",
       "           Horário de acesso Chassi do cliente  Capacidade do cliente (Un)  \\\n",
       "0  8X5 08:00 SAT UNTIL 12:00                 Y                        2731   \n",
       "1                 11X5 07:00                 X                        1432   \n",
       "2                 24X7 00:00                 X                        6250   \n",
       "3  9X4 07:00 FRI UNTIL 15:00                 Y                       12955   \n",
       "4         Sab - 08:00 -17:00                 X                       12728   \n",
       "\n",
       "   Volume ideal entrega (Un)  \n",
       "0                       1842  \n",
       "1                       1061  \n",
       "2                       4737  \n",
       "3                       9546  \n",
       "4                       8910  "
      ]
     },
     "execution_count": 3,
     "metadata": {},
     "output_type": "execute_result"
    }
   ],
   "source": [
    "df.head(5)"
   ]
  },
  {
   "cell_type": "code",
   "execution_count": 4,
   "metadata": {},
   "outputs": [
    {
     "data": {
      "text/plain": [
       "Cod do cliente                 int64\n",
       "Cliente é de pedido?          object\n",
       "Produto                       object\n",
       "Cidade                        object\n",
       "Estado                        object\n",
       "Horário de acesso             object\n",
       "Chassi do cliente             object\n",
       "Capacidade do cliente (Un)     int64\n",
       "Volume ideal entrega (Un)      int64\n",
       "dtype: object"
      ]
     },
     "execution_count": 4,
     "metadata": {},
     "output_type": "execute_result"
    }
   ],
   "source": [
    "df.dtypes"
   ]
  },
  {
   "cell_type": "code",
   "execution_count": null,
   "metadata": {},
   "outputs": [],
   "source": [
    "df2=pd.read_excel(r'D:\\Downloads\\Databse DNC para Projeto Re-sizing.xlsx',sheet_name='Database - DNC - Entregas ')"
   ]
  },
  {
   "cell_type": "code",
   "execution_count": 7,
   "metadata": {},
   "outputs": [
    {
     "data": {
      "text/html": [
       "<div>\n",
       "<style scoped>\n",
       "    .dataframe tbody tr th:only-of-type {\n",
       "        vertical-align: middle;\n",
       "    }\n",
       "\n",
       "    .dataframe tbody tr th {\n",
       "        vertical-align: top;\n",
       "    }\n",
       "\n",
       "    .dataframe thead th {\n",
       "        text-align: right;\n",
       "    }\n",
       "</style>\n",
       "<table border=\"1\" class=\"dataframe\">\n",
       "  <thead>\n",
       "    <tr style=\"text-align: right;\">\n",
       "      <th></th>\n",
       "      <th>data da entrega</th>\n",
       "      <th>Mês</th>\n",
       "      <th>ano</th>\n",
       "      <th>Cod do cliente</th>\n",
       "      <th>Volume descarregado (Un)</th>\n",
       "      <th>Chassis size do cliente</th>\n",
       "      <th>Produto</th>\n",
       "      <th>Capacidade da carreta(Un)</th>\n",
       "      <th>Chassis size da carreta</th>\n",
       "    </tr>\n",
       "  </thead>\n",
       "  <tbody>\n",
       "    <tr>\n",
       "      <th>0</th>\n",
       "      <td>2020-01-06 08:00:00</td>\n",
       "      <td>1</td>\n",
       "      <td>2020</td>\n",
       "      <td>2512</td>\n",
       "      <td>6471</td>\n",
       "      <td>X</td>\n",
       "      <td>A</td>\n",
       "      <td>11905</td>\n",
       "      <td>X</td>\n",
       "    </tr>\n",
       "    <tr>\n",
       "      <th>1</th>\n",
       "      <td>2020-01-03 12:49:00</td>\n",
       "      <td>1</td>\n",
       "      <td>2020</td>\n",
       "      <td>7090</td>\n",
       "      <td>432</td>\n",
       "      <td>X</td>\n",
       "      <td>B</td>\n",
       "      <td>9410</td>\n",
       "      <td>Y</td>\n",
       "    </tr>\n",
       "    <tr>\n",
       "      <th>2</th>\n",
       "      <td>2020-01-03 09:00:00</td>\n",
       "      <td>1</td>\n",
       "      <td>2020</td>\n",
       "      <td>6502</td>\n",
       "      <td>1382</td>\n",
       "      <td>Y</td>\n",
       "      <td>B</td>\n",
       "      <td>9410</td>\n",
       "      <td>Y</td>\n",
       "    </tr>\n",
       "    <tr>\n",
       "      <th>3</th>\n",
       "      <td>2020-01-06 15:47:00</td>\n",
       "      <td>1</td>\n",
       "      <td>2020</td>\n",
       "      <td>2562</td>\n",
       "      <td>4095</td>\n",
       "      <td>X</td>\n",
       "      <td>C</td>\n",
       "      <td>8366</td>\n",
       "      <td>X</td>\n",
       "    </tr>\n",
       "    <tr>\n",
       "      <th>4</th>\n",
       "      <td>2020-01-07 10:24:00</td>\n",
       "      <td>1</td>\n",
       "      <td>2020</td>\n",
       "      <td>6606</td>\n",
       "      <td>386</td>\n",
       "      <td>X</td>\n",
       "      <td>C</td>\n",
       "      <td>8366</td>\n",
       "      <td>X</td>\n",
       "    </tr>\n",
       "  </tbody>\n",
       "</table>\n",
       "</div>"
      ],
      "text/plain": [
       "      data da entrega  Mês   ano  Cod do cliente  Volume descarregado (Un)  \\\n",
       "0 2020-01-06 08:00:00    1  2020            2512                      6471   \n",
       "1 2020-01-03 12:49:00    1  2020            7090                       432   \n",
       "2 2020-01-03 09:00:00    1  2020            6502                      1382   \n",
       "3 2020-01-06 15:47:00    1  2020            2562                      4095   \n",
       "4 2020-01-07 10:24:00    1  2020            6606                       386   \n",
       "\n",
       "  Chassis size do cliente Produto  Capacidade da carreta(Un)  \\\n",
       "0                       X       A                      11905   \n",
       "1                       X       B                       9410   \n",
       "2                       Y       B                       9410   \n",
       "3                       X       C                       8366   \n",
       "4                       X       C                       8366   \n",
       "\n",
       "  Chassis size da carreta  \n",
       "0                       X  \n",
       "1                       Y  \n",
       "2                       Y  \n",
       "3                       X  \n",
       "4                       X  "
      ]
     },
     "execution_count": 7,
     "metadata": {},
     "output_type": "execute_result"
    }
   ],
   "source": [
    "df2.head(5)"
   ]
  },
  {
   "cell_type": "code",
   "execution_count": 8,
   "metadata": {},
   "outputs": [
    {
     "data": {
      "text/plain": [
       "data da entrega              datetime64[ns]\n",
       "Mês                                   int64\n",
       "ano                                   int64\n",
       "Cod do cliente                        int64\n",
       "Volume descarregado (Un)              int64\n",
       "Chassis size do cliente              object\n",
       "Produto                              object\n",
       "Capacidade da carreta(Un)             int64\n",
       "Chassis size da carreta              object\n",
       "dtype: object"
      ]
     },
     "execution_count": 8,
     "metadata": {},
     "output_type": "execute_result"
    }
   ],
   "source": [
    "df2.dtypes"
   ]
  },
  {
   "cell_type": "code",
   "execution_count": 9,
   "metadata": {},
   "outputs": [
    {
     "data": {
      "text/plain": [
       "Cod do cliente                0\n",
       "Cliente é de pedido?          0\n",
       "Produto                       0\n",
       "Cidade                        0\n",
       "Estado                        0\n",
       "Horário de acesso             0\n",
       "Chassi do cliente             0\n",
       "Capacidade do cliente (Un)    0\n",
       "Volume ideal entrega (Un)     0\n",
       "dtype: int64"
      ]
     },
     "execution_count": 9,
     "metadata": {},
     "output_type": "execute_result"
    }
   ],
   "source": [
    "df.isnull().sum()"
   ]
  },
  {
   "cell_type": "code",
   "execution_count": 10,
   "metadata": {},
   "outputs": [
    {
     "data": {
      "text/plain": [
       "data da entrega              0\n",
       "Mês                          0\n",
       "ano                          0\n",
       "Cod do cliente               0\n",
       "Volume descarregado (Un)     0\n",
       "Chassis size do cliente      0\n",
       "Produto                      0\n",
       "Capacidade da carreta(Un)    0\n",
       "Chassis size da carreta      0\n",
       "dtype: int64"
      ]
     },
     "execution_count": 10,
     "metadata": {},
     "output_type": "execute_result"
    }
   ],
   "source": [
    "df2.isnull().sum()"
   ]
  },
  {
   "cell_type": "code",
   "execution_count": 11,
   "metadata": {},
   "outputs": [],
   "source": [
    "df3=pd.read_excel(r'D:\\Downloads\\Databse DNC para Projeto Re-sizing.xlsx',sheet_name='Database DNC - Fontes ')"
   ]
  },
  {
   "cell_type": "code",
   "execution_count": 12,
   "metadata": {},
   "outputs": [
    {
     "data": {
      "text/html": [
       "<div>\n",
       "<style scoped>\n",
       "    .dataframe tbody tr th:only-of-type {\n",
       "        vertical-align: middle;\n",
       "    }\n",
       "\n",
       "    .dataframe tbody tr th {\n",
       "        vertical-align: top;\n",
       "    }\n",
       "\n",
       "    .dataframe thead th {\n",
       "        text-align: right;\n",
       "    }\n",
       "</style>\n",
       "<table border=\"1\" class=\"dataframe\">\n",
       "  <thead>\n",
       "    <tr style=\"text-align: right;\">\n",
       "      <th></th>\n",
       "      <th>Código da fonte</th>\n",
       "      <th>Cidade</th>\n",
       "      <th>Estado</th>\n",
       "      <th>Produto</th>\n",
       "    </tr>\n",
       "  </thead>\n",
       "  <tbody>\n",
       "    <tr>\n",
       "      <th>0</th>\n",
       "      <td>4203</td>\n",
       "      <td>CAMACARI</td>\n",
       "      <td>BA</td>\n",
       "      <td>B/C/D</td>\n",
       "    </tr>\n",
       "    <tr>\n",
       "      <th>1</th>\n",
       "      <td>4200</td>\n",
       "      <td>CUBATAO</td>\n",
       "      <td>SP</td>\n",
       "      <td>A/B/C/D</td>\n",
       "    </tr>\n",
       "    <tr>\n",
       "      <th>2</th>\n",
       "      <td>4246</td>\n",
       "      <td>CURITIBA</td>\n",
       "      <td>PR</td>\n",
       "      <td>B/C/D</td>\n",
       "    </tr>\n",
       "    <tr>\n",
       "      <th>3</th>\n",
       "      <td>4204</td>\n",
       "      <td>RESENDE</td>\n",
       "      <td>RJ</td>\n",
       "      <td>B/C/D</td>\n",
       "    </tr>\n",
       "    <tr>\n",
       "      <th>4</th>\n",
       "      <td>4205</td>\n",
       "      <td>TIMOTEO</td>\n",
       "      <td>MG</td>\n",
       "      <td>B/C/D</td>\n",
       "    </tr>\n",
       "  </tbody>\n",
       "</table>\n",
       "</div>"
      ],
      "text/plain": [
       "   Código da fonte    Cidade Estado  Produto\n",
       "0             4203  CAMACARI     BA    B/C/D\n",
       "1             4200   CUBATAO     SP  A/B/C/D\n",
       "2             4246  CURITIBA     PR    B/C/D\n",
       "3             4204   RESENDE     RJ    B/C/D\n",
       "4             4205   TIMOTEO     MG    B/C/D"
      ]
     },
     "execution_count": 12,
     "metadata": {},
     "output_type": "execute_result"
    }
   ],
   "source": [
    "df3.head(5)"
   ]
  },
  {
   "cell_type": "code",
   "execution_count": 14,
   "metadata": {},
   "outputs": [
    {
     "data": {
      "text/plain": [
       "(8, 4)"
      ]
     },
     "execution_count": 14,
     "metadata": {},
     "output_type": "execute_result"
    }
   ],
   "source": [
    "df3.shape"
   ]
  }
 ],
 "metadata": {
  "interpreter": {
   "hash": "ed225720166559e7176d3793db16a2fd8d295f725007103b21ac3099d2a89ee8"
  },
  "kernelspec": {
   "display_name": "Python 3.8.12 64-bit ('base': conda)",
   "language": "python",
   "name": "python3"
  },
  "language_info": {
   "codemirror_mode": {
    "name": "ipython",
    "version": 3
   },
   "file_extension": ".py",
   "mimetype": "text/x-python",
   "name": "python",
   "nbconvert_exporter": "python",
   "pygments_lexer": "ipython3",
   "version": "3.8.12"
  },
  "orig_nbformat": 4
 },
 "nbformat": 4,
 "nbformat_minor": 2
}
