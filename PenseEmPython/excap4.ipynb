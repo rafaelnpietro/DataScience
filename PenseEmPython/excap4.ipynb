{
 "cells": [
  {
   "cell_type": "code",
   "execution_count": 79,
   "metadata": {},
   "outputs": [],
   "source": [
    "from __future__ import print_function, division\n",
    "import turtle as tlt\n",
    "from turtle import *\n",
    "import math"
   ]
  },
  {
   "cell_type": "code",
   "execution_count": 76,
   "metadata": {},
   "outputs": [],
   "source": [
    "height = 560\n",
    "width = 760\n",
    "screen = Screen()\n",
    "screen.screensize(width, height) # Definindo o tamanho da janela\n",
    "screen.setup(width + 4, height + 8) # Assim eu consigo colocar um scroll\n"
   ]
  },
  {
   "cell_type": "code",
   "execution_count": 73,
   "metadata": {},
   "outputs": [
    {
     "data": {
      "text/plain": [
       "turtle.Terminator"
      ]
     },
     "execution_count": 73,
     "metadata": {},
     "output_type": "execute_result"
    }
   ],
   "source": [
    "tlt.Terminator"
   ]
  },
  {
   "cell_type": "code",
   "execution_count": 74,
   "metadata": {},
   "outputs": [],
   "source": [
    "t=tlt.Turtle()"
   ]
  },
  {
   "cell_type": "code",
   "execution_count": 82,
   "metadata": {},
   "outputs": [],
   "source": [
    "tlt.done()"
   ]
  },
  {
   "cell_type": "code",
   "execution_count": 63,
   "metadata": {},
   "outputs": [],
   "source": [
    "t.reset()"
   ]
  },
  {
   "cell_type": "code",
   "execution_count": 51,
   "metadata": {},
   "outputs": [],
   "source": [
    "def poli(turtle,lados,le):\n",
    "    for i in range(lados):\n",
    "        turtle.fd(le)\n",
    "        turtle.lt(360/lados)\n",
    "\n",
    "def circle(turt,raio):\n",
    "    tlt.speed(10)\n",
    "    circ=2*math.pi*raio\n",
    "    lado=int(circ/3)+1\n",
    "    len=circ/lado\n",
    "    poli(turt,lado,len)\n",
    "\n"
   ]
  },
  {
   "cell_type": "code",
   "execution_count": 48,
   "metadata": {},
   "outputs": [],
   "source": [
    "poli(t,8,50)"
   ]
  },
  {
   "cell_type": "code",
   "execution_count": 52,
   "metadata": {},
   "outputs": [],
   "source": [
    "circle(t,120)"
   ]
  },
  {
   "cell_type": "code",
   "execution_count": 80,
   "metadata": {},
   "outputs": [],
   "source": [
    "# Refatoração\n",
    "def polyline(t,n,len,angle):\n",
    "    for i in range(n):\n",
    "        t.fd(len)\n",
    "        t.lt(angle)\n",
    "\n",
    "def polygon(t,n,len):\n",
    "    angle=360/n\n",
    "    polyline(t,n,len,angle)\n",
    "\n",
    "def arc(t,r,angle):\n",
    "    arclen=2*math.pi*r*angle/360 #Comprimento do arco\n",
    "    n=int(arclen/3)+1 #Número de segmentos é próximo a circ/3, assim o círculo fica bonito.\n",
    "    steplen=arclen/n\n",
    "    stepangle=float(angle)/n\n",
    "    polyline(t,n,steplen,stepangle)\n",
    "\n",
    "def circle(t,r):\n",
    "    arc(t,r,360) #passando 360, ele faz 1 circulo completo.\n",
    "\n",
    "def draw_spiral(t, n, length=3, a=0.1, b=0.0002):\n",
    "    \"\"\"Draws an Archimedian spiral starting at the origin.\n",
    "    Args:\n",
    "      n: how many line segments to draw\n",
    "      length: how long each segment is\n",
    "      a: how loose the initial spiral starts out (larger is looser)\n",
    "      b: how loosly coiled the spiral is (larger is looser)\n",
    "    http://en.wikipedia.org/wiki/Spiral\n",
    "    \"\"\"\n",
    "\n",
    "    theta = 0.0\n",
    "\n",
    "    for i in range(n):\n",
    "        t.fd(length)\n",
    "        dtheta = 1 / (a + b * theta)\n",
    "\n",
    "        t.lt(dtheta)\n",
    "        theta += dtheta\n"
   ]
  },
  {
   "cell_type": "code",
   "execution_count": 64,
   "metadata": {},
   "outputs": [],
   "source": [
    "polygon(t,10,35)\n",
    "arc(t,105,180)\n",
    "circle(t,210)"
   ]
  },
  {
   "cell_type": "code",
   "execution_count": 66,
   "metadata": {},
   "outputs": [],
   "source": [
    "polygon(t,3,35)"
   ]
  },
  {
   "cell_type": "code",
   "execution_count": 81,
   "metadata": {},
   "outputs": [],
   "source": [
    "# create the world and bob\n",
    "draw_spiral(t, n=1000)\n"
   ]
  }
 ],
 "metadata": {
  "interpreter": {
   "hash": "ed225720166559e7176d3793db16a2fd8d295f725007103b21ac3099d2a89ee8"
  },
  "kernelspec": {
   "display_name": "Python 3.8.12 64-bit ('base': conda)",
   "language": "python",
   "name": "python3"
  },
  "language_info": {
   "codemirror_mode": {
    "name": "ipython",
    "version": 3
   },
   "file_extension": ".py",
   "mimetype": "text/x-python",
   "name": "python",
   "nbconvert_exporter": "python",
   "pygments_lexer": "ipython3",
   "version": "3.8.12"
  },
  "orig_nbformat": 4
 },
 "nbformat": 4,
 "nbformat_minor": 2
}
